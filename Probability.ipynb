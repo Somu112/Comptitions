{
  "nbformat": 4,
  "nbformat_minor": 0,
  "metadata": {
    "colab": {
      "name": "Probability",
      "provenance": [],
      "authorship_tag": "ABX9TyNlnothu4XroECOFM99tt9E",
      "include_colab_link": true
    },
    "kernelspec": {
      "name": "python3",
      "display_name": "Python 3"
    },
    "language_info": {
      "name": "python"
    }
  },
  "cells": [
    {
      "cell_type": "markdown",
      "metadata": {
        "id": "view-in-github",
        "colab_type": "text"
      },
      "source": [
        "<a href=\"https://colab.research.google.com/github/Somu112/Comptitions/blob/master/Probability.ipynb\" target=\"_parent\"><img src=\"https://colab.research.google.com/assets/colab-badge.svg\" alt=\"Open In Colab\"/></a>"
      ]
    },
    {
      "cell_type": "markdown",
      "metadata": {
        "id": "giI1KwhFzWPA"
      },
      "source": [
        "**Probability is a measure that represents how likely an event is to happen**"
      ]
    },
    {
      "cell_type": "markdown",
      "metadata": {
        "id": "iMtnZF6CzlVX"
      },
      "source": [
        "Question 1 - Simple Probability (Beginner)"
      ]
    },
    {
      "cell_type": "markdown",
      "metadata": {
        "id": "2Ebo3X2YzxVo"
      },
      "source": [
        "*In the game of Spin the Wheel as shown below, the Red colored stripe represents the Wining of the Lottery!\n",
        "What's the probability of winning the lottery in a single spin of the wheel?*"
      ]
    },
    {
      "cell_type": "code",
      "metadata": {
        "id": "SV6r4h1dyQjw"
      },
      "source": [
        "import pandas as pd\n",
        "import numpy as np"
      ],
      "execution_count": null,
      "outputs": []
    },
    {
      "cell_type": "code",
      "metadata": {
        "colab": {
          "base_uri": "https://localhost:8080/"
        },
        "id": "tyGAwFEz0BGT",
        "outputId": "6c7c9d0c-3eab-472b-98c6-21b0893694cd"
      },
      "source": [
        "prob_lottery = 3/12\n",
        "print(\"Probability of winning the lottery is \", prob_lottery)"
      ],
      "execution_count": null,
      "outputs": [
        {
          "output_type": "stream",
          "text": [
            "Probability of winning the lottery is  0.25\n"
          ],
          "name": "stdout"
        }
      ]
    },
    {
      "cell_type": "markdown",
      "metadata": {
        "id": "i7OTRA6L0bEP"
      },
      "source": [
        "Question 2 - Simple Probability (Beginner)"
      ]
    },
    {
      "cell_type": "markdown",
      "metadata": {
        "id": "96ovk4YH00pc"
      },
      "source": [
        "# The orders received on that day for different types of cuisines are as follows:\n",
        "Only Vegetarian: 15\n",
        "International Cuisine: 15\n",
        "North Indian Cuisine: 30\n",
        "South Indian Cuisine: 30\n",
        "Desserts: 10\n",
        "Calculate the folowing probabilities:\n",
        "1. Probability of ordering Only Vegitarian Food\n",
        "2. Probability of ordering Desserts"
      ]
    },
    {
      "cell_type": "code",
      "metadata": {
        "colab": {
          "base_uri": "https://localhost:8080/"
        },
        "id": "xN7M9QbP0zNh",
        "outputId": "f2edf634-3fa1-412a-a998-199264739792"
      },
      "source": [
        "total_order = 15+15+30+30+10\n",
        "\n",
        "#probability of only veg food\n",
        "prob_veg = 15/total_order\n",
        "\n",
        "#probability of desserts\n",
        "prob_des = 10/total_order\n",
        "\n",
        "print('Probability of ordering Only Vegitarian Food is ', prob_veg)\n",
        "print(\"Probability of ordering desserts is \", prob_des)"
      ],
      "execution_count": null,
      "outputs": [
        {
          "output_type": "stream",
          "text": [
            "Probability of ordering Only Vegitarian Food is  0.15\n",
            "Probability of ordering desserts is  0.1\n"
          ],
          "name": "stdout"
        }
      ]
    },
    {
      "cell_type": "markdown",
      "metadata": {
        "id": "-Esa8Hsk0y-5"
      },
      "source": [
        "Question 3 - Rules of Probability (Addition Rule) (Beginner)\n",
        "**What is the probability of getting a cupcake or an item of chocolate? text**"
      ]
    },
    {
      "cell_type": "code",
      "metadata": {
        "colab": {
          "base_uri": "https://localhost:8080/"
        },
        "id": "xVoaXBm_2PQN",
        "outputId": "323a9b49-0ff7-45ca-e6e0-d9539ad021c5"
      },
      "source": [
        "total_items = 8+5+7+4\n",
        "\n",
        "prob_cupcake = 13/total_items\n",
        "\n",
        "prob_chocolate = (8+7)/total_items\n",
        "\n",
        "prob_cupcake_chocolate = 8/total_items\n",
        "\n",
        "#Addition Rule:\n",
        "#P(A or B) = P(A) + P(B) - P(A and B)\n",
        "\n",
        "result = prob_cupcake + prob_chocolate - prob_cupcake_chocolate\n",
        "\n",
        "print(\"Probability of getting a cupcake or an item of chocolate is \", result)"
      ],
      "execution_count": null,
      "outputs": [
        {
          "output_type": "stream",
          "text": [
            "Probability of getting a cupcake or an item of chocolate is  0.8333333333333333\n"
          ],
          "name": "stdout"
        }
      ]
    },
    {
      "cell_type": "markdown",
      "metadata": {
        "id": "uWiVmQ9k1-Nu"
      },
      "source": [
        "Question 4 - Rules of Probability (Multiplication Rule - Independent Events) (Beginner)\n",
        "In a marketing effort, a financial institute offered Credit Card options to its customers as follows:\n",
        "1. Type of Credit Card out of Shop, Cinema or Travel\n",
        "2. Option of photo on the Credit card out of Custom, Default or No Photo\n",
        "The various selections made by the customers are represented in the form of probabilities as below:\n",
        "1. Probabilities of Types of Credit Cards\n",
        "P(Shop) = 0.37\n",
        "P(Cinema)= 0.23\n",
        "P(Travel) = 0.4\n",
        "1. Probabilities of Options of Photo on Credit Card\n",
        "P(Custom) = 0.53\n",
        "P(Default) = 0.37\n",
        "P(No Photo) = 0.1\n",
        "What is the probability that a customer selected a Credit Card of type Travel with No Photo option?"
      ]
    },
    {
      "cell_type": "code",
      "metadata": {
        "id": "09lQ7YPj0RSO",
        "colab": {
          "base_uri": "https://localhost:8080/"
        },
        "outputId": "3d2de6e3-7679-4e79-b8ed-df70e7c9a729"
      },
      "source": [
        "prob_travel = 0.4\n",
        "prob_nophoto = 0.1\n",
        "prob_travel_nophoto = prob_travel * prob_nophoto\n",
        "\n",
        "print(\"Probability that a customer select a credit card of type travel with No photo option is\", prob_travel_nophoto)"
      ],
      "execution_count": null,
      "outputs": [
        {
          "output_type": "stream",
          "text": [
            "Probability that a customer select a credit card of type travel with No photo option is 0.04000000000000001\n"
          ],
          "name": "stdout"
        }
      ]
    },
    {
      "cell_type": "markdown",
      "metadata": {
        "id": "XBoD6b-5D7FV"
      },
      "source": [
        "Question 5 - Rules of Probability (Multiplication Rule - Dependent Events) (Beginner)"
      ]
    },
    {
      "cell_type": "markdown",
      "metadata": {
        "id": "OkUSyJlTE7zf"
      },
      "source": [
        "A player gets 5 chances to roll a 6 on a fair six-sided dice. What's the probability that the player will not get a 6\n",
        "even a single time out of 5 chances. Calculate this probability over 10000 such trials.\n"
      ]
    },
    {
      "cell_type": "code",
      "metadata": {
        "colab": {
          "base_uri": "https://localhost:8080/"
        },
        "id": "YmMH8N7hD2-a",
        "outputId": "c9942203-54da-4a8e-ba55-c3f8b325718f"
      },
      "source": [
        "#probability of success\n",
        "p = 1/6\n",
        "\n",
        "#number of chance\n",
        "n = 5\n",
        "\n",
        "#total number of trials = 10000\n",
        "\n",
        "#Required probability \n",
        "result = sum(np.random.binomial(5, p, 10000) == 0)/10000\n",
        "\n",
        "print(\"Probability of not getting a single success out of 5 in over 10000 trials is\", result)"
      ],
      "execution_count": null,
      "outputs": [
        {
          "output_type": "stream",
          "text": [
            "Probability of not getting a single success out of 5 in over 10000 trials is 0.4089\n"
          ],
          "name": "stdout"
        }
      ]
    },
    {
      "cell_type": "markdown",
      "metadata": {
        "id": "rqk6OQIsnnfc"
      },
      "source": [
        "Question 5 - Rules of Probability (Multiplication Rule - Dependent Events) (Beginner)"
      ]
    },
    {
      "cell_type": "markdown",
      "metadata": {
        "id": "kwStr7rioFcp"
      },
      "source": [
        "State government has started a Housing Lottery Scheme for people from low income group. There are total 1300\n",
        "applications received. Out of these, 100 will be picked out as winners one after the other in an online event.\n",
        "When the first card is drawn, a house will be allotted to it & it will be out from the lottery and so on."
      ]
    },
    {
      "cell_type": "markdown",
      "metadata": {
        "id": "2vsfHUBXoSWy"
      },
      "source": [
        "The applicants are from three age groups:\n",
        "25-40: 350\n",
        "41-60: 750\n",
        "61 & above:200\n",
        "What is the probability of drawing applicants from the age group 61 & above in the first two draws?"
      ]
    },
    {
      "cell_type": "code",
      "metadata": {
        "colab": {
          "base_uri": "https://localhost:8080/"
        },
        "id": "ziX2Ie7Inm5S",
        "outputId": "65d5864d-82d3-44dc-9296-9d7e57c2629c"
      },
      "source": [
        "#+++++++++++++++++++++++++++++++++++++++++++++++++++++++++++++++++++++++++++++++++++++++++++++++++\n",
        "#\n",
        "# The drawn card will be out of the total cards\n",
        "# Hence each draw is dependent on all its previous draws\n",
        "# In such a case, probability can be calculated using General Multiplication Rule\n",
        "#\n",
        "#++++++++++++++++++++++++++++++++++++++++++++++++++++++++++++++++++++++++++++++++++++++++++++++++++\n",
        "#General Multiplication Rule:\n",
        "#P(A and B) = P(A) * P(B|A)\n",
        "#Probability of drawing applicant from age group *61 & above* in the first draw\n",
        "prob_1st = 200/1300\n",
        "#Probability of drawing applicant from age group *61 & above* in the second draw\n",
        "prob_2nd = 199/1299\n",
        "result = prob_1st * prob_2nd\n",
        "print(\"Probability of drawing applicants from the age group \\\"61 & above\\\" inthe first two draws is \", result)"
      ],
      "execution_count": null,
      "outputs": [
        {
          "output_type": "stream",
          "text": [
            "Probability of drawing applicants from the age group \"61 & above\" inthe first two draws is  0.023568425416000474\n"
          ],
          "name": "stdout"
        }
      ]
    },
    {
      "cell_type": "markdown",
      "metadata": {
        "id": "V2x1temVpPJY"
      },
      "source": [
        "Question 6 - Random Variables - Normal Distribution (Beginner)"
      ]
    },
    {
      "cell_type": "markdown",
      "metadata": {
        "id": "e6en1edqpgo5"
      },
      "source": [
        "Generate 10000 random numbers following a Normal Distribution. Plot the distribution graph using 100 number\n",
        "of bins."
      ]
    },
    {
      "cell_type": "code",
      "metadata": {
        "colab": {
          "base_uri": "https://localhost:8080/",
          "height": 350
        },
        "id": "fkoEjChGrSXR",
        "outputId": "2f8beb41-5973-43a6-deb2-47715ffb9d1c"
      },
      "source": [
        "from scipy.stats import norm\n",
        "import seaborn as sns\n",
        "data = norm.rvs(size=10000,loc=0,scale=1)\n",
        "ax = sns.distplot(data, bins=100,\n",
        "kde=True,\n",
        "color='blue',\n",
        "hist_kws={\"linewidth\": 15,'alpha':1})\n",
        "ax.set(xlabel='Normal Distribution', ylabel='Frequency')"
      ],
      "execution_count": null,
      "outputs": [
        {
          "output_type": "stream",
          "text": [
            "/usr/local/lib/python3.7/dist-packages/seaborn/distributions.py:2557: FutureWarning: `distplot` is a deprecated function and will be removed in a future version. Please adapt your code to use either `displot` (a figure-level function with similar flexibility) or `histplot` (an axes-level function for histograms).\n",
            "  warnings.warn(msg, FutureWarning)\n"
          ],
          "name": "stderr"
        },
        {
          "output_type": "execute_result",
          "data": {
            "text/plain": [
              "[Text(0, 0.5, 'Frequency'), Text(0.5, 0, 'Normal Distribution')]"
            ]
          },
          "metadata": {
            "tags": []
          },
          "execution_count": 8
        },
        {
          "output_type": "display_data",
          "data": {
            "image/png": "[encoded data removed]",
            "text/plain": [
              "<Figure size 432x288 with 1 Axes>"
            ]
          },
          "metadata": {
            "tags": [],
            "needs_background": "light"
          }
        }
      ]
    },
    {
      "cell_type": "markdown",
      "metadata": {
        "id": "LCbhBDoAreTY"
      },
      "source": [
        "Question 7 - Random Variables - Binomial Distribution (Beginner)"
      ]
    },
    {
      "cell_type": "markdown",
      "metadata": {
        "id": "MWRv5cJprlOm"
      },
      "source": [
        "A player gets 5 chances to roll a 6 on a fair six-sided dice. What's the probability that the player will not get a 6\n",
        "even a single time out of 5 chances. Calculate this probability over 10000 such trials."
      ]
    },
    {
      "cell_type": "code",
      "metadata": {
        "colab": {
          "base_uri": "https://localhost:8080/"
        },
        "id": "6Qy3uiAGrqFQ",
        "outputId": "511b2e99-890f-4567-8b1f-eb81a40f07f3"
      },
      "source": [
        "#probability of success\n",
        "p = 1/6\n",
        "\n",
        "# Number of chances\n",
        "n = 5\n",
        "\n",
        "# Total number of trials\n",
        "\n",
        "# Required probability\n",
        "result = sum(np.random.binomial(5, p, 10000) == 0)/10000\n",
        "\n",
        "print('Probability of not getting a single success out of 5 in over 1000 trials is', result)"
      ],
      "execution_count": null,
      "outputs": [
        {
          "output_type": "stream",
          "text": [
            "Probability of not getting a single success out of 5 in over 1000 trials is 0.4024\n"
          ],
          "name": "stdout"
        }
      ]
    },
    {
      "cell_type": "markdown",
      "metadata": {
        "id": "dg3vMJHxGpdv"
      },
      "source": [
        "Question 8 - Random Variables - Normal Distribution (Beginner)"
      ]
    },
    {
      "cell_type": "markdown",
      "metadata": {
        "id": "CtXdGj4qGrjB"
      },
      "source": [
        "Generate a set of 10000 random numbers which are Normally Distributed. Plot the normal distribution using\n",
        "step filed histogram. Use function from scipy.stats libarary to generate random numbers"
      ]
    },
    {
      "cell_type": "code",
      "metadata": {
        "colab": {
          "base_uri": "https://localhost:8080/",
          "height": 282
        },
        "id": "PHlfBvqkGCEI",
        "outputId": "4a1d1f48-9eaa-4326-9815-2822148498f3"
      },
      "source": [
        "from scipy.stats import norm\n",
        "import matplotlib.pyplot as plt\n",
        "\n",
        "# Generating required randon numbers\n",
        "r = norm.rvs(size=10000)\n",
        "\n",
        "# plot the distribution graph\n",
        "fig, ax = plt.subplots(1, 1)\n",
        "ax.hist(r, density=True, histtype='stepfilled', alpha=0.2)\n",
        "ax.legend(loc='best', title = 'Normal Distribution')\n",
        "plt.show()"
      ],
      "execution_count": null,
      "outputs": [
        {
          "output_type": "stream",
          "text": [
            "No handles with labels found to put in legend.\n"
          ],
          "name": "stderr"
        },
        {
          "output_type": "display_data",
          "data": {
            "image/png": "[encoded data removed]",
            "text/plain": [
              "<Figure size 432x288 with 1 Axes>"
            ]
          },
          "metadata": {
            "tags": [],
            "needs_background": "light"
          }
        }
      ]
    },
    {
      "cell_type": "markdown",
      "metadata": {
        "id": "kt0v5V7lIV9B"
      },
      "source": [
        "Question 9 - Random Variables - Exponential Distribution (Beginner)"
      ]
    },
    {
      "cell_type": "markdown",
      "metadata": {
        "id": "5o4wWUGbIXwf"
      },
      "source": [
        "The number of days in advance of the travel travelers purchase their airline tickets are seen to be following an\n",
        "exponential distribution with the average amount of advance days equal to 15 days. Find the probability that a\n",
        "traveler will purchase a ticket lesser than ten days in advance. Also find its mean and variance."
      ]
    },
    {
      "cell_type": "code",
      "metadata": {
        "colab": {
          "base_uri": "https://localhost:8080/"
        },
        "id": "amUTZNALIFdK",
        "outputId": "5987dd54-bd31-4c61-e1ce-1023130ed374"
      },
      "source": [
        "from scipy.stats import expon\n",
        "\n",
        "#calculate using cumalative Distribution function\n",
        "prob = np.round(expon.cdf(10,0,15),3)\n",
        "\n",
        "print(\" prob that the traveler purchases ticket in less than 10 days in advance is\", prob)\n"
      ],
      "execution_count": null,
      "outputs": [
        {
          "output_type": "stream",
          "text": [
            " prob that the traveler purchases ticket in less than 10 days in advance is 0.487\n"
          ],
          "name": "stdout"
        }
      ]
    },
    {
      "cell_type": "code",
      "metadata": {
        "colab": {
          "base_uri": "https://localhost:8080/"
        },
        "id": "OklkUY50Jlix",
        "outputId": "5f8da48d-9803-4671-d941-6099181c02e5"
      },
      "source": [
        "print(\"Mean: \", expon.mean(loc=0,scale=15))\n",
        "print(\"varience: \", expon.var(loc=0,scale=15))"
      ],
      "execution_count": null,
      "outputs": [
        {
          "output_type": "stream",
          "text": [
            "Mean:  15.0\n",
            "varience:  225.0\n"
          ],
          "name": "stdout"
        }
      ]
    },
    {
      "cell_type": "markdown",
      "metadata": {
        "id": "3a0xsXZgsz0i"
      },
      "source": [
        "Question 10 - Random Variables - Normal Distribution (Beginner)"
      ]
    },
    {
      "cell_type": "markdown",
      "metadata": {
        "id": "lXJCD-Pts1xK"
      },
      "source": [
        "Suppose that the weight of Navel Oranges is normally distributed with mean μ = 8 ounces, and standard\n",
        "deviation σ = 1.5 ounces. Find the probability that the oranges weigh less than 8.7 ounces"
      ]
    },
    {
      "cell_type": "code",
      "metadata": {
        "id": "4m8SojxdJ7sl",
        "colab": {
          "base_uri": "https://localhost:8080/"
        },
        "outputId": "2843ff95-1e3e-4bc1-ccac-60e3aae2df52"
      },
      "source": [
        "# generate random numbers from N(0,1)\n",
        "data_normal = norm.rvs(size=1000,loc=8,scale=1.5)\n",
        "\n",
        "#calculate Z-score\n",
        "z1 = (8.7 - 8)/1.5\n",
        "\n",
        "prob = np.round(norm.cdf(z1),3)\n",
        "\n",
        "print(\"Probability that the oranges weigh less than 8.7 ounces is \",prob)"
      ],
      "execution_count": null,
      "outputs": [
        {
          "output_type": "stream",
          "text": [
            "Probability that the oranges weigh less than 8.7 ounces is  0.68\n"
          ],
          "name": "stdout"
        }
      ]
    },
    {
      "cell_type": "markdown",
      "metadata": {
        "id": "Wmu-33MiuiaX"
      },
      "source": [
        "**Question 11**"
      ]
    },
    {
      "cell_type": "markdown",
      "metadata": {
        "id": "vyIcv_71up4m"
      },
      "source": [
        "An automobile vendor wants to analyze the cars sold in the past month to further improve its Sales. As a first step, the vendor\n",
        "wants to find the carbody type (hatchback, sedan, etc.) which was sold the maximum and its pobability amongst all cars sold."
      ]
    },
    {
      "cell_type": "code",
      "metadata": {
        "colab": {
          "base_uri": "https://localhost:8080/"
        },
        "id": "S6eqt5Cjt8a-",
        "outputId": "6bc094fe-f457-4bab-b8e4-330fb2f547c4"
      },
      "source": [
        "!wget https://www.dropbox.com/s/fhwjd8v19rqluvr/Cars.csv?dl=0"
      ],
      "execution_count": null,
      "outputs": [
        {
          "output_type": "stream",
          "text": [
            "--2021-04-26 13:14:38--  https://www.dropbox.com/s/fhwjd8v19rqluvr/Cars.csv?dl=0\n",
            "Resolving www.dropbox.com (www.dropbox.com)... 162.125.6.18, 2620:100:6030:18::a27d:5012\n",
            "Connecting to www.dropbox.com (www.dropbox.com)|162.125.6.18|:443... connected.\n",
            "HTTP request sent, awaiting response... 301 Moved Permanently\n",
            "Location: /s/raw/fhwjd8v19rqluvr/Cars.csv [following]\n",
            "--2021-04-26 13:14:38--  https://www.dropbox.com/s/raw/fhwjd8v19rqluvr/Cars.csv\n",
            "Reusing existing connection to www.dropbox.com:443.\n",
            "HTTP request sent, awaiting response... 302 Found\n",
            "Location: https://ucecdb44315fdf75307438bc2059.dl.dropboxusercontent.com/cd/0/inline/BNW9T1c9UP-CndjkjaO9fTrWxZhiwSHICYZHGH6A9D-E9vTqvJpT9NRl9PyYRSPbFiy64ib6bn7a0GXiJ2y0ASQBdcp7G_3a01xuiQiIwQWcJdU8Yxp8abLqs6oAgU7oJ0dBlypKbSVBcovRhUKQ7_N_/file# [following]\n",
            "--2021-04-26 13:14:39--  https://ucecdb44315fdf75307438bc2059.dl.dropboxusercontent.com/cd/0/inline/BNW9T1c9UP-CndjkjaO9fTrWxZhiwSHICYZHGH6A9D-E9vTqvJpT9NRl9PyYRSPbFiy64ib6bn7a0GXiJ2y0ASQBdcp7G_3a01xuiQiIwQWcJdU8Yxp8abLqs6oAgU7oJ0dBlypKbSVBcovRhUKQ7_N_/file\n",
            "Resolving ucecdb44315fdf75307438bc2059.dl.dropboxusercontent.com (ucecdb44315fdf75307438bc2059.dl.dropboxusercontent.com)... 162.125.6.15, 2620:100:601c:15::a27d:60f\n",
            "Connecting to ucecdb44315fdf75307438bc2059.dl.dropboxusercontent.com (ucecdb44315fdf75307438bc2059.dl.dropboxusercontent.com)|162.125.6.15|:443... connected.\n",
            "HTTP request sent, awaiting response... 200 OK\n",
            "Length: 25324 (25K) [text/plain]\n",
            "Saving to: ‘Cars.csv?dl=0’\n",
            "\n",
            "Cars.csv?dl=0       100%[===================>]  24.73K  --.-KB/s    in 0.001s  \n",
            "\n",
            "2021-04-26 13:14:39 (18.6 MB/s) - ‘Cars.csv?dl=0’ saved [25324/25324]\n",
            "\n"
          ],
          "name": "stdout"
        }
      ]
    },
    {
      "cell_type": "code",
      "metadata": {
        "colab": {
          "base_uri": "https://localhost:8080/"
        },
        "id": "s6x4caHpu0WQ",
        "outputId": "3c8e63d7-9eea-4797-de19-2ce36f88e75c"
      },
      "source": [
        "cars = pd.read_csv(\"Cars.csv?dl=0\", delimiter=',')\n",
        "cars.shape"
      ],
      "execution_count": null,
      "outputs": [
        {
          "output_type": "execute_result",
          "data": {
            "text/plain": [
              "(205, 24)"
            ]
          },
          "metadata": {
            "tags": []
          },
          "execution_count": 15
        }
      ]
    },
    {
      "cell_type": "code",
      "metadata": {
        "colab": {
          "base_uri": "https://localhost:8080/",
          "height": 275
        },
        "id": "80Ff5dIavJU8",
        "outputId": "b9ad8c2a-d5bb-4a8f-daa7-3901bb39ffa7"
      },
      "source": [
        "cars.head()"
      ],
      "execution_count": null,
      "outputs": [
        {
          "output_type": "execute_result",
          "data": {
            "text/html": [
              "<div>\n",
              "<style scoped>\n",
              "    .dataframe tbody tr th:only-of-type {\n",
              "        vertical-align: middle;\n",
              "    }\n",
              "\n",
              "    .dataframe tbody tr th {\n",
              "        vertical-align: top;\n",
              "    }\n",
              "\n",
              "    .dataframe thead th {\n",
              "        text-align: right;\n",
              "    }\n",
              "</style>\n",
              "<table border=\"1\" class=\"dataframe\">\n",
              "  <thead>\n",
              "    <tr style=\"text-align: right;\">\n",
              "      <th></th>\n",
              "      <th>carname</th>\n",
              "      <th>fueltype</th>\n",
              "      <th>aspiration</th>\n",
              "      <th>doornumber</th>\n",
              "      <th>carbody</th>\n",
              "      <th>drivewheel</th>\n",
              "      <th>enginelocation</th>\n",
              "      <th>wheelbase</th>\n",
              "      <th>carlength</th>\n",
              "      <th>carwidth</th>\n",
              "      <th>carheight</th>\n",
              "      <th>curbweight</th>\n",
              "      <th>enginetype</th>\n",
              "      <th>cylindernumber</th>\n",
              "      <th>enginesize</th>\n",
              "      <th>fuelsystem</th>\n",
              "      <th>boreratio</th>\n",
              "      <th>stroke</th>\n",
              "      <th>compressionratio</th>\n",
              "      <th>horsepower</th>\n",
              "      <th>peakrpm</th>\n",
              "      <th>citympg</th>\n",
              "      <th>highwaympg</th>\n",
              "      <th>price</th>\n",
              "    </tr>\n",
              "  </thead>\n",
              "  <tbody>\n",
              "    <tr>\n",
              "      <th>0</th>\n",
              "      <td>alfa-romero giulia</td>\n",
              "      <td>gas</td>\n",
              "      <td>std</td>\n",
              "      <td>two</td>\n",
              "      <td>convertible</td>\n",
              "      <td>rwd</td>\n",
              "      <td>front</td>\n",
              "      <td>88.6</td>\n",
              "      <td>168.8</td>\n",
              "      <td>64.1</td>\n",
              "      <td>48.8</td>\n",
              "      <td>2548</td>\n",
              "      <td>dohc</td>\n",
              "      <td>four</td>\n",
              "      <td>130.0</td>\n",
              "      <td>mpfi</td>\n",
              "      <td>3.47</td>\n",
              "      <td>2.68</td>\n",
              "      <td>9.0</td>\n",
              "      <td>111</td>\n",
              "      <td>5000</td>\n",
              "      <td>21</td>\n",
              "      <td>27</td>\n",
              "      <td>13495.0</td>\n",
              "    </tr>\n",
              "    <tr>\n",
              "      <th>1</th>\n",
              "      <td>alfa-romero stelvio</td>\n",
              "      <td>gas</td>\n",
              "      <td>std</td>\n",
              "      <td>two</td>\n",
              "      <td>convertible</td>\n",
              "      <td>rwd</td>\n",
              "      <td>front</td>\n",
              "      <td>88.6</td>\n",
              "      <td>168.8</td>\n",
              "      <td>64.1</td>\n",
              "      <td>48.8</td>\n",
              "      <td>2548</td>\n",
              "      <td>dohc</td>\n",
              "      <td>four</td>\n",
              "      <td>130.0</td>\n",
              "      <td>mpfi</td>\n",
              "      <td>3.47</td>\n",
              "      <td>2.68</td>\n",
              "      <td>9.0</td>\n",
              "      <td>111</td>\n",
              "      <td>5000</td>\n",
              "      <td>21</td>\n",
              "      <td>27</td>\n",
              "      <td>16500.0</td>\n",
              "    </tr>\n",
              "    <tr>\n",
              "      <th>2</th>\n",
              "      <td>alfa-romero Quadrifoglio</td>\n",
              "      <td>gas</td>\n",
              "      <td>std</td>\n",
              "      <td>two</td>\n",
              "      <td>hatchback</td>\n",
              "      <td>rwd</td>\n",
              "      <td>front</td>\n",
              "      <td>94.5</td>\n",
              "      <td>171.2</td>\n",
              "      <td>65.5</td>\n",
              "      <td>NaN</td>\n",
              "      <td>2823</td>\n",
              "      <td>ohcv</td>\n",
              "      <td>six</td>\n",
              "      <td>152.0</td>\n",
              "      <td>mpfi</td>\n",
              "      <td>2.68</td>\n",
              "      <td>3.47</td>\n",
              "      <td>9.0</td>\n",
              "      <td>154</td>\n",
              "      <td>5000</td>\n",
              "      <td>19</td>\n",
              "      <td>26</td>\n",
              "      <td>16500.0</td>\n",
              "    </tr>\n",
              "    <tr>\n",
              "      <th>3</th>\n",
              "      <td>audi 100 ls</td>\n",
              "      <td>gas</td>\n",
              "      <td>std</td>\n",
              "      <td>four</td>\n",
              "      <td>sedan</td>\n",
              "      <td>fwd</td>\n",
              "      <td>front</td>\n",
              "      <td>99.8</td>\n",
              "      <td>176.6</td>\n",
              "      <td>66.2</td>\n",
              "      <td>NaN</td>\n",
              "      <td>2337</td>\n",
              "      <td>ohc</td>\n",
              "      <td>four</td>\n",
              "      <td>109.0</td>\n",
              "      <td>mpfi</td>\n",
              "      <td>3.19</td>\n",
              "      <td>3.40</td>\n",
              "      <td>10.0</td>\n",
              "      <td>102</td>\n",
              "      <td>5500</td>\n",
              "      <td>24</td>\n",
              "      <td>30</td>\n",
              "      <td>13950.0</td>\n",
              "    </tr>\n",
              "    <tr>\n",
              "      <th>4</th>\n",
              "      <td>audi 100ls</td>\n",
              "      <td>gas</td>\n",
              "      <td>std</td>\n",
              "      <td>four</td>\n",
              "      <td>sedan</td>\n",
              "      <td>4wd</td>\n",
              "      <td>front</td>\n",
              "      <td>99.4</td>\n",
              "      <td>176.6</td>\n",
              "      <td>66.4</td>\n",
              "      <td>NaN</td>\n",
              "      <td>2824</td>\n",
              "      <td>ohc</td>\n",
              "      <td>five</td>\n",
              "      <td>136.0</td>\n",
              "      <td>mpfi</td>\n",
              "      <td>3.19</td>\n",
              "      <td>3.40</td>\n",
              "      <td>8.0</td>\n",
              "      <td>115</td>\n",
              "      <td>5500</td>\n",
              "      <td>18</td>\n",
              "      <td>22</td>\n",
              "      <td>17450.0</td>\n",
              "    </tr>\n",
              "  </tbody>\n",
              "</table>\n",
              "</div>"
            ],
            "text/plain": [
              "                    carname fueltype aspiration  ... citympg highwaympg    price\n",
              "0        alfa-romero giulia      gas        std  ...      21         27  13495.0\n",
              "1       alfa-romero stelvio      gas        std  ...      21         27  16500.0\n",
              "2  alfa-romero Quadrifoglio      gas        std  ...      19         26  16500.0\n",
              "3               audi 100 ls      gas        std  ...      24         30  13950.0\n",
              "4                audi 100ls      gas        std  ...      18         22  17450.0\n",
              "\n",
              "[5 rows x 24 columns]"
            ]
          },
          "metadata": {
            "tags": []
          },
          "execution_count": 16
        }
      ]
    },
    {
      "cell_type": "code",
      "metadata": {
        "colab": {
          "base_uri": "https://localhost:8080/"
        },
        "id": "qLxAiP8-vPub",
        "outputId": "9cd1f4ca-1aec-4184-e03f-20bbf94e9ddd"
      },
      "source": [
        "#calculate the total number of cars (carname) sold\n",
        "count = len(cars.carname)\n",
        "print(count)\n",
        "\n",
        "#calculate the count of cars of each model type (carbody)\n",
        "c_body = cars.groupby(['carbody']).count()['carname']\n",
        "print(c_body)"
      ],
      "execution_count": null,
      "outputs": [
        {
          "output_type": "stream",
          "text": [
            "205\n",
            "carbody\n",
            "convertible     6\n",
            "hardtop         8\n",
            "hatchback      70\n",
            "sedan          96\n",
            "wagon          25\n",
            "Name: carname, dtype: int64\n"
          ],
          "name": "stdout"
        }
      ]
    },
    {
      "cell_type": "code",
      "metadata": {
        "colab": {
          "base_uri": "https://localhost:8080/"
        },
        "id": "R1SnBvgpwPM7",
        "outputId": "93d6d564-f1da-446e-8201-f92a17f63526"
      },
      "source": [
        "#calculate probabilities of carbody type with maximum number of cars\n",
        "maxtype = c_body.idxmax()\n",
        "maxvalue = c_body.max()\n",
        "\n",
        "prob_cbody_max = np.round(maxvalue/count, 3)\n",
        "print(prob_cbody_max)"
      ],
      "execution_count": null,
      "outputs": [
        {
          "output_type": "stream",
          "text": [
            "0.468\n"
          ],
          "name": "stdout"
        }
      ]
    },
    {
      "cell_type": "code",
      "metadata": {
        "colab": {
          "base_uri": "https://localhost:8080/"
        },
        "id": "newzbn4zxV5_",
        "outputId": "fafa6a4f-c667-4450-a6ca-c06f6ece060d"
      },
      "source": [
        "print(\"Carbody type with maximum number of sales is \",maxtype)\n",
        "print(\"Probability of selling carbody type\", maxtype, \"is\", prob_cbody_max)"
      ],
      "execution_count": null,
      "outputs": [
        {
          "output_type": "stream",
          "text": [
            "Carbody type with maximum number of sales is  sedan\n",
            "Probability of selling carbody type sedan is 0.468\n"
          ],
          "name": "stdout"
        }
      ]
    },
    {
      "cell_type": "markdown",
      "metadata": {
        "id": "cxFaIyzsx_LJ"
      },
      "source": [
        "**Question 12 -**"
      ]
    },
    {
      "cell_type": "markdown",
      "metadata": {
        "id": "CTqHxDOHyMaR"
      },
      "source": [
        "An automobile vendor wants to analyze the cars sold in the past month to further improve its Sales. It has been observed that cars with carbody\n",
        "type as sedan were sold the maximum."
      ]
    },
    {
      "cell_type": "code",
      "metadata": {
        "colab": {
          "base_uri": "https://localhost:8080/"
        },
        "id": "DhCQc80Xx3M7",
        "outputId": "ce5424df-99f1-4ddd-c6b9-1e63637a3358"
      },
      "source": [
        "# find the probability of sedan bodytype of cars\n",
        "count = len(cars.carname)\n",
        "c_body = cars.groupby(['carbody']).count()['carname']\n",
        "prob_sedan = c_body.max()/count\n",
        "\n",
        "#probability of cars with gas as fueltype\n",
        "fuel = cars.groupby(['fueltype']).count()['carname']\n",
        "print(fuel)\n",
        "g_fuel = fuel['gas']/count\n",
        "print(g_fuel)\n",
        "\n",
        "#note that these two events are independent\n",
        "# multiply both the probability of obtain the solution for joint probabiliity\n",
        "prob_joint = np.round(prob_sedan*g_fuel,4)\n",
        "\n",
        "print(\"Percentage of cars sold having fueltype as gas and sedan as its carbody type is \", prob_joint*100, \"%\")"
      ],
      "execution_count": null,
      "outputs": [
        {
          "output_type": "stream",
          "text": [
            "fueltype\n",
            "diesel     20\n",
            "gas       185\n",
            "Name: carname, dtype: int64\n",
            "0.9024390243902439\n",
            "Percentage of cars sold having fueltype as gas and sedan as its carbody type is  42.26 %\n"
          ],
          "name": "stdout"
        }
      ]
    },
    {
      "cell_type": "markdown",
      "metadata": {
        "id": "IxpsvGfB1x-C"
      },
      "source": [
        "**Question 13 -**"
      ]
    },
    {
      "cell_type": "markdown",
      "metadata": {
        "id": "V2dRX4Cu14b9"
      },
      "source": [
        "Given that the aspiration type is standard (std), what is the probability that the car sold is a four door car (doornumber)?"
      ]
    },
    {
      "cell_type": "code",
      "metadata": {
        "colab": {
          "base_uri": "https://localhost:8080/"
        },
        "id": "XBWs7oaP0gX3",
        "outputId": "d95a9319-44ca-44db-eede-5ee68a2fd4f6"
      },
      "source": [
        "#count the standard aspiration cars\n",
        "c_aspiration = cars[cars.aspiration=='std'].carname.count()\n",
        "print(c_aspiration)\n",
        "\n",
        "#probability of standard type aspiration\n",
        "prob_std = c_aspiration/count\n",
        "print(prob_std)"
      ],
      "execution_count": null,
      "outputs": [
        {
          "output_type": "stream",
          "text": [
            "168\n",
            "0.8195121951219512\n"
          ],
          "name": "stdout"
        }
      ]
    },
    {
      "cell_type": "code",
      "metadata": {
        "colab": {
          "base_uri": "https://localhost:8080/"
        },
        "id": "zDMMNhWL2xD-",
        "outputId": "eed74811-1e5f-4eed-ae66-4a95956543f8"
      },
      "source": [
        "#Count of cars which has four doors with standard aspiration\n",
        "door_c_aspiration_count = cars[(cars.aspiration=='std') & (cars.doornumber=='four')].doornumber.count()\n",
        "print(door_c_aspiration_count)\n",
        "\n",
        "#find the probability for the above found count\n",
        "prob_door_c_aspiration = door_c_aspiration_count/count\n",
        "print(prob_door_c_aspiration)"
      ],
      "execution_count": null,
      "outputs": [
        {
          "output_type": "stream",
          "text": [
            "93\n",
            "0.45365853658536587\n"
          ],
          "name": "stdout"
        }
      ]
    },
    {
      "cell_type": "code",
      "metadata": {
        "id": "QF6zLLcS4RHj"
      },
      "source": [
        "#find the conditional probability by dividing prob_door_c_aspiration by prob_std\n",
        "result = np.round(prob_door_c_aspiration/prob_std,3)"
      ],
      "execution_count": null,
      "outputs": []
    },
    {
      "cell_type": "code",
      "metadata": {
        "colab": {
          "base_uri": "https://localhost:8080/"
        },
        "id": "LvhilcBu4xwg",
        "outputId": "3770f880-e0d0-4025-fec9-a18be0045da7"
      },
      "source": [
        "print(\"probability that the car sold is a four door car given that the aspiration is standard is\", result)"
      ],
      "execution_count": null,
      "outputs": [
        {
          "output_type": "stream",
          "text": [
            "probability that the car sold is a four door car given that the aspiration is standard is 0.554\n"
          ],
          "name": "stdout"
        }
      ]
    },
    {
      "cell_type": "markdown",
      "metadata": {
        "id": "dMPCdllQ6yVg"
      },
      "source": [
        "**Question 14 - Probability Distribution**"
      ]
    },
    {
      "cell_type": "markdown",
      "metadata": {
        "id": "ZQC735nk618N"
      },
      "source": [
        "Topics Covered:\n",
        "Probability Distribution - Bernoulli\n",
        "Expected Value & Variance of Bernoulli Distribution\n",
        "Democratic Party has been in power since past decade in the state of XYZ. In the upcoming Electoral Poll, the chances of\n",
        "Democratic Party winning are 80% against the only other party, Republican.\n",
        "Consider a random variable X that represents the winning of Democratic party.\n",
        "1. Plot the probability distribution of X by generating 10000 randon numbers.\n",
        "2. Calculate X's expected value and variance."
      ]
    },
    {
      "cell_type": "code",
      "metadata": {
        "colab": {
          "base_uri": "https://localhost:8080/",
          "height": 350
        },
        "id": "BjuYimtw5HSs",
        "outputId": "ce2c6c43-6ad1-4dce-e830-a630eb00635d"
      },
      "source": [
        "#Let us plot the distribution using random variants\n",
        "import numpy as np\n",
        "import seaborn as sns\n",
        "from scipy.stats import bernoulli\n",
        "data_bern = bernoulli.rvs(size=10000,p=0.8) \n",
        "ax=sns.distplot(data_bern,\n",
        "                kde=False,\n",
        "                color=\"blue\",\n",
        "                hist_kws={\"linewidth\": 15,'alpha':1})\n",
        "ax.set(xlabel='Bernoulli Distribution', ylabel='Frequency')"
      ],
      "execution_count": null,
      "outputs": [
        {
          "output_type": "stream",
          "text": [
            "/usr/local/lib/python3.7/dist-packages/seaborn/distributions.py:2557: FutureWarning: `distplot` is a deprecated function and will be removed in a future version. Please adapt your code to use either `displot` (a figure-level function with similar flexibility) or `histplot` (an axes-level function for histograms).\n",
            "  warnings.warn(msg, FutureWarning)\n"
          ],
          "name": "stderr"
        },
        {
          "output_type": "execute_result",
          "data": {
            "text/plain": [
              "[Text(0, 0.5, 'Frequency'), Text(0.5, 0, 'Bernoulli Distribution')]"
            ]
          },
          "metadata": {
            "tags": []
          },
          "execution_count": 25
        },
        {
          "output_type": "display_data",
          "data": {
            "image/png": "[encoded data removed]",
            "text/plain": [
              "<Figure size 432x288 with 1 Axes>"
            ]
          },
          "metadata": {
            "tags": [],
            "needs_background": "light"
          }
        }
      ]
    },
    {
      "cell_type": "code",
      "metadata": {
        "colab": {
          "base_uri": "https://localhost:8080/"
        },
        "id": "2LYIg95p8X_r",
        "outputId": "c8f318ea-e767-4556-afb5-a43aec819adf"
      },
      "source": [
        "#finding the bernoulis distribution when x=0 and x=1 with p=0.8\n",
        "print(bernoulli.pmf(0,0.8))\n",
        "print(bernoulli.pmf(1,0.8))"
      ],
      "execution_count": null,
      "outputs": [
        {
          "output_type": "stream",
          "text": [
            "0.19999999999999998\n",
            "0.8\n"
          ],
          "name": "stdout"
        }
      ]
    },
    {
      "cell_type": "code",
      "metadata": {
        "colab": {
          "base_uri": "https://localhost:8080/"
        },
        "id": "oGSd_D2Q9i0q",
        "outputId": "fc7a1a39-3daa-4151-8346-8664c47b44a8"
      },
      "source": [
        "#finding the mean and variance\n",
        "p=0.8\n",
        "print(bernoulli.mean(p,loc=0))\n",
        "print(bernoulli.var(p,loc=0))"
      ],
      "execution_count": null,
      "outputs": [
        {
          "output_type": "stream",
          "text": [
            "0.8\n",
            "0.15999999999999998\n"
          ],
          "name": "stdout"
        }
      ]
    },
    {
      "cell_type": "markdown",
      "metadata": {
        "id": "FpbC8OLt-VS_"
      },
      "source": [
        "**Question 15 - Sample Mean**"
      ]
    },
    {
      "cell_type": "markdown",
      "metadata": {
        "id": "trhhBUji2L-B"
      },
      "source": [
        "  Generating random samples,\n",
        "  Sample Mean,\n",
        "  Mean of Sample Means"
      ]
    },
    {
      "cell_type": "markdown",
      "metadata": {
        "id": "sABrRSXM27Jw"
      },
      "source": [
        "Before starting a Weight Loss program, AppyFit Fitness Institute, wants to analyze the performance of the\n",
        "program using some random data.\n",
        "It wants to calculate mean loss in weight that can be achieved in a batch. A batch of program consists of 50\n",
        "participants. It is known from past programs, that the range of weight loss achieved is between 5 kgs to 25 kg."
      ]
    },
    {
      "cell_type": "markdown",
      "metadata": {
        "id": "Z9_jbeLA3EAG"
      },
      "source": [
        "To help this institute, perform random experiment as described below:\n",
        "1. Generate random samples of size 50 in the above given range\n",
        "2. Calculate mean weight loss of these 50 data points\n",
        "3. Simulate this 1000 times\n",
        "4. Calculate mean of sample means"
      ]
    },
    {
      "cell_type": "code",
      "metadata": {
        "colab": {
          "base_uri": "https://localhost:8080/"
        },
        "id": "XrongzEr3PVJ",
        "outputId": "5edc0730-02b8-4d9d-a059-5c9012542c63"
      },
      "source": [
        "from numpy.random import seed\n",
        "from numpy.random import randint\n",
        "from numpy import mean\n",
        "\n",
        "#Set the seed value to a fixed number to make the experiment repeatable\n",
        "seed(1)\n",
        "# generate a sample of weigh loss values\n",
        "weightloss = randint(5, 25, 50)\n",
        "print(weightloss)\n",
        "print('The average weightloss in a random batch is {} kg'.format(mean(weightloss)))"
      ],
      "execution_count": null,
      "outputs": [
        {
          "output_type": "stream",
          "text": [
            "[10 16 17 13 14 16 10 20  5 21  6 17 12 18 11 23 10 23 16 15 19 23  9 14\n",
            " 22  5 18 14 14 12  6  5 22 13 18 24 20 15 13 12  8 11 22  8  9 22 16 17\n",
            " 21 18]\n",
            "The average weightloss in a random batch is 14.86 kg\n"
          ],
          "name": "stdout"
        }
      ]
    },
    {
      "cell_type": "code",
      "metadata": {
        "colab": {
          "base_uri": "https://localhost:8080/"
        },
        "id": "AOKW9los4zGm",
        "outputId": "a84c2472-5099-4db8-a8b8-2e74bbfe2691"
      },
      "source": [
        "#calculate the mean of 50 participants weightloss in 1000 random batch\n",
        "means = [mean(randint(5, 25, 50)) for _i in range(1000)]\n",
        "\n",
        "print('The avg weightloss over 1000 batches of 50 participants is {} kg'.format(np.round(mean(means),3)))"
      ],
      "execution_count": null,
      "outputs": [
        {
          "output_type": "stream",
          "text": [
            "The avg weightloss over 1000 batches of 50 participants is 14.507 kg\n"
          ],
          "name": "stdout"
        }
      ]
    },
    {
      "cell_type": "markdown",
      "metadata": {
        "id": "52ftwEs93ABC"
      },
      "source": [
        "**Question 16 - Probability Analysis on Covid-19 Data**"
      ]
    },
    {
      "cell_type": "markdown",
      "metadata": {
        "id": "6EQCD6Wi9fca"
      },
      "source": [
        "* Types of Probabilities: Marginal & conditional rules of probability\n",
        "* Type of Events: Independent & Dependent"
      ]
    },
    {
      "cell_type": "markdown",
      "metadata": {
        "id": "O9UTBooI-IYB"
      },
      "source": [
        "The world saw an outbreak of a pandemic in the year 2020, COVID-19. A large amount and variety of data is available to perform research on this\n",
        "data.\n",
        "The first step of a Data Science process is performing stattistics on the given data. Thus, start with the process of calculating various probabilities\n",
        "as described below. These will help in analyzing the outbreak based on factors such as Age, Gender, etc."
      ]
    },
    {
      "cell_type": "code",
      "metadata": {
        "id": "VDCsYRyT93WP",
        "colab": {
          "base_uri": "https://localhost:8080/"
        },
        "outputId": "f98c6b22-d9da-4099-e796-3f81f82fa2c2"
      },
      "source": [
        "!wget https://www.dropbox.com/s/xrzf16rhftk3n28/covid19_patient_info.csv?dl=0"
      ],
      "execution_count": null,
      "outputs": [
        {
          "output_type": "stream",
          "text": [
            "--2021-04-26 13:14:40--  https://www.dropbox.com/s/xrzf16rhftk3n28/covid19_patient_info.csv?dl=0\n",
            "Resolving www.dropbox.com (www.dropbox.com)... 162.125.6.18, 2620:100:6030:18::a27d:5012\n",
            "Connecting to www.dropbox.com (www.dropbox.com)|162.125.6.18|:443... connected.\n",
            "HTTP request sent, awaiting response... 301 Moved Permanently\n",
            "Location: /s/raw/xrzf16rhftk3n28/covid19_patient_info.csv [following]\n",
            "--2021-04-26 13:14:40--  https://www.dropbox.com/s/raw/xrzf16rhftk3n28/covid19_patient_info.csv\n",
            "Reusing existing connection to www.dropbox.com:443.\n",
            "HTTP request sent, awaiting response... 302 Found\n",
            "Location: https://uc3d1d015c0c9f0265fa72b61344.dl.dropboxusercontent.com/cd/0/inline/BNUwbDWHG6b3Z4HxkKjDXIaBtW5_ZXankVNWeV9zFxgfiuhs3GVvYeJCB4Rdagqh7uwtymORJGqrtKMFRJAjV_Jtc_YLK4SzSC89QdX2Vf-pNyA5Z6DdAg2mpSQy6UYmvQTpc0oEvv-SWMzfHLhCujvo/file# [following]\n",
            "--2021-04-26 13:14:40--  https://uc3d1d015c0c9f0265fa72b61344.dl.dropboxusercontent.com/cd/0/inline/BNUwbDWHG6b3Z4HxkKjDXIaBtW5_ZXankVNWeV9zFxgfiuhs3GVvYeJCB4Rdagqh7uwtymORJGqrtKMFRJAjV_Jtc_YLK4SzSC89QdX2Vf-pNyA5Z6DdAg2mpSQy6UYmvQTpc0oEvv-SWMzfHLhCujvo/file\n",
            "Resolving uc3d1d015c0c9f0265fa72b61344.dl.dropboxusercontent.com (uc3d1d015c0c9f0265fa72b61344.dl.dropboxusercontent.com)... 162.125.6.15, 2620:100:601c:15::a27d:60f\n",
            "Connecting to uc3d1d015c0c9f0265fa72b61344.dl.dropboxusercontent.com (uc3d1d015c0c9f0265fa72b61344.dl.dropboxusercontent.com)|162.125.6.15|:443... connected.\n",
            "HTTP request sent, awaiting response... 200 OK\n",
            "Length: 427357 (417K) [text/plain]\n",
            "Saving to: ‘covid19_patient_info.csv?dl=0’\n",
            "\n",
            "covid19_patient_inf 100%[===================>] 417.34K  --.-KB/s    in 0.007s  \n",
            "\n",
            "2021-04-26 13:14:41 (59.0 MB/s) - ‘covid19_patient_info.csv?dl=0’ saved [427357/427357]\n",
            "\n"
          ],
          "name": "stdout"
        }
      ]
    },
    {
      "cell_type": "markdown",
      "metadata": {
        "id": "-wTNrrdV-5No"
      },
      "source": [
        "1. Calculate the probability that a patient is *male*\n",
        "2. Determine the gender which has the higher probability for the specified value of\n",
        "age. Take *age* as input from user"
      ]
    },
    {
      "cell_type": "code",
      "metadata": {
        "colab": {
          "base_uri": "https://localhost:8080/"
        },
        "id": "HpVKJ5gw-bP1",
        "outputId": "819ff7cf-ae86-4332-929a-6640c0c5bfcc"
      },
      "source": [
        "data = pd.read_csv('covid19_patient_info.csv?dl=0', delimiter=',')\n",
        "data.shape"
      ],
      "execution_count": null,
      "outputs": [
        {
          "output_type": "execute_result",
          "data": {
            "text/plain": [
              "(4004, 18)"
            ]
          },
          "metadata": {
            "tags": []
          },
          "execution_count": 31
        }
      ]
    },
    {
      "cell_type": "code",
      "metadata": {
        "colab": {
          "base_uri": "https://localhost:8080/",
          "height": 292
        },
        "id": "BOKQtPJX_Rei",
        "outputId": "f749c9c5-acf9-4561-e799-eacd8dbdbbf5"
      },
      "source": [
        "data.head()"
      ],
      "execution_count": null,
      "outputs": [
        {
          "output_type": "execute_result",
          "data": {
            "text/html": [
              "<div>\n",
              "<style scoped>\n",
              "    .dataframe tbody tr th:only-of-type {\n",
              "        vertical-align: middle;\n",
              "    }\n",
              "\n",
              "    .dataframe tbody tr th {\n",
              "        vertical-align: top;\n",
              "    }\n",
              "\n",
              "    .dataframe thead th {\n",
              "        text-align: right;\n",
              "    }\n",
              "</style>\n",
              "<table border=\"1\" class=\"dataframe\">\n",
              "  <thead>\n",
              "    <tr style=\"text-align: right;\">\n",
              "      <th></th>\n",
              "      <th>patient_id</th>\n",
              "      <th>global_num</th>\n",
              "      <th>sex</th>\n",
              "      <th>birth_year</th>\n",
              "      <th>age</th>\n",
              "      <th>country</th>\n",
              "      <th>province</th>\n",
              "      <th>city</th>\n",
              "      <th>disease</th>\n",
              "      <th>infection_case</th>\n",
              "      <th>infection_order</th>\n",
              "      <th>infected_by</th>\n",
              "      <th>contact_number</th>\n",
              "      <th>symptom_onset_date</th>\n",
              "      <th>confirmed_date</th>\n",
              "      <th>released_date</th>\n",
              "      <th>deceased_date</th>\n",
              "      <th>state</th>\n",
              "    </tr>\n",
              "  </thead>\n",
              "  <tbody>\n",
              "    <tr>\n",
              "      <th>0</th>\n",
              "      <td>1000000001</td>\n",
              "      <td>2.0</td>\n",
              "      <td>male</td>\n",
              "      <td>1964</td>\n",
              "      <td>50s</td>\n",
              "      <td>Korea</td>\n",
              "      <td>Seoul</td>\n",
              "      <td>Gangseo-gu</td>\n",
              "      <td>NaN</td>\n",
              "      <td>overseas inflow</td>\n",
              "      <td>1.0</td>\n",
              "      <td>NaN</td>\n",
              "      <td>75</td>\n",
              "      <td>2020-01-22</td>\n",
              "      <td>2020-01-23</td>\n",
              "      <td>2020-02-05</td>\n",
              "      <td>NaN</td>\n",
              "      <td>released</td>\n",
              "    </tr>\n",
              "    <tr>\n",
              "      <th>1</th>\n",
              "      <td>1000000002</td>\n",
              "      <td>5.0</td>\n",
              "      <td>male</td>\n",
              "      <td>1987</td>\n",
              "      <td>30s</td>\n",
              "      <td>Korea</td>\n",
              "      <td>Seoul</td>\n",
              "      <td>Jungnang-gu</td>\n",
              "      <td>NaN</td>\n",
              "      <td>overseas inflow</td>\n",
              "      <td>1.0</td>\n",
              "      <td>NaN</td>\n",
              "      <td>31</td>\n",
              "      <td>NaN</td>\n",
              "      <td>2020-01-30</td>\n",
              "      <td>2020-03-02</td>\n",
              "      <td>NaN</td>\n",
              "      <td>released</td>\n",
              "    </tr>\n",
              "    <tr>\n",
              "      <th>2</th>\n",
              "      <td>1000000003</td>\n",
              "      <td>6.0</td>\n",
              "      <td>male</td>\n",
              "      <td>1964</td>\n",
              "      <td>50s</td>\n",
              "      <td>Korea</td>\n",
              "      <td>Seoul</td>\n",
              "      <td>Jongno-gu</td>\n",
              "      <td>NaN</td>\n",
              "      <td>contact with patient</td>\n",
              "      <td>2.0</td>\n",
              "      <td>2002000001</td>\n",
              "      <td>17</td>\n",
              "      <td>NaN</td>\n",
              "      <td>2020-01-30</td>\n",
              "      <td>2020-02-19</td>\n",
              "      <td>NaN</td>\n",
              "      <td>released</td>\n",
              "    </tr>\n",
              "    <tr>\n",
              "      <th>3</th>\n",
              "      <td>1000000004</td>\n",
              "      <td>7.0</td>\n",
              "      <td>male</td>\n",
              "      <td>1991</td>\n",
              "      <td>20s</td>\n",
              "      <td>Korea</td>\n",
              "      <td>Seoul</td>\n",
              "      <td>Mapo-gu</td>\n",
              "      <td>NaN</td>\n",
              "      <td>overseas inflow</td>\n",
              "      <td>1.0</td>\n",
              "      <td>NaN</td>\n",
              "      <td>9</td>\n",
              "      <td>2020-01-26</td>\n",
              "      <td>2020-01-30</td>\n",
              "      <td>2020-02-15</td>\n",
              "      <td>NaN</td>\n",
              "      <td>released</td>\n",
              "    </tr>\n",
              "    <tr>\n",
              "      <th>4</th>\n",
              "      <td>1000000005</td>\n",
              "      <td>9.0</td>\n",
              "      <td>female</td>\n",
              "      <td>1992</td>\n",
              "      <td>20s</td>\n",
              "      <td>Korea</td>\n",
              "      <td>Seoul</td>\n",
              "      <td>Seongbuk-gu</td>\n",
              "      <td>NaN</td>\n",
              "      <td>contact with patient</td>\n",
              "      <td>2.0</td>\n",
              "      <td>1000000002</td>\n",
              "      <td>2</td>\n",
              "      <td>NaN</td>\n",
              "      <td>2020-01-31</td>\n",
              "      <td>2020-02-24</td>\n",
              "      <td>NaN</td>\n",
              "      <td>released</td>\n",
              "    </tr>\n",
              "  </tbody>\n",
              "</table>\n",
              "</div>"
            ],
            "text/plain": [
              "   patient_id  global_num     sex  ... released_date deceased_date     state\n",
              "0  1000000001         2.0    male  ...    2020-02-05           NaN  released\n",
              "1  1000000002         5.0    male  ...    2020-03-02           NaN  released\n",
              "2  1000000003         6.0    male  ...    2020-02-19           NaN  released\n",
              "3  1000000004         7.0    male  ...    2020-02-15           NaN  released\n",
              "4  1000000005         9.0  female  ...    2020-02-24           NaN  released\n",
              "\n",
              "[5 rows x 18 columns]"
            ]
          },
          "metadata": {
            "tags": []
          },
          "execution_count": 32
        }
      ]
    },
    {
      "cell_type": "code",
      "metadata": {
        "colab": {
          "base_uri": "https://localhost:8080/"
        },
        "id": "Lb71fz40_dkT",
        "outputId": "dc43b191-fa92-4ce3-e996-a33dbd262214"
      },
      "source": [
        "# Details of Gender\n",
        "print(data.sex.describe())\n",
        "\n",
        "print(data.sex.value_counts())\n",
        "\n",
        "print(data.sex.isnull().sum())"
      ],
      "execution_count": null,
      "outputs": [
        {
          "output_type": "stream",
          "text": [
            "count       3674\n",
            "unique         2\n",
            "top       female\n",
            "freq        2021\n",
            "Name: sex, dtype: object\n",
            "female    2021\n",
            "male      1653\n",
            "Name: sex, dtype: int64\n",
            "330\n"
          ],
          "name": "stdout"
        }
      ]
    },
    {
      "cell_type": "code",
      "metadata": {
        "colab": {
          "base_uri": "https://localhost:8080/"
        },
        "id": "SSsIA9BVAByP",
        "outputId": "dec0a3cf-f580-45ad-ce29-9a38547715be"
      },
      "source": [
        "# Probability that the patient is a male\n",
        "n = len(data.patient_id)\n",
        "print(\"Total entries: \",n)\n",
        "\n",
        "males = data[data.sex == \"male\"].patient_id.count()\n",
        "\n",
        "print(\"Count of males\", males)\n",
        "\n",
        "prob_males = np.round(males/n,3)\n",
        "\n",
        "print(\"Probability that the patient is a male is\", prob_males)"
      ],
      "execution_count": null,
      "outputs": [
        {
          "output_type": "stream",
          "text": [
            "Total entries:  4004\n",
            "Count of males 1653\n",
            "Probability that the patient is a male is 0.413\n"
          ],
          "name": "stdout"
        }
      ]
    },
    {
      "cell_type": "code",
      "metadata": {
        "colab": {
          "base_uri": "https://localhost:8080/"
        },
        "id": "an7rRm1KBkCh",
        "outputId": "6e620734-c17d-487a-ab9d-c9022c91f525"
      },
      "source": [
        "print(data.age.value_counts())"
      ],
      "execution_count": null,
      "outputs": [
        {
          "output_type": "stream",
          "text": [
            "20s     860\n",
            "50s     625\n",
            "30s     493\n",
            "40s     483\n",
            "60s     423\n",
            "70s     210\n",
            "80s     162\n",
            "10s     160\n",
            "0s       60\n",
            "90s      47\n",
            "30        1\n",
            "100s      1\n",
            "Name: age, dtype: int64\n"
          ],
          "name": "stdout"
        }
      ]
    },
    {
      "cell_type": "code",
      "metadata": {
        "colab": {
          "base_uri": "https://localhost:8080/"
        },
        "id": "oE6ckqJIB4p0",
        "outputId": "3f3035c3-629a-4791-d817-c64a13ef5cbc"
      },
      "source": [
        "# take age as input from user\n",
        "age = input()\n",
        "\n",
        "df = pd.DataFrame({'count': data.groupby( [\"age\",\"sex\"]).size()}).reset_index()\n",
        "value = []\n",
        "if df[\"count\"][(df['age']==age) & (df['sex']=='female')].tolist() > df['count'] [(df['age']==age) & (df['sex']=='male')].tolist():\n",
        "  value.append(\"Female\")\n",
        "else:\n",
        "  value.append(\"Male\")\n",
        "\n",
        "print(value)"
      ],
      "execution_count": null,
      "outputs": [
        {
          "output_type": "stream",
          "text": [
            "30s\n",
            "['Male']\n"
          ],
          "name": "stdout"
        }
      ]
    },
    {
      "cell_type": "markdown",
      "metadata": {
        "id": "BEch4TeNUuzN"
      },
      "source": [
        "**Question 17 - Probability Distribution - Uniform**"
      ]
    },
    {
      "cell_type": "markdown",
      "metadata": {
        "id": "_DNPElDSVWlA"
      },
      "source": [
        "* Probability Distribution: Uniform Mean & varience from distribution Probability from distribution"
      ]
    },
    {
      "cell_type": "markdown",
      "metadata": {
        "id": "xMR3f0sJVj2D"
      },
      "source": [
        "The thickness x of a protective coating applied to a conducting metal follows a uniform distribution over the interval [22, 42]\n",
        "microns. Find the mean, variance and also the probability that the coating is less than 35 microns thick. Also, plot the\n",
        "Uniform Distribution graph for 100 random variables with above specifications"
      ]
    },
    {
      "cell_type": "code",
      "metadata": {
        "colab": {
          "base_uri": "https://localhost:8080/",
          "height": 350
        },
        "id": "SRGjNlCcVlLo",
        "outputId": "f620e131-7611-4caf-b9ba-d54a0b064cfd"
      },
      "source": [
        "import seaborn as sns\n",
        "from scipy.stats import uniform\n",
        "data_uniform = uniform.rvs(size=100,loc=22,scale=41)\n",
        "ax = sns.distplot(data_uniform,\n",
        "                  bins=100,\n",
        "                  kde=True,\n",
        "                  color='skyblue',\n",
        "                  hist_kws={\"linewidth\": 15,'alpha':1})\n",
        "ax.set(xlabel='Uniform Distribution', ylabel='Frequency')"
      ],
      "execution_count": null,
      "outputs": [
        {
          "output_type": "stream",
          "text": [
            "/usr/local/lib/python3.7/dist-packages/seaborn/distributions.py:2557: FutureWarning: `distplot` is a deprecated function and will be removed in a future version. Please adapt your code to use either `displot` (a figure-level function with similar flexibility) or `histplot` (an axes-level function for histograms).\n",
            "  warnings.warn(msg, FutureWarning)\n"
          ],
          "name": "stderr"
        },
        {
          "output_type": "execute_result",
          "data": {
            "text/plain": [
              "[Text(0, 0.5, 'Frequency'), Text(0.5, 0, 'Uniform Distribution')]"
            ]
          },
          "metadata": {
            "tags": []
          },
          "execution_count": 38
        },
        {
          "output_type": "display_data",
          "data": {
            "image/png": "[encoded data removed]",
            "text/plain": [
              "<Figure size 432x288 with 1 Axes>"
            ]
          },
          "metadata": {
            "tags": [],
            "needs_background": "light"
          }
        }
      ]
    },
    {
      "cell_type": "code",
      "metadata": {
        "colab": {
          "base_uri": "https://localhost:8080/"
        },
        "id": "DrQubpOeW1cO",
        "outputId": "4686732e-0ba2-4334-e8c1-ca2a9adff081"
      },
      "source": [
        "#p(X<35)\n",
        "prob = np.round(uniform.cdf(35, loc=20, scale=39),3)\n",
        "print(\"Probability that the coating is less than 35 microns is \", prob)"
      ],
      "execution_count": null,
      "outputs": [
        {
          "output_type": "stream",
          "text": [
            "Probability that the coating is less than 35 microns is  0.385\n"
          ],
          "name": "stdout"
        }
      ]
    },
    {
      "cell_type": "code",
      "metadata": {
        "colab": {
          "base_uri": "https://localhost:8080/"
        },
        "id": "i7FHoJ3OXoGa",
        "outputId": "afe6d25f-ae24-41f9-bacb-840930fc9797"
      },
      "source": [
        "print(\"Mean: \", uniform.mean(loc=20,scale=39))\n",
        "print(\"varience: \", uniform.var(loc=20,scale=39))"
      ],
      "execution_count": null,
      "outputs": [
        {
          "output_type": "stream",
          "text": [
            "Mean:  39.5\n",
            "varience:  126.75\n"
          ],
          "name": "stdout"
        }
      ]
    },
    {
      "cell_type": "markdown",
      "metadata": {
        "id": "MMOeWj5RaTZM"
      },
      "source": [
        "**Question 18 - Probability Analysis on Students Data**"
      ]
    },
    {
      "cell_type": "markdown",
      "metadata": {
        "id": "-QmgOf5paW-4"
      },
      "source": [
        "* Normal Distribution\n",
        "* Probability of a range of values (CDF)"
      ]
    },
    {
      "cell_type": "markdown",
      "metadata": {
        "id": "rcUc2NWdas7e"
      },
      "source": [
        "For a health inspection in a university, heights of students need to be analyzed. Students' data containing details\n",
        "such as age, height, weight, scores etc. is provided for the same. The data is available at"
      ]
    },
    {
      "cell_type": "code",
      "metadata": {
        "colab": {
          "base_uri": "https://localhost:8080/"
        },
        "id": "k99Hs-pyaNSw",
        "outputId": "b386ddc7-9ac6-4231-9232-f520784906c3"
      },
      "source": [
        "!wget https://www.dropbox.com/s/noh3lk3lrh4k2va/students.csv?dl=0"
      ],
      "execution_count": null,
      "outputs": [
        {
          "output_type": "stream",
          "text": [
            "--2021-04-26 13:43:14--  https://www.dropbox.com/s/noh3lk3lrh4k2va/students.csv?dl=0\n",
            "Resolving www.dropbox.com (www.dropbox.com)... 162.125.6.18, 2620:100:6019:18::a27d:412\n",
            "Connecting to www.dropbox.com (www.dropbox.com)|162.125.6.18|:443... connected.\n",
            "HTTP request sent, awaiting response... 301 Moved Permanently\n",
            "Location: /s/raw/noh3lk3lrh4k2va/students.csv [following]\n",
            "--2021-04-26 13:43:14--  https://www.dropbox.com/s/raw/noh3lk3lrh4k2va/students.csv\n",
            "Reusing existing connection to www.dropbox.com:443.\n",
            "HTTP request sent, awaiting response... 302 Found\n",
            "Location: https://uc6199d5176a5ad5a98a5f47443d.dl.dropboxusercontent.com/cd/0/inline/BNWHsfa6KM6y3a0dDOCaqBKs4mqyuEfG4DE_XREv-LxThI0xD0j45SQH07B2f-Y8ftfbCoJNaCCmpK277yXoRDhBvGFb6_wHCx3bX7roB6CZozX6cDeqw6I7XG3SQnxRj7k-7hmJ_7ZEBEhgeVmGcn-k/file# [following]\n",
            "--2021-04-26 13:43:15--  https://uc6199d5176a5ad5a98a5f47443d.dl.dropboxusercontent.com/cd/0/inline/BNWHsfa6KM6y3a0dDOCaqBKs4mqyuEfG4DE_XREv-LxThI0xD0j45SQH07B2f-Y8ftfbCoJNaCCmpK277yXoRDhBvGFb6_wHCx3bX7roB6CZozX6cDeqw6I7XG3SQnxRj7k-7hmJ_7ZEBEhgeVmGcn-k/file\n",
            "Resolving uc6199d5176a5ad5a98a5f47443d.dl.dropboxusercontent.com (uc6199d5176a5ad5a98a5f47443d.dl.dropboxusercontent.com)... 162.125.6.15, 2620:100:6019:15::a27d:40f\n",
            "Connecting to uc6199d5176a5ad5a98a5f47443d.dl.dropboxusercontent.com (uc6199d5176a5ad5a98a5f47443d.dl.dropboxusercontent.com)|162.125.6.15|:443... connected.\n",
            "HTTP request sent, awaiting response... 200 OK\n",
            "Length: 937327 (915K) [text/plain]\n",
            "Saving to: ‘students.csv?dl=0’\n",
            "\n",
            "students.csv?dl=0   100%[===================>] 915.36K  --.-KB/s    in 0.01s   \n",
            "\n",
            "2021-04-26 13:43:15 (85.2 MB/s) - ‘students.csv?dl=0’ saved [937327/937327]\n",
            "\n"
          ],
          "name": "stdout"
        }
      ]
    },
    {
      "cell_type": "markdown",
      "metadata": {
        "id": "ryp5wRmfa_C5"
      },
      "source": [
        "1. Plot the distribution of values of column *height* and observe that it follows n\n",
        "ormal distribution\n",
        "2. Calculate the mean & standard deviation of heights\n",
        "3. Calculate the probability that the height is greater that 180 cm and less than 1\n",
        "90 cm"
      ]
    },
    {
      "cell_type": "code",
      "metadata": {
        "colab": {
          "base_uri": "https://localhost:8080/"
        },
        "id": "jePPZeh_bO98",
        "outputId": "045e06da-e993-4c89-857a-11b77405cdb2"
      },
      "source": [
        "data = pd.read_csv(\"students.csv?dl=0\", delimiter=',')\n",
        "data.shape"
      ],
      "execution_count": null,
      "outputs": [
        {
          "output_type": "execute_result",
          "data": {
            "text/plain": [
              "(8239, 16)"
            ]
          },
          "metadata": {
            "tags": []
          },
          "execution_count": 44
        }
      ]
    },
    {
      "cell_type": "code",
      "metadata": {
        "colab": {
          "base_uri": "https://localhost:8080/",
          "height": 377
        },
        "id": "Mab_IZ2ZbZtp",
        "outputId": "2abfefcb-bb2d-4e09-c44b-51e69e4e29f0"
      },
      "source": [
        "data.head()"
      ],
      "execution_count": null,
      "outputs": [
        {
          "output_type": "execute_result",
          "data": {
            "text/html": [
              "<div>\n",
              "<style scoped>\n",
              "    .dataframe tbody tr th:only-of-type {\n",
              "        vertical-align: middle;\n",
              "    }\n",
              "\n",
              "    .dataframe tbody tr th {\n",
              "        vertical-align: top;\n",
              "    }\n",
              "\n",
              "    .dataframe thead th {\n",
              "        text-align: right;\n",
              "    }\n",
              "</style>\n",
              "<table border=\"1\" class=\"dataframe\">\n",
              "  <thead>\n",
              "    <tr style=\"text-align: right;\">\n",
              "      <th></th>\n",
              "      <th>stud.id</th>\n",
              "      <th>name</th>\n",
              "      <th>gender</th>\n",
              "      <th>age</th>\n",
              "      <th>height</th>\n",
              "      <th>weight</th>\n",
              "      <th>religion</th>\n",
              "      <th>nc.score</th>\n",
              "      <th>semester</th>\n",
              "      <th>major</th>\n",
              "      <th>minor</th>\n",
              "      <th>score1</th>\n",
              "      <th>score2</th>\n",
              "      <th>online.tutorial</th>\n",
              "      <th>graduated</th>\n",
              "      <th>salary</th>\n",
              "    </tr>\n",
              "  </thead>\n",
              "  <tbody>\n",
              "    <tr>\n",
              "      <th>0</th>\n",
              "      <td>833917</td>\n",
              "      <td>Gonzales, Christina</td>\n",
              "      <td>Female</td>\n",
              "      <td>19</td>\n",
              "      <td>160</td>\n",
              "      <td>64.8</td>\n",
              "      <td>Muslim</td>\n",
              "      <td>1.91</td>\n",
              "      <td>1st</td>\n",
              "      <td>Political Science</td>\n",
              "      <td>Social Sciences</td>\n",
              "      <td>NaN</td>\n",
              "      <td>NaN</td>\n",
              "      <td>0</td>\n",
              "      <td>0</td>\n",
              "      <td>NaN</td>\n",
              "    </tr>\n",
              "    <tr>\n",
              "      <th>1</th>\n",
              "      <td>898539</td>\n",
              "      <td>Lozano, T'Hani</td>\n",
              "      <td>Female</td>\n",
              "      <td>19</td>\n",
              "      <td>172</td>\n",
              "      <td>73.0</td>\n",
              "      <td>Other</td>\n",
              "      <td>1.56</td>\n",
              "      <td>2nd</td>\n",
              "      <td>Social Sciences</td>\n",
              "      <td>Mathematics and Statistics</td>\n",
              "      <td>NaN</td>\n",
              "      <td>NaN</td>\n",
              "      <td>0</td>\n",
              "      <td>0</td>\n",
              "      <td>NaN</td>\n",
              "    </tr>\n",
              "    <tr>\n",
              "      <th>2</th>\n",
              "      <td>379678</td>\n",
              "      <td>Williams, Hanh</td>\n",
              "      <td>Female</td>\n",
              "      <td>22</td>\n",
              "      <td>168</td>\n",
              "      <td>70.6</td>\n",
              "      <td>Protestant</td>\n",
              "      <td>1.24</td>\n",
              "      <td>3rd</td>\n",
              "      <td>Social Sciences</td>\n",
              "      <td>Mathematics and Statistics</td>\n",
              "      <td>45.0</td>\n",
              "      <td>46.0</td>\n",
              "      <td>0</td>\n",
              "      <td>0</td>\n",
              "      <td>NaN</td>\n",
              "    </tr>\n",
              "    <tr>\n",
              "      <th>3</th>\n",
              "      <td>807564</td>\n",
              "      <td>Nem, Denzel</td>\n",
              "      <td>Male</td>\n",
              "      <td>19</td>\n",
              "      <td>183</td>\n",
              "      <td>79.7</td>\n",
              "      <td>Other</td>\n",
              "      <td>1.37</td>\n",
              "      <td>2nd</td>\n",
              "      <td>Environmental Sciences</td>\n",
              "      <td>Mathematics and Statistics</td>\n",
              "      <td>NaN</td>\n",
              "      <td>NaN</td>\n",
              "      <td>0</td>\n",
              "      <td>0</td>\n",
              "      <td>NaN</td>\n",
              "    </tr>\n",
              "    <tr>\n",
              "      <th>4</th>\n",
              "      <td>383291</td>\n",
              "      <td>Powell, Heather</td>\n",
              "      <td>Female</td>\n",
              "      <td>21</td>\n",
              "      <td>175</td>\n",
              "      <td>71.4</td>\n",
              "      <td>Catholic</td>\n",
              "      <td>1.46</td>\n",
              "      <td>1st</td>\n",
              "      <td>Environmental Sciences</td>\n",
              "      <td>Mathematics and Statistics</td>\n",
              "      <td>NaN</td>\n",
              "      <td>NaN</td>\n",
              "      <td>0</td>\n",
              "      <td>0</td>\n",
              "      <td>NaN</td>\n",
              "    </tr>\n",
              "  </tbody>\n",
              "</table>\n",
              "</div>"
            ],
            "text/plain": [
              "   stud.id                 name  gender  ...  online.tutorial  graduated  salary\n",
              "0   833917  Gonzales, Christina  Female  ...                0          0     NaN\n",
              "1   898539       Lozano, T'Hani  Female  ...                0          0     NaN\n",
              "2   379678       Williams, Hanh  Female  ...                0          0     NaN\n",
              "3   807564          Nem, Denzel    Male  ...                0          0     NaN\n",
              "4   383291      Powell, Heather  Female  ...                0          0     NaN\n",
              "\n",
              "[5 rows x 16 columns]"
            ]
          },
          "metadata": {
            "tags": []
          },
          "execution_count": 45
        }
      ]
    },
    {
      "cell_type": "code",
      "metadata": {
        "colab": {
          "base_uri": "https://localhost:8080/"
        },
        "id": "D4A0EdU4bcbq",
        "outputId": "f466f3dc-681b-4403-ed77-f3a67d0c71b8"
      },
      "source": [
        "import matplotlib.pyplot as plt\n",
        "import scipy as stats\n",
        "\n",
        "# create a separate dataframe containing only the height column\n",
        "df = data[data.height>0].height\n",
        "df.head()"
      ],
      "execution_count": null,
      "outputs": [
        {
          "output_type": "execute_result",
          "data": {
            "text/plain": [
              "0    160\n",
              "1    172\n",
              "2    168\n",
              "3    183\n",
              "4    175\n",
              "Name: height, dtype: int64"
            ]
          },
          "metadata": {
            "tags": []
          },
          "execution_count": 46
        }
      ]
    },
    {
      "cell_type": "code",
      "metadata": {
        "colab": {
          "base_uri": "https://localhost:8080/"
        },
        "id": "49pwHck6ekgT",
        "outputId": "6f0a2383-6385-413c-a310-99720479ebf4"
      },
      "source": [
        "# calculate the statnadard mean and standard deviation\n",
        "mean = df.mean()\n",
        "std = df.std()\n",
        "print(f\"std is {std} and mean is {mean}\",)"
      ],
      "execution_count": null,
      "outputs": [
        {
          "output_type": "stream",
          "text": [
            "std is 11.077529134763747 and mean is 171.38075009103048\n"
          ],
          "name": "stdout"
        }
      ]
    },
    {
      "cell_type": "code",
      "metadata": {
        "id": "k6_FEWgThAXI"
      },
      "source": [
        "from matplotlib import pyplot\n",
        "from scipy import stats"
      ],
      "execution_count": null,
      "outputs": []
    },
    {
      "cell_type": "code",
      "metadata": {
        "colab": {
          "base_uri": "https://localhost:8080/",
          "height": 282
        },
        "id": "j9cr2PRfe8WL",
        "outputId": "6dfb07ca-df6b-4695-c87a-c0ba4defedaf"
      },
      "source": [
        "# calculate weights to be applied in plotiing histogram of heights data\n",
        "weights = np.zeros_like(df) + 0.15 / df.count()\n",
        "\n",
        "# Plot a histogram of heights\n",
        "df.hist(weights = weights)\n",
        "\n",
        "# Generate equally distributed random numbers for the same range as that of height data\n",
        "random_data = np.arange(df.min(), df.max(), 0.001)\n",
        "\n",
        "# Plot a normal probability distribution curve on top of above histogram using the random number array\n",
        "pyplot.plot(random_data, stats.norm.pdf(random_data, mean, std), color='green')"
      ],
      "execution_count": null,
      "outputs": [
        {
          "output_type": "execute_result",
          "data": {
            "text/plain": [
              "[<matplotlib.lines.Line2D at 0x7f1605a25f50>]"
            ]
          },
          "metadata": {
            "tags": []
          },
          "execution_count": 55
        },
        {
          "output_type": "display_data",
          "data": {
            "image/png": "[encoded data removed]",
            "text/plain": [
              "<Figure size 432x288 with 1 Axes>"
            ]
          },
          "metadata": {
            "tags": [],
            "needs_background": "light"
          }
        }
      ]
    },
    {
      "cell_type": "code",
      "metadata": {
        "colab": {
          "base_uri": "https://localhost:8080/"
        },
        "id": "IjL7lOH8g6_B",
        "outputId": "879e7ffe-35bf-4d44-9897-16e254619d58"
      },
      "source": [
        "#compute the probability that the height is grater than 180 and less than or equal to 190cm\n",
        "\n",
        "#compute Z-score\n",
        "Z1 = (180-mean)/std\n",
        "Z2 = (190-mean)/std\n",
        "\n",
        "prob = stats.norm.cdf(Z2) - stats.norm.cdf(Z1)\n",
        "print(\"Probability thts the height is greater than 180cm and less than or equal to 190cm is: \",np.round(prob,3))"
      ],
      "execution_count": null,
      "outputs": [
        {
          "output_type": "stream",
          "text": [
            "Probability thts the height is greater than 180cm and less than or equal to 190cm is:  0.172\n"
          ],
          "name": "stdout"
        }
      ]
    },
    {
      "cell_type": "markdown",
      "metadata": {
        "id": "AaXaaFzMi1UX"
      },
      "source": [
        "**Question 19 - Poker Prediction**"
      ]
    },
    {
      "cell_type": "markdown",
      "metadata": {
        "id": "ruelF4Mci_D9"
      },
      "source": [
        "**Bayes' Theorem**"
      ]
    },
    {
      "cell_type": "markdown",
      "metadata": {
        "id": "-Dz0sbvqjF1G"
      },
      "source": [
        "In Casino is analyzing the games of Poker played there in order to build an algorithm that can defeat the best of\n",
        "players."
      ]
    },
    {
      "cell_type": "markdown",
      "metadata": {
        "id": "T-TdiwzdjRHk"
      },
      "source": [
        "- Probability that a player is lying = 0.75\n",
        "- Probability that a player is not lying = 0.25\n",
        "- Probability that a player wins when he lied = 0.43\n",
        "- Probability that a player wins when he did not lie = 0.57"
      ]
    },
    {
      "cell_type": "code",
      "metadata": {
        "colab": {
          "base_uri": "https://localhost:8080/"
        },
        "id": "_mYMZGfmigDf",
        "outputId": "6e0f8ad8-ed3b-4a11-9540-d62cd49bf96c"
      },
      "source": [
        "# Note various probabilities \n",
        "# Event A1: Playe is lying\n",
        "# Event A2: Player is not lying\n",
        "# Event B: Winning the Game\n",
        "\n",
        "p_A1 = 0.75\n",
        "\n",
        "p_A2 = 0.25\n",
        "\n",
        "p_B_A1 = 0.43\n",
        "\n",
        "p_B_A2 = 0.57\n",
        "\n",
        "# Required Probability = P(A1/B)\n",
        "\n",
        "# Bayes Theorem\n",
        "\n",
        "# P(A1/B) = (P(B/A1)*P(A1)) /(P(B/A2)*P(A2))\n",
        "\n",
        "prob = np.round((0.43 * 0.75)/((0.43 * 0.75)+(0.57*0.25)),3)\n",
        "\n",
        "print(\"Probability that a player was lying given that he has won the game is \",prob)"
      ],
      "execution_count": null,
      "outputs": [
        {
          "output_type": "stream",
          "text": [
            "Probability that a player was lying given that he has won the game is  0.694\n"
          ],
          "name": "stdout"
        }
      ]
    },
    {
      "cell_type": "markdown",
      "metadata": {
        "id": "M54IbFm-nayk"
      },
      "source": [
        "**Question 20 - Geometric Distribution**"
      ]
    },
    {
      "cell_type": "markdown",
      "metadata": {
        "id": "lThjgnqznyMi"
      },
      "source": [
        "Terminals on an on-line computer system are attached to a communication line on the central computer system.\n",
        "The probability that any terminal is ready to transmit is 0.03.\n",
        "* Find the probability that 8 terminals are polled until the first ready terminal is located.\n",
        "* Find the mean & variance Hint: Use Geometric Distribution. Generate 10000 random samples following the\n",
        "above specification."
      ]
    },
    {
      "cell_type": "code",
      "metadata": {
        "colab": {
          "base_uri": "https://localhost:8080/",
          "height": 350
        },
        "id": "cPwHc3R8mDpk",
        "outputId": "6372a3c6-414f-48e7-f123-01bd4cdcbb18"
      },
      "source": [
        "# Let us plot the distribution using random variants\n",
        "import seaborn as sns\n",
        "from scipy.stats import geom\n",
        "data_geom = geom.rvs(p=0.03, size=10000)\n",
        "ax = sns.distplot(data_geom,\n",
        "                  bins = 30,\n",
        "                  kde=False,\n",
        "                  color='green',\n",
        "                  hist_kws={\"linewidth\":15, 'alpha':1})\n",
        "ax.set(xlabel='Geometric Distribution', ylabel=\"Frequency\")\n",
        "ax"
      ],
      "execution_count": null,
      "outputs": [
        {
          "output_type": "stream",
          "text": [
            "/usr/local/lib/python3.7/dist-packages/seaborn/distributions.py:2557: FutureWarning: `distplot` is a deprecated function and will be removed in a future version. Please adapt your code to use either `displot` (a figure-level function with similar flexibility) or `histplot` (an axes-level function for histograms).\n",
            "  warnings.warn(msg, FutureWarning)\n"
          ],
          "name": "stderr"
        },
        {
          "output_type": "execute_result",
          "data": {
            "text/plain": [
              "<matplotlib.axes._subplots.AxesSubplot at 0x7f160587f5d0>"
            ]
          },
          "metadata": {
            "tags": []
          },
          "execution_count": 59
        },
        {
          "output_type": "display_data",
          "data": {
            "image/png": "[encoded data removed]",
            "text/plain": [
              "<Figure size 432x288 with 1 Axes>"
            ]
          },
          "metadata": {
            "tags": [],
            "needs_background": "light"
          }
        }
      ]
    },
    {
      "cell_type": "code",
      "metadata": {
        "colab": {
          "base_uri": "https://localhost:8080/"
        },
        "id": "89Os-r-2qQal",
        "outputId": "68ca6295-bae8-49d6-bd92-87ac8c599455"
      },
      "source": [
        "# Here parameter passed are k=8, p = 0.03\n",
        "prob = np.round(geom.pmf(8,0.03,loc=0),3)\n",
        "\n",
        "print(\"Probability that 8 terminal are polled untill the first ready terminal located is\", prob)"
      ],
      "execution_count": null,
      "outputs": [
        {
          "output_type": "stream",
          "text": [
            "Probability that 8 terminal are polled untill the first ready terminal located is 0.024\n"
          ],
          "name": "stdout"
        }
      ]
    },
    {
      "cell_type": "code",
      "metadata": {
        "colab": {
          "base_uri": "https://localhost:8080/"
        },
        "id": "ju-PbUfOq5r9",
        "outputId": "4168e161-9ceb-49b1-f219-98b4dd1d6376"
      },
      "source": [
        "# Finding the mean and varience\n",
        "from scipy.stats import geom\n",
        "p = 0.03\n",
        "print(\"Mean: \", geom.mean(p,loc=0))\n",
        "print(\"Variance: \", geom.var(p,loc=0))"
      ],
      "execution_count": null,
      "outputs": [
        {
          "output_type": "stream",
          "text": [
            "Mean:  33.333333333333336\n",
            "Variance:  1077.7777777777778\n"
          ],
          "name": "stdout"
        }
      ]
    },
    {
      "cell_type": "code",
      "metadata": {
        "id": "xCF5L_IIrYel"
      },
      "source": [
        ""
      ],
      "execution_count": null,
      "outputs": []
    }
  ]
}