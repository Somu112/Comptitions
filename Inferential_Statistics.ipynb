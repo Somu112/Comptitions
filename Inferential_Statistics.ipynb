{
  "nbformat": 4,
  "nbformat_minor": 0,
  "metadata": {
    "colab": {
      "name": "Inferential Statistics",
      "provenance": [],
      "authorship_tag": "ABX9TyMaH/sTPBVoEgjde7aLdhFS",
      "include_colab_link": true
    },
    "kernelspec": {
      "name": "python3",
      "display_name": "Python 3"
    },
    "language_info": {
      "name": "python"
    }
  },
  "cells": [
    {
      "cell_type": "markdown",
      "metadata": {
        "id": "view-in-github",
        "colab_type": "text"
      },
      "source": [
        "<a href=\"https://colab.research.google.com/github/Somu112/Predictive-Analysis/blob/master/Inferential_Statistics.ipynb\" target=\"_parent\"><img src=\"https://colab.research.google.com/assets/colab-badge.svg\" alt=\"Open In Colab\"/></a>"
      ]
    },
    {
      "cell_type": "markdown",
      "metadata": {
        "id": "Bnm0xM0OuMJc"
      },
      "source": [
        "Statistical Inference is the the process of using a random sample of data taken from a population to describe\n",
        "and make inferences about the population. Inferential statistics are valuable when examination of each\n",
        "member of an entire population is not convenient or possible. There are three main ways of learning about\n",
        "the population parameter from the sample statistic:\n",
        "* Point Estimation\n",
        "* Interval Estimation\n",
        "* Hypothesis Testing\n",
        "* The most common being Hypothesis Testing which refers to the formal procedures used by statisticians to\n",
        "accept or reject Statistical Hypotheses."
      ]
    },
    {
      "cell_type": "markdown",
      "metadata": {
        "id": "sTyknoicuj2p"
      },
      "source": [
        "**Questions 1-3:**"
      ]
    },
    {
      "cell_type": "markdown",
      "metadata": {
        "id": "N3fHknh2up87"
      },
      "source": [
        "Cars.csv - The dataset contains 24 columns and 205 rows. Here's a brief description of the 7 columns in the\n",
        "dataset:\n",
        "* carname - Name of the car\n",
        "* fueltype - Type of fuel used in the car\n",
        "* horsepower - Horsepower of car\n",
        "* peakrpm - Peak RPM of the car\n",
        "* citympg - MPG in city\n",
        "* highwaympg - MPG on highway\n",
        "* price - Price of the car"
      ]
    },
    {
      "cell_type": "code",
      "metadata": {
        "id": "iz8ux7IXgeiQ",
        "colab": {
          "base_uri": "https://localhost:8080/"
        },
        "outputId": "1abc0398-035e-4ba0-fa2c-efc996004a55"
      },
      "source": [
        "#fetch and download the datset from dropbox\n",
        "!wget https://www.dropbox.com/s/kpsz3l9zfc0suca/Cars.csv"
      ],
      "execution_count": 2,
      "outputs": [
        {
          "output_type": "stream",
          "text": [
            "--2021-04-28 12:28:16--  https://www.dropbox.com/s/kpsz3l9zfc0suca/Cars.csv\n",
            "Resolving www.dropbox.com (www.dropbox.com)... 162.125.5.18, 2620:100:601d:18::a27d:512\n",
            "Connecting to www.dropbox.com (www.dropbox.com)|162.125.5.18|:443... connected.\n",
            "HTTP request sent, awaiting response... 301 Moved Permanently\n",
            "Location: /s/raw/kpsz3l9zfc0suca/Cars.csv [following]\n",
            "--2021-04-28 12:28:16--  https://www.dropbox.com/s/raw/kpsz3l9zfc0suca/Cars.csv\n",
            "Reusing existing connection to www.dropbox.com:443.\n",
            "HTTP request sent, awaiting response... 302 Found\n",
            "Location: https://uca4bbecfe2e61746e1f12c941a3.dl.dropboxusercontent.com/cd/0/inline/BNe_cmQ9b0hSx1C4mXJr5NxiH_FErbPYFiBdUlc1nQnJXEfIygaESxlx8YpvUL46BpkaRLDxalKDSGSkI5VzL_gddThJt1MpKo5_0pyNcmcyaQyB5U5FW25ZYEEhyyDqfB4sINnJEJpHWUL7IubGBcfp/file# [following]\n",
            "--2021-04-28 12:28:17--  https://uca4bbecfe2e61746e1f12c941a3.dl.dropboxusercontent.com/cd/0/inline/BNe_cmQ9b0hSx1C4mXJr5NxiH_FErbPYFiBdUlc1nQnJXEfIygaESxlx8YpvUL46BpkaRLDxalKDSGSkI5VzL_gddThJt1MpKo5_0pyNcmcyaQyB5U5FW25ZYEEhyyDqfB4sINnJEJpHWUL7IubGBcfp/file\n",
            "Resolving uca4bbecfe2e61746e1f12c941a3.dl.dropboxusercontent.com (uca4bbecfe2e61746e1f12c941a3.dl.dropboxusercontent.com)... 162.125.5.15, 2620:100:601d:15::a27d:50f\n",
            "Connecting to uca4bbecfe2e61746e1f12c941a3.dl.dropboxusercontent.com (uca4bbecfe2e61746e1f12c941a3.dl.dropboxusercontent.com)|162.125.5.15|:443... connected.\n",
            "HTTP request sent, awaiting response... 200 OK\n",
            "Length: 25324 (25K) [text/plain]\n",
            "Saving to: ‘Cars.csv’\n",
            "\n",
            "Cars.csv            100%[===================>]  24.73K  --.-KB/s    in 0.02s   \n",
            "\n",
            "2021-04-28 12:28:17 (1.44 MB/s) - ‘Cars.csv’ saved [25324/25324]\n",
            "\n"
          ],
          "name": "stdout"
        }
      ]
    },
    {
      "cell_type": "markdown",
      "metadata": {
        "id": "ZGyJfmfVvHiV"
      },
      "source": [
        "Tasks to be performed:\n",
        "1. Find the population mean and standard deviation for peakrpm column.\n",
        "2. Draw a sample of 25 from the population of peakrpm column and calculate the sample mean and\n",
        "standard deviation using Pandas.\n",
        "Topics covered:\n",
        "* Population Mean and Population Std. Deviation\n",
        "* Sample Mean and Sample Std. Deviation"
      ]
    },
    {
      "cell_type": "code",
      "metadata": {
        "colab": {
          "base_uri": "https://localhost:8080/",
          "height": 275
        },
        "id": "XaQUXFZSu9SD",
        "outputId": "043ceb5a-12a3-49af-9e50-269a2d76c924"
      },
      "source": [
        "import pandas as pd\n",
        "import numpy as np\n",
        "\n",
        "carsrpm = pd.read_csv(\"Cars.csv\")\n",
        "carsrpm.head()"
      ],
      "execution_count": 3,
      "outputs": [
        {
          "output_type": "execute_result",
          "data": {
            "text/html": [
              "<div>\n",
              "<style scoped>\n",
              "    .dataframe tbody tr th:only-of-type {\n",
              "        vertical-align: middle;\n",
              "    }\n",
              "\n",
              "    .dataframe tbody tr th {\n",
              "        vertical-align: top;\n",
              "    }\n",
              "\n",
              "    .dataframe thead th {\n",
              "        text-align: right;\n",
              "    }\n",
              "</style>\n",
              "<table border=\"1\" class=\"dataframe\">\n",
              "  <thead>\n",
              "    <tr style=\"text-align: right;\">\n",
              "      <th></th>\n",
              "      <th>carname</th>\n",
              "      <th>fueltype</th>\n",
              "      <th>aspiration</th>\n",
              "      <th>doornumber</th>\n",
              "      <th>carbody</th>\n",
              "      <th>drivewheel</th>\n",
              "      <th>enginelocation</th>\n",
              "      <th>wheelbase</th>\n",
              "      <th>carlength</th>\n",
              "      <th>carwidth</th>\n",
              "      <th>carheight</th>\n",
              "      <th>curbweight</th>\n",
              "      <th>enginetype</th>\n",
              "      <th>cylindernumber</th>\n",
              "      <th>enginesize</th>\n",
              "      <th>fuelsystem</th>\n",
              "      <th>boreratio</th>\n",
              "      <th>stroke</th>\n",
              "      <th>compressionratio</th>\n",
              "      <th>horsepower</th>\n",
              "      <th>peakrpm</th>\n",
              "      <th>citympg</th>\n",
              "      <th>highwaympg</th>\n",
              "      <th>price</th>\n",
              "    </tr>\n",
              "  </thead>\n",
              "  <tbody>\n",
              "    <tr>\n",
              "      <th>0</th>\n",
              "      <td>alfa-romero giulia</td>\n",
              "      <td>gas</td>\n",
              "      <td>std</td>\n",
              "      <td>two</td>\n",
              "      <td>convertible</td>\n",
              "      <td>rwd</td>\n",
              "      <td>front</td>\n",
              "      <td>88.6</td>\n",
              "      <td>168.8</td>\n",
              "      <td>64.1</td>\n",
              "      <td>48.8</td>\n",
              "      <td>2548</td>\n",
              "      <td>dohc</td>\n",
              "      <td>four</td>\n",
              "      <td>130.0</td>\n",
              "      <td>mpfi</td>\n",
              "      <td>3.47</td>\n",
              "      <td>2.68</td>\n",
              "      <td>9.0</td>\n",
              "      <td>111</td>\n",
              "      <td>5000</td>\n",
              "      <td>21</td>\n",
              "      <td>27</td>\n",
              "      <td>13495.0</td>\n",
              "    </tr>\n",
              "    <tr>\n",
              "      <th>1</th>\n",
              "      <td>alfa-romero stelvio</td>\n",
              "      <td>gas</td>\n",
              "      <td>std</td>\n",
              "      <td>two</td>\n",
              "      <td>convertible</td>\n",
              "      <td>rwd</td>\n",
              "      <td>front</td>\n",
              "      <td>88.6</td>\n",
              "      <td>168.8</td>\n",
              "      <td>64.1</td>\n",
              "      <td>48.8</td>\n",
              "      <td>2548</td>\n",
              "      <td>dohc</td>\n",
              "      <td>four</td>\n",
              "      <td>130.0</td>\n",
              "      <td>mpfi</td>\n",
              "      <td>3.47</td>\n",
              "      <td>2.68</td>\n",
              "      <td>9.0</td>\n",
              "      <td>111</td>\n",
              "      <td>5000</td>\n",
              "      <td>21</td>\n",
              "      <td>27</td>\n",
              "      <td>16500.0</td>\n",
              "    </tr>\n",
              "    <tr>\n",
              "      <th>2</th>\n",
              "      <td>alfa-romero Quadrifoglio</td>\n",
              "      <td>gas</td>\n",
              "      <td>std</td>\n",
              "      <td>two</td>\n",
              "      <td>hatchback</td>\n",
              "      <td>rwd</td>\n",
              "      <td>front</td>\n",
              "      <td>94.5</td>\n",
              "      <td>171.2</td>\n",
              "      <td>65.5</td>\n",
              "      <td>NaN</td>\n",
              "      <td>2823</td>\n",
              "      <td>ohcv</td>\n",
              "      <td>six</td>\n",
              "      <td>152.0</td>\n",
              "      <td>mpfi</td>\n",
              "      <td>2.68</td>\n",
              "      <td>3.47</td>\n",
              "      <td>9.0</td>\n",
              "      <td>154</td>\n",
              "      <td>5000</td>\n",
              "      <td>19</td>\n",
              "      <td>26</td>\n",
              "      <td>16500.0</td>\n",
              "    </tr>\n",
              "    <tr>\n",
              "      <th>3</th>\n",
              "      <td>audi 100 ls</td>\n",
              "      <td>gas</td>\n",
              "      <td>std</td>\n",
              "      <td>four</td>\n",
              "      <td>sedan</td>\n",
              "      <td>fwd</td>\n",
              "      <td>front</td>\n",
              "      <td>99.8</td>\n",
              "      <td>176.6</td>\n",
              "      <td>66.2</td>\n",
              "      <td>NaN</td>\n",
              "      <td>2337</td>\n",
              "      <td>ohc</td>\n",
              "      <td>four</td>\n",
              "      <td>109.0</td>\n",
              "      <td>mpfi</td>\n",
              "      <td>3.19</td>\n",
              "      <td>3.40</td>\n",
              "      <td>10.0</td>\n",
              "      <td>102</td>\n",
              "      <td>5500</td>\n",
              "      <td>24</td>\n",
              "      <td>30</td>\n",
              "      <td>13950.0</td>\n",
              "    </tr>\n",
              "    <tr>\n",
              "      <th>4</th>\n",
              "      <td>audi 100ls</td>\n",
              "      <td>gas</td>\n",
              "      <td>std</td>\n",
              "      <td>four</td>\n",
              "      <td>sedan</td>\n",
              "      <td>4wd</td>\n",
              "      <td>front</td>\n",
              "      <td>99.4</td>\n",
              "      <td>176.6</td>\n",
              "      <td>66.4</td>\n",
              "      <td>NaN</td>\n",
              "      <td>2824</td>\n",
              "      <td>ohc</td>\n",
              "      <td>five</td>\n",
              "      <td>136.0</td>\n",
              "      <td>mpfi</td>\n",
              "      <td>3.19</td>\n",
              "      <td>3.40</td>\n",
              "      <td>8.0</td>\n",
              "      <td>115</td>\n",
              "      <td>5500</td>\n",
              "      <td>18</td>\n",
              "      <td>22</td>\n",
              "      <td>17450.0</td>\n",
              "    </tr>\n",
              "  </tbody>\n",
              "</table>\n",
              "</div>"
            ],
            "text/plain": [
              "                    carname fueltype aspiration  ... citympg highwaympg    price\n",
              "0        alfa-romero giulia      gas        std  ...      21         27  13495.0\n",
              "1       alfa-romero stelvio      gas        std  ...      21         27  16500.0\n",
              "2  alfa-romero Quadrifoglio      gas        std  ...      19         26  16500.0\n",
              "3               audi 100 ls      gas        std  ...      24         30  13950.0\n",
              "4                audi 100ls      gas        std  ...      18         22  17450.0\n",
              "\n",
              "[5 rows x 24 columns]"
            ]
          },
          "metadata": {
            "tags": []
          },
          "execution_count": 3
        }
      ]
    },
    {
      "cell_type": "code",
      "metadata": {
        "colab": {
          "base_uri": "https://localhost:8080/"
        },
        "id": "F2tztaT6vlU9",
        "outputId": "ecee56d9-ce97-4158-9b13-b89a9856fbb7"
      },
      "source": [
        "population_peakrpm = carsrpm.peakrpm\n",
        "mu = population_peakrpm.mean()\n",
        "sigma = population_peakrpm.std()\n",
        "\n",
        "#task 2\n",
        "sample_size = 25\n",
        "sample = carsrpm.sample(n=sample_size, random_state=1).peakrpm\n",
        "\n",
        "sample_mu = sample.mean()\n",
        "sample_sigma = sample.std()\n",
        "\n",
        "print(\"Sample mean is %.2f campared with population mean %.2f\" %(sample_mu, mu))\n",
        "print(\"Sample std. deviation is %.2f compared with population mean of %.2f\" %(sample_sigma, sigma))"
      ],
      "execution_count": 4,
      "outputs": [
        {
          "output_type": "stream",
          "text": [
            "Sample mean is 5214.00 campared with population mean 5125.12\n",
            "Sample std. deviation is 490.65 compared with population mean of 476.99\n"
          ],
          "name": "stdout"
        }
      ]
    },
    {
      "cell_type": "markdown",
      "metadata": {
        "id": "TGgj5NRwxjRW"
      },
      "source": [
        "**Question 2 - Beginner**"
      ]
    },
    {
      "cell_type": "markdown",
      "metadata": {
        "id": "XPrJ6wwuxtnY"
      },
      "source": [
        "Tasks to be performed:\n",
        "1. Calculate the margin of error for 95% confidence level for peakrpm column using the standard deviation\n",
        "of the population.\n",
        "2. Calculate the confidence interval for the same column."
      ]
    },
    {
      "cell_type": "markdown",
      "metadata": {
        "id": "QB_q5Lr2xyAo"
      },
      "source": [
        "Topics covered:\n",
        " * Margin of Error\n",
        " * Confidence Interval\n",
        " * Z-critical"
      ]
    },
    {
      "cell_type": "code",
      "metadata": {
        "colab": {
          "base_uri": "https://localhost:8080/"
        },
        "id": "W2_nz1ZaxVHn",
        "outputId": "2728ae86-1f05-49f0-d1ed-635701e86594"
      },
      "source": [
        "from scipy import stats\n",
        "import math\n",
        "\n",
        "#if standard deviation of the population is known, we calculated the z_critical value\n",
        "z_critical = stats.norm.ppf(q = 0.95)\n",
        "print(\"z-critical\",z_critical)\n",
        "\n",
        "#task 1\n",
        "margin = z_critical * (sigma/math.sqrt(sample_size))\n",
        "print(\"The margin of error is: \", margin)\n",
        "\n",
        "#Task 2\n",
        "conf = (sample_mu - margin, sample_mu + margin)\n",
        "print(\"The confidence interval is \", conf)"
      ],
      "execution_count": 5,
      "outputs": [
        {
          "output_type": "stream",
          "text": [
            "z-critical 1.6448536269514722\n",
            "The margin of error is:  156.91431299719974\n",
            "The confidence interval is  (5057.0856870028, 5370.9143129972)\n"
          ],
          "name": "stdout"
        }
      ]
    },
    {
      "cell_type": "markdown",
      "metadata": {
        "id": "hwInaPPEzo71"
      },
      "source": [
        "**Question 3 - Beginner**"
      ]
    },
    {
      "cell_type": "markdown",
      "metadata": {
        "id": "LNtOZwB9zvJs"
      },
      "source": [
        "Tasks to be performed:\n",
        "1. Calculate the margin of error for 95% confidence level for peakrpm column using the standard deviation\n",
        "of the sample.\n",
        "2. Calculate the confidence interval for the same column."
      ]
    },
    {
      "cell_type": "markdown",
      "metadata": {
        "id": "pdOisIc80Dlz"
      },
      "source": [
        "Topics covered:\n",
        "* Margin of Error\n",
        "* Confidence Interval\n",
        "* T-critical"
      ]
    },
    {
      "cell_type": "code",
      "metadata": {
        "colab": {
          "base_uri": "https://localhost:8080/"
        },
        "id": "TLcarmTBzUbI",
        "outputId": "a076ff2a-88d6-4545-ca38-edc4c76e4120"
      },
      "source": [
        "#if standard deviation of the population is unkwon, only sample standard deviation is known, we calculate the t-critical value\n",
        "t_critical = stats.t.ppf(q = 0.95, df = 24)\n",
        "print(\"t-critical\",t_critical)"
      ],
      "execution_count": 6,
      "outputs": [
        {
          "output_type": "stream",
          "text": [
            "t-critical 1.7108820799094275\n"
          ],
          "name": "stdout"
        }
      ]
    },
    {
      "cell_type": "code",
      "metadata": {
        "colab": {
          "base_uri": "https://localhost:8080/"
        },
        "id": "F-ACNhLe02GH",
        "outputId": "65e0b20b-0625-427b-eb48-6d0ef2eccd26"
      },
      "source": [
        "print(\"t-critical\",t_critical)\n",
        "\n",
        "#3.1\n",
        "margin = t_critical + (sample_sigma/math.sqrt(sample_size))\n",
        "print(\"The margin of error is: \", margin)\n",
        "\n",
        "#3.2\n",
        "conf = (sample_mu - margin, sample_mu + margin)\n",
        "print(\"The confidence interval is:\", conf)"
      ],
      "execution_count": 7,
      "outputs": [
        {
          "output_type": "stream",
          "text": [
            "t-critical 1.7108820799094275\n",
            "The margin of error is:  99.84004865811559\n",
            "The confidence interval is: (5114.159951341884, 5313.840048658116)\n"
          ],
          "name": "stdout"
        }
      ]
    },
    {
      "cell_type": "markdown",
      "metadata": {
        "id": "GEK_8niT2DC8"
      },
      "source": [
        "**Question 4 - Beginner**"
      ]
    },
    {
      "cell_type": "markdown",
      "metadata": {
        "id": "2m2qBb3W2K8N"
      },
      "source": [
        "Create two lists having 7 elements that are positive integer values a=[201,873,667,789,876,567,765] and b=\n",
        "[678,543,356,123,345,987,876]. Check if there exists a relationship between the means of the two lists.\n",
        "Tasks to be performed:\n",
        "1. Determine the Hypotheses\n",
        "2. Perform a Statistical Test for Population Means\n",
        "3. Find P-value and conclude the Hypotheses"
      ]
    },
    {
      "cell_type": "markdown",
      "metadata": {
        "id": "UzuEMyFm2Q37"
      },
      "source": [
        "Topics Covered:\n",
        "Hypothesis Test for Population Mean: Two-sided Independent Sample T-Test\n",
        "#Task 1:\n",
        "The hypothesis is stated as follows:\n",
        "* Null - There is no relationship * (independent)\n",
        "* Alternate - There exists a relationship\n",
        "\n",
        "Since the number of samples <30, we can perform a t-test using stats.ttest_ind and find out the p-value to\n",
        "conclude the relationship between the means of the two lists."
      ]
    },
    {
      "cell_type": "code",
      "metadata": {
        "colab": {
          "base_uri": "https://localhost:8080/"
        },
        "id": "h9vCltYJ1oP6",
        "outputId": "2b5302a9-069d-4d5f-c8be-bcbc189a30b5"
      },
      "source": [
        "import math\n",
        "import pandas as pd\n",
        "import numpy as np\n",
        "import statsmodels.api as sm\n",
        "\n",
        "#Task 2\n",
        "a=[201,873,667,789,876,567,765]\n",
        "b=[678,543,356,123,345,987,876]\n",
        "\n",
        "zresult = sm.stats.ttest_ind(a, b, alternative=\"two-sided\")\n",
        "pval = zresult[1]\n",
        "print(pval)\n",
        "\n",
        "# Task 3\n",
        "if pval<0.05:\n",
        "  print(\"There exist a relationship\")\n",
        "else:\n",
        "  print(\"There is no relationship (independent)\")"
      ],
      "execution_count": 8,
      "outputs": [
        {
          "output_type": "stream",
          "text": [
            "0.43673938240432864\n",
            "There is no relationship (independent)\n"
          ],
          "name": "stdout"
        }
      ]
    },
    {
      "cell_type": "markdown",
      "metadata": {
        "id": "IyagV3gT4U5k"
      },
      "source": [
        "**Question 5 - Beginner**"
      ]
    },
    {
      "cell_type": "markdown",
      "metadata": {
        "id": "LqrOuGr64aDD"
      },
      "source": [
        "blood_pressure.csv - The dataset contains 5 columns and 120 rows. Here's a brief description of the\n",
        "columns in the dataset:\n",
        "* patient - Patients in serial order\n",
        "* sex - Sex of the patient\n",
        "* agrgrp - Age of the patient\n",
        "* bp_before - Blood Pressure before a drug is administered\n",
        "* bp_after - Blood Pressure after a drug is administered"
      ]
    },
    {
      "cell_type": "markdown",
      "metadata": {
        "id": "PILHhtpc4vGB"
      },
      "source": [
        "From a given dataset, find out if the overall blood pressure is affected after a certain treatment given to the\n",
        "patients.\n",
        "\n",
        "Tasks to be performed:\n",
        "1. Determine the Hypotheses\n",
        "2. Load the dataset\n",
        "3. Perform a Statistical Test for Population Means\n",
        "4. Find P-value and conclude the Hypotheses\n",
        "\n",
        "Topics Covered:\n",
        "* Hypothesis Test for Population Mean: T-Test"
      ]
    },
    {
      "cell_type": "markdown",
      "metadata": {
        "id": "R-7M6y264qnb"
      },
      "source": [
        "#Task 1:\n",
        "The hypothesis is stated as follows:\n",
        "Null - There is no significant difference in bp before and after treatment. Thus, the drug has effects on the\n",
        "patients.\n",
        "\n",
        "Alternative - There is a significant difference in bp before and after treatment. Thus, the drug has no effects\n",
        "on the patients.\n",
        "\n",
        "Since the number of samples is small, we can perform a t-test using stats.ttest_ind and find out the p-value to\n",
        "conclude the difference in bp before and after treatment."
      ]
    },
    {
      "cell_type": "code",
      "metadata": {
        "colab": {
          "base_uri": "https://localhost:8080/"
        },
        "id": "cMyIEJ794Go6",
        "outputId": "bd1f7fc9-1eb8-4e27-fc8f-bf2d85ea0b27"
      },
      "source": [
        "!wget https://www.dropbox.com/s/kn66nzp0vclidvb/blood_pressure.csv"
      ],
      "execution_count": 9,
      "outputs": [
        {
          "output_type": "stream",
          "text": [
            "--2021-04-28 12:28:17--  https://www.dropbox.com/s/kn66nzp0vclidvb/blood_pressure.csv\n",
            "Resolving www.dropbox.com (www.dropbox.com)... 162.125.5.18, 2620:100:601d:18::a27d:512\n",
            "Connecting to www.dropbox.com (www.dropbox.com)|162.125.5.18|:443... connected.\n",
            "HTTP request sent, awaiting response... 301 Moved Permanently\n",
            "Location: /s/raw/kn66nzp0vclidvb/blood_pressure.csv [following]\n",
            "--2021-04-28 12:28:18--  https://www.dropbox.com/s/raw/kn66nzp0vclidvb/blood_pressure.csv\n",
            "Reusing existing connection to www.dropbox.com:443.\n",
            "HTTP request sent, awaiting response... 302 Found\n",
            "Location: https://uc6867409475cbe2700aa26055fd.dl.dropboxusercontent.com/cd/0/inline/BNfdzyIndF30cZW_iCzETX75-OrDlWgbqSeN1du-zkorKDvYVvMdeiGi6ylK9fO35Ety5EIfKYyJzSHJpCeteLosuZy4hVZDnBHYhJvzo_ijpaCaHq4SqGPnK_8SUGDRLsRESKMFVUea1vnKp-um9r4Z/file# [following]\n",
            "--2021-04-28 12:28:18--  https://uc6867409475cbe2700aa26055fd.dl.dropboxusercontent.com/cd/0/inline/BNfdzyIndF30cZW_iCzETX75-OrDlWgbqSeN1du-zkorKDvYVvMdeiGi6ylK9fO35Ety5EIfKYyJzSHJpCeteLosuZy4hVZDnBHYhJvzo_ijpaCaHq4SqGPnK_8SUGDRLsRESKMFVUea1vnKp-um9r4Z/file\n",
            "Resolving uc6867409475cbe2700aa26055fd.dl.dropboxusercontent.com (uc6867409475cbe2700aa26055fd.dl.dropboxusercontent.com)... 162.125.5.15, 2620:100:601d:15::a27d:50f\n",
            "Connecting to uc6867409475cbe2700aa26055fd.dl.dropboxusercontent.com (uc6867409475cbe2700aa26055fd.dl.dropboxusercontent.com)|162.125.5.15|:443... connected.\n",
            "HTTP request sent, awaiting response... 200 OK\n",
            "Length: 2851 (2.8K) [text/plain]\n",
            "Saving to: ‘blood_pressure.csv’\n",
            "\n",
            "blood_pressure.csv  100%[===================>]   2.78K  --.-KB/s    in 0s      \n",
            "\n",
            "2021-04-28 12:28:18 (360 MB/s) - ‘blood_pressure.csv’ saved [2851/2851]\n",
            "\n"
          ],
          "name": "stdout"
        }
      ]
    },
    {
      "cell_type": "code",
      "metadata": {
        "colab": {
          "base_uri": "https://localhost:8080/",
          "height": 0
        },
        "id": "028KOsKT5W4l",
        "outputId": "349bedb6-1996-44da-d6e4-be337de920da"
      },
      "source": [
        "import pandas as pd\n",
        "from scipy import stats\n",
        "\n",
        "#Task 2\n",
        "bp = pd.read_csv(\"blood_pressure.csv\")\n",
        "bp.shape\n",
        "bp.head()"
      ],
      "execution_count": 10,
      "outputs": [
        {
          "output_type": "execute_result",
          "data": {
            "text/html": [
              "<div>\n",
              "<style scoped>\n",
              "    .dataframe tbody tr th:only-of-type {\n",
              "        vertical-align: middle;\n",
              "    }\n",
              "\n",
              "    .dataframe tbody tr th {\n",
              "        vertical-align: top;\n",
              "    }\n",
              "\n",
              "    .dataframe thead th {\n",
              "        text-align: right;\n",
              "    }\n",
              "</style>\n",
              "<table border=\"1\" class=\"dataframe\">\n",
              "  <thead>\n",
              "    <tr style=\"text-align: right;\">\n",
              "      <th></th>\n",
              "      <th>patient</th>\n",
              "      <th>sex</th>\n",
              "      <th>agegrp</th>\n",
              "      <th>bp_before</th>\n",
              "      <th>bp_after</th>\n",
              "    </tr>\n",
              "  </thead>\n",
              "  <tbody>\n",
              "    <tr>\n",
              "      <th>0</th>\n",
              "      <td>1</td>\n",
              "      <td>Male</td>\n",
              "      <td>30-45</td>\n",
              "      <td>143</td>\n",
              "      <td>153</td>\n",
              "    </tr>\n",
              "    <tr>\n",
              "      <th>1</th>\n",
              "      <td>2</td>\n",
              "      <td>Male</td>\n",
              "      <td>30-45</td>\n",
              "      <td>163</td>\n",
              "      <td>170</td>\n",
              "    </tr>\n",
              "    <tr>\n",
              "      <th>2</th>\n",
              "      <td>3</td>\n",
              "      <td>Male</td>\n",
              "      <td>30-45</td>\n",
              "      <td>153</td>\n",
              "      <td>168</td>\n",
              "    </tr>\n",
              "    <tr>\n",
              "      <th>3</th>\n",
              "      <td>4</td>\n",
              "      <td>Male</td>\n",
              "      <td>30-45</td>\n",
              "      <td>153</td>\n",
              "      <td>142</td>\n",
              "    </tr>\n",
              "    <tr>\n",
              "      <th>4</th>\n",
              "      <td>5</td>\n",
              "      <td>Male</td>\n",
              "      <td>30-45</td>\n",
              "      <td>146</td>\n",
              "      <td>141</td>\n",
              "    </tr>\n",
              "  </tbody>\n",
              "</table>\n",
              "</div>"
            ],
            "text/plain": [
              "   patient   sex agegrp  bp_before  bp_after\n",
              "0        1  Male  30-45        143       153\n",
              "1        2  Male  30-45        163       170\n",
              "2        3  Male  30-45        153       168\n",
              "3        4  Male  30-45        153       142\n",
              "4        5  Male  30-45        146       141"
            ]
          },
          "metadata": {
            "tags": []
          },
          "execution_count": 10
        }
      ]
    },
    {
      "cell_type": "code",
      "metadata": {
        "colab": {
          "base_uri": "https://localhost:8080/"
        },
        "id": "lNGv0nxA5vL8",
        "outputId": "c626767f-7742-4515-b979-8143ae6b1a0c"
      },
      "source": [
        "#Task 3\n",
        "ttest, pval = stats.ttest_ind(bp['bp_before'], bp['bp_after'])\n",
        "print(pval)\n",
        "\n",
        "#Task 4\n",
        "if pval<0.05:\n",
        "  print(\"Null Hypothesis rejected: There is a significant difference in bp before and bp after treatment. Thus, the drug has effects on the patients.\")\n",
        "else:\n",
        "  print(\"Cannot Reject Null Hypothesis: There maybe no significant differce in bp before and sfter treatment. Thus the drug has no effect on the patients.\")"
      ],
      "execution_count": 11,
      "outputs": [
        {
          "output_type": "stream",
          "text": [
            "0.002412277478078891\n",
            "Null Hypothesis rejected: There is a significant difference in bp before and bp after treatment. Thus, the drug has effects on the patients.\n"
          ],
          "name": "stdout"
        }
      ]
    },
    {
      "cell_type": "markdown",
      "metadata": {
        "id": "CrKYDEdp7YBC"
      },
      "source": [
        "**Question 6 - Beginner**"
      ]
    },
    {
      "cell_type": "markdown",
      "metadata": {
        "id": "SN8EXfa37ecW"
      },
      "source": [
        "Dataset Description:\n",
        "admission.csv - The dataset contains 4 columns and 400 rows. Here's a brief description of the columns in\n",
        "the dataset:\n",
        "\n",
        "* admit - Whether a student was admitted or not\n",
        "* gre - GRE scores of the student\n",
        "* gpa - GPA of the student\n",
        "* rank - Rank of the student\n",
        "\n",
        "From a given dataset, find out if gpa affects a student rank."
      ]
    },
    {
      "cell_type": "markdown",
      "metadata": {
        "id": "2Bo9d3Ag7vzM"
      },
      "source": [
        "Tasks to be performed:\n",
        "\n",
        "1. Determine the Hypotheses\n",
        "2. Load the dataset\n",
        "3. Perform a Statistical Test for Population Means\n",
        "4. Find P-value and conclude the Hypotheses\n",
        "\n",
        "Topics Covered:\n",
        "\n",
        "Hypothesis Test for Population Mean: Independent Sample T-Test\n",
        "\n",
        "#Task 1:\n",
        "The hypothesis is stated as follows:\n",
        "\n",
        "Null - The gpa doesn't affect student rank\n",
        "\n",
        "Alternative - The gpa affects the student rank\n",
        "\n",
        "Since the number of samples is small, we can perform a t-test using stats.\n",
        "ttest_ind and find out the p-value to\n",
        "conclude if gpa affects a student rank or not."
      ]
    },
    {
      "cell_type": "code",
      "metadata": {
        "colab": {
          "base_uri": "https://localhost:8080/"
        },
        "id": "FfyFS9MV7Mzn",
        "outputId": "b21a997f-6130-46eb-916c-b7cbf1203531"
      },
      "source": [
        "!wget https://www.dropbox.com/s/m4nnzgu1ogk38yr/admission.csv"
      ],
      "execution_count": 12,
      "outputs": [
        {
          "output_type": "stream",
          "text": [
            "--2021-04-28 12:28:19--  https://www.dropbox.com/s/m4nnzgu1ogk38yr/admission.csv\n",
            "Resolving www.dropbox.com (www.dropbox.com)... 162.125.5.18, 2620:100:601d:18::a27d:512\n",
            "Connecting to www.dropbox.com (www.dropbox.com)|162.125.5.18|:443... connected.\n",
            "HTTP request sent, awaiting response... 301 Moved Permanently\n",
            "Location: /s/raw/m4nnzgu1ogk38yr/admission.csv [following]\n",
            "--2021-04-28 12:28:19--  https://www.dropbox.com/s/raw/m4nnzgu1ogk38yr/admission.csv\n",
            "Reusing existing connection to www.dropbox.com:443.\n",
            "HTTP request sent, awaiting response... 302 Found\n",
            "Location: https://uc9da98d62a2cb1b680dc7e76518.dl.dropboxusercontent.com/cd/0/inline/BNc2CNNi5YIls6M_7c625MaT10LA6IR1fuIkapxPgh3qPj9ujphVmMlMRNI5DIMueACa5wU1WlNna1G7-c6tSsdGCcwb3XU1blQ3brYKolYw3HecstKMBZOTDWp8DARfdylqpH1Lx2RZ8iCaPIHvyHnu/file# [following]\n",
            "--2021-04-28 12:28:19--  https://uc9da98d62a2cb1b680dc7e76518.dl.dropboxusercontent.com/cd/0/inline/BNc2CNNi5YIls6M_7c625MaT10LA6IR1fuIkapxPgh3qPj9ujphVmMlMRNI5DIMueACa5wU1WlNna1G7-c6tSsdGCcwb3XU1blQ3brYKolYw3HecstKMBZOTDWp8DARfdylqpH1Lx2RZ8iCaPIHvyHnu/file\n",
            "Resolving uc9da98d62a2cb1b680dc7e76518.dl.dropboxusercontent.com (uc9da98d62a2cb1b680dc7e76518.dl.dropboxusercontent.com)... 162.125.5.15, 2620:100:601d:15::a27d:50f\n",
            "Connecting to uc9da98d62a2cb1b680dc7e76518.dl.dropboxusercontent.com (uc9da98d62a2cb1b680dc7e76518.dl.dropboxusercontent.com)|162.125.5.15|:443... connected.\n",
            "HTTP request sent, awaiting response... 200 OK\n",
            "Length: 12840 (13K) [text/plain]\n",
            "Saving to: ‘admission.csv’\n",
            "\n",
            "admission.csv       100%[===================>]  12.54K  --.-KB/s    in 0s      \n",
            "\n",
            "2021-04-28 12:28:19 (275 MB/s) - ‘admission.csv’ saved [12840/12840]\n",
            "\n"
          ],
          "name": "stdout"
        }
      ]
    },
    {
      "cell_type": "code",
      "metadata": {
        "colab": {
          "base_uri": "https://localhost:8080/",
          "height": 0
        },
        "id": "_4gdS1uS8QeG",
        "outputId": "1145b2a1-53dd-4ff2-cbc0-ebfb72be5e16"
      },
      "source": [
        "import pandas as pd\n",
        "from scipy import stats\n",
        "import statsmodels.api as sm\n",
        "\n",
        "#Task 2\n",
        "admission = pd.read_csv(\"admission.csv\")\n",
        "admission.head()"
      ],
      "execution_count": 13,
      "outputs": [
        {
          "output_type": "execute_result",
          "data": {
            "text/html": [
              "<div>\n",
              "<style scoped>\n",
              "    .dataframe tbody tr th:only-of-type {\n",
              "        vertical-align: middle;\n",
              "    }\n",
              "\n",
              "    .dataframe tbody tr th {\n",
              "        vertical-align: top;\n",
              "    }\n",
              "\n",
              "    .dataframe thead th {\n",
              "        text-align: right;\n",
              "    }\n",
              "</style>\n",
              "<table border=\"1\" class=\"dataframe\">\n",
              "  <thead>\n",
              "    <tr style=\"text-align: right;\">\n",
              "      <th></th>\n",
              "      <th>admit</th>\n",
              "      <th>gre</th>\n",
              "      <th>gpa</th>\n",
              "      <th>rank</th>\n",
              "    </tr>\n",
              "  </thead>\n",
              "  <tbody>\n",
              "    <tr>\n",
              "      <th>0</th>\n",
              "      <td>0.0</td>\n",
              "      <td>380.0</td>\n",
              "      <td>3.61</td>\n",
              "      <td>3.0</td>\n",
              "    </tr>\n",
              "    <tr>\n",
              "      <th>1</th>\n",
              "      <td>1.0</td>\n",
              "      <td>660.0</td>\n",
              "      <td>3.67</td>\n",
              "      <td>3.0</td>\n",
              "    </tr>\n",
              "    <tr>\n",
              "      <th>2</th>\n",
              "      <td>1.0</td>\n",
              "      <td>800.0</td>\n",
              "      <td>4.00</td>\n",
              "      <td>1.0</td>\n",
              "    </tr>\n",
              "    <tr>\n",
              "      <th>3</th>\n",
              "      <td>1.0</td>\n",
              "      <td>640.0</td>\n",
              "      <td>3.19</td>\n",
              "      <td>4.0</td>\n",
              "    </tr>\n",
              "    <tr>\n",
              "      <th>4</th>\n",
              "      <td>0.0</td>\n",
              "      <td>520.0</td>\n",
              "      <td>2.93</td>\n",
              "      <td>4.0</td>\n",
              "    </tr>\n",
              "  </tbody>\n",
              "</table>\n",
              "</div>"
            ],
            "text/plain": [
              "   admit    gre   gpa  rank\n",
              "0    0.0  380.0  3.61   3.0\n",
              "1    1.0  660.0  3.67   3.0\n",
              "2    1.0  800.0  4.00   1.0\n",
              "3    1.0  640.0  3.19   4.0\n",
              "4    0.0  520.0  2.93   4.0"
            ]
          },
          "metadata": {
            "tags": []
          },
          "execution_count": 13
        }
      ]
    },
    {
      "cell_type": "code",
      "metadata": {
        "colab": {
          "base_uri": "https://localhost:8080/"
        },
        "id": "O4RXh2Y19b3_",
        "outputId": "9f9bef43-7bb3-456f-936a-bd855f926f42"
      },
      "source": [
        "#task 3\n",
        "ttest, pval = stats.ttest_ind(admission['gpa'], admission['rank'])\n",
        "print(float(pval))"
      ],
      "execution_count": 14,
      "outputs": [
        {
          "output_type": "stream",
          "text": [
            "8.520090911571365e-60\n"
          ],
          "name": "stdout"
        }
      ]
    },
    {
      "cell_type": "code",
      "metadata": {
        "colab": {
          "base_uri": "https://localhost:8080/"
        },
        "id": "Zebd2MuM8rEn",
        "outputId": "2a11b3bb-e590-498b-cc04-a4710cb59b50"
      },
      "source": [
        "# Task 4\n",
        "if pval<0.05:\n",
        "  print(\"Null Hypothesis Rejected: The gpa affects the student rank\")\n",
        "else:\n",
        "  print(\"Cannot Reject Null Hypothesis: The gpa dosen't affect student rank \")"
      ],
      "execution_count": 15,
      "outputs": [
        {
          "output_type": "stream",
          "text": [
            "Null Hypothesis Rejected: The gpa affects the student rank\n"
          ],
          "name": "stdout"
        }
      ]
    },
    {
      "cell_type": "markdown",
      "metadata": {
        "id": "NozDNwUP-EVF"
      },
      "source": [
        "**Question 7 - Beginner**"
      ]
    },
    {
      "cell_type": "markdown",
      "metadata": {
        "id": "DjEUT2Ir-FRS"
      },
      "source": [
        "A professor wants to find out if the average marks scored by a class of 120 students are 60. He picks 10\n",
        "students in the class whose marks he remembers in his head: 23, 45, 76, 42, 55, 67, 80, 38, 51, 49. How\n",
        "does he determine whether the average marks are close to 60 or not?Take a significance level of 5%.\n",
        "\n",
        "Tasks to be performed:\n",
        "1. Determine the Hypotheses\n",
        "2. Perform a Statistical Test for Population Means\n",
        "3. Find P-value and conclude the Hypotheses\n",
        "\n",
        "Topics Covered:\n",
        "* Hypothesis Test for Population Mean: One Sample T-Test"
      ]
    },
    {
      "cell_type": "markdown",
      "metadata": {
        "id": "v94Wop2_-Yn_"
      },
      "source": [
        "#Task 1:\n",
        "The hypothesis is stated as follows:\n",
        "\n",
        "Null: The average marks are 60\n",
        "Alternative: The average marks are not 60\n",
        "\n",
        "Since the number of samples is <30, we can perform a one sample t-test using ttest_1samp and find out the\n",
        "p-value to conclude if the average class marks can be 60 or not."
      ]
    },
    {
      "cell_type": "code",
      "metadata": {
        "colab": {
          "base_uri": "https://localhost:8080/"
        },
        "id": "vs1A0CMN9Sf0",
        "outputId": "4006c446-a440-4d51-dddb-7e63a698b1c5"
      },
      "source": [
        "from scipy.stats import ttest_1samp\n",
        "import numpy as np\n",
        "\n",
        "#Task 2:\n",
        "marks = [23, 45, 76, 42, 55, 67, 80, 38, 51, 49]\n",
        "marks_mean = np.mean(marks)\n",
        "\n",
        "ttest,pval = ttest_1samp(marks, 60)\n",
        "print(pval)"
      ],
      "execution_count": 16,
      "outputs": [
        {
          "output_type": "stream",
          "text": [
            "0.21625657133211598\n"
          ],
          "name": "stdout"
        }
      ]
    },
    {
      "cell_type": "code",
      "metadata": {
        "colab": {
          "base_uri": "https://localhost:8080/"
        },
        "id": "Dpv1bMgm_S2v",
        "outputId": "17a1532e-7f6a-40a6-eb2c-3c27eddfecd6"
      },
      "source": [
        "if pval<0.05:\n",
        "  print(\"Null Hypothesis Rejected: The average marks are not 60\")\n",
        "else:\n",
        "  print(\"Cannot Reject Null Hypotesis: The avg marks can be 60\")"
      ],
      "execution_count": 17,
      "outputs": [
        {
          "output_type": "stream",
          "text": [
            "Cannot Reject Null Hypotesis: The avg marks can be 60\n"
          ],
          "name": "stdout"
        }
      ]
    },
    {
      "cell_type": "markdown",
      "metadata": {
        "id": "3Iw_vQ8j_3c-"
      },
      "source": [
        "**Question 8 - Beginner**"
      ]
    },
    {
      "cell_type": "markdown",
      "metadata": {
        "id": "qyRrD8DYACMo"
      },
      "source": [
        "Dataset Description:\n",
        "\n",
        "survey.csv - The dataset contains 27 columns. Here's a brief description of 4 columns in the dataset:\n",
        "\n",
        "* Age - Age of each person\n",
        "* Gender - Gender of each person\n",
        "* Country - Nationality of each person\n",
        "* self_employed - Whether the person is self employed or not\n",
        "* family_history - Whether the person has a family history of mental illness\n",
        "* treatment - Whether the person has taken treatment for mental illness\n",
        "\n",
        "Using given a dataset, find out if there is any association between having a family history of mental illness\n",
        "and having a mental illness.\n",
        "Tasks to be performed:\n",
        "1. Load the data\n",
        "2. Replace the yes/no responses in the treatment and family_history columns with binary 1 and 0\n",
        "3. Perform an independent sample test to validate the hypothesis taking a a significance level of 5%\n",
        "\n",
        "Topics Covered:\n",
        "\n",
        "Hypothesis Test for Population Mean: Z-Test"
      ]
    },
    {
      "cell_type": "code",
      "metadata": {
        "colab": {
          "base_uri": "https://localhost:8080/"
        },
        "id": "5p7TazPG_wlR",
        "outputId": "c3710556-9349-41db-d92f-f532dcf38c07"
      },
      "source": [
        "!wget https://www.dropbox.com/s/e8tivyq8i8kohll/survey.csv"
      ],
      "execution_count": 18,
      "outputs": [
        {
          "output_type": "stream",
          "text": [
            "--2021-04-28 12:28:20--  https://www.dropbox.com/s/e8tivyq8i8kohll/survey.csv\n",
            "Resolving www.dropbox.com (www.dropbox.com)... 162.125.5.18, 2620:100:601d:18::a27d:512\n",
            "Connecting to www.dropbox.com (www.dropbox.com)|162.125.5.18|:443... connected.\n",
            "HTTP request sent, awaiting response... 301 Moved Permanently\n",
            "Location: /s/raw/e8tivyq8i8kohll/survey.csv [following]\n",
            "--2021-04-28 12:28:20--  https://www.dropbox.com/s/raw/e8tivyq8i8kohll/survey.csv\n",
            "Reusing existing connection to www.dropbox.com:443.\n",
            "HTTP request sent, awaiting response... 302 Found\n",
            "Location: https://ucf5d9a500607df30bb86f7d8730.dl.dropboxusercontent.com/cd/0/inline/BNd7B6SxKFPL4Q659ciOdfLKWx4dmJlpe2ru4L4qGIpxw9a-nSTAEPdOJI2SBc-1OF03bIlUyYir4VQUz46Qb7f_zMs3aT1qmfsAzJWgc1C0rFRtTY7OIEP2cwbLrppkgtzxv6-7z6lucjX45ARY6mzW/file# [following]\n",
            "--2021-04-28 12:28:20--  https://ucf5d9a500607df30bb86f7d8730.dl.dropboxusercontent.com/cd/0/inline/BNd7B6SxKFPL4Q659ciOdfLKWx4dmJlpe2ru4L4qGIpxw9a-nSTAEPdOJI2SBc-1OF03bIlUyYir4VQUz46Qb7f_zMs3aT1qmfsAzJWgc1C0rFRtTY7OIEP2cwbLrppkgtzxv6-7z6lucjX45ARY6mzW/file\n",
            "Resolving ucf5d9a500607df30bb86f7d8730.dl.dropboxusercontent.com (ucf5d9a500607df30bb86f7d8730.dl.dropboxusercontent.com)... 162.125.5.15, 2620:100:601d:15::a27d:50f\n",
            "Connecting to ucf5d9a500607df30bb86f7d8730.dl.dropboxusercontent.com (ucf5d9a500607df30bb86f7d8730.dl.dropboxusercontent.com)|162.125.5.15|:443... connected.\n",
            "HTTP request sent, awaiting response... 200 OK\n",
            "Length: 243545 (238K) [text/plain]\n",
            "Saving to: ‘survey.csv’\n",
            "\n",
            "survey.csv          100%[===================>] 237.84K  --.-KB/s    in 0.07s   \n",
            "\n",
            "2021-04-28 12:28:21 (3.24 MB/s) - ‘survey.csv’ saved [243545/243545]\n",
            "\n"
          ],
          "name": "stdout"
        }
      ]
    },
    {
      "cell_type": "code",
      "metadata": {
        "colab": {
          "base_uri": "https://localhost:8080/",
          "height": 0
        },
        "id": "ueb6EDYoAkxB",
        "outputId": "bbe15b3d-46b7-4ab3-acab-9e443582d5d0"
      },
      "source": [
        "import pandas as pd\n",
        "from scipy import stats\n",
        "import statsmodels.api as sm\n",
        "\n",
        "# Task 1\n",
        "survey = pd.read_csv(\"survey.csv\")\n",
        "survey.head()"
      ],
      "execution_count": 19,
      "outputs": [
        {
          "output_type": "execute_result",
          "data": {
            "text/html": [
              "<div>\n",
              "<style scoped>\n",
              "    .dataframe tbody tr th:only-of-type {\n",
              "        vertical-align: middle;\n",
              "    }\n",
              "\n",
              "    .dataframe tbody tr th {\n",
              "        vertical-align: top;\n",
              "    }\n",
              "\n",
              "    .dataframe thead th {\n",
              "        text-align: right;\n",
              "    }\n",
              "</style>\n",
              "<table border=\"1\" class=\"dataframe\">\n",
              "  <thead>\n",
              "    <tr style=\"text-align: right;\">\n",
              "      <th></th>\n",
              "      <th>Timestamp</th>\n",
              "      <th>Age</th>\n",
              "      <th>Gender</th>\n",
              "      <th>Country</th>\n",
              "      <th>state</th>\n",
              "      <th>self_employed</th>\n",
              "      <th>family_history</th>\n",
              "      <th>treatment</th>\n",
              "      <th>work_interfere</th>\n",
              "      <th>no_employees</th>\n",
              "      <th>remote_work</th>\n",
              "      <th>tech_company</th>\n",
              "      <th>benefits</th>\n",
              "      <th>care_options</th>\n",
              "      <th>wellness_program</th>\n",
              "      <th>seek_help</th>\n",
              "      <th>anonymity</th>\n",
              "      <th>leave</th>\n",
              "      <th>mental_health_consequence</th>\n",
              "      <th>phys_health_consequence</th>\n",
              "      <th>coworkers</th>\n",
              "      <th>supervisor</th>\n",
              "      <th>mental_health_interview</th>\n",
              "      <th>phys_health_interview</th>\n",
              "      <th>mental_vs_physical</th>\n",
              "      <th>obs_consequence</th>\n",
              "      <th>comments</th>\n",
              "    </tr>\n",
              "  </thead>\n",
              "  <tbody>\n",
              "    <tr>\n",
              "      <th>0</th>\n",
              "      <td>27-08-2014 11:29</td>\n",
              "      <td>37</td>\n",
              "      <td>female</td>\n",
              "      <td>United States</td>\n",
              "      <td>IL</td>\n",
              "      <td>NaN</td>\n",
              "      <td>No</td>\n",
              "      <td>Yes</td>\n",
              "      <td>Often</td>\n",
              "      <td>Jun-25</td>\n",
              "      <td>No</td>\n",
              "      <td>Yes</td>\n",
              "      <td>Yes</td>\n",
              "      <td>Not sure</td>\n",
              "      <td>No</td>\n",
              "      <td>Yes</td>\n",
              "      <td>Yes</td>\n",
              "      <td>Somewhat easy</td>\n",
              "      <td>No</td>\n",
              "      <td>No</td>\n",
              "      <td>Some of them</td>\n",
              "      <td>Yes</td>\n",
              "      <td>No</td>\n",
              "      <td>Maybe</td>\n",
              "      <td>Yes</td>\n",
              "      <td>No</td>\n",
              "      <td>NaN</td>\n",
              "    </tr>\n",
              "    <tr>\n",
              "      <th>1</th>\n",
              "      <td>27-08-2014 11:29</td>\n",
              "      <td>44</td>\n",
              "      <td>male</td>\n",
              "      <td>United States</td>\n",
              "      <td>IN</td>\n",
              "      <td>NaN</td>\n",
              "      <td>No</td>\n",
              "      <td>No</td>\n",
              "      <td>Rarely</td>\n",
              "      <td>More than 1000</td>\n",
              "      <td>No</td>\n",
              "      <td>No</td>\n",
              "      <td>Don't know</td>\n",
              "      <td>No</td>\n",
              "      <td>Don't know</td>\n",
              "      <td>Don't know</td>\n",
              "      <td>Don't know</td>\n",
              "      <td>Don't know</td>\n",
              "      <td>Maybe</td>\n",
              "      <td>No</td>\n",
              "      <td>No</td>\n",
              "      <td>No</td>\n",
              "      <td>No</td>\n",
              "      <td>No</td>\n",
              "      <td>Don't know</td>\n",
              "      <td>No</td>\n",
              "      <td>NaN</td>\n",
              "    </tr>\n",
              "    <tr>\n",
              "      <th>2</th>\n",
              "      <td>27-08-2014 11:29</td>\n",
              "      <td>32</td>\n",
              "      <td>male</td>\n",
              "      <td>Canada</td>\n",
              "      <td>NaN</td>\n",
              "      <td>NaN</td>\n",
              "      <td>No</td>\n",
              "      <td>No</td>\n",
              "      <td>Rarely</td>\n",
              "      <td>Jun-25</td>\n",
              "      <td>No</td>\n",
              "      <td>Yes</td>\n",
              "      <td>No</td>\n",
              "      <td>No</td>\n",
              "      <td>No</td>\n",
              "      <td>No</td>\n",
              "      <td>Don't know</td>\n",
              "      <td>Somewhat difficult</td>\n",
              "      <td>No</td>\n",
              "      <td>No</td>\n",
              "      <td>Yes</td>\n",
              "      <td>Yes</td>\n",
              "      <td>Yes</td>\n",
              "      <td>Yes</td>\n",
              "      <td>No</td>\n",
              "      <td>No</td>\n",
              "      <td>NaN</td>\n",
              "    </tr>\n",
              "    <tr>\n",
              "      <th>3</th>\n",
              "      <td>27-08-2014 11:29</td>\n",
              "      <td>31</td>\n",
              "      <td>male</td>\n",
              "      <td>United Kingdom</td>\n",
              "      <td>NaN</td>\n",
              "      <td>NaN</td>\n",
              "      <td>Yes</td>\n",
              "      <td>Yes</td>\n",
              "      <td>Often</td>\n",
              "      <td>26-100</td>\n",
              "      <td>No</td>\n",
              "      <td>Yes</td>\n",
              "      <td>No</td>\n",
              "      <td>Yes</td>\n",
              "      <td>No</td>\n",
              "      <td>No</td>\n",
              "      <td>No</td>\n",
              "      <td>Somewhat difficult</td>\n",
              "      <td>Yes</td>\n",
              "      <td>Yes</td>\n",
              "      <td>Some of them</td>\n",
              "      <td>No</td>\n",
              "      <td>Maybe</td>\n",
              "      <td>Maybe</td>\n",
              "      <td>No</td>\n",
              "      <td>Yes</td>\n",
              "      <td>NaN</td>\n",
              "    </tr>\n",
              "    <tr>\n",
              "      <th>4</th>\n",
              "      <td>27-08-2014 11:30</td>\n",
              "      <td>31</td>\n",
              "      <td>male</td>\n",
              "      <td>United States</td>\n",
              "      <td>TX</td>\n",
              "      <td>NaN</td>\n",
              "      <td>No</td>\n",
              "      <td>No</td>\n",
              "      <td>Never</td>\n",
              "      <td>100-500</td>\n",
              "      <td>Yes</td>\n",
              "      <td>Yes</td>\n",
              "      <td>Yes</td>\n",
              "      <td>No</td>\n",
              "      <td>Don't know</td>\n",
              "      <td>Don't know</td>\n",
              "      <td>Don't know</td>\n",
              "      <td>Don't know</td>\n",
              "      <td>No</td>\n",
              "      <td>No</td>\n",
              "      <td>Some of them</td>\n",
              "      <td>Yes</td>\n",
              "      <td>Yes</td>\n",
              "      <td>Yes</td>\n",
              "      <td>Don't know</td>\n",
              "      <td>No</td>\n",
              "      <td>NaN</td>\n",
              "    </tr>\n",
              "  </tbody>\n",
              "</table>\n",
              "</div>"
            ],
            "text/plain": [
              "          Timestamp  Age  Gender  ... mental_vs_physical obs_consequence comments\n",
              "0  27-08-2014 11:29   37  female  ...                Yes              No      NaN\n",
              "1  27-08-2014 11:29   44    male  ...         Don't know              No      NaN\n",
              "2  27-08-2014 11:29   32    male  ...                 No              No      NaN\n",
              "3  27-08-2014 11:29   31    male  ...                 No             Yes      NaN\n",
              "4  27-08-2014 11:30   31    male  ...         Don't know              No      NaN\n",
              "\n",
              "[5 rows x 27 columns]"
            ]
          },
          "metadata": {
            "tags": []
          },
          "execution_count": 19
        }
      ]
    },
    {
      "cell_type": "code",
      "metadata": {
        "id": "gP9qwls3BIvh"
      },
      "source": [
        "# Task 2\n",
        "survey.treatment.replace({'No':0,'Yes':1},inplace=True)\n",
        "survey.family_history.replace({'No':0,'Yes':1},inplace=True)"
      ],
      "execution_count": 20,
      "outputs": []
    },
    {
      "cell_type": "markdown",
      "metadata": {
        "id": "_WbwaTdfCNZg"
      },
      "source": [
        "#Task 3\n",
        "Now, the hypothesis is stated as follows:\n",
        "\n",
        "Null: There is no association between having a family history of mental illness and having a mental illness\n",
        "\n",
        "Alternative: There is association or dependence between having a family history of mental illness and\n",
        "having a mental illness\n",
        "\n",
        "Since the number of samples is >>>30, we can perform a z-test using stats.ztest and find out the p-value to\n",
        "conclude if there is any association between having a family history of mental illness and having a mental\n",
        "illness or not."
      ]
    },
    {
      "cell_type": "code",
      "metadata": {
        "colab": {
          "base_uri": "https://localhost:8080/"
        },
        "id": "62IiCqQWCFBL",
        "outputId": "dc61966f-a90a-4cb2-dbbd-206cb2ce4a4c"
      },
      "source": [
        "ztest, pval = sm.stats.ztest(survey['family_history'], survey['treatment'],value=0)\n",
        "print(float(pval))\n",
        "\n",
        "if pval<0.05:\n",
        "  print(\"Null Hypothesis Rejected: There is association or dependence b/w having a family history of mental illness and having a mental illness\")\n",
        "else:\n",
        "  print(\"Cannot Regect Null hypothesis: There may be no association between having a family history of mental illness and having a mental illness\")"
      ],
      "execution_count": 21,
      "outputs": [
        {
          "output_type": "stream",
          "text": [
            "4.9957994143242654e-09\n",
            "Null Hypothesis Rejected: There is association or dependence b/w having a family history of mental illness and having a mental illness\n"
          ],
          "name": "stdout"
        }
      ]
    },
    {
      "cell_type": "markdown",
      "metadata": {
        "id": "k2UBJC-8GpyN"
      },
      "source": [
        "**Question 9 - Beginner**"
      ]
    },
    {
      "cell_type": "markdown",
      "metadata": {
        "id": "APcM2kH4GxV4"
      },
      "source": [
        "You have been given a dataset, automotive.csv. Find the 67% confidence interval for the prices of\n",
        "automobiles given in the price column.\n",
        "\n",
        "Also, calculate the z-critical value and margin of error and check if the true population mean lies within the\n",
        "confidence interval.\n",
        "\n",
        "Tasks to be performed:\n",
        "\n",
        "1. Load the data\n",
        "2. Take a sample size of 100\n",
        "3. Calculate the z-critical value\n",
        "4. Calculate the Margin of Error\n",
        "5. Get the Confidence Interval\n",
        "\n",
        "Topics Covered:\n",
        "\n",
        "* Z-critical\n",
        "* Margin of Error\n",
        "* Confidence Interval"
      ]
    },
    {
      "cell_type": "code",
      "metadata": {
        "colab": {
          "base_uri": "https://localhost:8080/"
        },
        "id": "6nEGNrjGGgNk",
        "outputId": "beed8fd4-d313-4c05-b2bf-f842cec0ea24"
      },
      "source": [
        "#Fetch and downlload the dataset from dropbox\n",
        "!wget https://www.dropbox.com/s/4dtt56o16wi07nk/automotive_data.csv"
      ],
      "execution_count": 22,
      "outputs": [
        {
          "output_type": "stream",
          "text": [
            "--2021-04-28 12:28:21--  https://www.dropbox.com/s/4dtt56o16wi07nk/automotive_data.csv\n",
            "Resolving www.dropbox.com (www.dropbox.com)... 162.125.5.18, 2620:100:601d:18::a27d:512\n",
            "Connecting to www.dropbox.com (www.dropbox.com)|162.125.5.18|:443... connected.\n",
            "HTTP request sent, awaiting response... 301 Moved Permanently\n",
            "Location: /s/raw/4dtt56o16wi07nk/automotive_data.csv [following]\n",
            "--2021-04-28 12:28:21--  https://www.dropbox.com/s/raw/4dtt56o16wi07nk/automotive_data.csv\n",
            "Reusing existing connection to www.dropbox.com:443.\n",
            "HTTP request sent, awaiting response... 302 Found\n",
            "Location: https://ucf9f5168ab0e6a4d55aceb93dfb.dl.dropboxusercontent.com/cd/0/inline/BNeWhUluggUynej-rb_OUJJps6dexfpCz4YfhkUTDHGWLfyIroThaSYDRub2XS9Y4IZnZOFkMKwpSJsg6V6bOQYG3po4gLoTvka-kVOV6NZJTDO6-dcrTKsSO5wShj2Qp38noEFEcNBBCIo6dsFdWicJ/file# [following]\n",
            "--2021-04-28 12:28:22--  https://ucf9f5168ab0e6a4d55aceb93dfb.dl.dropboxusercontent.com/cd/0/inline/BNeWhUluggUynej-rb_OUJJps6dexfpCz4YfhkUTDHGWLfyIroThaSYDRub2XS9Y4IZnZOFkMKwpSJsg6V6bOQYG3po4gLoTvka-kVOV6NZJTDO6-dcrTKsSO5wShj2Qp38noEFEcNBBCIo6dsFdWicJ/file\n",
            "Resolving ucf9f5168ab0e6a4d55aceb93dfb.dl.dropboxusercontent.com (ucf9f5168ab0e6a4d55aceb93dfb.dl.dropboxusercontent.com)... 162.125.5.15, 2620:100:601d:15::a27d:50f\n",
            "Connecting to ucf9f5168ab0e6a4d55aceb93dfb.dl.dropboxusercontent.com (ucf9f5168ab0e6a4d55aceb93dfb.dl.dropboxusercontent.com)|162.125.5.15|:443... connected.\n",
            "HTTP request sent, awaiting response... 200 OK\n",
            "Length: 25092 (25K) [text/plain]\n",
            "Saving to: ‘automotive_data.csv’\n",
            "\n",
            "automotive_data.csv 100%[===================>]  24.50K  --.-KB/s    in 0.02s   \n",
            "\n",
            "2021-04-28 12:28:22 (1.36 MB/s) - ‘automotive_data.csv’ saved [25092/25092]\n",
            "\n"
          ],
          "name": "stdout"
        }
      ]
    },
    {
      "cell_type": "code",
      "metadata": {
        "colab": {
          "base_uri": "https://localhost:8080/",
          "height": 0
        },
        "id": "x_Dj616QHDpI",
        "outputId": "8bfb5767-614c-49a1-9ab6-20b43a35d97a"
      },
      "source": [
        "import pandas as pd\n",
        "import numpy as np\n",
        "import math\n",
        "import scipy.stats as stats\n",
        "import statsmodels.api as sm\n",
        "\n",
        "auto = pd.read_csv(\"automotive_data.csv\")\n",
        "auto.head()"
      ],
      "execution_count": 23,
      "outputs": [
        {
          "output_type": "execute_result",
          "data": {
            "text/html": [
              "<div>\n",
              "<style scoped>\n",
              "    .dataframe tbody tr th:only-of-type {\n",
              "        vertical-align: middle;\n",
              "    }\n",
              "\n",
              "    .dataframe tbody tr th {\n",
              "        vertical-align: top;\n",
              "    }\n",
              "\n",
              "    .dataframe thead th {\n",
              "        text-align: right;\n",
              "    }\n",
              "</style>\n",
              "<table border=\"1\" class=\"dataframe\">\n",
              "  <thead>\n",
              "    <tr style=\"text-align: right;\">\n",
              "      <th></th>\n",
              "      <th>symboling</th>\n",
              "      <th>normalized-losses</th>\n",
              "      <th>make</th>\n",
              "      <th>fuel-type</th>\n",
              "      <th>aspiration</th>\n",
              "      <th>num-of-doors</th>\n",
              "      <th>body-style</th>\n",
              "      <th>drive-wheels</th>\n",
              "      <th>engine-location</th>\n",
              "      <th>wheel-base</th>\n",
              "      <th>length</th>\n",
              "      <th>width</th>\n",
              "      <th>height</th>\n",
              "      <th>curb-weight</th>\n",
              "      <th>engine-type</th>\n",
              "      <th>num-of-cylinders</th>\n",
              "      <th>engine-size</th>\n",
              "      <th>fuel-system</th>\n",
              "      <th>bore</th>\n",
              "      <th>stroke</th>\n",
              "      <th>compression-ratio</th>\n",
              "      <th>horsepower</th>\n",
              "      <th>peak-rpm</th>\n",
              "      <th>city-mpg</th>\n",
              "      <th>highway-mpg</th>\n",
              "      <th>price</th>\n",
              "    </tr>\n",
              "  </thead>\n",
              "  <tbody>\n",
              "    <tr>\n",
              "      <th>0</th>\n",
              "      <td>3</td>\n",
              "      <td>?</td>\n",
              "      <td>alfa-romero</td>\n",
              "      <td>gas</td>\n",
              "      <td>std</td>\n",
              "      <td>two</td>\n",
              "      <td>convertible</td>\n",
              "      <td>rwd</td>\n",
              "      <td>front</td>\n",
              "      <td>88.6</td>\n",
              "      <td>168.8</td>\n",
              "      <td>64.1</td>\n",
              "      <td>48.8</td>\n",
              "      <td>2548</td>\n",
              "      <td>dohc</td>\n",
              "      <td>four</td>\n",
              "      <td>130</td>\n",
              "      <td>mpfi</td>\n",
              "      <td>3.47</td>\n",
              "      <td>2.68</td>\n",
              "      <td>9.0</td>\n",
              "      <td>111</td>\n",
              "      <td>5000</td>\n",
              "      <td>21</td>\n",
              "      <td>27</td>\n",
              "      <td>13495</td>\n",
              "    </tr>\n",
              "    <tr>\n",
              "      <th>1</th>\n",
              "      <td>3</td>\n",
              "      <td>?</td>\n",
              "      <td>alfa-romero</td>\n",
              "      <td>gas</td>\n",
              "      <td>std</td>\n",
              "      <td>two</td>\n",
              "      <td>convertible</td>\n",
              "      <td>rwd</td>\n",
              "      <td>front</td>\n",
              "      <td>88.6</td>\n",
              "      <td>168.8</td>\n",
              "      <td>64.1</td>\n",
              "      <td>48.8</td>\n",
              "      <td>2548</td>\n",
              "      <td>dohc</td>\n",
              "      <td>four</td>\n",
              "      <td>130</td>\n",
              "      <td>mpfi</td>\n",
              "      <td>3.47</td>\n",
              "      <td>2.68</td>\n",
              "      <td>9.0</td>\n",
              "      <td>111</td>\n",
              "      <td>5000</td>\n",
              "      <td>21</td>\n",
              "      <td>27</td>\n",
              "      <td>16500</td>\n",
              "    </tr>\n",
              "    <tr>\n",
              "      <th>2</th>\n",
              "      <td>1</td>\n",
              "      <td>?</td>\n",
              "      <td>alfa-romero</td>\n",
              "      <td>gas</td>\n",
              "      <td>std</td>\n",
              "      <td>two</td>\n",
              "      <td>hatchback</td>\n",
              "      <td>rwd</td>\n",
              "      <td>front</td>\n",
              "      <td>94.5</td>\n",
              "      <td>171.2</td>\n",
              "      <td>65.5</td>\n",
              "      <td>52.4</td>\n",
              "      <td>2823</td>\n",
              "      <td>ohcv</td>\n",
              "      <td>six</td>\n",
              "      <td>152</td>\n",
              "      <td>mpfi</td>\n",
              "      <td>2.68</td>\n",
              "      <td>3.47</td>\n",
              "      <td>9.0</td>\n",
              "      <td>154</td>\n",
              "      <td>5000</td>\n",
              "      <td>19</td>\n",
              "      <td>26</td>\n",
              "      <td>16500</td>\n",
              "    </tr>\n",
              "    <tr>\n",
              "      <th>3</th>\n",
              "      <td>2</td>\n",
              "      <td>164</td>\n",
              "      <td>audi</td>\n",
              "      <td>gas</td>\n",
              "      <td>std</td>\n",
              "      <td>four</td>\n",
              "      <td>sedan</td>\n",
              "      <td>fwd</td>\n",
              "      <td>front</td>\n",
              "      <td>99.8</td>\n",
              "      <td>176.6</td>\n",
              "      <td>66.2</td>\n",
              "      <td>54.3</td>\n",
              "      <td>2337</td>\n",
              "      <td>ohc</td>\n",
              "      <td>four</td>\n",
              "      <td>109</td>\n",
              "      <td>mpfi</td>\n",
              "      <td>3.19</td>\n",
              "      <td>3.4</td>\n",
              "      <td>10.0</td>\n",
              "      <td>102</td>\n",
              "      <td>5500</td>\n",
              "      <td>24</td>\n",
              "      <td>30</td>\n",
              "      <td>13950</td>\n",
              "    </tr>\n",
              "    <tr>\n",
              "      <th>4</th>\n",
              "      <td>2</td>\n",
              "      <td>164</td>\n",
              "      <td>audi</td>\n",
              "      <td>gas</td>\n",
              "      <td>std</td>\n",
              "      <td>four</td>\n",
              "      <td>sedan</td>\n",
              "      <td>4wd</td>\n",
              "      <td>front</td>\n",
              "      <td>99.4</td>\n",
              "      <td>176.6</td>\n",
              "      <td>66.4</td>\n",
              "      <td>54.3</td>\n",
              "      <td>2824</td>\n",
              "      <td>ohc</td>\n",
              "      <td>five</td>\n",
              "      <td>136</td>\n",
              "      <td>mpfi</td>\n",
              "      <td>3.19</td>\n",
              "      <td>3.4</td>\n",
              "      <td>8.0</td>\n",
              "      <td>115</td>\n",
              "      <td>5500</td>\n",
              "      <td>18</td>\n",
              "      <td>22</td>\n",
              "      <td>17450</td>\n",
              "    </tr>\n",
              "  </tbody>\n",
              "</table>\n",
              "</div>"
            ],
            "text/plain": [
              "   symboling normalized-losses         make  ... city-mpg highway-mpg  price\n",
              "0          3                 ?  alfa-romero  ...       21          27  13495\n",
              "1          3                 ?  alfa-romero  ...       21          27  16500\n",
              "2          1                 ?  alfa-romero  ...       19          26  16500\n",
              "3          2               164         audi  ...       24          30  13950\n",
              "4          2               164         audi  ...       18          22  17450\n",
              "\n",
              "[5 rows x 26 columns]"
            ]
          },
          "metadata": {
            "tags": []
          },
          "execution_count": 23
        }
      ]
    },
    {
      "cell_type": "code",
      "metadata": {
        "colab": {
          "base_uri": "https://localhost:8080/"
        },
        "id": "KoAeEQl8Hig5",
        "outputId": "c854592c-c1df-47ee-e6fc-378f1361c795"
      },
      "source": [
        "# Task 2\n",
        "np.random.seed(10)\n",
        "\n",
        "sample_size = 100\n",
        "sample = np.random.choice(a=auto['price'],\n",
        "                          size = sample_size)\n",
        "sample_mean = sample.mean()\n",
        "\n",
        "#Task 3\n",
        "z_critical = stats.norm.ppf(q = 0.67)\n",
        "\n",
        "# check the z-critical value\n",
        "print(\"z-critical value\", z_critical)\n",
        "\n",
        "# Get the population standard deviation\n",
        "pop_stdev = auto['price'].std()\n",
        "\n",
        "#Task 4\n",
        "sigma = pop_stdev/math.sqrt(sample_size)\n",
        "margin_of_error = z_critical*(sigma)\n",
        "\n",
        "#Task 45\n",
        "confidential_interval = (sample_mean - margin_of_error,\n",
        "                         sample_mean + margin_of_error)\n",
        "\n",
        "#Lets print the result\n",
        "print(\"Confidence interval:\",end=\" \")\n",
        "print(confidential_interval)\n",
        "\n",
        "pop_mean = auto['price'].mean()\n",
        "print(\"True mean: {}\".format(pop_mean))"
      ],
      "execution_count": 24,
      "outputs": [
        {
          "output_type": "stream",
          "text": [
            "z-critical value 0.4399131656732339\n",
            "Confidence interval: (12557.113078891285, 13268.206921108715)\n",
            "True mean: 13156.931707317073\n"
          ],
          "name": "stdout"
        }
      ]
    },
    {
      "cell_type": "markdown",
      "metadata": {
        "id": "HpFoTDHxLcii"
      },
      "source": [
        "**Question 10 - Beginner**"
      ]
    },
    {
      "cell_type": "markdown",
      "metadata": {
        "id": "kc3t1OzZLiQx"
      },
      "source": [
        "Clipcart, an online shopping portal, gets over 300 order returns in a day out of 1500. Each customer can\n",
        "reject only one order in a day. Clipcart assumes that all customers are independent of each other. Find out\n",
        "the margin of error and also determine an approximate 95% confidence interval for the proportion of orders\n",
        "cancelled in a day.\n",
        "\n",
        "Tasks to be performed:\n",
        "\n",
        "1. Calculate the Margin of Error\n",
        "2. Get the Confidence Interval\n",
        "\n",
        "Topics Covered:\n",
        "* Margin of Error\n",
        "* Confidence Interval"
      ]
    },
    {
      "cell_type": "code",
      "metadata": {
        "colab": {
          "base_uri": "https://localhost:8080/"
        },
        "id": "KiRh6GhSKK7f",
        "outputId": "1c2baa60-70d7-41c5-f827-51953ed5209a"
      },
      "source": [
        "import math\n",
        "from scipy import mean, stats\n",
        "\n",
        "x = 300\n",
        "n = 1500\n",
        "p = x/n\n",
        "var = p*(1-p)\n",
        "\n",
        "#task 1\n",
        "margin = stats.norm.ppf(0.95) * (math.sqrt(var/n))\n",
        "print(\"Margin of error is:\", margin)\n",
        "\n",
        "#Task 2\n",
        "con_interval = (p - margin)\n",
        "con_interval1 = (p + margin)\n",
        "print(\"Confidential Interval is: \",con_interval,con_interval1)"
      ],
      "execution_count": 25,
      "outputs": [
        {
          "output_type": "stream",
          "text": [
            "Margin of error is: 0.016987975211018455\n",
            "Confidential Interval is:  0.18301202478898154 0.21698797521101848\n"
          ],
          "name": "stdout"
        }
      ]
    },
    {
      "cell_type": "markdown",
      "metadata": {
        "id": "Et7PbL_LNpCm"
      },
      "source": [
        "**Question 11 - Intermediate**"
      ]
    },
    {
      "cell_type": "markdown",
      "metadata": {
        "id": "CGs6PYvANs5t"
      },
      "source": [
        "A biologist is interested in determining whether a plant seedlings treated with an extract from Myrtle roots\n",
        "resulted in a lower average height of the seedlings than the standard height of 15.7 cm. The biologist treated\n",
        "a random sample of n = 33 seedlings with the extract and subsequently obtained the following heights:"
      ]
    },
    {
      "cell_type": "markdown",
      "metadata": {
        "id": "6Hu9vqi_N4tS"
      },
      "source": [
        "11.5 11.8 15.7 16.1 14.1 10.5 9.3 15.0 11.1\n",
        "\n",
        "15.2 19.0 12.8 12.4 19.2 13.5 12.2 13.3\n",
        "\n",
        "16.5 13.5 14.4 16.7 10.9 13.0 10.3 15.8\n",
        "\n",
        "15.1 17.1 13.3 12.4 8.5 14.3 12.9 13.5\n",
        "\n",
        "Tasks to be performed:\n",
        "\n",
        "1. Determine the Hypotheses\n",
        "2. Perform a Statistical Test\n",
        "3. Find P-value and conclude the Hypotheses\n",
        "\n",
        "Topics Covered:\n",
        "\n",
        "Hypothesis Test for Population Mean: Right-tailed Test\n",
        "#Task 1:\n",
        "The hypothesis is stated as follows:\n",
        "Null: The average height is equal to 15.7 (p=15.7)\n",
        "Alternative: The average height is less than 15.7 (p<15.7)\n",
        "\n",
        "The biologist can perform a one sample t-test using ttest_1samp and find out the p-value to conclude if the\n",
        "average height of the plants is les than 15.7cm or not."
      ]
    },
    {
      "cell_type": "code",
      "metadata": {
        "colab": {
          "base_uri": "https://localhost:8080/"
        },
        "id": "VlHmutF8M9ua",
        "outputId": "1efb2bed-8a5f-439b-ba5d-b0285a1c6fe3"
      },
      "source": [
        "import pandas as pd\n",
        "import numpy as np\n",
        "from scipy.stats import ttest_1samp\n",
        "import math\n",
        "\n",
        "#task 2\n",
        "X = [11.5, 11.8, 15.7, 16.1, 14.1, 10.5, 9.3, 15.0, 11.1, 15.2, 19.0, 12.8, 12.4, 19.2,\n",
        "13.5, 12.2, 13.3, 16.5, 13.5, 14.4, 16.7, 10.9, 13.0, 10.3, 15.8, 15.1, 17.1, 13.3, 12.4, 8.5, 14.3, 12.9, 13.5]\n",
        "\n",
        "ttest,pval = ttest_1samp(X, 15.7)\n",
        "print(pval)\n",
        "\n",
        "#Task 3\n",
        "if pval<0.05:\n",
        "  print(\"Null Hypothesis rejected: The average height of plants is less than 15.7 cm\")\n",
        "else:\n",
        "  print(\"cannot Reject Null Hypothesis: The average height of plant is 15.7 cm\")\n"
      ],
      "execution_count": 26,
      "outputs": [
        {
          "output_type": "stream",
          "text": [
            "6.348487914001979e-05\n",
            "Null Hypothesis rejected: The average height of plants is less than 15.7 cm\n"
          ],
          "name": "stdout"
        }
      ]
    },
    {
      "cell_type": "markdown",
      "metadata": {
        "id": "kZZyckaMQWjX"
      },
      "source": [
        "**Question 12 - Intermediate**"
      ]
    },
    {
      "cell_type": "markdown",
      "metadata": {
        "id": "VNHNN-rEQaCe"
      },
      "source": [
        "An engineer measured the Brinell hardness of 25 pieces of ductile iron that were subcritically annealed. The\n",
        "resulting data were:\n",
        "\n",
        "170 167 174 179 179 187 179 183 179\n",
        "156 163 156 187 156 167 156 174 170\n",
        "183 179 174 179 170 159 187\n",
        "\n",
        "The engineer hypothesized that the mean Brinell hardness of all such ductile iron pieces is greater than 170.\n",
        "\n",
        "Is his hypothesis correct?\n",
        "Tasks to be performed:\n",
        "\n",
        "1. Determine the Hypotheses\n",
        "2. Perform a Statistical Test\n",
        "3. Find P-value and conclude if his hypothesis correct\n",
        "\n",
        "Topics Covered:\n",
        "\n",
        "Hypothesis Test for Population Mean: Left-tailed Test"
      ]
    },
    {
      "cell_type": "markdown",
      "metadata": {
        "id": "bsGtLIuqQr4i"
      },
      "source": [
        "#Task 1:\n",
        "The hypothesis is stated as follows:\n",
        "\n",
        "Null: The mean Brinell hardness can be equal to 170 (p=15.7)\n",
        "\n",
        "Alternative: The mean Brinell hardness is greater than 170 (p>15.7)\n",
        "\n",
        "The engineer biologist can perform a one sample t-test using ttest_1samp and find out the p-value to\n",
        "conclude if the mean hardness is greater than 170 or not."
      ]
    },
    {
      "cell_type": "code",
      "metadata": {
        "id": "VlIUXxAcPiZp"
      },
      "source": [
        "import pandas as pd\n",
        "import math\n",
        "from scipy.stats import ttest_1samp\n",
        "import numpy as np\n",
        "\n",
        "#Task 2:\n",
        "X = [170, 167, 174, 179, 179, 187, 179, 183, 179, 156, 163, 156, 187, 156, 167, 156, 174, 170, 183, 179, 174, 179, 170, 159, 187]"
      ],
      "execution_count": 27,
      "outputs": []
    },
    {
      "cell_type": "code",
      "metadata": {
        "colab": {
          "base_uri": "https://localhost:8080/"
        },
        "id": "HDxoUh6lRGya",
        "outputId": "a7d87a8f-cc44-4885-9d18-abfc03baef48"
      },
      "source": [
        "ttest,pval = ttest_1samp(X, 170)\n",
        "print(pval)\n",
        "\n",
        "# Task 3\n",
        "if pval<0.05:\n",
        "  print(\"Null Hypothesis Rejected: The mean Brinell hardness is greater than 170\")\n",
        "else:\n",
        "  print(\"Cannot Reject Null Hypothesis: The mean Brinell hardness can be equal equal to 170\")"
      ],
      "execution_count": 28,
      "outputs": [
        {
          "output_type": "stream",
          "text": [
            "0.23363279636357662\n",
            "Cannot Reject Null Hypothesis: The mean Brinell hardness can be equal equal to 170\n"
          ],
          "name": "stdout"
        }
      ]
    },
    {
      "cell_type": "markdown",
      "metadata": {
        "id": "uKI24W2HSLfw"
      },
      "source": [
        "**Question 13 - Intermediate**"
      ]
    },
    {
      "cell_type": "markdown",
      "metadata": {
        "id": "Pq60upAhSXwf"
      },
      "source": [
        "A manufacturer claims that the thickness of the plates it produces is 7.5 one-hundredths of an inch. The\n",
        "quality-check department has to check the thickness regulary. On one production run, they took a random\n",
        "sample of n = 10 pieces of plates and measured their thickness. They obtained:\n",
        "\n",
        "7.65 7.60 7.65 7.70 7.55 7.55 7.40 7.40 7.50 7.50\n",
        "\n",
        "Tasks to be performed:\n",
        "1. Determine the Hypotheses\n",
        "2. Perform a Statistical Test\n",
        "3. Find P-value and conclude the hypothesis\n",
        "\n",
        "Topics Covered:\n",
        "* Hypothesis Test for Population Mean: Two-tailed Test"
      ]
    },
    {
      "cell_type": "markdown",
      "metadata": {
        "id": "kBDMCG3XSlcW"
      },
      "source": [
        "#Task 1:\n",
        "The hypothesis is stated as follows:\n",
        "\n",
        "Null: The thickness is equal to 7.5 one-hundredths of an inch (p=7.5)\n",
        "Alternative: The thickness is not equal to 7.5 one-hundredths of an inch (p!=7.5)\n",
        "\n",
        "The quality-check department can perform a one sample t-test using ttest_1samp and find out the p-value to\n",
        "conclude if the thickness is equal to 7.5 one-hundredths of an inch or not"
      ]
    },
    {
      "cell_type": "code",
      "metadata": {
        "colab": {
          "base_uri": "https://localhost:8080/"
        },
        "id": "IrF2xDuOShc1",
        "outputId": "c372c815-5beb-46d7-9b4b-1a0e7c4a666a"
      },
      "source": [
        "import pandas as pd\n",
        "import math\n",
        "from scipy.stats import ttest_1samp\n",
        "import numpy as np\n",
        "\n",
        "#Task 2\n",
        "X = [7.65, 7.60, 7.65, 7.70, 7.55, 7.55, 7.40, 7.40, 7.50, 7.50]\n",
        "ttest,pval = ttest_1samp(X, 7.5)\n",
        "print(pval)\n",
        "\n",
        "# Task3\n",
        "if pval<0.05:\n",
        "  print(\"Null Hypothesis Rejected: The thickness is not equal to 7.5 one_hundredths of an inch\")\n",
        "else:\n",
        "  print(\"Cannot Reject Null Hypothesis: The thickness is equal to 7.5 one-hundredths of an inch\")"
      ],
      "execution_count": 29,
      "outputs": [
        {
          "output_type": "stream",
          "text": [
            "0.15819542053877977\n",
            "Cannot Reject Null Hypothesis: The thickness is equal to 7.5 one-hundredths of an inch\n"
          ],
          "name": "stdout"
        }
      ]
    },
    {
      "cell_type": "markdown",
      "metadata": {
        "id": "nw_YquLGT6e_"
      },
      "source": [
        "**Questions 14-15:**"
      ]
    },
    {
      "cell_type": "markdown",
      "metadata": {
        "id": "YkTmF3zSUANn"
      },
      "source": [
        "Dataset Description:\n",
        "\n",
        "diabetes.csv - The dataset contains 9 features:\n",
        "\n",
        "* Pregnancies: Pregnancy month\n",
        "* Glucose: Glucose value\n",
        "* BloodPressure: Blood Pressure value\n",
        "* SkinThickness: Skin Thickness value\n",
        "* Insulin: Insulin value\n",
        "* BMI: BMI value\n",
        "* DiabetesPedigreeFunction: Likelihood score of diabetes based on family history\n",
        "* Age: Patient age\n",
        "* Outcome: 1 or 0 based on whether the patient is diabetic or not"
      ]
    },
    {
      "cell_type": "code",
      "metadata": {
        "colab": {
          "base_uri": "https://localhost:8080/"
        },
        "id": "YTSwH0HZT0fy",
        "outputId": "3f9922c4-3565-4131-91d0-6f4b377e488b"
      },
      "source": [
        "!wget https://www.dropbox.com/s/ageyill6ur8s2u3/diabetes.csv"
      ],
      "execution_count": 30,
      "outputs": [
        {
          "output_type": "stream",
          "text": [
            "--2021-04-28 12:28:22--  https://www.dropbox.com/s/ageyill6ur8s2u3/diabetes.csv\n",
            "Resolving www.dropbox.com (www.dropbox.com)... 162.125.5.18, 2620:100:601d:18::a27d:512\n",
            "Connecting to www.dropbox.com (www.dropbox.com)|162.125.5.18|:443... connected.\n",
            "HTTP request sent, awaiting response... 301 Moved Permanently\n",
            "Location: /s/raw/ageyill6ur8s2u3/diabetes.csv [following]\n",
            "--2021-04-28 12:28:22--  https://www.dropbox.com/s/raw/ageyill6ur8s2u3/diabetes.csv\n",
            "Reusing existing connection to www.dropbox.com:443.\n",
            "HTTP request sent, awaiting response... 302 Found\n",
            "Location: https://uc1bd1f1ea421a71197408c05e21.dl.dropboxusercontent.com/cd/0/inline/BNfYYTarTzLZyKoKo-qBpBIdejn6gDNl1c_dAWphm1gCBs4v2RIEAtgAVcxQ3h9z4u5NMsdcBV_ketKE4eTeQzptLKY_d_VbCxuDaiw-c_Kqwzzx730eqtrANM5OsGUsjMU_p8-FKTAmseIRJwjcz-NI/file# [following]\n",
            "--2021-04-28 12:28:23--  https://uc1bd1f1ea421a71197408c05e21.dl.dropboxusercontent.com/cd/0/inline/BNfYYTarTzLZyKoKo-qBpBIdejn6gDNl1c_dAWphm1gCBs4v2RIEAtgAVcxQ3h9z4u5NMsdcBV_ketKE4eTeQzptLKY_d_VbCxuDaiw-c_Kqwzzx730eqtrANM5OsGUsjMU_p8-FKTAmseIRJwjcz-NI/file\n",
            "Resolving uc1bd1f1ea421a71197408c05e21.dl.dropboxusercontent.com (uc1bd1f1ea421a71197408c05e21.dl.dropboxusercontent.com)... 162.125.5.15, 2620:100:601d:15::a27d:50f\n",
            "Connecting to uc1bd1f1ea421a71197408c05e21.dl.dropboxusercontent.com (uc1bd1f1ea421a71197408c05e21.dl.dropboxusercontent.com)|162.125.5.15|:443... connected.\n",
            "HTTP request sent, awaiting response... 200 OK\n",
            "Length: 23873 (23K) [text/plain]\n",
            "Saving to: ‘diabetes.csv’\n",
            "\n",
            "diabetes.csv        100%[===================>]  23.31K  --.-KB/s    in 0.02s   \n",
            "\n",
            "2021-04-28 12:28:23 (1.29 MB/s) - ‘diabetes.csv’ saved [23873/23873]\n",
            "\n"
          ],
          "name": "stdout"
        }
      ]
    },
    {
      "cell_type": "markdown",
      "metadata": {
        "id": "olzxOefKVJAu"
      },
      "source": [
        "Question 14 - Intermediate"
      ]
    },
    {
      "cell_type": "markdown",
      "metadata": {
        "id": "wKX7NJfYVRHe"
      },
      "source": [
        "Use the given dataset to find out what proportion of patients report they have diabetes.\n",
        "\n",
        "Tasks to be performed:\n",
        "\n",
        "1. Load the data, check its shape and check for null values\n",
        "2. Replace the binary outcomes with text (1: Diabetic, 0: Non-diabetic)\n",
        "3. Find the value_counts of diabetic patients\n",
        "4. Construct a 95% confidence interval with statsmodels library for the population proportion of people having diabetes\n",
        "\n",
        "Topics covered:\n",
        "* Confidence Interval"
      ]
    },
    {
      "cell_type": "code",
      "metadata": {
        "colab": {
          "base_uri": "https://localhost:8080/"
        },
        "id": "kNnyYqghU9im",
        "outputId": "980a714e-4fcd-42f2-d92d-6c8805f5e883"
      },
      "source": [
        "import pandas as pd\n",
        "import statsmodels.api as sm\n",
        "\n",
        "df = pd.read_csv(\"diabetes.csv\")\n",
        "print(df.head())\n",
        "print(df.shape)\n",
        "print(df.isnull().sum())"
      ],
      "execution_count": 31,
      "outputs": [
        {
          "output_type": "stream",
          "text": [
            "   Pregnancies  Glucose  BloodPressure  ...  DiabetesPedigreeFunction  Age  Outcome\n",
            "0            6      148             72  ...                     0.627   50        1\n",
            "1            1       85             66  ...                     0.351   31        0\n",
            "2            8      183             64  ...                     0.672   32        1\n",
            "3            1       89             66  ...                     0.167   21        0\n",
            "4            0      137             40  ...                     2.288   33        1\n",
            "\n",
            "[5 rows x 9 columns]\n",
            "(768, 9)\n",
            "Pregnancies                 0\n",
            "Glucose                     0\n",
            "BloodPressure               0\n",
            "SkinThickness               0\n",
            "Insulin                     0\n",
            "BMI                         0\n",
            "DiabetesPedigreeFunction    0\n",
            "Age                         0\n",
            "Outcome                     0\n",
            "dtype: int64\n"
          ],
          "name": "stdout"
        }
      ]
    },
    {
      "cell_type": "code",
      "metadata": {
        "colab": {
          "base_uri": "https://localhost:8080/"
        },
        "id": "53-Mi2cFV7Ej",
        "outputId": "d62792df-2758-48bf-def4-523e180603c2"
      },
      "source": [
        "# Task 2\n",
        "df.Outcome.replace({0:'Non-Diab',1:'Diab'},inplace=True)\n",
        "n = df.shape[0]\n",
        "\n",
        "# Task 3\n",
        "diabetic = df.Outcome.value_counts().loc['Diab']\n",
        "print(\"Total observation:\",n ,\"\\n Number of diabetic patients: \",diabetic, n)\n",
        "\n",
        "# Task 4\n",
        "print(\"\\n95% C.I. with statsmodel library:\", sm.stats.proportion_confint(diabetic, n))\n"
      ],
      "execution_count": 32,
      "outputs": [
        {
          "output_type": "stream",
          "text": [
            "Total observation: 768 \n",
            " Number of diabetic patients:  268 768\n",
            "\n",
            "95% C.I. with statsmodel library: (0.3152483405027714, 0.38266832616389523)\n"
          ],
          "name": "stdout"
        }
      ]
    },
    {
      "cell_type": "markdown",
      "metadata": {
        "id": "uV9C_2vCXinC"
      },
      "source": [
        "**Question 15 - Advanced**"
      ]
    },
    {
      "cell_type": "markdown",
      "metadata": {
        "id": "ajYMjO5ZXnll"
      },
      "source": [
        "Use the given dataset to check if diabetic patients have higher average age than non-diabetic patients. Take\n",
        "a significance level of 5%.\n",
        "\n",
        "Tasks to be performed:\n",
        "\n",
        "1. Determine the Hypotheses\n",
        "2. Perform a Statistical Test\n",
        "3. Find P-value and conclude the hypothesis\n",
        "\n",
        "Topics Covered:\n",
        "* Hypothesis Test for Population Mean: Left-tailed Z-Test\n",
        "#Task 1:\n",
        "The hypothesis is stated as follows:\n",
        "\n",
        "Null: There is no difference in average age\n",
        "Alternative: There is a significant difference in average age\n",
        "\n",
        "Since the number of samples is >>>30, we can perform a z-test using stats.ztest and find out the p-value to\n",
        "conclude if diabetic patients have higher average age than non-diabetic patients or not."
      ]
    },
    {
      "cell_type": "code",
      "metadata": {
        "colab": {
          "base_uri": "https://localhost:8080/"
        },
        "id": "fRI65mv3XTm4",
        "outputId": "bc29434c-6bfe-4de8-b72b-b4fb0f86619e"
      },
      "source": [
        "import statsmodels.api as sm\n",
        "\n",
        "df_diabetic = df[df.Outcome=='Diab']\n",
        "df_non_diabetic = df[df.Outcome=='Non-Diab']\n",
        "\n",
        "#Task 2\n",
        "z,pval = sm.stats.ztest(df_diabetic['Age'],df_non_diabetic['Age'])\n",
        "print(pval)\n",
        "\n",
        "#Task 3\n",
        "if pval<0.05:\n",
        "  print(\"Null Hypothesis Rejected: Diabetic patients have a higher avg age than non-diabetic patients\")\n",
        "else:\n",
        "  print(\"Cannot Reject Null hypothesis: There is no difference in avg age of diabetic and non_diabetic patients\")"
      ],
      "execution_count": 33,
      "outputs": [
        {
          "output_type": "stream",
          "text": [
            "1.1006318936217381e-11\n",
            "Null Hypothesis Rejected: Diabetic patients have a higher avg age than non-diabetic patients\n"
          ],
          "name": "stdout"
        }
      ]
    },
    {
      "cell_type": "markdown",
      "metadata": {
        "id": "0j1sVHbLaNRo"
      },
      "source": [
        "**Questions 16-17:**"
      ]
    },
    {
      "cell_type": "markdown",
      "metadata": {
        "id": "ISmQhfl3aTGK"
      },
      "source": [
        "Dataset Description:\n",
        "\n",
        "survey.csv - The dataset contains 27 columns. Here's a brief description of 4 columns in the dataset:\n",
        "\n",
        "* Age - Age of each person\n",
        "* Gender - Gender of each person\n",
        "* Country - Nationality of each person\n",
        "* self_employed - Whether the person is * self employed or not\n",
        "\n",
        "Question 16 - Intermediate\n",
        "\n",
        "Use the given dataset to find out what proportion of self-employed people are women.\n",
        "\n",
        "Tasks to be performed:\n",
        "1. Load the data\n",
        "2. Find the value_counts of people that are self-employed\n",
        "3. Find the value_counts of women that re self employed\n",
        "4. Construct a 95% confidence interval with statsmodels library for the population proportion of selfemployed\n",
        "women\n",
        "\n",
        "Topics covered:\n",
        "* Confidence Interval"
      ]
    },
    {
      "cell_type": "code",
      "metadata": {
        "colab": {
          "base_uri": "https://localhost:8080/",
          "height": 309
        },
        "id": "wWBbGAT2ZyYu",
        "outputId": "0ef6f4ae-e25f-479e-b52f-7ae9bcf1e3fb"
      },
      "source": [
        "import pandas as pd\n",
        "import statsmodels.api as sm\n",
        "\n",
        "#Task 1\n",
        "selfemp = pd.read_csv(\"survey.csv\")\n",
        "selfemp.head()"
      ],
      "execution_count": 34,
      "outputs": [
        {
          "output_type": "execute_result",
          "data": {
            "text/html": [
              "<div>\n",
              "<style scoped>\n",
              "    .dataframe tbody tr th:only-of-type {\n",
              "        vertical-align: middle;\n",
              "    }\n",
              "\n",
              "    .dataframe tbody tr th {\n",
              "        vertical-align: top;\n",
              "    }\n",
              "\n",
              "    .dataframe thead th {\n",
              "        text-align: right;\n",
              "    }\n",
              "</style>\n",
              "<table border=\"1\" class=\"dataframe\">\n",
              "  <thead>\n",
              "    <tr style=\"text-align: right;\">\n",
              "      <th></th>\n",
              "      <th>Timestamp</th>\n",
              "      <th>Age</th>\n",
              "      <th>Gender</th>\n",
              "      <th>Country</th>\n",
              "      <th>state</th>\n",
              "      <th>self_employed</th>\n",
              "      <th>family_history</th>\n",
              "      <th>treatment</th>\n",
              "      <th>work_interfere</th>\n",
              "      <th>no_employees</th>\n",
              "      <th>remote_work</th>\n",
              "      <th>tech_company</th>\n",
              "      <th>benefits</th>\n",
              "      <th>care_options</th>\n",
              "      <th>wellness_program</th>\n",
              "      <th>seek_help</th>\n",
              "      <th>anonymity</th>\n",
              "      <th>leave</th>\n",
              "      <th>mental_health_consequence</th>\n",
              "      <th>phys_health_consequence</th>\n",
              "      <th>coworkers</th>\n",
              "      <th>supervisor</th>\n",
              "      <th>mental_health_interview</th>\n",
              "      <th>phys_health_interview</th>\n",
              "      <th>mental_vs_physical</th>\n",
              "      <th>obs_consequence</th>\n",
              "      <th>comments</th>\n",
              "    </tr>\n",
              "  </thead>\n",
              "  <tbody>\n",
              "    <tr>\n",
              "      <th>0</th>\n",
              "      <td>27-08-2014 11:29</td>\n",
              "      <td>37</td>\n",
              "      <td>female</td>\n",
              "      <td>United States</td>\n",
              "      <td>IL</td>\n",
              "      <td>NaN</td>\n",
              "      <td>No</td>\n",
              "      <td>Yes</td>\n",
              "      <td>Often</td>\n",
              "      <td>Jun-25</td>\n",
              "      <td>No</td>\n",
              "      <td>Yes</td>\n",
              "      <td>Yes</td>\n",
              "      <td>Not sure</td>\n",
              "      <td>No</td>\n",
              "      <td>Yes</td>\n",
              "      <td>Yes</td>\n",
              "      <td>Somewhat easy</td>\n",
              "      <td>No</td>\n",
              "      <td>No</td>\n",
              "      <td>Some of them</td>\n",
              "      <td>Yes</td>\n",
              "      <td>No</td>\n",
              "      <td>Maybe</td>\n",
              "      <td>Yes</td>\n",
              "      <td>No</td>\n",
              "      <td>NaN</td>\n",
              "    </tr>\n",
              "    <tr>\n",
              "      <th>1</th>\n",
              "      <td>27-08-2014 11:29</td>\n",
              "      <td>44</td>\n",
              "      <td>male</td>\n",
              "      <td>United States</td>\n",
              "      <td>IN</td>\n",
              "      <td>NaN</td>\n",
              "      <td>No</td>\n",
              "      <td>No</td>\n",
              "      <td>Rarely</td>\n",
              "      <td>More than 1000</td>\n",
              "      <td>No</td>\n",
              "      <td>No</td>\n",
              "      <td>Don't know</td>\n",
              "      <td>No</td>\n",
              "      <td>Don't know</td>\n",
              "      <td>Don't know</td>\n",
              "      <td>Don't know</td>\n",
              "      <td>Don't know</td>\n",
              "      <td>Maybe</td>\n",
              "      <td>No</td>\n",
              "      <td>No</td>\n",
              "      <td>No</td>\n",
              "      <td>No</td>\n",
              "      <td>No</td>\n",
              "      <td>Don't know</td>\n",
              "      <td>No</td>\n",
              "      <td>NaN</td>\n",
              "    </tr>\n",
              "    <tr>\n",
              "      <th>2</th>\n",
              "      <td>27-08-2014 11:29</td>\n",
              "      <td>32</td>\n",
              "      <td>male</td>\n",
              "      <td>Canada</td>\n",
              "      <td>NaN</td>\n",
              "      <td>NaN</td>\n",
              "      <td>No</td>\n",
              "      <td>No</td>\n",
              "      <td>Rarely</td>\n",
              "      <td>Jun-25</td>\n",
              "      <td>No</td>\n",
              "      <td>Yes</td>\n",
              "      <td>No</td>\n",
              "      <td>No</td>\n",
              "      <td>No</td>\n",
              "      <td>No</td>\n",
              "      <td>Don't know</td>\n",
              "      <td>Somewhat difficult</td>\n",
              "      <td>No</td>\n",
              "      <td>No</td>\n",
              "      <td>Yes</td>\n",
              "      <td>Yes</td>\n",
              "      <td>Yes</td>\n",
              "      <td>Yes</td>\n",
              "      <td>No</td>\n",
              "      <td>No</td>\n",
              "      <td>NaN</td>\n",
              "    </tr>\n",
              "    <tr>\n",
              "      <th>3</th>\n",
              "      <td>27-08-2014 11:29</td>\n",
              "      <td>31</td>\n",
              "      <td>male</td>\n",
              "      <td>United Kingdom</td>\n",
              "      <td>NaN</td>\n",
              "      <td>NaN</td>\n",
              "      <td>Yes</td>\n",
              "      <td>Yes</td>\n",
              "      <td>Often</td>\n",
              "      <td>26-100</td>\n",
              "      <td>No</td>\n",
              "      <td>Yes</td>\n",
              "      <td>No</td>\n",
              "      <td>Yes</td>\n",
              "      <td>No</td>\n",
              "      <td>No</td>\n",
              "      <td>No</td>\n",
              "      <td>Somewhat difficult</td>\n",
              "      <td>Yes</td>\n",
              "      <td>Yes</td>\n",
              "      <td>Some of them</td>\n",
              "      <td>No</td>\n",
              "      <td>Maybe</td>\n",
              "      <td>Maybe</td>\n",
              "      <td>No</td>\n",
              "      <td>Yes</td>\n",
              "      <td>NaN</td>\n",
              "    </tr>\n",
              "    <tr>\n",
              "      <th>4</th>\n",
              "      <td>27-08-2014 11:30</td>\n",
              "      <td>31</td>\n",
              "      <td>male</td>\n",
              "      <td>United States</td>\n",
              "      <td>TX</td>\n",
              "      <td>NaN</td>\n",
              "      <td>No</td>\n",
              "      <td>No</td>\n",
              "      <td>Never</td>\n",
              "      <td>100-500</td>\n",
              "      <td>Yes</td>\n",
              "      <td>Yes</td>\n",
              "      <td>Yes</td>\n",
              "      <td>No</td>\n",
              "      <td>Don't know</td>\n",
              "      <td>Don't know</td>\n",
              "      <td>Don't know</td>\n",
              "      <td>Don't know</td>\n",
              "      <td>No</td>\n",
              "      <td>No</td>\n",
              "      <td>Some of them</td>\n",
              "      <td>Yes</td>\n",
              "      <td>Yes</td>\n",
              "      <td>Yes</td>\n",
              "      <td>Don't know</td>\n",
              "      <td>No</td>\n",
              "      <td>NaN</td>\n",
              "    </tr>\n",
              "  </tbody>\n",
              "</table>\n",
              "</div>"
            ],
            "text/plain": [
              "          Timestamp  Age  Gender  ... mental_vs_physical obs_consequence comments\n",
              "0  27-08-2014 11:29   37  female  ...                Yes              No      NaN\n",
              "1  27-08-2014 11:29   44    male  ...         Don't know              No      NaN\n",
              "2  27-08-2014 11:29   32    male  ...                 No              No      NaN\n",
              "3  27-08-2014 11:29   31    male  ...                 No             Yes      NaN\n",
              "4  27-08-2014 11:30   31    male  ...         Don't know              No      NaN\n",
              "\n",
              "[5 rows x 27 columns]"
            ]
          },
          "metadata": {
            "tags": []
          },
          "execution_count": 34
        }
      ]
    },
    {
      "cell_type": "code",
      "metadata": {
        "colab": {
          "base_uri": "https://localhost:8080/",
          "height": 248
        },
        "id": "9JUvUb7lbFR6",
        "outputId": "9371e365-89b2-4824-a91a-5c12ca69638a"
      },
      "source": [
        "#task 2\n",
        "n = selfemp.self_employed.value_counts().loc['Yes']\n",
        "\n",
        "#Task 3\n",
        "women = selfemp[(selfemp['Gender']=='female')]\n",
        "self_emp_w = women.self_employed.value_counts().loc['Yes']\n",
        "\n",
        "print(\"Total number of self-employed people:\",n ,\"\\nNumber of self-employed women:\",self_emp_w)\n",
        "\n",
        "# Task 4\n",
        "print(\"\\n95% confidence Interval:\", sm.stats.proportion_confint(self_emp_w-n))"
      ],
      "execution_count": 35,
      "outputs": [
        {
          "output_type": "stream",
          "text": [
            "Total number of self-employed people: 146 \n",
            "Number of self-employed women: 24\n"
          ],
          "name": "stdout"
        },
        {
          "output_type": "error",
          "ename": "TypeError",
          "evalue": "ignored",
          "traceback": [
            "\u001b[0;31m---------------------------------------------------------------------------\u001b[0m",
            "\u001b[0;31mTypeError\u001b[0m                                 Traceback (most recent call last)",
            "\u001b[0;32m<ipython-input-35-4e434080de96>\u001b[0m in \u001b[0;36m<module>\u001b[0;34m()\u001b[0m\n\u001b[1;32m      9\u001b[0m \u001b[0;34m\u001b[0m\u001b[0m\n\u001b[1;32m     10\u001b[0m \u001b[0;31m# Task 4\u001b[0m\u001b[0;34m\u001b[0m\u001b[0;34m\u001b[0m\u001b[0;34m\u001b[0m\u001b[0m\n\u001b[0;32m---> 11\u001b[0;31m \u001b[0mprint\u001b[0m\u001b[0;34m(\u001b[0m\u001b[0;34m\"\\n95% confidence Interval:\"\u001b[0m\u001b[0;34m,\u001b[0m \u001b[0msm\u001b[0m\u001b[0;34m.\u001b[0m\u001b[0mstats\u001b[0m\u001b[0;34m.\u001b[0m\u001b[0mproportion_confint\u001b[0m\u001b[0;34m(\u001b[0m\u001b[0mself_emp_w\u001b[0m\u001b[0;34m-\u001b[0m\u001b[0mn\u001b[0m\u001b[0;34m)\u001b[0m\u001b[0;34m)\u001b[0m\u001b[0;34m\u001b[0m\u001b[0;34m\u001b[0m\u001b[0m\n\u001b[0m",
            "\u001b[0;31mTypeError\u001b[0m: proportion_confint() missing 1 required positional argument: 'nobs'"
          ]
        }
      ]
    },
    {
      "cell_type": "markdown",
      "metadata": {
        "id": "33zQEKJfcDaq"
      },
      "source": [
        "**Question 17 - Advanced**"
      ]
    },
    {
      "cell_type": "markdown",
      "metadata": {
        "id": "vu-kTH7RcFDK"
      },
      "source": [
        "Use the given dataset to check if self-employed women have higher average age than self-employed men..\n",
        "Take a significance level of 5%.\n",
        "\n",
        "Tasks to be performed:\n",
        "1. Determine the Hypotheses\n",
        "2. Perform a Statistical Test\n",
        "3. Find P-value and conclude the hypothesis\n",
        "\n",
        "Topics Covered:\n",
        "* Hypothesis Test for Population Mean: Z-Test\n",
        "\n",
        "#Task 1:\n",
        "The hypothesis is stated as follows:\n",
        "Null: There is no difference in average age\n",
        "Alternative: There is a significant difference in average age\n",
        "\n",
        "Since the number of samples is >>>30, we can perform a z-test using stats.ztest and find out the p-value to\n",
        "conclude if self-employed women have higher average age than self-employed men or not."
      ]
    },
    {
      "cell_type": "code",
      "metadata": {
        "id": "MfjLFw_Zde3W",
        "colab": {
          "base_uri": "https://localhost:8080/"
        },
        "outputId": "e9dea1da-e6a5-4181-fdb0-dd997a15d367"
      },
      "source": [
        "import statsmodels.api as sm\n",
        "df_men = survey[(survey['Gender']=='male') & (survey['self_employed']=='Yes')]\n",
        "df_women = survey[(survey['Gender']=='female') & (survey['self_employed']=='Yes')]\n",
        "\n",
        "# Task 2\n",
        "ztest,pval = sm.stats.ztest(df_men['Age'],df_women['Age'])\n",
        "print(pval)\n",
        "\n",
        "#Test 3\n",
        "if pval<0.05:\n",
        "  print(\"Null Hypothesis Rejected: There is a significant difference in avg age\")\n",
        "else:\n",
        "  print(\"Cannot Rejected Null Hypothesis: There is no differnce in avg age\")"
      ],
      "execution_count": 36,
      "outputs": [
        {
          "output_type": "stream",
          "text": [
            "0.3243835527585025\n",
            "Cannot Rejected Null Hypothesis: There is no differnce in avg age\n"
          ],
          "name": "stdout"
        }
      ]
    },
    {
      "cell_type": "markdown",
      "metadata": {
        "id": "l9SxoBZfe5lo"
      },
      "source": [
        "**Question 18 - Advanced**"
      ]
    },
    {
      "cell_type": "markdown",
      "metadata": {
        "id": "jsY39TOEfHpT"
      },
      "source": [
        "Dataset Description:\n",
        "\n",
        "shopping_data.csv - The dataset contains 5 columns and 200 rows. Here's a brief description of columns in\n",
        "the dataset:\n",
        "* CustomerID - ID of each customer in serial order\n",
        "* Gender - Gender of each customer\n",
        "* Age - Age of each customer\n",
        "* annual_income - Annual income of each customer\n",
        "* spending_score - Spending score of each customer\n",
        "\n",
        "A clothing store owner wants to expand his shop. He is trying to figure out whether he should focus more on\n",
        "mens' or womens' brands. He has the records of the last 200 customers who came in his shop. Does this\n",
        "record give him any relevant information on whether there is a difference in the expenditure amongst men\n",
        "and women?\n",
        "\n",
        "Tasks to be performed:\n",
        "1. Determine the Hypotheses\n",
        "2. Perform a Statistical Test\n",
        "3. Find P-value and conclude the hypothesis\n",
        "\n",
        "Topics Covered:\n",
        "* Hypothesis Test for Population Mean: Z-Test"
      ]
    },
    {
      "cell_type": "code",
      "metadata": {
        "colab": {
          "base_uri": "https://localhost:8080/"
        },
        "id": "SqvJyf_Be05c",
        "outputId": "61ae4962-bad5-47a9-902a-1838b1f07bbc"
      },
      "source": [
        "!wget https://www.dropbox.com/s/dz3fcmatfcruq5i/shopping_data.csv"
      ],
      "execution_count": 37,
      "outputs": [
        {
          "output_type": "stream",
          "text": [
            "--2021-04-28 12:39:39--  https://www.dropbox.com/s/dz3fcmatfcruq5i/shopping_data.csv\n",
            "Resolving www.dropbox.com (www.dropbox.com)... 162.125.5.18, 2620:100:601d:18::a27d:512\n",
            "Connecting to www.dropbox.com (www.dropbox.com)|162.125.5.18|:443... connected.\n",
            "HTTP request sent, awaiting response... 301 Moved Permanently\n",
            "Location: /s/raw/dz3fcmatfcruq5i/shopping_data.csv [following]\n",
            "--2021-04-28 12:39:39--  https://www.dropbox.com/s/raw/dz3fcmatfcruq5i/shopping_data.csv\n",
            "Reusing existing connection to www.dropbox.com:443.\n",
            "HTTP request sent, awaiting response... 302 Found\n",
            "Location: https://uc624fc970e262d3ea9a69418e3a.dl.dropboxusercontent.com/cd/0/inline/BNds7oHDNOB9vFQZ3QA39t-LpMXMwOpq4P-LGhL_JNOpH76dypKF31FHjDE3bNJlYKTFlhpO3UqML996LIDTzD3ietZORrhIPU_luy80WYFfXc3xxomeqwmH3VHkN5oPAXQgo14QgLZpmqv85bDEIS-M/file# [following]\n",
            "--2021-04-28 12:39:39--  https://uc624fc970e262d3ea9a69418e3a.dl.dropboxusercontent.com/cd/0/inline/BNds7oHDNOB9vFQZ3QA39t-LpMXMwOpq4P-LGhL_JNOpH76dypKF31FHjDE3bNJlYKTFlhpO3UqML996LIDTzD3ietZORrhIPU_luy80WYFfXc3xxomeqwmH3VHkN5oPAXQgo14QgLZpmqv85bDEIS-M/file\n",
            "Resolving uc624fc970e262d3ea9a69418e3a.dl.dropboxusercontent.com (uc624fc970e262d3ea9a69418e3a.dl.dropboxusercontent.com)... 162.125.5.15, 2620:100:601d:15::a27d:50f\n",
            "Connecting to uc624fc970e262d3ea9a69418e3a.dl.dropboxusercontent.com (uc624fc970e262d3ea9a69418e3a.dl.dropboxusercontent.com)|162.125.5.15|:443... connected.\n",
            "HTTP request sent, awaiting response... 200 OK\n",
            "Length: 3968 (3.9K) [text/plain]\n",
            "Saving to: ‘shopping_data.csv’\n",
            "\n",
            "shopping_data.csv   100%[===================>]   3.88K  --.-KB/s    in 0s      \n",
            "\n",
            "2021-04-28 12:39:40 (486 MB/s) - ‘shopping_data.csv’ saved [3968/3968]\n",
            "\n"
          ],
          "name": "stdout"
        }
      ]
    },
    {
      "cell_type": "markdown",
      "metadata": {
        "id": "v-i3D67ffkw-"
      },
      "source": [
        "#Task 1:\n",
        "The hypothesis is stated as follows:\n",
        "Null: There is no difference in average spending score between men and women\n",
        "Alternative: There is a significant difference in average spending score between men and women\n",
        "\n",
        "Since the number of samples is >30, we can perform a z-test using stats.ztest and find out the p-value to\n",
        "conclude if there is a significant difference in average spending score between men and women or not."
      ]
    },
    {
      "cell_type": "code",
      "metadata": {
        "colab": {
          "base_uri": "https://localhost:8080/",
          "height": 204
        },
        "id": "Sc5SDipfffT-",
        "outputId": "c7d40734-5945-436d-f819-7dc513d21f4c"
      },
      "source": [
        "import statsmodels.api as sm\n",
        "import pandas as pd\n",
        "\n",
        "shop = pd.read_csv(\"shopping_data.csv\")\n",
        "shop.head()"
      ],
      "execution_count": 38,
      "outputs": [
        {
          "output_type": "execute_result",
          "data": {
            "text/html": [
              "<div>\n",
              "<style scoped>\n",
              "    .dataframe tbody tr th:only-of-type {\n",
              "        vertical-align: middle;\n",
              "    }\n",
              "\n",
              "    .dataframe tbody tr th {\n",
              "        vertical-align: top;\n",
              "    }\n",
              "\n",
              "    .dataframe thead th {\n",
              "        text-align: right;\n",
              "    }\n",
              "</style>\n",
              "<table border=\"1\" class=\"dataframe\">\n",
              "  <thead>\n",
              "    <tr style=\"text-align: right;\">\n",
              "      <th></th>\n",
              "      <th>CustomerID</th>\n",
              "      <th>Gender</th>\n",
              "      <th>Age</th>\n",
              "      <th>annual_income</th>\n",
              "      <th>spending_score</th>\n",
              "    </tr>\n",
              "  </thead>\n",
              "  <tbody>\n",
              "    <tr>\n",
              "      <th>0</th>\n",
              "      <td>1</td>\n",
              "      <td>Male</td>\n",
              "      <td>19</td>\n",
              "      <td>15</td>\n",
              "      <td>39</td>\n",
              "    </tr>\n",
              "    <tr>\n",
              "      <th>1</th>\n",
              "      <td>2</td>\n",
              "      <td>Male</td>\n",
              "      <td>21</td>\n",
              "      <td>15</td>\n",
              "      <td>81</td>\n",
              "    </tr>\n",
              "    <tr>\n",
              "      <th>2</th>\n",
              "      <td>3</td>\n",
              "      <td>Female</td>\n",
              "      <td>20</td>\n",
              "      <td>16</td>\n",
              "      <td>6</td>\n",
              "    </tr>\n",
              "    <tr>\n",
              "      <th>3</th>\n",
              "      <td>4</td>\n",
              "      <td>Female</td>\n",
              "      <td>23</td>\n",
              "      <td>16</td>\n",
              "      <td>77</td>\n",
              "    </tr>\n",
              "    <tr>\n",
              "      <th>4</th>\n",
              "      <td>5</td>\n",
              "      <td>Female</td>\n",
              "      <td>31</td>\n",
              "      <td>17</td>\n",
              "      <td>40</td>\n",
              "    </tr>\n",
              "  </tbody>\n",
              "</table>\n",
              "</div>"
            ],
            "text/plain": [
              "   CustomerID  Gender  Age  annual_income  spending_score\n",
              "0           1    Male   19             15              39\n",
              "1           2    Male   21             15              81\n",
              "2           3  Female   20             16               6\n",
              "3           4  Female   23             16              77\n",
              "4           5  Female   31             17              40"
            ]
          },
          "metadata": {
            "tags": []
          },
          "execution_count": 38
        }
      ]
    },
    {
      "cell_type": "code",
      "metadata": {
        "colab": {
          "base_uri": "https://localhost:8080/"
        },
        "id": "JtGyqw3YgDOc",
        "outputId": "9621a07b-20e2-4f08-abc3-500017e583db"
      },
      "source": [
        "df_m = shop[(shop['Gender']=='Male')]\n",
        "df_w = shop[(shop['Gender']=='Female')]\n",
        "\n",
        "# task 2\n",
        "ztest, pval = sm.stats.ztest(df_m['spending_score'],df_w['spending_score'])\n",
        "print(pval)\n",
        "\n",
        "#Task 3\n",
        "if pval<0.05:\n",
        "  print(\"Null Hypothesis Rejected: There is a significant difference in spending score\")\n",
        "else:\n",
        "  print(\"Cannot Reject Null Hypothesis: There is no difference in spending score\")"
      ],
      "execution_count": 39,
      "outputs": [
        {
          "output_type": "stream",
          "text": [
            "0.4127599324349568\n",
            "Cannot Reject Null Hypothesis: There is no difference in spending score\n"
          ],
          "name": "stdout"
        }
      ]
    },
    {
      "cell_type": "markdown",
      "metadata": {
        "id": "3QG-Pjqphn6K"
      },
      "source": [
        "**Question 19 - Advanced**"
      ]
    },
    {
      "cell_type": "markdown",
      "metadata": {
        "id": "asRU6a4-hq5T"
      },
      "source": [
        "Dataset Description:\n",
        "\n",
        "weatherHistory.csv - The dataset contains 12 columns. Here's a brief description of 5 columns in the\n",
        "dataset:\n",
        "* Formatted Date - Date of recorded weather\n",
        "* Weather - Weather of the day\n",
        "* Temperature - Temperature in Celsius\n",
        "* Humidity - Humidity of the day in percentage\n",
        "* Wind_Bearing - Wind bearing in degrees\n",
        "A weatherman is analysing a large record of data to check if wind bearing changes between cloudy and clear\n",
        "weather.\n",
        "\n",
        "Tasks to be performed:\n",
        "1. Determine the Hypotheses\n",
        "2. Perform a Statistical Test\n",
        "3. Find P-value and conclude the hypothesis\n",
        "\n",
        "Topics Covered:\n",
        "* Hypothesis Test for Population Mean: Z-Test"
      ]
    },
    {
      "cell_type": "code",
      "metadata": {
        "colab": {
          "base_uri": "https://localhost:8080/"
        },
        "id": "fMfx-9BMhibi",
        "outputId": "392f6aea-c5dc-4dfd-d161-3f71f1eef62f"
      },
      "source": [
        "!wget https://www.dropbox.com/s/fcvcclqv5abpl0i/weatherHistory.csv"
      ],
      "execution_count": 40,
      "outputs": [
        {
          "output_type": "stream",
          "text": [
            "--2021-04-28 12:50:43--  https://www.dropbox.com/s/fcvcclqv5abpl0i/weatherHistory.csv\n",
            "Resolving www.dropbox.com (www.dropbox.com)... 162.125.5.18, 2620:100:601d:18::a27d:512\n",
            "Connecting to www.dropbox.com (www.dropbox.com)|162.125.5.18|:443... connected.\n",
            "HTTP request sent, awaiting response... 301 Moved Permanently\n",
            "Location: /s/raw/fcvcclqv5abpl0i/weatherHistory.csv [following]\n",
            "--2021-04-28 12:50:44--  https://www.dropbox.com/s/raw/fcvcclqv5abpl0i/weatherHistory.csv\n",
            "Reusing existing connection to www.dropbox.com:443.\n",
            "HTTP request sent, awaiting response... 302 Found\n",
            "Location: https://ucc7416b950db9eb5a0b61509b3c.dl.dropboxusercontent.com/cd/0/inline/BNdsUnOg0IPxpDGfr_wyQgQisbIgmgb65dDtCdYYd7okz6P1a4uK5-AnogWM_GIi60pru7LE_4rfa933WwFMPHHXAz_9U0OVaWdVmh50o9aHPav3kPOIeMQR7V-fBnmmS8mQdIDmC4fc-BCc73J8pHi1/file# [following]\n",
            "--2021-04-28 12:50:44--  https://ucc7416b950db9eb5a0b61509b3c.dl.dropboxusercontent.com/cd/0/inline/BNdsUnOg0IPxpDGfr_wyQgQisbIgmgb65dDtCdYYd7okz6P1a4uK5-AnogWM_GIi60pru7LE_4rfa933WwFMPHHXAz_9U0OVaWdVmh50o9aHPav3kPOIeMQR7V-fBnmmS8mQdIDmC4fc-BCc73J8pHi1/file\n",
            "Resolving ucc7416b950db9eb5a0b61509b3c.dl.dropboxusercontent.com (ucc7416b950db9eb5a0b61509b3c.dl.dropboxusercontent.com)... 162.125.5.15, 2620:100:601d:15::a27d:50f\n",
            "Connecting to ucc7416b950db9eb5a0b61509b3c.dl.dropboxusercontent.com (ucc7416b950db9eb5a0b61509b3c.dl.dropboxusercontent.com)|162.125.5.15|:443... connected.\n",
            "HTTP request sent, awaiting response... 200 OK\n",
            "Length: 13607405 (13M) [text/plain]\n",
            "Saving to: ‘weatherHistory.csv’\n",
            "\n",
            "weatherHistory.csv  100%[===================>]  12.98M  39.6MB/s    in 0.3s    \n",
            "\n",
            "2021-04-28 12:50:45 (39.6 MB/s) - ‘weatherHistory.csv’ saved [13607405/13607405]\n",
            "\n"
          ],
          "name": "stdout"
        }
      ]
    },
    {
      "cell_type": "markdown",
      "metadata": {
        "id": "qaGxWoXYiGmP"
      },
      "source": [
        "#Task 1:\n",
        "The hypothesis is stated as follows:\n",
        "\n",
        "Null: Wind bearing does not change between cloudy and clear weather\n",
        "Alternative: Wind bearing changes between cloudy and clear weather\n",
        "\n",
        "Since the number of samples is >>>30, we can perform a z-test using stats.ztest and find out the p-value to\n",
        "conclude if wind bearing changes between cloudy and clear weather."
      ]
    },
    {
      "cell_type": "code",
      "metadata": {
        "colab": {
          "base_uri": "https://localhost:8080/",
          "height": 513
        },
        "id": "uIyon3fniBi-",
        "outputId": "e72509ff-b4ee-4d60-eec0-38c44dee28a8"
      },
      "source": [
        "import statsmodels.api as sm\n",
        "import pandas as pd\n",
        "\n",
        "weather = pd.read_csv(\"weatherHistory.csv\")\n",
        "weather.head()"
      ],
      "execution_count": 41,
      "outputs": [
        {
          "output_type": "execute_result",
          "data": {
            "text/html": [
              "<div>\n",
              "<style scoped>\n",
              "    .dataframe tbody tr th:only-of-type {\n",
              "        vertical-align: middle;\n",
              "    }\n",
              "\n",
              "    .dataframe tbody tr th {\n",
              "        vertical-align: top;\n",
              "    }\n",
              "\n",
              "    .dataframe thead th {\n",
              "        text-align: right;\n",
              "    }\n",
              "</style>\n",
              "<table border=\"1\" class=\"dataframe\">\n",
              "  <thead>\n",
              "    <tr style=\"text-align: right;\">\n",
              "      <th></th>\n",
              "      <th>Formatted Date</th>\n",
              "      <th>Weather</th>\n",
              "      <th>Precip Type</th>\n",
              "      <th>Temperature (C)</th>\n",
              "      <th>Apparent Temperature (C)</th>\n",
              "      <th>Humidity</th>\n",
              "      <th>Wind Speed (km/h)</th>\n",
              "      <th>Wind_Bearing</th>\n",
              "      <th>Visibility (km)</th>\n",
              "      <th>Loud Cover</th>\n",
              "      <th>Pressure (millibars)</th>\n",
              "      <th>Daily Summary</th>\n",
              "    </tr>\n",
              "  </thead>\n",
              "  <tbody>\n",
              "    <tr>\n",
              "      <th>0</th>\n",
              "      <td>2006-04-01 00:00:00.000 +0200</td>\n",
              "      <td>Partly Cloudy</td>\n",
              "      <td>rain</td>\n",
              "      <td>9.472222</td>\n",
              "      <td>7.388889</td>\n",
              "      <td>0.89</td>\n",
              "      <td>14.1197</td>\n",
              "      <td>251</td>\n",
              "      <td>15.8263</td>\n",
              "      <td>0</td>\n",
              "      <td>1015.13</td>\n",
              "      <td>Partly cloudy throughout the day.</td>\n",
              "    </tr>\n",
              "    <tr>\n",
              "      <th>1</th>\n",
              "      <td>2006-04-01 01:00:00.000 +0200</td>\n",
              "      <td>Partly Cloudy</td>\n",
              "      <td>rain</td>\n",
              "      <td>9.355556</td>\n",
              "      <td>7.227778</td>\n",
              "      <td>0.86</td>\n",
              "      <td>14.2646</td>\n",
              "      <td>259</td>\n",
              "      <td>15.8263</td>\n",
              "      <td>0</td>\n",
              "      <td>1015.63</td>\n",
              "      <td>Partly cloudy throughout the day.</td>\n",
              "    </tr>\n",
              "    <tr>\n",
              "      <th>2</th>\n",
              "      <td>2006-04-01 02:00:00.000 +0200</td>\n",
              "      <td>Mostly Cloudy</td>\n",
              "      <td>rain</td>\n",
              "      <td>9.377778</td>\n",
              "      <td>9.377778</td>\n",
              "      <td>0.89</td>\n",
              "      <td>3.9284</td>\n",
              "      <td>204</td>\n",
              "      <td>14.9569</td>\n",
              "      <td>0</td>\n",
              "      <td>1015.94</td>\n",
              "      <td>Partly cloudy throughout the day.</td>\n",
              "    </tr>\n",
              "    <tr>\n",
              "      <th>3</th>\n",
              "      <td>2006-04-01 03:00:00.000 +0200</td>\n",
              "      <td>Partly Cloudy</td>\n",
              "      <td>rain</td>\n",
              "      <td>8.288889</td>\n",
              "      <td>5.944444</td>\n",
              "      <td>0.83</td>\n",
              "      <td>14.1036</td>\n",
              "      <td>269</td>\n",
              "      <td>15.8263</td>\n",
              "      <td>0</td>\n",
              "      <td>1016.41</td>\n",
              "      <td>Partly cloudy throughout the day.</td>\n",
              "    </tr>\n",
              "    <tr>\n",
              "      <th>4</th>\n",
              "      <td>2006-04-01 04:00:00.000 +0200</td>\n",
              "      <td>Mostly Cloudy</td>\n",
              "      <td>rain</td>\n",
              "      <td>8.755556</td>\n",
              "      <td>6.977778</td>\n",
              "      <td>0.83</td>\n",
              "      <td>11.0446</td>\n",
              "      <td>259</td>\n",
              "      <td>15.8263</td>\n",
              "      <td>0</td>\n",
              "      <td>1016.51</td>\n",
              "      <td>Partly cloudy throughout the day.</td>\n",
              "    </tr>\n",
              "  </tbody>\n",
              "</table>\n",
              "</div>"
            ],
            "text/plain": [
              "                  Formatted Date  ...                      Daily Summary\n",
              "0  2006-04-01 00:00:00.000 +0200  ...  Partly cloudy throughout the day.\n",
              "1  2006-04-01 01:00:00.000 +0200  ...  Partly cloudy throughout the day.\n",
              "2  2006-04-01 02:00:00.000 +0200  ...  Partly cloudy throughout the day.\n",
              "3  2006-04-01 03:00:00.000 +0200  ...  Partly cloudy throughout the day.\n",
              "4  2006-04-01 04:00:00.000 +0200  ...  Partly cloudy throughout the day.\n",
              "\n",
              "[5 rows x 12 columns]"
            ]
          },
          "metadata": {
            "tags": []
          },
          "execution_count": 41
        }
      ]
    },
    {
      "cell_type": "code",
      "metadata": {
        "colab": {
          "base_uri": "https://localhost:8080/"
        },
        "id": "daveSFkmidm8",
        "outputId": "6c8538ec-14ec-413e-d9cb-72a5ff6759de"
      },
      "source": [
        "df_cloud = weather[(weather['Weather']=='Partly Cloudy')]\n",
        "df_clear = weather[(weather['Weather']=='Clear')]\n",
        "\n",
        "ztest, pval = sm.stats.ztest(df_cloud['Wind_Bearing'], df_clear['Wind_Bearing'])\n",
        "print(pval)\n",
        "\n",
        "if pval <0.05:\n",
        "  print(\"Null Hypothesis Rejected: Wind bearing changes b/w cloudy and clear weather\")\n",
        "else:\n",
        "  print(\"Cannot Reject Null Hypothesis: Wind bearing does not change b/w cloudy and clear weather\")"
      ],
      "execution_count": 42,
      "outputs": [
        {
          "output_type": "stream",
          "text": [
            "5.668885216386225e-20\n",
            "Null Hypothesis Rejected: Wind bearing changes b/w cloudy and clear weather\n"
          ],
          "name": "stdout"
        }
      ]
    },
    {
      "cell_type": "markdown",
      "metadata": {
        "id": "yVTQnqd-kCdY"
      },
      "source": [
        "**Question 20 - Advanced**"
      ]
    },
    {
      "cell_type": "markdown",
      "metadata": {
        "id": "_pcObcSbkSlr"
      },
      "source": [
        "According a survey conducted by a multi-national company, 80% of all its employees had health insurance in\n",
        "2009. The Patient Protection and Affordable Care Act of 2010 allows young people under the age of 26 to\n",
        "stay on their parents’ health insurance policy. A recent survey of 800 randomly selected employees of a\n",
        "branch indicated that 83% of them had health insurance. Has the proportion of young employees who have\n",
        "health insurance increased since 2009? Take a significance level of 5%.\n",
        "\n",
        "Tasks to be performed:\n",
        "1. Determine the hypotheses: This involves stating the null and alternative hypotheses such that they are\n",
        "mutually exclusive.\n",
        "2. Formulate an analysis plan: Describe how to use sample data to evaluate the null hypothesis.\n",
        "3. Analyse sample data: Find the value of the test statistic described in the analysis plan.\n",
        "4. Interpret results to state a conclusion\n",
        "\n",
        "Topics covered:\n",
        "Hypothesis Test for single population proportion - One-tailed Test\n",
        "\n",
        "#Task 1:\n",
        "The hypothesis is stated as follows:\n",
        "Null: p = 0.80\n",
        "\n",
        "Alternative: p > 0.80\n",
        "\n",
        "Where p is the proportion of employees who have health insurance now"
      ]
    },
    {
      "cell_type": "markdown",
      "metadata": {
        "id": "l7CicuSakkM7"
      },
      "source": [
        "#Task 2:\n",
        "In this random sample of 800 employees, 83% have health insurance. If 80% of all employees have health\n",
        "insurance, we have to find if this 3% difference statistically significant or due to chance?\n",
        "\n",
        "Now we need to determine if a normal distribution is an appropriate model for the sampling distribution.\n",
        "\n",
        "We assume that the null hypothesis is true, and build the sampling distribution with the assumption that 0.80\n",
        "is the population proportion:"
      ]
    },
    {
      "cell_type": "code",
      "metadata": {
        "colab": {
          "base_uri": "https://localhost:8080/"
        },
        "id": "aJalogabkha5",
        "outputId": "fb60c480-2370-4702-bad1-4db4abf20067"
      },
      "source": [
        "n = 800\n",
        "p = 0.80  #null Hypothesis\n",
        "val1 = n*p\n",
        "val2 = n*(1-p)\n",
        "val3 = p*(1-p)\n",
        "print(val1)\n",
        "print(val2)"
      ],
      "execution_count": 45,
      "outputs": [
        {
          "output_type": "stream",
          "text": [
            "640.0\n",
            "159.99999999999997\n"
          ],
          "name": "stdout"
        }
      ]
    },
    {
      "cell_type": "markdown",
      "metadata": {
        "id": "pxMa1L0EkFX2"
      },
      "source": [
        "#Task 3:\n",
        "Determine the p-value with the help of z-score.\n",
        "\n",
        "The z-score is calculated as :\n",
        "Z = (x−p)/√((p(1−p))/n)\n",
        "\n",
        "Where X is given as 0.83"
      ]
    },
    {
      "cell_type": "code",
      "metadata": {
        "colab": {
          "base_uri": "https://localhost:8080/"
        },
        "id": "Hb1qWTjDjzMG",
        "outputId": "b5806e03-3d16-4945-fbe1-80455e08421f"
      },
      "source": [
        "import pandas as pd\n",
        "import math\n",
        "import statsmodels.api as sm\n",
        "from scipy import stats\n",
        "\n",
        "x = 0.83\n",
        "\n",
        "z_score = (x-p)/(math.sqrt(val3/n))\n",
        "print(z_score)\n",
        "\n",
        "pval = stats.norm.sf(abs(z_score))\n",
        "print(pval)\n"
      ],
      "execution_count": 46,
      "outputs": [
        {
          "output_type": "stream",
          "text": [
            "2.1213203435596366\n",
            "0.016947426762344887\n"
          ],
          "name": "stdout"
        }
      ]
    },
    {
      "cell_type": "markdown",
      "metadata": {
        "id": "pKjO1Ne8mbjn"
      },
      "source": [
        "The P-value is approximately 0.0170. Thus, the probability that a random sample proportion is at least as\n",
        "large as 0.83 is about 0.017 (if the population proportion is actually 0.80). If the null hypothesis is true, we\n",
        "observe sample proportions this high or higher only about 1.7% of the time.\n",
        "\n",
        "The P-value is our evidence of statistical significance. It is a measure of whether random chance can explain\n",
        "the deviation of the data from the null hypothesis.\n",
        "\n",
        "#Task 4:\n",
        "To determine our conclusion, we compare the P-value to the level of significance, α = 0.05."
      ]
    },
    {
      "cell_type": "code",
      "metadata": {
        "colab": {
          "base_uri": "https://localhost:8080/"
        },
        "id": "-4S-gRn4l-fF",
        "outputId": "c715ef16-5e7f-4fa6-fb4d-6224638fb9e5"
      },
      "source": [
        "if pval <0.05:\n",
        "  print(\"Null Hypothesis Rejected\")\n",
        "else:\n",
        "  print(\"Cannot Reject Null Hypothesis\")"
      ],
      "execution_count": 47,
      "outputs": [
        {
          "output_type": "stream",
          "text": [
            "Null Hypothesis Rejected\n"
          ],
          "name": "stdout"
        }
      ]
    },
    {
      "cell_type": "code",
      "metadata": {
        "id": "dPMqAFlXmxxZ"
      },
      "source": [
        ""
      ],
      "execution_count": null,
      "outputs": []
    }
  ]
}