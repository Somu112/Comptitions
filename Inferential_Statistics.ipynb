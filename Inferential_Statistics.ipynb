{
  "nbformat": 4,
  "nbformat_minor": 0,
  "metadata": {
    "colab": {
      "name": "Inferential Statistics",
      "provenance": [],
      "authorship_tag": "ABX9TyNHGI7sX1tqswNXHTXTMMr6",
      "include_colab_link": true
    },
    "kernelspec": {
      "name": "python3",
      "display_name": "Python 3"
    },
    "language_info": {
      "name": "python"
    }
  },
  "cells": [
    {
      "cell_type": "markdown",
      "metadata": {
        "id": "view-in-github",
        "colab_type": "text"
      },
      "source": [
        "<a href=\"https://colab.research.google.com/github/Somu112/Comptitions/blob/master/Inferential_Statistics.ipynb\" target=\"_parent\"><img src=\"https://colab.research.google.com/assets/colab-badge.svg\" alt=\"Open In Colab\"/></a>"
      ]
    },
    {
      "cell_type": "markdown",
      "metadata": {
        "id": "Bnm0xM0OuMJc"
      },
      "source": [
        "Statistical Inference is the the process of using a random sample of data taken from a population to describe\n",
        "and make inferences about the population. Inferential statistics are valuable when examination of each\n",
        "member of an entire population is not convenient or possible. There are three main ways of learning about\n",
        "the population parameter from the sample statistic:\n",
        "* Point Estimation\n",
        "* Interval Estimation\n",
        "* Hypothesis Testing\n",
        "* The most common being Hypothesis Testing which refers to the formal procedures used by statisticians to\n",
        "accept or reject Statistical Hypotheses."
      ]
    },
    {
      "cell_type": "markdown",
      "metadata": {
        "id": "sTyknoicuj2p"
      },
      "source": [
        "**Questions 1-3:**"
      ]
    },
    {
      "cell_type": "markdown",
      "metadata": {
        "id": "N3fHknh2up87"
      },
      "source": [
        "Cars.csv - The dataset contains 24 columns and 205 rows. Here's a brief description of the 7 columns in the\n",
        "dataset:\n",
        "* carname - Name of the car\n",
        "* fueltype - Type of fuel used in the car\n",
        "* horsepower - Horsepower of car\n",
        "* peakrpm - Peak RPM of the car\n",
        "* citympg - MPG in city\n",
        "* highwaympg - MPG on highway\n",
        "* price - Price of the car"
      ]
    },
    {
      "cell_type": "code",
      "metadata": {
        "id": "iz8ux7IXgeiQ",
        "colab": {
          "base_uri": "https://localhost:8080/"
        },
        "outputId": "37e46c33-6390-4b4b-c13d-ffc731588d7f"
      },
      "source": [
        "#fetch and download the datset from dropbox\n",
        "!wget https://www.dropbox.com/s/kpsz3l9zfc0suca/Cars.csv"
      ],
      "execution_count": null,
      "outputs": [
        {
          "output_type": "stream",
          "text": [
            "--2021-04-27 19:08:57--  https://www.dropbox.com/s/kpsz3l9zfc0suca/Cars.csv\n",
            "Resolving www.dropbox.com (www.dropbox.com)... 162.125.82.18, 2620:100:6032:18::a27d:5212\n",
            "Connecting to www.dropbox.com (www.dropbox.com)|162.125.82.18|:443... connected.\n",
            "HTTP request sent, awaiting response... 301 Moved Permanently\n",
            "Location: /s/raw/kpsz3l9zfc0suca/Cars.csv [following]\n",
            "--2021-04-27 19:08:57--  https://www.dropbox.com/s/raw/kpsz3l9zfc0suca/Cars.csv\n",
            "Reusing existing connection to www.dropbox.com:443.\n",
            "HTTP request sent, awaiting response... 302 Found\n",
            "Location: https://uc973a7b59e57bd9fe854507d2af.dl.dropboxusercontent.com/cd/0/inline/BNZcUcWEgvvJarzxE6Q-w7Mc-R3OgRGmac40ORYSsa8b7wX-tQpcWvFpcbWWjT1XOmihkSFYn7UJW-Jobq-Zh9ePL1qsQFA7qeM5fp6tJzV8rHu6lOg6oRYujIRfiPeVldfRlV811gnyhwXwyuyudynU/file# [following]\n",
            "--2021-04-27 19:08:57--  https://uc973a7b59e57bd9fe854507d2af.dl.dropboxusercontent.com/cd/0/inline/BNZcUcWEgvvJarzxE6Q-w7Mc-R3OgRGmac40ORYSsa8b7wX-tQpcWvFpcbWWjT1XOmihkSFYn7UJW-Jobq-Zh9ePL1qsQFA7qeM5fp6tJzV8rHu6lOg6oRYujIRfiPeVldfRlV811gnyhwXwyuyudynU/file\n",
            "Resolving uc973a7b59e57bd9fe854507d2af.dl.dropboxusercontent.com (uc973a7b59e57bd9fe854507d2af.dl.dropboxusercontent.com)... 162.125.82.15, 2620:100:6032:15::a27d:520f\n",
            "Connecting to uc973a7b59e57bd9fe854507d2af.dl.dropboxusercontent.com (uc973a7b59e57bd9fe854507d2af.dl.dropboxusercontent.com)|162.125.82.15|:443... connected.\n",
            "HTTP request sent, awaiting response... 200 OK\n",
            "Length: 25324 (25K) [text/plain]\n",
            "Saving to: ‘Cars.csv’\n",
            "\n",
            "Cars.csv            100%[===================>]  24.73K  --.-KB/s    in 0.1s    \n",
            "\n",
            "2021-04-27 19:08:58 (235 KB/s) - ‘Cars.csv’ saved [25324/25324]\n",
            "\n"
          ],
          "name": "stdout"
        }
      ]
    },
    {
      "cell_type": "markdown",
      "metadata": {
        "id": "ZGyJfmfVvHiV"
      },
      "source": [
        "Tasks to be performed:\n",
        "1. Find the population mean and standard deviation for peakrpm column.\n",
        "2. Draw a sample of 25 from the population of peakrpm column and calculate the sample mean and\n",
        "standard deviation using Pandas.\n",
        "Topics covered:\n",
        "* Population Mean and Population Std. Deviation\n",
        "* Sample Mean and Sample Std. Deviation"
      ]
    },
    {
      "cell_type": "code",
      "metadata": {
        "colab": {
          "base_uri": "https://localhost:8080/",
          "height": 275
        },
        "id": "XaQUXFZSu9SD",
        "outputId": "fb76b66a-0705-4892-bd56-4bc95680a710"
      },
      "source": [
        "import pandas as pd\n",
        "import numpy as np\n",
        "\n",
        "carsrpm = pd.read_csv(\"Cars.csv\")\n",
        "carsrpm.head()"
      ],
      "execution_count": null,
      "outputs": [
        {
          "output_type": "execute_result",
          "data": {
            "text/html": [
              "<div>\n",
              "<style scoped>\n",
              "    .dataframe tbody tr th:only-of-type {\n",
              "        vertical-align: middle;\n",
              "    }\n",
              "\n",
              "    .dataframe tbody tr th {\n",
              "        vertical-align: top;\n",
              "    }\n",
              "\n",
              "    .dataframe thead th {\n",
              "        text-align: right;\n",
              "    }\n",
              "</style>\n",
              "<table border=\"1\" class=\"dataframe\">\n",
              "  <thead>\n",
              "    <tr style=\"text-align: right;\">\n",
              "      <th></th>\n",
              "      <th>carname</th>\n",
              "      <th>fueltype</th>\n",
              "      <th>aspiration</th>\n",
              "      <th>doornumber</th>\n",
              "      <th>carbody</th>\n",
              "      <th>drivewheel</th>\n",
              "      <th>enginelocation</th>\n",
              "      <th>wheelbase</th>\n",
              "      <th>carlength</th>\n",
              "      <th>carwidth</th>\n",
              "      <th>carheight</th>\n",
              "      <th>curbweight</th>\n",
              "      <th>enginetype</th>\n",
              "      <th>cylindernumber</th>\n",
              "      <th>enginesize</th>\n",
              "      <th>fuelsystem</th>\n",
              "      <th>boreratio</th>\n",
              "      <th>stroke</th>\n",
              "      <th>compressionratio</th>\n",
              "      <th>horsepower</th>\n",
              "      <th>peakrpm</th>\n",
              "      <th>citympg</th>\n",
              "      <th>highwaympg</th>\n",
              "      <th>price</th>\n",
              "    </tr>\n",
              "  </thead>\n",
              "  <tbody>\n",
              "    <tr>\n",
              "      <th>0</th>\n",
              "      <td>alfa-romero giulia</td>\n",
              "      <td>gas</td>\n",
              "      <td>std</td>\n",
              "      <td>two</td>\n",
              "      <td>convertible</td>\n",
              "      <td>rwd</td>\n",
              "      <td>front</td>\n",
              "      <td>88.6</td>\n",
              "      <td>168.8</td>\n",
              "      <td>64.1</td>\n",
              "      <td>48.8</td>\n",
              "      <td>2548</td>\n",
              "      <td>dohc</td>\n",
              "      <td>four</td>\n",
              "      <td>130.0</td>\n",
              "      <td>mpfi</td>\n",
              "      <td>3.47</td>\n",
              "      <td>2.68</td>\n",
              "      <td>9.0</td>\n",
              "      <td>111</td>\n",
              "      <td>5000</td>\n",
              "      <td>21</td>\n",
              "      <td>27</td>\n",
              "      <td>13495.0</td>\n",
              "    </tr>\n",
              "    <tr>\n",
              "      <th>1</th>\n",
              "      <td>alfa-romero stelvio</td>\n",
              "      <td>gas</td>\n",
              "      <td>std</td>\n",
              "      <td>two</td>\n",
              "      <td>convertible</td>\n",
              "      <td>rwd</td>\n",
              "      <td>front</td>\n",
              "      <td>88.6</td>\n",
              "      <td>168.8</td>\n",
              "      <td>64.1</td>\n",
              "      <td>48.8</td>\n",
              "      <td>2548</td>\n",
              "      <td>dohc</td>\n",
              "      <td>four</td>\n",
              "      <td>130.0</td>\n",
              "      <td>mpfi</td>\n",
              "      <td>3.47</td>\n",
              "      <td>2.68</td>\n",
              "      <td>9.0</td>\n",
              "      <td>111</td>\n",
              "      <td>5000</td>\n",
              "      <td>21</td>\n",
              "      <td>27</td>\n",
              "      <td>16500.0</td>\n",
              "    </tr>\n",
              "    <tr>\n",
              "      <th>2</th>\n",
              "      <td>alfa-romero Quadrifoglio</td>\n",
              "      <td>gas</td>\n",
              "      <td>std</td>\n",
              "      <td>two</td>\n",
              "      <td>hatchback</td>\n",
              "      <td>rwd</td>\n",
              "      <td>front</td>\n",
              "      <td>94.5</td>\n",
              "      <td>171.2</td>\n",
              "      <td>65.5</td>\n",
              "      <td>NaN</td>\n",
              "      <td>2823</td>\n",
              "      <td>ohcv</td>\n",
              "      <td>six</td>\n",
              "      <td>152.0</td>\n",
              "      <td>mpfi</td>\n",
              "      <td>2.68</td>\n",
              "      <td>3.47</td>\n",
              "      <td>9.0</td>\n",
              "      <td>154</td>\n",
              "      <td>5000</td>\n",
              "      <td>19</td>\n",
              "      <td>26</td>\n",
              "      <td>16500.0</td>\n",
              "    </tr>\n",
              "    <tr>\n",
              "      <th>3</th>\n",
              "      <td>audi 100 ls</td>\n",
              "      <td>gas</td>\n",
              "      <td>std</td>\n",
              "      <td>four</td>\n",
              "      <td>sedan</td>\n",
              "      <td>fwd</td>\n",
              "      <td>front</td>\n",
              "      <td>99.8</td>\n",
              "      <td>176.6</td>\n",
              "      <td>66.2</td>\n",
              "      <td>NaN</td>\n",
              "      <td>2337</td>\n",
              "      <td>ohc</td>\n",
              "      <td>four</td>\n",
              "      <td>109.0</td>\n",
              "      <td>mpfi</td>\n",
              "      <td>3.19</td>\n",
              "      <td>3.40</td>\n",
              "      <td>10.0</td>\n",
              "      <td>102</td>\n",
              "      <td>5500</td>\n",
              "      <td>24</td>\n",
              "      <td>30</td>\n",
              "      <td>13950.0</td>\n",
              "    </tr>\n",
              "    <tr>\n",
              "      <th>4</th>\n",
              "      <td>audi 100ls</td>\n",
              "      <td>gas</td>\n",
              "      <td>std</td>\n",
              "      <td>four</td>\n",
              "      <td>sedan</td>\n",
              "      <td>4wd</td>\n",
              "      <td>front</td>\n",
              "      <td>99.4</td>\n",
              "      <td>176.6</td>\n",
              "      <td>66.4</td>\n",
              "      <td>NaN</td>\n",
              "      <td>2824</td>\n",
              "      <td>ohc</td>\n",
              "      <td>five</td>\n",
              "      <td>136.0</td>\n",
              "      <td>mpfi</td>\n",
              "      <td>3.19</td>\n",
              "      <td>3.40</td>\n",
              "      <td>8.0</td>\n",
              "      <td>115</td>\n",
              "      <td>5500</td>\n",
              "      <td>18</td>\n",
              "      <td>22</td>\n",
              "      <td>17450.0</td>\n",
              "    </tr>\n",
              "  </tbody>\n",
              "</table>\n",
              "</div>"
            ],
            "text/plain": [
              "                    carname fueltype aspiration  ... citympg highwaympg    price\n",
              "0        alfa-romero giulia      gas        std  ...      21         27  13495.0\n",
              "1       alfa-romero stelvio      gas        std  ...      21         27  16500.0\n",
              "2  alfa-romero Quadrifoglio      gas        std  ...      19         26  16500.0\n",
              "3               audi 100 ls      gas        std  ...      24         30  13950.0\n",
              "4                audi 100ls      gas        std  ...      18         22  17450.0\n",
              "\n",
              "[5 rows x 24 columns]"
            ]
          },
          "metadata": {
            "tags": []
          },
          "execution_count": 2
        }
      ]
    },
    {
      "cell_type": "code",
      "metadata": {
        "colab": {
          "base_uri": "https://localhost:8080/"
        },
        "id": "F2tztaT6vlU9",
        "outputId": "8946a114-da88-40e4-ba72-b63d628730aa"
      },
      "source": [
        "population_peakrpm = carsrpm.peakrpm\n",
        "mu = population_peakrpm.mean()\n",
        "sigma = population_peakrpm.std()\n",
        "\n",
        "#task 2\n",
        "sample_size = 25\n",
        "sample = carsrpm.sample(n=sample_size, random_state=1).peakrpm\n",
        "\n",
        "sample_mu = sample.mean()\n",
        "sample_sigma = sample.std()\n",
        "\n",
        "print(\"Sample mean is %.2f campared with population mean %.2f\" %(sample_mu, mu))\n",
        "print(\"Sample std. deviation is %.2f compared with population mean of %.2f\" %(sample_sigma, sigma))"
      ],
      "execution_count": null,
      "outputs": [
        {
          "output_type": "stream",
          "text": [
            "Sample mean is 5214.00 campared with population mean 5125.12\n",
            "Sample std. deviation is 490.65 compared with population mean of 476.99\n"
          ],
          "name": "stdout"
        }
      ]
    },
    {
      "cell_type": "markdown",
      "metadata": {
        "id": "TGgj5NRwxjRW"
      },
      "source": [
        "**Question 2 - Beginner**"
      ]
    },
    {
      "cell_type": "markdown",
      "metadata": {
        "id": "XPrJ6wwuxtnY"
      },
      "source": [
        "Tasks to be performed:\n",
        "1. Calculate the margin of error for 95% confidence level for peakrpm column using the standard deviation\n",
        "of the population.\n",
        "2. Calculate the confidence interval for the same column."
      ]
    },
    {
      "cell_type": "markdown",
      "metadata": {
        "id": "QB_q5Lr2xyAo"
      },
      "source": [
        "Topics covered:\n",
        " * Margin of Error\n",
        " * Confidence Interval\n",
        " * Z-critical"
      ]
    },
    {
      "cell_type": "code",
      "metadata": {
        "colab": {
          "base_uri": "https://localhost:8080/"
        },
        "id": "W2_nz1ZaxVHn",
        "outputId": "65f19513-34f8-4b5e-bd5a-2f4b6e752d33"
      },
      "source": [
        "from scipy import stats\n",
        "import math\n",
        "\n",
        "#if standard deviation of the population is known, we calculated the z_critical value\n",
        "z_critical = stats.norm.ppf(q = 0.95)\n",
        "print(\"z-critical\",z_critical)\n",
        "\n",
        "#task 1\n",
        "margin = z_critical * (sigma/math.sqrt(sample_size))\n",
        "print(\"The margin of error is: \", margin)\n",
        "\n",
        "#Task 2\n",
        "conf = (sample_mu - margin, sample_mu + margin)\n",
        "print(\"The confidence interval is \", conf)"
      ],
      "execution_count": null,
      "outputs": [
        {
          "output_type": "stream",
          "text": [
            "z-critical 1.6448536269514722\n",
            "The margin of error is:  156.91431299719974\n",
            "The confidence interval is  (5057.0856870028, 5370.9143129972)\n"
          ],
          "name": "stdout"
        }
      ]
    },
    {
      "cell_type": "markdown",
      "metadata": {
        "id": "hwInaPPEzo71"
      },
      "source": [
        "**Question 3 - Beginner**"
      ]
    },
    {
      "cell_type": "markdown",
      "metadata": {
        "id": "LNtOZwB9zvJs"
      },
      "source": [
        "Tasks to be performed:\n",
        "1. Calculate the margin of error for 95% confidence level for peakrpm column using the standard deviation\n",
        "of the sample.\n",
        "2. Calculate the confidence interval for the same column."
      ]
    },
    {
      "cell_type": "markdown",
      "metadata": {
        "id": "pdOisIc80Dlz"
      },
      "source": [
        "Topics covered:\n",
        "* Margin of Error\n",
        "* Confidence Interval\n",
        "* T-critical"
      ]
    },
    {
      "cell_type": "code",
      "metadata": {
        "colab": {
          "base_uri": "https://localhost:8080/"
        },
        "id": "TLcarmTBzUbI",
        "outputId": "e77cbf57-0383-4d5d-9c95-12849e16e4c8"
      },
      "source": [
        "#if standard deviation of the population is unkwon, only sample standard deviation is known, we calculate the t-critical value\n",
        "t_critical = stats.t.ppf(q = 0.95, df = 24)\n",
        "print(\"t-critical\",t_critical)"
      ],
      "execution_count": null,
      "outputs": [
        {
          "output_type": "stream",
          "text": [
            "t-critical 1.7108820799094275\n"
          ],
          "name": "stdout"
        }
      ]
    },
    {
      "cell_type": "code",
      "metadata": {
        "colab": {
          "base_uri": "https://localhost:8080/"
        },
        "id": "F-ACNhLe02GH",
        "outputId": "59a0aad8-01c3-402d-98ce-49785f4d2d49"
      },
      "source": [
        "print(\"t-critical\",t_critical)\n",
        "\n",
        "#3.1\n",
        "margin = t_critical + (sample_sigma/math.sqrt(sample_size))\n",
        "print(\"The margin of error is: \", margin)\n",
        "\n",
        "#3.2\n",
        "conf = (sample_mu - margin, sample_mu + margin)\n",
        "print(\"The confidence interval is:\", conf)"
      ],
      "execution_count": null,
      "outputs": [
        {
          "output_type": "stream",
          "text": [
            "t-critical 1.7108820799094275\n",
            "The margin of error is:  99.84004865811559\n",
            "The confidence interval is: (5114.159951341884, 5313.840048658116)\n"
          ],
          "name": "stdout"
        }
      ]
    },
    {
      "cell_type": "markdown",
      "metadata": {
        "id": "GEK_8niT2DC8"
      },
      "source": [
        "**Question 4 - Beginner**"
      ]
    },
    {
      "cell_type": "markdown",
      "metadata": {
        "id": "2m2qBb3W2K8N"
      },
      "source": [
        "Create two lists having 7 elements that are positive integer values a=[201,873,667,789,876,567,765] and b=\n",
        "[678,543,356,123,345,987,876]. Check if there exists a relationship between the means of the two lists.\n",
        "Tasks to be performed:\n",
        "1. Determine the Hypotheses\n",
        "2. Perform a Statistical Test for Population Means\n",
        "3. Find P-value and conclude the Hypotheses"
      ]
    },
    {
      "cell_type": "markdown",
      "metadata": {
        "id": "UzuEMyFm2Q37"
      },
      "source": [
        "Topics Covered:\n",
        "Hypothesis Test for Population Mean: Two-sided Independent Sample T-Test\n",
        "#Task 1:\n",
        "The hypothesis is stated as follows:\n",
        "* Null - There is no relationship * (independent)\n",
        "* Alternate - There exists a relationship\n",
        "\n",
        "Since the number of samples <30, we can perform a t-test using stats.ttest_ind and find out the p-value to\n",
        "conclude the relationship between the means of the two lists."
      ]
    },
    {
      "cell_type": "code",
      "metadata": {
        "colab": {
          "base_uri": "https://localhost:8080/"
        },
        "id": "h9vCltYJ1oP6",
        "outputId": "e35a2eae-f272-436a-d814-5e184bd8a856"
      },
      "source": [
        "import math\n",
        "import pandas as pd\n",
        "import numpy as np\n",
        "import statsmodels.api as sm\n",
        "\n",
        "#Task 2\n",
        "a=[201,873,667,789,876,567,765]\n",
        "b=[678,543,356,123,345,987,876]\n",
        "\n",
        "zresult = sm.stats.ttest_ind(a, b, alternative=\"two-sided\")\n",
        "pval = zresult[1]\n",
        "print(pval)\n",
        "\n",
        "# Task 3\n",
        "if pval<0.05:\n",
        "  print(\"There exist a relationship\")\n",
        "else:\n",
        "  print(\"There is no relationship (independent)\")"
      ],
      "execution_count": null,
      "outputs": [
        {
          "output_type": "stream",
          "text": [
            "/usr/local/lib/python3.7/dist-packages/statsmodels/tools/_testing.py:19: FutureWarning: pandas.util.testing is deprecated. Use the functions in the public API at pandas.testing instead.\n",
            "  import pandas.util.testing as tm\n"
          ],
          "name": "stderr"
        },
        {
          "output_type": "stream",
          "text": [
            "0.43673938240432864\n",
            "There is no relationship (independent)\n"
          ],
          "name": "stdout"
        }
      ]
    },
    {
      "cell_type": "markdown",
      "metadata": {
        "id": "IyagV3gT4U5k"
      },
      "source": [
        "**Question 5 - Beginner**"
      ]
    },
    {
      "cell_type": "markdown",
      "metadata": {
        "id": "LqrOuGr64aDD"
      },
      "source": [
        "blood_pressure.csv - The dataset contains 5 columns and 120 rows. Here's a brief description of the\n",
        "columns in the dataset:\n",
        "* patient - Patients in serial order\n",
        "* sex - Sex of the patient\n",
        "* agrgrp - Age of the patient\n",
        "* bp_before - Blood Pressure before a drug is administered\n",
        "* bp_after - Blood Pressure after a drug is administered"
      ]
    },
    {
      "cell_type": "markdown",
      "metadata": {
        "id": "PILHhtpc4vGB"
      },
      "source": [
        "From a given dataset, find out if the overall blood pressure is affected after a certain treatment given to the\n",
        "patients.\n",
        "\n",
        "Tasks to be performed:\n",
        "1. Determine the Hypotheses\n",
        "2. Load the dataset\n",
        "3. Perform a Statistical Test for Population Means\n",
        "4. Find P-value and conclude the Hypotheses\n",
        "\n",
        "Topics Covered:\n",
        "* Hypothesis Test for Population Mean: T-Test"
      ]
    },
    {
      "cell_type": "markdown",
      "metadata": {
        "id": "R-7M6y264qnb"
      },
      "source": [
        "#Task 1:\n",
        "The hypothesis is stated as follows:\n",
        "Null - There is no significant difference in bp before and after treatment. Thus, the drug has effects on the\n",
        "patients.\n",
        "\n",
        "Alternative - There is a significant difference in bp before and after treatment. Thus, the drug has no effects\n",
        "on the patients.\n",
        "\n",
        "Since the number of samples is small, we can perform a t-test using stats.ttest_ind and find out the p-value to\n",
        "conclude the difference in bp before and after treatment."
      ]
    },
    {
      "cell_type": "code",
      "metadata": {
        "colab": {
          "base_uri": "https://localhost:8080/"
        },
        "id": "cMyIEJ794Go6",
        "outputId": "596228cd-54ae-4615-e5ef-464b5ed30874"
      },
      "source": [
        "!wget https://www.dropbox.com/s/kn66nzp0vclidvb/blood_pressure.csv"
      ],
      "execution_count": null,
      "outputs": [
        {
          "output_type": "stream",
          "text": [
            "--2021-04-27 19:54:01--  https://www.dropbox.com/s/kn66nzp0vclidvb/blood_pressure.csv\n",
            "Resolving www.dropbox.com (www.dropbox.com)... 162.125.80.18, 2620:100:6032:18::a27d:5212\n",
            "Connecting to www.dropbox.com (www.dropbox.com)|162.125.80.18|:443... connected.\n",
            "HTTP request sent, awaiting response... 301 Moved Permanently\n",
            "Location: /s/raw/kn66nzp0vclidvb/blood_pressure.csv [following]\n",
            "--2021-04-27 19:54:02--  https://www.dropbox.com/s/raw/kn66nzp0vclidvb/blood_pressure.csv\n",
            "Reusing existing connection to www.dropbox.com:443.\n",
            "HTTP request sent, awaiting response... 302 Found\n",
            "Location: https://uc455b6ad4bbd9eea451b11d98c0.dl.dropboxusercontent.com/cd/0/inline/BNZCX74O3lSz65DREBi-AnhhFVb2iNZIJlFsl8Xu3TcQNeolQJAqU56-9lyF_uMobRypH4os3-cZ_Ib7gw2PpzwEbKhPC0kGtsxy-RuBVlrW7efHgJ8PAMgbOfJzNAR_irE1Hhn5mdKDKmR6HZMj6iMy/file# [following]\n",
            "--2021-04-27 19:54:02--  https://uc455b6ad4bbd9eea451b11d98c0.dl.dropboxusercontent.com/cd/0/inline/BNZCX74O3lSz65DREBi-AnhhFVb2iNZIJlFsl8Xu3TcQNeolQJAqU56-9lyF_uMobRypH4os3-cZ_Ib7gw2PpzwEbKhPC0kGtsxy-RuBVlrW7efHgJ8PAMgbOfJzNAR_irE1Hhn5mdKDKmR6HZMj6iMy/file\n",
            "Resolving uc455b6ad4bbd9eea451b11d98c0.dl.dropboxusercontent.com (uc455b6ad4bbd9eea451b11d98c0.dl.dropboxusercontent.com)... 162.125.82.15, 2620:100:6032:15::a27d:520f\n",
            "Connecting to uc455b6ad4bbd9eea451b11d98c0.dl.dropboxusercontent.com (uc455b6ad4bbd9eea451b11d98c0.dl.dropboxusercontent.com)|162.125.82.15|:443... connected.\n",
            "HTTP request sent, awaiting response... 200 OK\n",
            "Length: 2851 (2.8K) [text/plain]\n",
            "Saving to: ‘blood_pressure.csv’\n",
            "\n",
            "blood_pressure.csv  100%[===================>]   2.78K  --.-KB/s    in 0s      \n",
            "\n",
            "2021-04-27 19:54:03 (515 MB/s) - ‘blood_pressure.csv’ saved [2851/2851]\n",
            "\n"
          ],
          "name": "stdout"
        }
      ]
    },
    {
      "cell_type": "code",
      "metadata": {
        "colab": {
          "base_uri": "https://localhost:8080/",
          "height": 204
        },
        "id": "028KOsKT5W4l",
        "outputId": "5ab506ac-eff9-41af-8af9-dec26225926e"
      },
      "source": [
        "import pandas as pd\n",
        "from scipy import stats\n",
        "\n",
        "#Task 2\n",
        "bp = pd.read_csv(\"blood_pressure.csv\")\n",
        "bp.shape\n",
        "bp.head()"
      ],
      "execution_count": null,
      "outputs": [
        {
          "output_type": "execute_result",
          "data": {
            "text/html": [
              "<div>\n",
              "<style scoped>\n",
              "    .dataframe tbody tr th:only-of-type {\n",
              "        vertical-align: middle;\n",
              "    }\n",
              "\n",
              "    .dataframe tbody tr th {\n",
              "        vertical-align: top;\n",
              "    }\n",
              "\n",
              "    .dataframe thead th {\n",
              "        text-align: right;\n",
              "    }\n",
              "</style>\n",
              "<table border=\"1\" class=\"dataframe\">\n",
              "  <thead>\n",
              "    <tr style=\"text-align: right;\">\n",
              "      <th></th>\n",
              "      <th>patient</th>\n",
              "      <th>sex</th>\n",
              "      <th>agegrp</th>\n",
              "      <th>bp_before</th>\n",
              "      <th>bp_after</th>\n",
              "    </tr>\n",
              "  </thead>\n",
              "  <tbody>\n",
              "    <tr>\n",
              "      <th>0</th>\n",
              "      <td>1</td>\n",
              "      <td>Male</td>\n",
              "      <td>30-45</td>\n",
              "      <td>143</td>\n",
              "      <td>153</td>\n",
              "    </tr>\n",
              "    <tr>\n",
              "      <th>1</th>\n",
              "      <td>2</td>\n",
              "      <td>Male</td>\n",
              "      <td>30-45</td>\n",
              "      <td>163</td>\n",
              "      <td>170</td>\n",
              "    </tr>\n",
              "    <tr>\n",
              "      <th>2</th>\n",
              "      <td>3</td>\n",
              "      <td>Male</td>\n",
              "      <td>30-45</td>\n",
              "      <td>153</td>\n",
              "      <td>168</td>\n",
              "    </tr>\n",
              "    <tr>\n",
              "      <th>3</th>\n",
              "      <td>4</td>\n",
              "      <td>Male</td>\n",
              "      <td>30-45</td>\n",
              "      <td>153</td>\n",
              "      <td>142</td>\n",
              "    </tr>\n",
              "    <tr>\n",
              "      <th>4</th>\n",
              "      <td>5</td>\n",
              "      <td>Male</td>\n",
              "      <td>30-45</td>\n",
              "      <td>146</td>\n",
              "      <td>141</td>\n",
              "    </tr>\n",
              "  </tbody>\n",
              "</table>\n",
              "</div>"
            ],
            "text/plain": [
              "   patient   sex agegrp  bp_before  bp_after\n",
              "0        1  Male  30-45        143       153\n",
              "1        2  Male  30-45        163       170\n",
              "2        3  Male  30-45        153       168\n",
              "3        4  Male  30-45        153       142\n",
              "4        5  Male  30-45        146       141"
            ]
          },
          "metadata": {
            "tags": []
          },
          "execution_count": 13
        }
      ]
    },
    {
      "cell_type": "code",
      "metadata": {
        "colab": {
          "base_uri": "https://localhost:8080/"
        },
        "id": "lNGv0nxA5vL8",
        "outputId": "c008855c-7091-429b-b20f-f93b95fa8d9c"
      },
      "source": [
        "#Task 3\n",
        "ttest, pval = stats.ttest_ind(bp['bp_before'], bp['bp_after'])\n",
        "print(pval)\n",
        "\n",
        "#Task 4\n",
        "if pval<0.05:\n",
        "  print(\"Null Hypothesis rejected: There is a significant difference in bp before and bp after treatment. Thus, the drug has effects on the patients.\")\n",
        "else:\n",
        "  print(\"Cannot Reject Null Hypothesis: There maybe no significant differce in bp before and sfter treatment. Thus the drug has no effect on the patients.\")"
      ],
      "execution_count": null,
      "outputs": [
        {
          "output_type": "stream",
          "text": [
            "0.002412277478078891\n",
            "Null Hypothesis rejected: There is a significant difference in bp before and bp after treatment. Thus, the drug has effects on the patients.\n"
          ],
          "name": "stdout"
        }
      ]
    },
    {
      "cell_type": "markdown",
      "metadata": {
        "id": "CrKYDEdp7YBC"
      },
      "source": [
        "**Question 6 - Beginner**"
      ]
    },
    {
      "cell_type": "markdown",
      "metadata": {
        "id": "SN8EXfa37ecW"
      },
      "source": [
        "Dataset Description:\n",
        "admission.csv - The dataset contains 4 columns and 400 rows. Here's a brief description of the columns in\n",
        "the dataset:\n",
        "\n",
        "* admit - Whether a student was admitted or not\n",
        "* gre - GRE scores of the student\n",
        "* gpa - GPA of the student\n",
        "* rank - Rank of the student\n",
        "\n",
        "From a given dataset, find out if gpa affects a student rank."
      ]
    },
    {
      "cell_type": "markdown",
      "metadata": {
        "id": "2Bo9d3Ag7vzM"
      },
      "source": [
        "Tasks to be performed:\n",
        "\n",
        "1. Determine the Hypotheses\n",
        "2. Load the dataset\n",
        "3. Perform a Statistical Test for Population Means\n",
        "4. Find P-value and conclude the Hypotheses\n",
        "\n",
        "Topics Covered:\n",
        "\n",
        "Hypothesis Test for Population Mean: Independent Sample T-Test\n",
        "\n",
        "#Task 1:\n",
        "The hypothesis is stated as follows:\n",
        "\n",
        "Null - The gpa doesn't affect student rank\n",
        "\n",
        "Alternative - The gpa affects the student rank\n",
        "\n",
        "Since the number of samples is small, we can perform a t-test using stats.\n",
        "ttest_ind and find out the p-value to\n",
        "conclude if gpa affects a student rank or not."
      ]
    },
    {
      "cell_type": "code",
      "metadata": {
        "colab": {
          "base_uri": "https://localhost:8080/"
        },
        "id": "FfyFS9MV7Mzn",
        "outputId": "7a3331f3-6d55-49b6-a433-53c8f62e44c5"
      },
      "source": [
        "!wget https://www.dropbox.com/s/m4nnzgu1ogk38yr/admission.csv"
      ],
      "execution_count": null,
      "outputs": [
        {
          "output_type": "stream",
          "text": [
            "--2021-04-27 20:06:53--  https://www.dropbox.com/s/m4nnzgu1ogk38yr/admission.csv\n",
            "Resolving www.dropbox.com (www.dropbox.com)... 162.125.80.18, 2620:100:6032:18::a27d:5212\n",
            "Connecting to www.dropbox.com (www.dropbox.com)|162.125.80.18|:443... connected.\n",
            "HTTP request sent, awaiting response... 301 Moved Permanently\n",
            "Location: /s/raw/m4nnzgu1ogk38yr/admission.csv [following]\n",
            "--2021-04-27 20:06:54--  https://www.dropbox.com/s/raw/m4nnzgu1ogk38yr/admission.csv\n",
            "Reusing existing connection to www.dropbox.com:443.\n",
            "HTTP request sent, awaiting response... 302 Found\n",
            "Location: https://uc1f2406d1d736c7d0fedafda48c.dl.dropboxusercontent.com/cd/0/inline/BNZBgLag2Z00L6DyQp8Xs6DAdsHds24foCKi6nl9Nq5OvlqOIb3sxMFlJd7kAqrZ9D7inpa-D1u8LA2TItJ_db9f3sObtNFL63LFFQdeSCPBChLDr5NV4I2myk9XJpAHPZrOtVSA2jm58g5jSwJQHQ63/file# [following]\n",
            "--2021-04-27 20:06:54--  https://uc1f2406d1d736c7d0fedafda48c.dl.dropboxusercontent.com/cd/0/inline/BNZBgLag2Z00L6DyQp8Xs6DAdsHds24foCKi6nl9Nq5OvlqOIb3sxMFlJd7kAqrZ9D7inpa-D1u8LA2TItJ_db9f3sObtNFL63LFFQdeSCPBChLDr5NV4I2myk9XJpAHPZrOtVSA2jm58g5jSwJQHQ63/file\n",
            "Resolving uc1f2406d1d736c7d0fedafda48c.dl.dropboxusercontent.com (uc1f2406d1d736c7d0fedafda48c.dl.dropboxusercontent.com)... 162.125.80.15, 2620:100:6032:15::a27d:520f\n",
            "Connecting to uc1f2406d1d736c7d0fedafda48c.dl.dropboxusercontent.com (uc1f2406d1d736c7d0fedafda48c.dl.dropboxusercontent.com)|162.125.80.15|:443... connected.\n",
            "HTTP request sent, awaiting response... 200 OK\n",
            "Length: 12840 (13K) [text/plain]\n",
            "Saving to: ‘admission.csv’\n",
            "\n",
            "admission.csv       100%[===================>]  12.54K  --.-KB/s    in 0s      \n",
            "\n",
            "2021-04-27 20:06:55 (275 MB/s) - ‘admission.csv’ saved [12840/12840]\n",
            "\n"
          ],
          "name": "stdout"
        }
      ]
    },
    {
      "cell_type": "code",
      "metadata": {
        "colab": {
          "base_uri": "https://localhost:8080/",
          "height": 204
        },
        "id": "_4gdS1uS8QeG",
        "outputId": "84cdd6e9-02ec-4906-a9a7-afc310dcd3e2"
      },
      "source": [
        "import pandas as pd\n",
        "from scipy import stats\n",
        "import statsmodels.api as sm\n",
        "\n",
        "#Task 2\n",
        "admission = pd.read_csv(\"admission.csv\")\n",
        "admission.head()"
      ],
      "execution_count": null,
      "outputs": [
        {
          "output_type": "execute_result",
          "data": {
            "text/html": [
              "<div>\n",
              "<style scoped>\n",
              "    .dataframe tbody tr th:only-of-type {\n",
              "        vertical-align: middle;\n",
              "    }\n",
              "\n",
              "    .dataframe tbody tr th {\n",
              "        vertical-align: top;\n",
              "    }\n",
              "\n",
              "    .dataframe thead th {\n",
              "        text-align: right;\n",
              "    }\n",
              "</style>\n",
              "<table border=\"1\" class=\"dataframe\">\n",
              "  <thead>\n",
              "    <tr style=\"text-align: right;\">\n",
              "      <th></th>\n",
              "      <th>admit</th>\n",
              "      <th>gre</th>\n",
              "      <th>gpa</th>\n",
              "      <th>rank</th>\n",
              "    </tr>\n",
              "  </thead>\n",
              "  <tbody>\n",
              "    <tr>\n",
              "      <th>0</th>\n",
              "      <td>0.0</td>\n",
              "      <td>380.0</td>\n",
              "      <td>3.61</td>\n",
              "      <td>3.0</td>\n",
              "    </tr>\n",
              "    <tr>\n",
              "      <th>1</th>\n",
              "      <td>1.0</td>\n",
              "      <td>660.0</td>\n",
              "      <td>3.67</td>\n",
              "      <td>3.0</td>\n",
              "    </tr>\n",
              "    <tr>\n",
              "      <th>2</th>\n",
              "      <td>1.0</td>\n",
              "      <td>800.0</td>\n",
              "      <td>4.00</td>\n",
              "      <td>1.0</td>\n",
              "    </tr>\n",
              "    <tr>\n",
              "      <th>3</th>\n",
              "      <td>1.0</td>\n",
              "      <td>640.0</td>\n",
              "      <td>3.19</td>\n",
              "      <td>4.0</td>\n",
              "    </tr>\n",
              "    <tr>\n",
              "      <th>4</th>\n",
              "      <td>0.0</td>\n",
              "      <td>520.0</td>\n",
              "      <td>2.93</td>\n",
              "      <td>4.0</td>\n",
              "    </tr>\n",
              "  </tbody>\n",
              "</table>\n",
              "</div>"
            ],
            "text/plain": [
              "   admit    gre   gpa  rank\n",
              "0    0.0  380.0  3.61   3.0\n",
              "1    1.0  660.0  3.67   3.0\n",
              "2    1.0  800.0  4.00   1.0\n",
              "3    1.0  640.0  3.19   4.0\n",
              "4    0.0  520.0  2.93   4.0"
            ]
          },
          "metadata": {
            "tags": []
          },
          "execution_count": 17
        }
      ]
    },
    {
      "cell_type": "code",
      "metadata": {
        "colab": {
          "base_uri": "https://localhost:8080/"
        },
        "id": "O4RXh2Y19b3_",
        "outputId": "e640bbc2-03ca-4ad3-fd21-17507ccc0f05"
      },
      "source": [
        "#task 3\n",
        "ttest, pval = stats.ttest_ind(admission['gpa'], admission['rank'])\n",
        "print(float(pval))"
      ],
      "execution_count": null,
      "outputs": [
        {
          "output_type": "stream",
          "text": [
            "8.520090911571365e-60\n"
          ],
          "name": "stdout"
        }
      ]
    },
    {
      "cell_type": "code",
      "metadata": {
        "colab": {
          "base_uri": "https://localhost:8080/"
        },
        "id": "Zebd2MuM8rEn",
        "outputId": "690406ad-f0f3-4ab7-8a81-feac6ce6ccbe"
      },
      "source": [
        "# Task 4\n",
        "if pval<0.05:\n",
        "  print(\"Null Hypothesis Rejected: The gpa affects the student rank\")\n",
        "else:\n",
        "  print(\"Cannot Reject Null Hypothesis: The gpa dosen't affect student rank \")"
      ],
      "execution_count": null,
      "outputs": [
        {
          "output_type": "stream",
          "text": [
            "Null Hypothesis Rejected: The gpa affects the student rank\n"
          ],
          "name": "stdout"
        }
      ]
    },
    {
      "cell_type": "markdown",
      "metadata": {
        "id": "NozDNwUP-EVF"
      },
      "source": [
        "**Question 7 - Beginner**"
      ]
    },
    {
      "cell_type": "markdown",
      "metadata": {
        "id": "DjEUT2Ir-FRS"
      },
      "source": [
        "A professor wants to find out if the average marks scored by a class of 120 students are 60. He picks 10\n",
        "students in the class whose marks he remembers in his head: 23, 45, 76, 42, 55, 67, 80, 38, 51, 49. How\n",
        "does he determine whether the average marks are close to 60 or not?Take a significance level of 5%.\n",
        "\n",
        "Tasks to be performed:\n",
        "1. Determine the Hypotheses\n",
        "2. Perform a Statistical Test for Population Means\n",
        "3. Find P-value and conclude the Hypotheses\n",
        "\n",
        "Topics Covered:\n",
        "* Hypothesis Test for Population Mean: One Sample T-Test"
      ]
    },
    {
      "cell_type": "markdown",
      "metadata": {
        "id": "v94Wop2_-Yn_"
      },
      "source": [
        "#Task 1:\n",
        "The hypothesis is stated as follows:\n",
        "\n",
        "Null: The average marks are 60\n",
        "Alternative: The average marks are not 60\n",
        "\n",
        "Since the number of samples is <30, we can perform a one sample t-test using ttest_1samp and find out the\n",
        "p-value to conclude if the average class marks can be 60 or not."
      ]
    },
    {
      "cell_type": "code",
      "metadata": {
        "colab": {
          "base_uri": "https://localhost:8080/"
        },
        "id": "vs1A0CMN9Sf0",
        "outputId": "95ad6fa5-26bc-45b0-eebc-e0addcb6a321"
      },
      "source": [
        "from scipy.stats import ttest_1samp\n",
        "import numpy as np\n",
        "\n",
        "#Task 2:\n",
        "marks = [23, 45, 76, 42, 55, 67, 80, 38, 51, 49]\n",
        "marks_mean = np.mean(marks)\n",
        "\n",
        "ttest,pval = ttest_1samp(marks, 60)\n",
        "print(pval)"
      ],
      "execution_count": null,
      "outputs": [
        {
          "output_type": "stream",
          "text": [
            "0.21625657133211598\n"
          ],
          "name": "stdout"
        }
      ]
    },
    {
      "cell_type": "code",
      "metadata": {
        "colab": {
          "base_uri": "https://localhost:8080/"
        },
        "id": "Dpv1bMgm_S2v",
        "outputId": "3448aab6-2598-4bd2-9e92-b78999b85fb2"
      },
      "source": [
        "if pval<0.05:\n",
        "  print(\"Null Hypothesis Rejected: The average marks are not 60\")\n",
        "else:\n",
        "  print(\"Cannot Reject Null Hypotesis: The avg marks can be 60\")"
      ],
      "execution_count": null,
      "outputs": [
        {
          "output_type": "stream",
          "text": [
            "Cannot Reject Null Hypotesis: The avg marks can be 60\n"
          ],
          "name": "stdout"
        }
      ]
    },
    {
      "cell_type": "markdown",
      "metadata": {
        "id": "3Iw_vQ8j_3c-"
      },
      "source": [
        "**Question 8 - Beginner**"
      ]
    },
    {
      "cell_type": "markdown",
      "metadata": {
        "id": "qyRrD8DYACMo"
      },
      "source": [
        "Dataset Description:\n",
        "\n",
        "survey.csv - The dataset contains 27 columns. Here's a brief description of 4 columns in the dataset:\n",
        "\n",
        "* Age - Age of each person\n",
        "* Gender - Gender of each person\n",
        "* Country - Nationality of each person\n",
        "* self_employed - Whether the person is self employed or not\n",
        "* family_history - Whether the person has a family history of mental illness\n",
        "* treatment - Whether the person has taken treatment for mental illness\n",
        "\n",
        "Using given a dataset, find out if there is any association between having a family history of mental illness\n",
        "and having a mental illness.\n",
        "Tasks to be performed:\n",
        "1. Load the data\n",
        "2. Replace the yes/no responses in the treatment and family_history columns with binary 1 and 0\n",
        "3. Perform an independent sample test to validate the hypothesis taking a a significance level of 5%\n",
        "\n",
        "Topics Covered:\n",
        "\n",
        "Hypothesis Test for Population Mean: Z-Test"
      ]
    },
    {
      "cell_type": "code",
      "metadata": {
        "colab": {
          "base_uri": "https://localhost:8080/"
        },
        "id": "5p7TazPG_wlR",
        "outputId": "1f463096-960a-4b36-9f90-943e13643e1e"
      },
      "source": [
        "!wget https://www.dropbox.com/s/e8tivyq8i8kohll/survey.csv"
      ],
      "execution_count": null,
      "outputs": [
        {
          "output_type": "stream",
          "text": [
            "--2021-04-27 20:25:45--  https://www.dropbox.com/s/e8tivyq8i8kohll/survey.csv\n",
            "Resolving www.dropbox.com (www.dropbox.com)... 162.125.80.18, 2620:100:6032:18::a27d:5212\n",
            "Connecting to www.dropbox.com (www.dropbox.com)|162.125.80.18|:443... connected.\n",
            "HTTP request sent, awaiting response... 301 Moved Permanently\n",
            "Location: /s/raw/e8tivyq8i8kohll/survey.csv [following]\n",
            "--2021-04-27 20:25:45--  https://www.dropbox.com/s/raw/e8tivyq8i8kohll/survey.csv\n",
            "Reusing existing connection to www.dropbox.com:443.\n",
            "HTTP request sent, awaiting response... 302 Found\n",
            "Location: https://ucf7e7a03e8a14847c29d2fcfd6c.dl.dropboxusercontent.com/cd/0/inline/BNZvd9HjKeN5FbWCMAolUjjsMjCqOHHnzxx3M5I0YaGXR5sRdObDzWfwmcRUoIQCk_HV9Zu-_IqpnAggi1-oyhA63wgwB5qQjSwsKiQklwpAvPJT9q707wcPeMUCc5rC4DN123Aj9Dk6UvBk0ryq4qAQ/file# [following]\n",
            "--2021-04-27 20:25:46--  https://ucf7e7a03e8a14847c29d2fcfd6c.dl.dropboxusercontent.com/cd/0/inline/BNZvd9HjKeN5FbWCMAolUjjsMjCqOHHnzxx3M5I0YaGXR5sRdObDzWfwmcRUoIQCk_HV9Zu-_IqpnAggi1-oyhA63wgwB5qQjSwsKiQklwpAvPJT9q707wcPeMUCc5rC4DN123Aj9Dk6UvBk0ryq4qAQ/file\n",
            "Resolving ucf7e7a03e8a14847c29d2fcfd6c.dl.dropboxusercontent.com (ucf7e7a03e8a14847c29d2fcfd6c.dl.dropboxusercontent.com)... 162.125.80.15, 2620:100:6032:15::a27d:520f\n",
            "Connecting to ucf7e7a03e8a14847c29d2fcfd6c.dl.dropboxusercontent.com (ucf7e7a03e8a14847c29d2fcfd6c.dl.dropboxusercontent.com)|162.125.80.15|:443... connected.\n",
            "HTTP request sent, awaiting response... 200 OK\n",
            "Length: 243545 (238K) [text/plain]\n",
            "Saving to: ‘survey.csv’\n",
            "\n",
            "survey.csv          100%[===================>] 237.84K   567KB/s    in 0.4s    \n",
            "\n",
            "2021-04-27 20:25:47 (567 KB/s) - ‘survey.csv’ saved [243545/243545]\n",
            "\n"
          ],
          "name": "stdout"
        }
      ]
    },
    {
      "cell_type": "code",
      "metadata": {
        "colab": {
          "base_uri": "https://localhost:8080/",
          "height": 309
        },
        "id": "ueb6EDYoAkxB",
        "outputId": "7580637b-0088-47a5-e272-64697fc2d1d9"
      },
      "source": [
        "import pandas as pd\n",
        "from scipy import stats\n",
        "import statsmodels.api as sm\n",
        "\n",
        "# Task 1\n",
        "survey = pd.read_csv(\"survey.csv\")\n",
        "survey.head()"
      ],
      "execution_count": null,
      "outputs": [
        {
          "output_type": "execute_result",
          "data": {
            "text/html": [
              "<div>\n",
              "<style scoped>\n",
              "    .dataframe tbody tr th:only-of-type {\n",
              "        vertical-align: middle;\n",
              "    }\n",
              "\n",
              "    .dataframe tbody tr th {\n",
              "        vertical-align: top;\n",
              "    }\n",
              "\n",
              "    .dataframe thead th {\n",
              "        text-align: right;\n",
              "    }\n",
              "</style>\n",
              "<table border=\"1\" class=\"dataframe\">\n",
              "  <thead>\n",
              "    <tr style=\"text-align: right;\">\n",
              "      <th></th>\n",
              "      <th>Timestamp</th>\n",
              "      <th>Age</th>\n",
              "      <th>Gender</th>\n",
              "      <th>Country</th>\n",
              "      <th>state</th>\n",
              "      <th>self_employed</th>\n",
              "      <th>family_history</th>\n",
              "      <th>treatment</th>\n",
              "      <th>work_interfere</th>\n",
              "      <th>no_employees</th>\n",
              "      <th>remote_work</th>\n",
              "      <th>tech_company</th>\n",
              "      <th>benefits</th>\n",
              "      <th>care_options</th>\n",
              "      <th>wellness_program</th>\n",
              "      <th>seek_help</th>\n",
              "      <th>anonymity</th>\n",
              "      <th>leave</th>\n",
              "      <th>mental_health_consequence</th>\n",
              "      <th>phys_health_consequence</th>\n",
              "      <th>coworkers</th>\n",
              "      <th>supervisor</th>\n",
              "      <th>mental_health_interview</th>\n",
              "      <th>phys_health_interview</th>\n",
              "      <th>mental_vs_physical</th>\n",
              "      <th>obs_consequence</th>\n",
              "      <th>comments</th>\n",
              "    </tr>\n",
              "  </thead>\n",
              "  <tbody>\n",
              "    <tr>\n",
              "      <th>0</th>\n",
              "      <td>27-08-2014 11:29</td>\n",
              "      <td>37</td>\n",
              "      <td>female</td>\n",
              "      <td>United States</td>\n",
              "      <td>IL</td>\n",
              "      <td>NaN</td>\n",
              "      <td>No</td>\n",
              "      <td>Yes</td>\n",
              "      <td>Often</td>\n",
              "      <td>Jun-25</td>\n",
              "      <td>No</td>\n",
              "      <td>Yes</td>\n",
              "      <td>Yes</td>\n",
              "      <td>Not sure</td>\n",
              "      <td>No</td>\n",
              "      <td>Yes</td>\n",
              "      <td>Yes</td>\n",
              "      <td>Somewhat easy</td>\n",
              "      <td>No</td>\n",
              "      <td>No</td>\n",
              "      <td>Some of them</td>\n",
              "      <td>Yes</td>\n",
              "      <td>No</td>\n",
              "      <td>Maybe</td>\n",
              "      <td>Yes</td>\n",
              "      <td>No</td>\n",
              "      <td>NaN</td>\n",
              "    </tr>\n",
              "    <tr>\n",
              "      <th>1</th>\n",
              "      <td>27-08-2014 11:29</td>\n",
              "      <td>44</td>\n",
              "      <td>male</td>\n",
              "      <td>United States</td>\n",
              "      <td>IN</td>\n",
              "      <td>NaN</td>\n",
              "      <td>No</td>\n",
              "      <td>No</td>\n",
              "      <td>Rarely</td>\n",
              "      <td>More than 1000</td>\n",
              "      <td>No</td>\n",
              "      <td>No</td>\n",
              "      <td>Don't know</td>\n",
              "      <td>No</td>\n",
              "      <td>Don't know</td>\n",
              "      <td>Don't know</td>\n",
              "      <td>Don't know</td>\n",
              "      <td>Don't know</td>\n",
              "      <td>Maybe</td>\n",
              "      <td>No</td>\n",
              "      <td>No</td>\n",
              "      <td>No</td>\n",
              "      <td>No</td>\n",
              "      <td>No</td>\n",
              "      <td>Don't know</td>\n",
              "      <td>No</td>\n",
              "      <td>NaN</td>\n",
              "    </tr>\n",
              "    <tr>\n",
              "      <th>2</th>\n",
              "      <td>27-08-2014 11:29</td>\n",
              "      <td>32</td>\n",
              "      <td>male</td>\n",
              "      <td>Canada</td>\n",
              "      <td>NaN</td>\n",
              "      <td>NaN</td>\n",
              "      <td>No</td>\n",
              "      <td>No</td>\n",
              "      <td>Rarely</td>\n",
              "      <td>Jun-25</td>\n",
              "      <td>No</td>\n",
              "      <td>Yes</td>\n",
              "      <td>No</td>\n",
              "      <td>No</td>\n",
              "      <td>No</td>\n",
              "      <td>No</td>\n",
              "      <td>Don't know</td>\n",
              "      <td>Somewhat difficult</td>\n",
              "      <td>No</td>\n",
              "      <td>No</td>\n",
              "      <td>Yes</td>\n",
              "      <td>Yes</td>\n",
              "      <td>Yes</td>\n",
              "      <td>Yes</td>\n",
              "      <td>No</td>\n",
              "      <td>No</td>\n",
              "      <td>NaN</td>\n",
              "    </tr>\n",
              "    <tr>\n",
              "      <th>3</th>\n",
              "      <td>27-08-2014 11:29</td>\n",
              "      <td>31</td>\n",
              "      <td>male</td>\n",
              "      <td>United Kingdom</td>\n",
              "      <td>NaN</td>\n",
              "      <td>NaN</td>\n",
              "      <td>Yes</td>\n",
              "      <td>Yes</td>\n",
              "      <td>Often</td>\n",
              "      <td>26-100</td>\n",
              "      <td>No</td>\n",
              "      <td>Yes</td>\n",
              "      <td>No</td>\n",
              "      <td>Yes</td>\n",
              "      <td>No</td>\n",
              "      <td>No</td>\n",
              "      <td>No</td>\n",
              "      <td>Somewhat difficult</td>\n",
              "      <td>Yes</td>\n",
              "      <td>Yes</td>\n",
              "      <td>Some of them</td>\n",
              "      <td>No</td>\n",
              "      <td>Maybe</td>\n",
              "      <td>Maybe</td>\n",
              "      <td>No</td>\n",
              "      <td>Yes</td>\n",
              "      <td>NaN</td>\n",
              "    </tr>\n",
              "    <tr>\n",
              "      <th>4</th>\n",
              "      <td>27-08-2014 11:30</td>\n",
              "      <td>31</td>\n",
              "      <td>male</td>\n",
              "      <td>United States</td>\n",
              "      <td>TX</td>\n",
              "      <td>NaN</td>\n",
              "      <td>No</td>\n",
              "      <td>No</td>\n",
              "      <td>Never</td>\n",
              "      <td>100-500</td>\n",
              "      <td>Yes</td>\n",
              "      <td>Yes</td>\n",
              "      <td>Yes</td>\n",
              "      <td>No</td>\n",
              "      <td>Don't know</td>\n",
              "      <td>Don't know</td>\n",
              "      <td>Don't know</td>\n",
              "      <td>Don't know</td>\n",
              "      <td>No</td>\n",
              "      <td>No</td>\n",
              "      <td>Some of them</td>\n",
              "      <td>Yes</td>\n",
              "      <td>Yes</td>\n",
              "      <td>Yes</td>\n",
              "      <td>Don't know</td>\n",
              "      <td>No</td>\n",
              "      <td>NaN</td>\n",
              "    </tr>\n",
              "  </tbody>\n",
              "</table>\n",
              "</div>"
            ],
            "text/plain": [
              "          Timestamp  Age  Gender  ... mental_vs_physical obs_consequence comments\n",
              "0  27-08-2014 11:29   37  female  ...                Yes              No      NaN\n",
              "1  27-08-2014 11:29   44    male  ...         Don't know              No      NaN\n",
              "2  27-08-2014 11:29   32    male  ...                 No              No      NaN\n",
              "3  27-08-2014 11:29   31    male  ...                 No             Yes      NaN\n",
              "4  27-08-2014 11:30   31    male  ...         Don't know              No      NaN\n",
              "\n",
              "[5 rows x 27 columns]"
            ]
          },
          "metadata": {
            "tags": []
          },
          "execution_count": 24
        }
      ]
    },
    {
      "cell_type": "code",
      "metadata": {
        "id": "gP9qwls3BIvh"
      },
      "source": [
        "# Task 2\n",
        "survey.treatment.replace({'No':0,'Yes':1},inplace=True)\n",
        "survey.family_history.replace({'No':0,'Yes':1},inplace=True)"
      ],
      "execution_count": null,
      "outputs": []
    },
    {
      "cell_type": "markdown",
      "metadata": {
        "id": "_WbwaTdfCNZg"
      },
      "source": [
        "#Task 3\n",
        "Now, the hypothesis is stated as follows:\n",
        "\n",
        "Null: There is no association between having a family history of mental illness and having a mental illness\n",
        "\n",
        "Alternative: There is association or dependence between having a family history of mental illness and\n",
        "having a mental illness\n",
        "\n",
        "Since the number of samples is >>>30, we can perform a z-test using stats.ztest and find out the p-value to\n",
        "conclude if there is any association between having a family history of mental illness and having a mental\n",
        "illness or not."
      ]
    },
    {
      "cell_type": "code",
      "metadata": {
        "colab": {
          "base_uri": "https://localhost:8080/"
        },
        "id": "62IiCqQWCFBL",
        "outputId": "81df6386-94c2-43d3-8c23-f87e06ff6491"
      },
      "source": [
        "ztest, pval = sm.stats.ztest(survey['family_history'], survey['treatment'],value=0)\n",
        "print(float(pval))\n",
        "\n",
        "if pval<0.05:\n",
        "  print(\"Null Hypothesis Rejected: There is association or dependence b/w having a family history of mental illness and having a mental illness\")\n",
        "else:\n",
        "  print(\"Cannot Regect Null hypothesis: There may be no association between having a family history of mental illness and having a mental illness\")"
      ],
      "execution_count": null,
      "outputs": [
        {
          "output_type": "stream",
          "text": [
            "4.9957994143242654e-09\n",
            "Null Hypothesis Rejected: There is association or dependence b/w having a family history of mental illness and having a mental illness\n"
          ],
          "name": "stdout"
        }
      ]
    },
    {
      "cell_type": "markdown",
      "metadata": {
        "id": "k2UBJC-8GpyN"
      },
      "source": [
        "**Question 9 - Beginner**"
      ]
    },
    {
      "cell_type": "markdown",
      "metadata": {
        "id": "APcM2kH4GxV4"
      },
      "source": [
        "You have been given a dataset, automotive.csv. Find the 67% confidence interval for the prices of\n",
        "automobiles given in the price column.\n",
        "\n",
        "Also, calculate the z-critical value and margin of error and check if the true population mean lies within the\n",
        "confidence interval.\n",
        "\n",
        "Tasks to be performed:\n",
        "\n",
        "1. Load the data\n",
        "2. Take a sample size of 100\n",
        "3. Calculate the z-critical value\n",
        "4. Calculate the Margin of Error\n",
        "5. Get the Confidence Interval\n",
        "\n",
        "Topics Covered:\n",
        "\n",
        "* Z-critical\n",
        "* Margin of Error\n",
        "* Confidence Interval"
      ]
    },
    {
      "cell_type": "code",
      "metadata": {
        "colab": {
          "base_uri": "https://localhost:8080/"
        },
        "id": "6nEGNrjGGgNk",
        "outputId": "7e8a5ba7-de9b-4822-98b9-edb2f2ae48ad"
      },
      "source": [
        "#Fetch and downlload the dataset from dropbox\n",
        "!wget https://www.dropbox.com/s/4dtt56o16wi07nk/automotive_data.csv"
      ],
      "execution_count": null,
      "outputs": [
        {
          "output_type": "stream",
          "text": [
            "--2021-04-27 20:54:02--  https://www.dropbox.com/s/4dtt56o16wi07nk/automotive_data.csv\n",
            "Resolving www.dropbox.com (www.dropbox.com)... 162.125.80.18, 2620:100:6032:18::a27d:5212\n",
            "Connecting to www.dropbox.com (www.dropbox.com)|162.125.80.18|:443... connected.\n",
            "HTTP request sent, awaiting response... 301 Moved Permanently\n",
            "Location: /s/raw/4dtt56o16wi07nk/automotive_data.csv [following]\n",
            "--2021-04-27 20:54:02--  https://www.dropbox.com/s/raw/4dtt56o16wi07nk/automotive_data.csv\n",
            "Reusing existing connection to www.dropbox.com:443.\n",
            "HTTP request sent, awaiting response... 302 Found\n",
            "Location: https://ucc319be50ea6a73a0a897db5145.dl.dropboxusercontent.com/cd/0/inline/BNZMp60NhHJ-_3op6NG5oRlsv5fe4CYmPrF4MdAchJmEnsfvdOqElCH6Xvy07Jx0cvPWzg_YJIWHI6TWLhZHEafPOKkggnic4DICQWhqCvaTaLRs62Vd1LnZkbRYjE7sXP2o64rdjg8PQvu77MTcXcYy/file# [following]\n",
            "--2021-04-27 20:54:03--  https://ucc319be50ea6a73a0a897db5145.dl.dropboxusercontent.com/cd/0/inline/BNZMp60NhHJ-_3op6NG5oRlsv5fe4CYmPrF4MdAchJmEnsfvdOqElCH6Xvy07Jx0cvPWzg_YJIWHI6TWLhZHEafPOKkggnic4DICQWhqCvaTaLRs62Vd1LnZkbRYjE7sXP2o64rdjg8PQvu77MTcXcYy/file\n",
            "Resolving ucc319be50ea6a73a0a897db5145.dl.dropboxusercontent.com (ucc319be50ea6a73a0a897db5145.dl.dropboxusercontent.com)... 162.125.82.15, 2620:100:6032:15::a27d:520f\n",
            "Connecting to ucc319be50ea6a73a0a897db5145.dl.dropboxusercontent.com (ucc319be50ea6a73a0a897db5145.dl.dropboxusercontent.com)|162.125.82.15|:443... connected.\n",
            "HTTP request sent, awaiting response... 200 OK\n",
            "Length: 25092 (25K) [text/plain]\n",
            "Saving to: ‘automotive_data.csv’\n",
            "\n",
            "automotive_data.csv 100%[===================>]  24.50K   163KB/s    in 0.2s    \n",
            "\n",
            "2021-04-27 20:54:04 (163 KB/s) - ‘automotive_data.csv’ saved [25092/25092]\n",
            "\n"
          ],
          "name": "stdout"
        }
      ]
    },
    {
      "cell_type": "code",
      "metadata": {
        "colab": {
          "base_uri": "https://localhost:8080/",
          "height": 309
        },
        "id": "x_Dj616QHDpI",
        "outputId": "2004f99e-561d-4a6a-a7a7-a246bb2ac6af"
      },
      "source": [
        "import pandas as pd\n",
        "import numpy as np\n",
        "import math\n",
        "import scipy.stats as stats\n",
        "import statsmodels.api as sm\n",
        "\n",
        "auto = pd.read_csv(\"automotive_data.csv\")\n",
        "auto.head()"
      ],
      "execution_count": null,
      "outputs": [
        {
          "output_type": "execute_result",
          "data": {
            "text/html": [
              "<div>\n",
              "<style scoped>\n",
              "    .dataframe tbody tr th:only-of-type {\n",
              "        vertical-align: middle;\n",
              "    }\n",
              "\n",
              "    .dataframe tbody tr th {\n",
              "        vertical-align: top;\n",
              "    }\n",
              "\n",
              "    .dataframe thead th {\n",
              "        text-align: right;\n",
              "    }\n",
              "</style>\n",
              "<table border=\"1\" class=\"dataframe\">\n",
              "  <thead>\n",
              "    <tr style=\"text-align: right;\">\n",
              "      <th></th>\n",
              "      <th>symboling</th>\n",
              "      <th>normalized-losses</th>\n",
              "      <th>make</th>\n",
              "      <th>fuel-type</th>\n",
              "      <th>aspiration</th>\n",
              "      <th>num-of-doors</th>\n",
              "      <th>body-style</th>\n",
              "      <th>drive-wheels</th>\n",
              "      <th>engine-location</th>\n",
              "      <th>wheel-base</th>\n",
              "      <th>length</th>\n",
              "      <th>width</th>\n",
              "      <th>height</th>\n",
              "      <th>curb-weight</th>\n",
              "      <th>engine-type</th>\n",
              "      <th>num-of-cylinders</th>\n",
              "      <th>engine-size</th>\n",
              "      <th>fuel-system</th>\n",
              "      <th>bore</th>\n",
              "      <th>stroke</th>\n",
              "      <th>compression-ratio</th>\n",
              "      <th>horsepower</th>\n",
              "      <th>peak-rpm</th>\n",
              "      <th>city-mpg</th>\n",
              "      <th>highway-mpg</th>\n",
              "      <th>price</th>\n",
              "    </tr>\n",
              "  </thead>\n",
              "  <tbody>\n",
              "    <tr>\n",
              "      <th>0</th>\n",
              "      <td>3</td>\n",
              "      <td>?</td>\n",
              "      <td>alfa-romero</td>\n",
              "      <td>gas</td>\n",
              "      <td>std</td>\n",
              "      <td>two</td>\n",
              "      <td>convertible</td>\n",
              "      <td>rwd</td>\n",
              "      <td>front</td>\n",
              "      <td>88.6</td>\n",
              "      <td>168.8</td>\n",
              "      <td>64.1</td>\n",
              "      <td>48.8</td>\n",
              "      <td>2548</td>\n",
              "      <td>dohc</td>\n",
              "      <td>four</td>\n",
              "      <td>130</td>\n",
              "      <td>mpfi</td>\n",
              "      <td>3.47</td>\n",
              "      <td>2.68</td>\n",
              "      <td>9.0</td>\n",
              "      <td>111</td>\n",
              "      <td>5000</td>\n",
              "      <td>21</td>\n",
              "      <td>27</td>\n",
              "      <td>13495</td>\n",
              "    </tr>\n",
              "    <tr>\n",
              "      <th>1</th>\n",
              "      <td>3</td>\n",
              "      <td>?</td>\n",
              "      <td>alfa-romero</td>\n",
              "      <td>gas</td>\n",
              "      <td>std</td>\n",
              "      <td>two</td>\n",
              "      <td>convertible</td>\n",
              "      <td>rwd</td>\n",
              "      <td>front</td>\n",
              "      <td>88.6</td>\n",
              "      <td>168.8</td>\n",
              "      <td>64.1</td>\n",
              "      <td>48.8</td>\n",
              "      <td>2548</td>\n",
              "      <td>dohc</td>\n",
              "      <td>four</td>\n",
              "      <td>130</td>\n",
              "      <td>mpfi</td>\n",
              "      <td>3.47</td>\n",
              "      <td>2.68</td>\n",
              "      <td>9.0</td>\n",
              "      <td>111</td>\n",
              "      <td>5000</td>\n",
              "      <td>21</td>\n",
              "      <td>27</td>\n",
              "      <td>16500</td>\n",
              "    </tr>\n",
              "    <tr>\n",
              "      <th>2</th>\n",
              "      <td>1</td>\n",
              "      <td>?</td>\n",
              "      <td>alfa-romero</td>\n",
              "      <td>gas</td>\n",
              "      <td>std</td>\n",
              "      <td>two</td>\n",
              "      <td>hatchback</td>\n",
              "      <td>rwd</td>\n",
              "      <td>front</td>\n",
              "      <td>94.5</td>\n",
              "      <td>171.2</td>\n",
              "      <td>65.5</td>\n",
              "      <td>52.4</td>\n",
              "      <td>2823</td>\n",
              "      <td>ohcv</td>\n",
              "      <td>six</td>\n",
              "      <td>152</td>\n",
              "      <td>mpfi</td>\n",
              "      <td>2.68</td>\n",
              "      <td>3.47</td>\n",
              "      <td>9.0</td>\n",
              "      <td>154</td>\n",
              "      <td>5000</td>\n",
              "      <td>19</td>\n",
              "      <td>26</td>\n",
              "      <td>16500</td>\n",
              "    </tr>\n",
              "    <tr>\n",
              "      <th>3</th>\n",
              "      <td>2</td>\n",
              "      <td>164</td>\n",
              "      <td>audi</td>\n",
              "      <td>gas</td>\n",
              "      <td>std</td>\n",
              "      <td>four</td>\n",
              "      <td>sedan</td>\n",
              "      <td>fwd</td>\n",
              "      <td>front</td>\n",
              "      <td>99.8</td>\n",
              "      <td>176.6</td>\n",
              "      <td>66.2</td>\n",
              "      <td>54.3</td>\n",
              "      <td>2337</td>\n",
              "      <td>ohc</td>\n",
              "      <td>four</td>\n",
              "      <td>109</td>\n",
              "      <td>mpfi</td>\n",
              "      <td>3.19</td>\n",
              "      <td>3.4</td>\n",
              "      <td>10.0</td>\n",
              "      <td>102</td>\n",
              "      <td>5500</td>\n",
              "      <td>24</td>\n",
              "      <td>30</td>\n",
              "      <td>13950</td>\n",
              "    </tr>\n",
              "    <tr>\n",
              "      <th>4</th>\n",
              "      <td>2</td>\n",
              "      <td>164</td>\n",
              "      <td>audi</td>\n",
              "      <td>gas</td>\n",
              "      <td>std</td>\n",
              "      <td>four</td>\n",
              "      <td>sedan</td>\n",
              "      <td>4wd</td>\n",
              "      <td>front</td>\n",
              "      <td>99.4</td>\n",
              "      <td>176.6</td>\n",
              "      <td>66.4</td>\n",
              "      <td>54.3</td>\n",
              "      <td>2824</td>\n",
              "      <td>ohc</td>\n",
              "      <td>five</td>\n",
              "      <td>136</td>\n",
              "      <td>mpfi</td>\n",
              "      <td>3.19</td>\n",
              "      <td>3.4</td>\n",
              "      <td>8.0</td>\n",
              "      <td>115</td>\n",
              "      <td>5500</td>\n",
              "      <td>18</td>\n",
              "      <td>22</td>\n",
              "      <td>17450</td>\n",
              "    </tr>\n",
              "  </tbody>\n",
              "</table>\n",
              "</div>"
            ],
            "text/plain": [
              "   symboling normalized-losses         make  ... city-mpg highway-mpg  price\n",
              "0          3                 ?  alfa-romero  ...       21          27  13495\n",
              "1          3                 ?  alfa-romero  ...       21          27  16500\n",
              "2          1                 ?  alfa-romero  ...       19          26  16500\n",
              "3          2               164         audi  ...       24          30  13950\n",
              "4          2               164         audi  ...       18          22  17450\n",
              "\n",
              "[5 rows x 26 columns]"
            ]
          },
          "metadata": {
            "tags": []
          },
          "execution_count": 29
        }
      ]
    },
    {
      "cell_type": "code",
      "metadata": {
        "colab": {
          "base_uri": "https://localhost:8080/"
        },
        "id": "KoAeEQl8Hig5",
        "outputId": "db6d9b1a-2306-41c2-fa79-e0e29833b246"
      },
      "source": [
        "# Task 2\n",
        "np.random.seed(10)\n",
        "\n",
        "sample_size = 100\n",
        "sample = np.random.choice(a=auto['price'],\n",
        "                          size = sample_size)\n",
        "sample_mean = sample.mean()\n",
        "\n",
        "#Task 3\n",
        "z_critical = stats.norm.ppf(q = 0.67)\n",
        "\n",
        "# check the z-critical value\n",
        "print(\"z-critical value\", z_critical)\n",
        "\n",
        "# Get the population standard deviation\n",
        "pop_stdev = auto['price'].std()\n",
        "\n",
        "#Task 4\n",
        "sigma = pop_stdev/math.sqrt(sample_size)\n",
        "margin_of_error = z_critical*(sigma)\n",
        "\n",
        "#Task 45\n",
        "confidential_interval = (sample_mean - margin_of_error,\n",
        "                         sample_mean + margin_of_error)\n",
        "\n",
        "#Lets print the result\n",
        "print(\"Confidence interval:\",end=\" \")\n",
        "print(confidential_interval)\n",
        "\n",
        "pop_mean = auto['price'].mean()\n",
        "print(\"True mean: {}\".format(pop_mean))"
      ],
      "execution_count": null,
      "outputs": [
        {
          "output_type": "stream",
          "text": [
            "z-critical value 0.4399131656732339\n",
            "Confidence interval: (12557.113078891285, 13268.206921108715)\n",
            "True mean: 13156.931707317073\n"
          ],
          "name": "stdout"
        }
      ]
    },
    {
      "cell_type": "markdown",
      "metadata": {
        "id": "HpFoTDHxLcii"
      },
      "source": [
        "**Question 10 - Beginner**"
      ]
    },
    {
      "cell_type": "markdown",
      "metadata": {
        "id": "kc3t1OzZLiQx"
      },
      "source": [
        "Clipcart, an online shopping portal, gets over 300 order returns in a day out of 1500. Each customer can\n",
        "reject only one order in a day. Clipcart assumes that all customers are independent of each other. Find out\n",
        "the margin of error and also determine an approximate 95% confidence interval for the proportion of orders\n",
        "cancelled in a day.\n",
        "\n",
        "Tasks to be performed:\n",
        "\n",
        "1. Calculate the Margin of Error\n",
        "2. Get the Confidence Interval\n",
        "\n",
        "Topics Covered:\n",
        "* Margin of Error\n",
        "* Confidence Interval"
      ]
    },
    {
      "cell_type": "code",
      "metadata": {
        "colab": {
          "base_uri": "https://localhost:8080/"
        },
        "id": "KiRh6GhSKK7f",
        "outputId": "b4f5a0df-91c2-442e-c0c1-b11117c53cf6"
      },
      "source": [
        "import math\n",
        "from scipy import mean, stats\n",
        "\n",
        "x = 300\n",
        "n = 1500\n",
        "p = x/n\n",
        "var = p*(1-p)\n",
        "\n",
        "#task 1\n",
        "margin = stats.norm.ppf(0.95) * (math.sqrt(var/n))\n",
        "print(\"Margin of error is:\", margin)\n",
        "\n",
        "#Task 2\n",
        "con_interval = (p - margin)\n",
        "con_interval1 = (p + margin)\n",
        "print(\"Confidential Interval is: \",con_interval,con_interval1)"
      ],
      "execution_count": null,
      "outputs": [
        {
          "output_type": "stream",
          "text": [
            "Margin of error is: 0.016987975211018455\n",
            "Confidential Interval is:  0.18301202478898154 0.21698797521101848\n"
          ],
          "name": "stdout"
        }
      ]
    },
    {
      "cell_type": "markdown",
      "metadata": {
        "id": "Et7PbL_LNpCm"
      },
      "source": [
        "**Question 11 - Intermediate**"
      ]
    },
    {
      "cell_type": "markdown",
      "metadata": {
        "id": "CGs6PYvANs5t"
      },
      "source": [
        "A biologist is interested in determining whether a plant seedlings treated with an extract from Myrtle roots\n",
        "resulted in a lower average height of the seedlings than the standard height of 15.7 cm. The biologist treated\n",
        "a random sample of n = 33 seedlings with the extract and subsequently obtained the following heights:"
      ]
    },
    {
      "cell_type": "markdown",
      "metadata": {
        "id": "6Hu9vqi_N4tS"
      },
      "source": [
        "11.5 11.8 15.7 16.1 14.1 10.5 9.3 15.0 11.1\n",
        "\n",
        "15.2 19.0 12.8 12.4 19.2 13.5 12.2 13.3\n",
        "\n",
        "16.5 13.5 14.4 16.7 10.9 13.0 10.3 15.8\n",
        "\n",
        "15.1 17.1 13.3 12.4 8.5 14.3 12.9 13.5\n",
        "\n",
        "Tasks to be performed:\n",
        "\n",
        "1. Determine the Hypotheses\n",
        "2. Perform a Statistical Test\n",
        "3. Find P-value and conclude the Hypotheses\n",
        "\n",
        "Topics Covered:\n",
        "\n",
        "Hypothesis Test for Population Mean: Right-tailed Test\n",
        "#Task 1:\n",
        "The hypothesis is stated as follows:\n",
        "Null: The average height is equal to 15.7 (p=15.7)\n",
        "Alternative: The average height is less than 15.7 (p<15.7)\n",
        "\n",
        "The biologist can perform a one sample t-test using ttest_1samp and find out the p-value to conclude if the\n",
        "average height of the plants is les than 15.7cm or not."
      ]
    },
    {
      "cell_type": "code",
      "metadata": {
        "colab": {
          "base_uri": "https://localhost:8080/"
        },
        "id": "VlHmutF8M9ua",
        "outputId": "0d667807-da7e-44ae-b75b-0e7edc76ef32"
      },
      "source": [
        "import pandas as pd\n",
        "import numpy as np\n",
        "from scipy.stats import ttest_1samp\n",
        "import math\n",
        "\n",
        "#task 2\n",
        "X = [11.5, 11.8, 15.7, 16.1, 14.1, 10.5, 9.3, 15.0, 11.1, 15.2, 19.0, 12.8, 12.4, 19.2,\n",
        "13.5, 12.2, 13.3, 16.5, 13.5, 14.4, 16.7, 10.9, 13.0, 10.3, 15.8, 15.1, 17.1, 13.3, 12.4, 8.5, 14.3, 12.9, 13.5]\n",
        "\n",
        "ttest,pval = ttest_1samp(X, 15.7)\n",
        "print(pval)\n",
        "\n",
        "#Task 3\n",
        "if pval<0.05:\n",
        "  print(\"Null Hypothesis rejected: The average height of plants is less than 15.7 cm\")\n",
        "else:\n",
        "  print(\"cannot Reject Null Hypothesis: The average height of plant is 15.7 cm\")\n"
      ],
      "execution_count": null,
      "outputs": [
        {
          "output_type": "stream",
          "text": [
            "6.348487914001979e-05\n",
            "Null Hypothesis rejected: The average height of plants is less than 15.7 cm\n"
          ],
          "name": "stdout"
        }
      ]
    },
    {
      "cell_type": "markdown",
      "metadata": {
        "id": "kZZyckaMQWjX"
      },
      "source": [
        "**Question 12 - Intermediate**"
      ]
    },
    {
      "cell_type": "markdown",
      "metadata": {
        "id": "VNHNN-rEQaCe"
      },
      "source": [
        "An engineer measured the Brinell hardness of 25 pieces of ductile iron that were subcritically annealed. The\n",
        "resulting data were:\n",
        "\n",
        "170 167 174 179 179 187 179 183 179\n",
        "156 163 156 187 156 167 156 174 170\n",
        "183 179 174 179 170 159 187\n",
        "\n",
        "The engineer hypothesized that the mean Brinell hardness of all such ductile iron pieces is greater than 170.\n",
        "\n",
        "Is his hypothesis correct?\n",
        "Tasks to be performed:\n",
        "\n",
        "1. Determine the Hypotheses\n",
        "2. Perform a Statistical Test\n",
        "3. Find P-value and conclude if his hypothesis correct\n",
        "\n",
        "Topics Covered:\n",
        "\n",
        "Hypothesis Test for Population Mean: Left-tailed Test"
      ]
    },
    {
      "cell_type": "markdown",
      "metadata": {
        "id": "bsGtLIuqQr4i"
      },
      "source": [
        "#Task 1:\n",
        "The hypothesis is stated as follows:\n",
        "\n",
        "Null: The mean Brinell hardness can be equal to 170 (p=15.7)\n",
        "\n",
        "Alternative: The mean Brinell hardness is greater than 170 (p>15.7)\n",
        "\n",
        "The engineer biologist can perform a one sample t-test using ttest_1samp and find out the p-value to\n",
        "conclude if the mean hardness is greater than 170 or not."
      ]
    },
    {
      "cell_type": "code",
      "metadata": {
        "id": "VlIUXxAcPiZp"
      },
      "source": [
        "import pandas as pd\n",
        "import math\n",
        "from scipy.stats import ttest_1samp\n",
        "import numpy as np\n",
        "\n",
        "#Task 2:\n",
        "X = [170, 167, 174, 179, 179, 187, 179, 183, 179, 156, 163, 156, 187, 156, 167, 156, 174, 170, 183, 179, 174, 179, 170, 159, 187]"
      ],
      "execution_count": null,
      "outputs": []
    },
    {
      "cell_type": "code",
      "metadata": {
        "colab": {
          "base_uri": "https://localhost:8080/"
        },
        "id": "HDxoUh6lRGya",
        "outputId": "c24a7601-3f7a-4c8d-d5f7-fe2b5d42a3b0"
      },
      "source": [
        "ttest,pval = ttest_1samp(X, 170)\n",
        "print(pval)\n",
        "\n",
        "# Task 3\n",
        "if pval<0.05:\n",
        "  print(\"Null Hypothesis Rejected: The mean Brinell hardness is greater than 170\")\n",
        "else:\n",
        "  print(\"Cannot Reject Null Hypothesis: The mean Brinell hardness can be equal equal to 170\")"
      ],
      "execution_count": null,
      "outputs": [
        {
          "output_type": "stream",
          "text": [
            "0.23363279636357662\n",
            "Cannot Reject Null Hypothesis: The mean Brinell hardness can be equal equal to 170\n"
          ],
          "name": "stdout"
        }
      ]
    },
    {
      "cell_type": "markdown",
      "metadata": {
        "id": "uKI24W2HSLfw"
      },
      "source": [
        "**Question 13 - Intermediate**"
      ]
    },
    {
      "cell_type": "markdown",
      "metadata": {
        "id": "Pq60upAhSXwf"
      },
      "source": [
        "A manufacturer claims that the thickness of the plates it produces is 7.5 one-hundredths of an inch. The\n",
        "quality-check department has to check the thickness regulary. On one production run, they took a random\n",
        "sample of n = 10 pieces of plates and measured their thickness. They obtained:\n",
        "\n",
        "7.65 7.60 7.65 7.70 7.55 7.55 7.40 7.40 7.50 7.50\n",
        "\n",
        "Tasks to be performed:\n",
        "1. Determine the Hypotheses\n",
        "2. Perform a Statistical Test\n",
        "3. Find P-value and conclude the hypothesis\n",
        "\n",
        "Topics Covered:\n",
        "* Hypothesis Test for Population Mean: Two-tailed Test"
      ]
    },
    {
      "cell_type": "markdown",
      "metadata": {
        "id": "kBDMCG3XSlcW"
      },
      "source": [
        "#Task 1:\n",
        "The hypothesis is stated as follows:\n",
        "\n",
        "Null: The thickness is equal to 7.5 one-hundredths of an inch (p=7.5)\n",
        "Alternative: The thickness is not equal to 7.5 one-hundredths of an inch (p!=7.5)\n",
        "\n",
        "The quality-check department can perform a one sample t-test using ttest_1samp and find out the p-value to\n",
        "conclude if the thickness is equal to 7.5 one-hundredths of an inch or not"
      ]
    },
    {
      "cell_type": "code",
      "metadata": {
        "colab": {
          "base_uri": "https://localhost:8080/"
        },
        "id": "IrF2xDuOShc1",
        "outputId": "ddd0487b-a10a-4fb6-ed70-651533eafe54"
      },
      "source": [
        "import pandas as pd\n",
        "import math\n",
        "from scipy.stats import ttest_1samp\n",
        "import numpy as np\n",
        "\n",
        "#Task 2\n",
        "X = [7.65, 7.60, 7.65, 7.70, 7.55, 7.55, 7.40, 7.40, 7.50, 7.50]\n",
        "ttest,pval = ttest_1samp(X, 7.5)\n",
        "print(pval)\n",
        "\n",
        "# Task3\n",
        "if pval<0.05:\n",
        "  print(\"Null Hypothesis Rejected: The thickness is not equal to 7.5 one_hundredths of an inch\")\n",
        "else:\n",
        "  print(\"Cannot Reject Null Hypothesis: The thickness is equal to 7.5 one-hundredths of an inch\")"
      ],
      "execution_count": null,
      "outputs": [
        {
          "output_type": "stream",
          "text": [
            "0.15819542053877977\n",
            "Cannot Reject Null Hypothesis: The thickness is equal to 7.5 one-hundredths of an inch\n"
          ],
          "name": "stdout"
        }
      ]
    },
    {
      "cell_type": "markdown",
      "metadata": {
        "id": "nw_YquLGT6e_"
      },
      "source": [
        "**Questions 14-15:**"
      ]
    },
    {
      "cell_type": "markdown",
      "metadata": {
        "id": "YkTmF3zSUANn"
      },
      "source": [
        "Dataset Description:\n",
        "\n",
        "diabetes.csv - The dataset contains 9 features:\n",
        "\n",
        "* Pregnancies: Pregnancy month\n",
        "* Glucose: Glucose value\n",
        "* BloodPressure: Blood Pressure value\n",
        "* SkinThickness: Skin Thickness value\n",
        "* Insulin: Insulin value\n",
        "* BMI: BMI value\n",
        "* DiabetesPedigreeFunction: Likelihood score of diabetes based on family history\n",
        "* Age: Patient age\n",
        "* Outcome: 1 or 0 based on whether the patient is diabetic or not"
      ]
    },
    {
      "cell_type": "code",
      "metadata": {
        "colab": {
          "base_uri": "https://localhost:8080/"
        },
        "id": "YTSwH0HZT0fy",
        "outputId": "c06d7582-f400-4848-a021-ed5e000c7ddb"
      },
      "source": [
        "!wget https://www.dropbox.com/s/ageyill6ur8s2u3/diabetes.csv"
      ],
      "execution_count": null,
      "outputs": [
        {
          "output_type": "stream",
          "text": [
            "--2021-04-27 21:54:47--  https://www.dropbox.com/s/ageyill6ur8s2u3/diabetes.csv\n",
            "Resolving www.dropbox.com (www.dropbox.com)... 162.125.80.18, 2620:100:6032:18::a27d:5212\n",
            "Connecting to www.dropbox.com (www.dropbox.com)|162.125.80.18|:443... connected.\n",
            "HTTP request sent, awaiting response... 301 Moved Permanently\n",
            "Location: /s/raw/ageyill6ur8s2u3/diabetes.csv [following]\n",
            "--2021-04-27 21:54:48--  https://www.dropbox.com/s/raw/ageyill6ur8s2u3/diabetes.csv\n",
            "Reusing existing connection to www.dropbox.com:443.\n",
            "HTTP request sent, awaiting response... 302 Found\n",
            "Location: https://uc4dde7a509a000ace9cccc334ed.dl.dropboxusercontent.com/cd/0/inline/BNb8I2GnuJ6mC3wi_RIxolF_tULjy49AfKwnhAkV9EEGzNQygb5mU0MmDPdsif7mp3xGC-l0G2Mx9SlnCSdL2ECq8yFHs96_bVstDjwAdJk7Z-LczR0PL6_2bnA0JzkMquxVvcVjbj0RmWy-JeBVEgzs/file# [following]\n",
            "--2021-04-27 21:54:48--  https://uc4dde7a509a000ace9cccc334ed.dl.dropboxusercontent.com/cd/0/inline/BNb8I2GnuJ6mC3wi_RIxolF_tULjy49AfKwnhAkV9EEGzNQygb5mU0MmDPdsif7mp3xGC-l0G2Mx9SlnCSdL2ECq8yFHs96_bVstDjwAdJk7Z-LczR0PL6_2bnA0JzkMquxVvcVjbj0RmWy-JeBVEgzs/file\n",
            "Resolving uc4dde7a509a000ace9cccc334ed.dl.dropboxusercontent.com (uc4dde7a509a000ace9cccc334ed.dl.dropboxusercontent.com)... 162.125.80.15, 2620:100:6032:15::a27d:520f\n",
            "Connecting to uc4dde7a509a000ace9cccc334ed.dl.dropboxusercontent.com (uc4dde7a509a000ace9cccc334ed.dl.dropboxusercontent.com)|162.125.80.15|:443... connected.\n",
            "HTTP request sent, awaiting response... 200 OK\n",
            "Length: 23873 (23K) [text/plain]\n",
            "Saving to: ‘diabetes.csv’\n",
            "\n",
            "diabetes.csv        100%[===================>]  23.31K  --.-KB/s    in 0.04s   \n",
            "\n",
            "2021-04-27 21:54:48 (592 KB/s) - ‘diabetes.csv’ saved [23873/23873]\n",
            "\n"
          ],
          "name": "stdout"
        }
      ]
    },
    {
      "cell_type": "markdown",
      "metadata": {
        "id": "olzxOefKVJAu"
      },
      "source": [
        "Question 14 - Intermediate"
      ]
    },
    {
      "cell_type": "markdown",
      "metadata": {
        "id": "wKX7NJfYVRHe"
      },
      "source": [
        "Use the given dataset to find out what proportion of patients report they have diabetes.\n",
        "\n",
        "Tasks to be performed:\n",
        "\n",
        "1. Load the data, check its shape and check for null values\n",
        "2. Replace the binary outcomes with text (1: Diabetic, 0: Non-diabetic)\n",
        "3. Find the value_counts of diabetic patients\n",
        "4. Construct a 95% confidence interval with statsmodels library for the population proportion of people having diabetes\n",
        "\n",
        "Topics covered:\n",
        "* Confidence Interval"
      ]
    },
    {
      "cell_type": "code",
      "metadata": {
        "colab": {
          "base_uri": "https://localhost:8080/"
        },
        "id": "kNnyYqghU9im",
        "outputId": "d14d8bed-0016-4671-e3b2-fcd7dc4c772e"
      },
      "source": [
        "import pandas as pd\n",
        "import statsmodels.api as sm\n",
        "\n",
        "df = pd.read_csv(\"diabetes.csv\")\n",
        "print(df.head())\n",
        "print(df.shape)\n",
        "print(df.isnull().sum())"
      ],
      "execution_count": null,
      "outputs": [
        {
          "output_type": "stream",
          "text": [
            "   Pregnancies  Glucose  BloodPressure  ...  DiabetesPedigreeFunction  Age  Outcome\n",
            "0            6      148             72  ...                     0.627   50        1\n",
            "1            1       85             66  ...                     0.351   31        0\n",
            "2            8      183             64  ...                     0.672   32        1\n",
            "3            1       89             66  ...                     0.167   21        0\n",
            "4            0      137             40  ...                     2.288   33        1\n",
            "\n",
            "[5 rows x 9 columns]\n",
            "(768, 9)\n",
            "Pregnancies                 0\n",
            "Glucose                     0\n",
            "BloodPressure               0\n",
            "SkinThickness               0\n",
            "Insulin                     0\n",
            "BMI                         0\n",
            "DiabetesPedigreeFunction    0\n",
            "Age                         0\n",
            "Outcome                     0\n",
            "dtype: int64\n"
          ],
          "name": "stdout"
        }
      ]
    },
    {
      "cell_type": "code",
      "metadata": {
        "colab": {
          "base_uri": "https://localhost:8080/"
        },
        "id": "53-Mi2cFV7Ej",
        "outputId": "08f30e90-9b0b-455b-ab1e-93985435db0f"
      },
      "source": [
        "# Task 2\n",
        "df.Outcome.replace({0:'Non-Diab',1:'Diab'},inplace=True)\n",
        "n = df.shape[0]\n",
        "\n",
        "# Task 3\n",
        "diabetic = df.Outcome.value_counts().loc['Diab']\n",
        "print(\"Total observation:\",n ,\"\\n Number of diabetic patients: \",diabetic, n)\n",
        "\n",
        "# Task 4\n",
        "print(\"\\n95% C.I. with statsmodel library:\", sm.stats.proportion_confint(diabetic, n))\n"
      ],
      "execution_count": null,
      "outputs": [
        {
          "output_type": "stream",
          "text": [
            "Total observation: 768 \n",
            " Number of diabetic patients:  268 768\n",
            "\n",
            "95% C.I. with statsmodel library: (0.3152483405027714, 0.38266832616389523)\n"
          ],
          "name": "stdout"
        }
      ]
    },
    {
      "cell_type": "markdown",
      "metadata": {
        "id": "uV9C_2vCXinC"
      },
      "source": [
        "**Question 15 - Advanced**"
      ]
    },
    {
      "cell_type": "markdown",
      "metadata": {
        "id": "ajYMjO5ZXnll"
      },
      "source": [
        "Use the given dataset to check if diabetic patients have higher average age than non-diabetic patients. Take\n",
        "a significance level of 5%.\n",
        "\n",
        "Tasks to be performed:\n",
        "\n",
        "1. Determine the Hypotheses\n",
        "2. Perform a Statistical Test\n",
        "3. Find P-value and conclude the hypothesis\n",
        "\n",
        "Topics Covered:\n",
        "* Hypothesis Test for Population Mean: Left-tailed Z-Test\n",
        "#Task 1:\n",
        "The hypothesis is stated as follows:\n",
        "\n",
        "Null: There is no difference in average age\n",
        "Alternative: There is a significant difference in average age\n",
        "\n",
        "Since the number of samples is >>>30, we can perform a z-test using stats.ztest and find out the p-value to\n",
        "conclude if diabetic patients have higher average age than non-diabetic patients or not."
      ]
    },
    {
      "cell_type": "code",
      "metadata": {
        "colab": {
          "base_uri": "https://localhost:8080/"
        },
        "id": "fRI65mv3XTm4",
        "outputId": "03f8249d-95db-4403-f7f6-4651f0308822"
      },
      "source": [
        "import statsmodels.api as sm\n",
        "\n",
        "df_diabetic = df[df.Outcome=='Diab']\n",
        "df_non_diabetic = df[df.Outcome=='Non-Diab']\n",
        "\n",
        "#Task 2\n",
        "z,pval = sm.stats.ztest(df_diabetic['Age'],df_non_diabetic['Age'])\n",
        "print(pval)\n",
        "\n",
        "#Task 3\n",
        "if pval<0.05:\n",
        "  print(\"Null Hypothesis Rejected: Diabetic patients have a higher avg age than non-diabetic patients\")\n",
        "else:\n",
        "  print(\"Cannot Reject Null hypothesis: There is no difference in avg age of diabetic and non_diabetic patients\")"
      ],
      "execution_count": null,
      "outputs": [
        {
          "output_type": "stream",
          "text": [
            "1.1006318936217381e-11\n",
            "Null Hypothesis Rejected: Diabetic patients have a higher avg age than non-diabetic patients\n"
          ],
          "name": "stdout"
        }
      ]
    },
    {
      "cell_type": "markdown",
      "metadata": {
        "id": "0j1sVHbLaNRo"
      },
      "source": [
        "**Questions 16-17:**"
      ]
    },
    {
      "cell_type": "markdown",
      "metadata": {
        "id": "ISmQhfl3aTGK"
      },
      "source": [
        "Dataset Description:\n",
        "\n",
        "survey.csv - The dataset contains 27 columns. Here's a brief description of 4 columns in the dataset:\n",
        "\n",
        "* Age - Age of each person\n",
        "* Gender - Gender of each person\n",
        "* Country - Nationality of each person\n",
        "* self_employed - Whether the person is * self employed or not\n",
        "\n",
        "Question 16 - Intermediate\n",
        "\n",
        "Use the given dataset to find out what proportion of self-employed people are women.\n",
        "\n",
        "Tasks to be performed:\n",
        "1. Load the data\n",
        "2. Find the value_counts of people that are self-employed\n",
        "3. Find the value_counts of women that re self employed\n",
        "4. Construct a 95% confidence interval with statsmodels library for the population proportion of selfemployed\n",
        "women\n",
        "\n",
        "Topics covered:\n",
        "* Confidence Interval"
      ]
    },
    {
      "cell_type": "code",
      "metadata": {
        "colab": {
          "base_uri": "https://localhost:8080/",
          "height": 309
        },
        "id": "wWBbGAT2ZyYu",
        "outputId": "32aa2a27-7f72-4dc5-c809-3917867d6d7a"
      },
      "source": [
        "import pandas as pd\n",
        "import statsmodels.api as sm\n",
        "\n",
        "#Task 1\n",
        "selfemp = pd.read_csv(\"survey.csv\")\n",
        "selfemp.head()"
      ],
      "execution_count": null,
      "outputs": [
        {
          "output_type": "execute_result",
          "data": {
            "text/html": [
              "<div>\n",
              "<style scoped>\n",
              "    .dataframe tbody tr th:only-of-type {\n",
              "        vertical-align: middle;\n",
              "    }\n",
              "\n",
              "    .dataframe tbody tr th {\n",
              "        vertical-align: top;\n",
              "    }\n",
              "\n",
              "    .dataframe thead th {\n",
              "        text-align: right;\n",
              "    }\n",
              "</style>\n",
              "<table border=\"1\" class=\"dataframe\">\n",
              "  <thead>\n",
              "    <tr style=\"text-align: right;\">\n",
              "      <th></th>\n",
              "      <th>Timestamp</th>\n",
              "      <th>Age</th>\n",
              "      <th>Gender</th>\n",
              "      <th>Country</th>\n",
              "      <th>state</th>\n",
              "      <th>self_employed</th>\n",
              "      <th>family_history</th>\n",
              "      <th>treatment</th>\n",
              "      <th>work_interfere</th>\n",
              "      <th>no_employees</th>\n",
              "      <th>remote_work</th>\n",
              "      <th>tech_company</th>\n",
              "      <th>benefits</th>\n",
              "      <th>care_options</th>\n",
              "      <th>wellness_program</th>\n",
              "      <th>seek_help</th>\n",
              "      <th>anonymity</th>\n",
              "      <th>leave</th>\n",
              "      <th>mental_health_consequence</th>\n",
              "      <th>phys_health_consequence</th>\n",
              "      <th>coworkers</th>\n",
              "      <th>supervisor</th>\n",
              "      <th>mental_health_interview</th>\n",
              "      <th>phys_health_interview</th>\n",
              "      <th>mental_vs_physical</th>\n",
              "      <th>obs_consequence</th>\n",
              "      <th>comments</th>\n",
              "    </tr>\n",
              "  </thead>\n",
              "  <tbody>\n",
              "    <tr>\n",
              "      <th>0</th>\n",
              "      <td>27-08-2014 11:29</td>\n",
              "      <td>37</td>\n",
              "      <td>female</td>\n",
              "      <td>United States</td>\n",
              "      <td>IL</td>\n",
              "      <td>NaN</td>\n",
              "      <td>No</td>\n",
              "      <td>Yes</td>\n",
              "      <td>Often</td>\n",
              "      <td>Jun-25</td>\n",
              "      <td>No</td>\n",
              "      <td>Yes</td>\n",
              "      <td>Yes</td>\n",
              "      <td>Not sure</td>\n",
              "      <td>No</td>\n",
              "      <td>Yes</td>\n",
              "      <td>Yes</td>\n",
              "      <td>Somewhat easy</td>\n",
              "      <td>No</td>\n",
              "      <td>No</td>\n",
              "      <td>Some of them</td>\n",
              "      <td>Yes</td>\n",
              "      <td>No</td>\n",
              "      <td>Maybe</td>\n",
              "      <td>Yes</td>\n",
              "      <td>No</td>\n",
              "      <td>NaN</td>\n",
              "    </tr>\n",
              "    <tr>\n",
              "      <th>1</th>\n",
              "      <td>27-08-2014 11:29</td>\n",
              "      <td>44</td>\n",
              "      <td>male</td>\n",
              "      <td>United States</td>\n",
              "      <td>IN</td>\n",
              "      <td>NaN</td>\n",
              "      <td>No</td>\n",
              "      <td>No</td>\n",
              "      <td>Rarely</td>\n",
              "      <td>More than 1000</td>\n",
              "      <td>No</td>\n",
              "      <td>No</td>\n",
              "      <td>Don't know</td>\n",
              "      <td>No</td>\n",
              "      <td>Don't know</td>\n",
              "      <td>Don't know</td>\n",
              "      <td>Don't know</td>\n",
              "      <td>Don't know</td>\n",
              "      <td>Maybe</td>\n",
              "      <td>No</td>\n",
              "      <td>No</td>\n",
              "      <td>No</td>\n",
              "      <td>No</td>\n",
              "      <td>No</td>\n",
              "      <td>Don't know</td>\n",
              "      <td>No</td>\n",
              "      <td>NaN</td>\n",
              "    </tr>\n",
              "    <tr>\n",
              "      <th>2</th>\n",
              "      <td>27-08-2014 11:29</td>\n",
              "      <td>32</td>\n",
              "      <td>male</td>\n",
              "      <td>Canada</td>\n",
              "      <td>NaN</td>\n",
              "      <td>NaN</td>\n",
              "      <td>No</td>\n",
              "      <td>No</td>\n",
              "      <td>Rarely</td>\n",
              "      <td>Jun-25</td>\n",
              "      <td>No</td>\n",
              "      <td>Yes</td>\n",
              "      <td>No</td>\n",
              "      <td>No</td>\n",
              "      <td>No</td>\n",
              "      <td>No</td>\n",
              "      <td>Don't know</td>\n",
              "      <td>Somewhat difficult</td>\n",
              "      <td>No</td>\n",
              "      <td>No</td>\n",
              "      <td>Yes</td>\n",
              "      <td>Yes</td>\n",
              "      <td>Yes</td>\n",
              "      <td>Yes</td>\n",
              "      <td>No</td>\n",
              "      <td>No</td>\n",
              "      <td>NaN</td>\n",
              "    </tr>\n",
              "    <tr>\n",
              "      <th>3</th>\n",
              "      <td>27-08-2014 11:29</td>\n",
              "      <td>31</td>\n",
              "      <td>male</td>\n",
              "      <td>United Kingdom</td>\n",
              "      <td>NaN</td>\n",
              "      <td>NaN</td>\n",
              "      <td>Yes</td>\n",
              "      <td>Yes</td>\n",
              "      <td>Often</td>\n",
              "      <td>26-100</td>\n",
              "      <td>No</td>\n",
              "      <td>Yes</td>\n",
              "      <td>No</td>\n",
              "      <td>Yes</td>\n",
              "      <td>No</td>\n",
              "      <td>No</td>\n",
              "      <td>No</td>\n",
              "      <td>Somewhat difficult</td>\n",
              "      <td>Yes</td>\n",
              "      <td>Yes</td>\n",
              "      <td>Some of them</td>\n",
              "      <td>No</td>\n",
              "      <td>Maybe</td>\n",
              "      <td>Maybe</td>\n",
              "      <td>No</td>\n",
              "      <td>Yes</td>\n",
              "      <td>NaN</td>\n",
              "    </tr>\n",
              "    <tr>\n",
              "      <th>4</th>\n",
              "      <td>27-08-2014 11:30</td>\n",
              "      <td>31</td>\n",
              "      <td>male</td>\n",
              "      <td>United States</td>\n",
              "      <td>TX</td>\n",
              "      <td>NaN</td>\n",
              "      <td>No</td>\n",
              "      <td>No</td>\n",
              "      <td>Never</td>\n",
              "      <td>100-500</td>\n",
              "      <td>Yes</td>\n",
              "      <td>Yes</td>\n",
              "      <td>Yes</td>\n",
              "      <td>No</td>\n",
              "      <td>Don't know</td>\n",
              "      <td>Don't know</td>\n",
              "      <td>Don't know</td>\n",
              "      <td>Don't know</td>\n",
              "      <td>No</td>\n",
              "      <td>No</td>\n",
              "      <td>Some of them</td>\n",
              "      <td>Yes</td>\n",
              "      <td>Yes</td>\n",
              "      <td>Yes</td>\n",
              "      <td>Don't know</td>\n",
              "      <td>No</td>\n",
              "      <td>NaN</td>\n",
              "    </tr>\n",
              "  </tbody>\n",
              "</table>\n",
              "</div>"
            ],
            "text/plain": [
              "          Timestamp  Age  Gender  ... mental_vs_physical obs_consequence comments\n",
              "0  27-08-2014 11:29   37  female  ...                Yes              No      NaN\n",
              "1  27-08-2014 11:29   44    male  ...         Don't know              No      NaN\n",
              "2  27-08-2014 11:29   32    male  ...                 No              No      NaN\n",
              "3  27-08-2014 11:29   31    male  ...                 No             Yes      NaN\n",
              "4  27-08-2014 11:30   31    male  ...         Don't know              No      NaN\n",
              "\n",
              "[5 rows x 27 columns]"
            ]
          },
          "metadata": {
            "tags": []
          },
          "execution_count": 46
        }
      ]
    },
    {
      "cell_type": "code",
      "metadata": {
        "colab": {
          "base_uri": "https://localhost:8080/",
          "height": 248
        },
        "id": "9JUvUb7lbFR6",
        "outputId": "e291bc33-62cf-4144-a71f-1459c5efd84a"
      },
      "source": [
        "#task 2\n",
        "n = selfemp.self_employed.value_counts().loc['Yes']\n",
        "\n",
        "#Task 3\n",
        "women = selfemp[(selfemp['Gender']=='female')]\n",
        "self_emp_w = women.self_employed.value_counts().loc['Yes']\n",
        "\n",
        "print(\"Total number of self-employed people:\",n ,\"\\nNumber of self-employed women:\",self_emp_w)\n",
        "\n",
        "# Task 4\n",
        "print(\"\\n95% confidence Interval:\", sm.stats.proportion_confint(self_emp_w-n))"
      ],
      "execution_count": null,
      "outputs": [
        {
          "output_type": "stream",
          "text": [
            "Total number of self-employed people: 146 \n",
            "Number of self-employed women: 24\n"
          ],
          "name": "stdout"
        },
        {
          "output_type": "error",
          "ename": "TypeError",
          "evalue": "ignored",
          "traceback": [
            "\u001b[0;31m---------------------------------------------------------------------------\u001b[0m",
            "\u001b[0;31mTypeError\u001b[0m                                 Traceback (most recent call last)",
            "\u001b[0;32m<ipython-input-51-4e434080de96>\u001b[0m in \u001b[0;36m<module>\u001b[0;34m()\u001b[0m\n\u001b[1;32m      9\u001b[0m \u001b[0;34m\u001b[0m\u001b[0m\n\u001b[1;32m     10\u001b[0m \u001b[0;31m# Task 4\u001b[0m\u001b[0;34m\u001b[0m\u001b[0;34m\u001b[0m\u001b[0;34m\u001b[0m\u001b[0m\n\u001b[0;32m---> 11\u001b[0;31m \u001b[0mprint\u001b[0m\u001b[0;34m(\u001b[0m\u001b[0;34m\"\\n95% confidence Interval:\"\u001b[0m\u001b[0;34m,\u001b[0m \u001b[0msm\u001b[0m\u001b[0;34m.\u001b[0m\u001b[0mstats\u001b[0m\u001b[0;34m.\u001b[0m\u001b[0mproportion_confint\u001b[0m\u001b[0;34m(\u001b[0m\u001b[0mself_emp_w\u001b[0m\u001b[0;34m-\u001b[0m\u001b[0mn\u001b[0m\u001b[0;34m)\u001b[0m\u001b[0;34m)\u001b[0m\u001b[0;34m\u001b[0m\u001b[0;34m\u001b[0m\u001b[0m\n\u001b[0m",
            "\u001b[0;31mTypeError\u001b[0m: proportion_confint() missing 1 required positional argument: 'nobs'"
          ]
        }
      ]
    },
    {
      "cell_type": "code",
      "metadata": {
        "id": "MfjLFw_Zde3W"
      },
      "source": [
        ""
      ],
      "execution_count": null,
      "outputs": []
    }
  ]
}