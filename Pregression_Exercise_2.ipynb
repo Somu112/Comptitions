{
  "nbformat": 4,
  "nbformat_minor": 0,
  "metadata": {
    "colab": {
      "name": "Pregression Exercise 2",
      "provenance": [],
      "authorship_tag": "ABX9TyPHO6nAEI/oavzIWFu/rBlm",
      "include_colab_link": true
    },
    "kernelspec": {
      "name": "python3",
      "display_name": "Python 3"
    },
    "language_info": {
      "name": "python"
    }
  },
  "cells": [
    {
      "cell_type": "markdown",
      "metadata": {
        "id": "view-in-github",
        "colab_type": "text"
      },
      "source": [
        "<a href=\"https://colab.research.google.com/github/Somu112/Predictive-Analysis/blob/master/Pregression_Exercise_2.ipynb\" target=\"_parent\"><img src=\"https://colab.research.google.com/assets/colab-badge.svg\" alt=\"Open In Colab\"/></a>"
      ]
    },
    {
      "cell_type": "code",
      "metadata": {
        "colab": {
          "base_uri": "https://localhost:8080/"
        },
        "id": "SU5DU8wGDAJS",
        "outputId": "5f4d8572-82ba-474b-f94c-63e045822b6d"
      },
      "source": [
        "!wget https://www.dropbox.com/s/d6ibssihbtrhi0w/plastic.csv"
      ],
      "execution_count": 29,
      "outputs": [
        {
          "output_type": "stream",
          "text": [
            "--2021-05-03 18:45:56--  https://www.dropbox.com/s/d6ibssihbtrhi0w/plastic.csv\n",
            "Resolving www.dropbox.com (www.dropbox.com)... 162.125.1.18, 2620:100:6016:18::a27d:112\n",
            "Connecting to www.dropbox.com (www.dropbox.com)|162.125.1.18|:443... connected.\n",
            "HTTP request sent, awaiting response... 301 Moved Permanently\n",
            "Location: /s/raw/d6ibssihbtrhi0w/plastic.csv [following]\n",
            "--2021-05-03 18:45:56--  https://www.dropbox.com/s/raw/d6ibssihbtrhi0w/plastic.csv\n",
            "Reusing existing connection to www.dropbox.com:443.\n",
            "HTTP request sent, awaiting response... 302 Found\n",
            "Location: https://uc7bc3494921bd4d5aac4671b810.dl.dropboxusercontent.com/cd/0/inline/BNzmHKKYgzsXnTntofPzmohUsrmo-GvyxZJZIjaYmW5I_owf2dUlIvJ-VH_IVfvhTj5j5Pq04tyTSQksTXD6jEIu2nobengHKGiEZRnpapPNMX1ks6yMAzu2YFbp9YE7YYINOPsxtxKH7eMqv19zFFdT/file# [following]\n",
            "--2021-05-03 18:45:56--  https://uc7bc3494921bd4d5aac4671b810.dl.dropboxusercontent.com/cd/0/inline/BNzmHKKYgzsXnTntofPzmohUsrmo-GvyxZJZIjaYmW5I_owf2dUlIvJ-VH_IVfvhTj5j5Pq04tyTSQksTXD6jEIu2nobengHKGiEZRnpapPNMX1ks6yMAzu2YFbp9YE7YYINOPsxtxKH7eMqv19zFFdT/file\n",
            "Resolving uc7bc3494921bd4d5aac4671b810.dl.dropboxusercontent.com (uc7bc3494921bd4d5aac4671b810.dl.dropboxusercontent.com)... 162.125.1.15, 2620:100:601a:15::a27d:70f\n",
            "Connecting to uc7bc3494921bd4d5aac4671b810.dl.dropboxusercontent.com (uc7bc3494921bd4d5aac4671b810.dl.dropboxusercontent.com)|162.125.1.15|:443... connected.\n",
            "HTTP request sent, awaiting response... 200 OK\n",
            "Length: 19799 (19K) [text/plain]\n",
            "Saving to: ‘plastic.csv.1’\n",
            "\n",
            "plastic.csv.1       100%[===================>]  19.33K  --.-KB/s    in 0.007s  \n",
            "\n",
            "2021-05-03 18:45:58 (2.74 MB/s) - ‘plastic.csv.1’ saved [19799/19799]\n",
            "\n"
          ],
          "name": "stdout"
        }
      ]
    },
    {
      "cell_type": "code",
      "metadata": {
        "id": "Z3pXyiVfEZ5B"
      },
      "source": [
        "import pandas as pd\n",
        "import numpy as np\n",
        "import matplotlib.pyplot as plt\n",
        "import seaborn as sns"
      ],
      "execution_count": 30,
      "outputs": []
    },
    {
      "cell_type": "code",
      "metadata": {
        "colab": {
          "base_uri": "https://localhost:8080/",
          "height": 204
        },
        "id": "3isT5mPiEvZf",
        "outputId": "7545bbac-8962-422f-ec5a-ec0a4c31a8cc"
      },
      "source": [
        "data = pd.read_csv(\"plastic.csv\",header=None)\n",
        "data.columns=['Strength','Tempreture','Pressure']\n",
        "data.head()"
      ],
      "execution_count": 31,
      "outputs": [
        {
          "output_type": "execute_result",
          "data": {
            "text/html": [
              "<div>\n",
              "<style scoped>\n",
              "    .dataframe tbody tr th:only-of-type {\n",
              "        vertical-align: middle;\n",
              "    }\n",
              "\n",
              "    .dataframe tbody tr th {\n",
              "        vertical-align: top;\n",
              "    }\n",
              "\n",
              "    .dataframe thead th {\n",
              "        text-align: right;\n",
              "    }\n",
              "</style>\n",
              "<table border=\"1\" class=\"dataframe\">\n",
              "  <thead>\n",
              "    <tr style=\"text-align: right;\">\n",
              "      <th></th>\n",
              "      <th>Strength</th>\n",
              "      <th>Tempreture</th>\n",
              "      <th>Pressure</th>\n",
              "    </tr>\n",
              "  </thead>\n",
              "  <tbody>\n",
              "    <tr>\n",
              "      <th>0</th>\n",
              "      <td>30.7</td>\n",
              "      <td>240</td>\n",
              "      <td>16</td>\n",
              "    </tr>\n",
              "    <tr>\n",
              "      <th>1</th>\n",
              "      <td>24.7</td>\n",
              "      <td>250</td>\n",
              "      <td>18</td>\n",
              "    </tr>\n",
              "    <tr>\n",
              "      <th>2</th>\n",
              "      <td>30.6</td>\n",
              "      <td>260</td>\n",
              "      <td>16</td>\n",
              "    </tr>\n",
              "    <tr>\n",
              "      <th>3</th>\n",
              "      <td>32.8</td>\n",
              "      <td>240</td>\n",
              "      <td>10</td>\n",
              "    </tr>\n",
              "    <tr>\n",
              "      <th>4</th>\n",
              "      <td>20.7</td>\n",
              "      <td>240</td>\n",
              "      <td>20</td>\n",
              "    </tr>\n",
              "  </tbody>\n",
              "</table>\n",
              "</div>"
            ],
            "text/plain": [
              "   Strength  Tempreture  Pressure\n",
              "0      30.7         240        16\n",
              "1      24.7         250        18\n",
              "2      30.6         260        16\n",
              "3      32.8         240        10\n",
              "4      20.7         240        20"
            ]
          },
          "metadata": {
            "tags": []
          },
          "execution_count": 31
        }
      ]
    },
    {
      "cell_type": "code",
      "metadata": {
        "colab": {
          "base_uri": "https://localhost:8080/",
          "height": 142
        },
        "id": "3zOMWvVuFKF6",
        "outputId": "1b7b8d29-623e-437e-99ad-777ae2a53245"
      },
      "source": [
        "data.corr()"
      ],
      "execution_count": 32,
      "outputs": [
        {
          "output_type": "execute_result",
          "data": {
            "text/html": [
              "<div>\n",
              "<style scoped>\n",
              "    .dataframe tbody tr th:only-of-type {\n",
              "        vertical-align: middle;\n",
              "    }\n",
              "\n",
              "    .dataframe tbody tr th {\n",
              "        vertical-align: top;\n",
              "    }\n",
              "\n",
              "    .dataframe thead th {\n",
              "        text-align: right;\n",
              "    }\n",
              "</style>\n",
              "<table border=\"1\" class=\"dataframe\">\n",
              "  <thead>\n",
              "    <tr style=\"text-align: right;\">\n",
              "      <th></th>\n",
              "      <th>Strength</th>\n",
              "      <th>Tempreture</th>\n",
              "      <th>Pressure</th>\n",
              "    </tr>\n",
              "  </thead>\n",
              "  <tbody>\n",
              "    <tr>\n",
              "      <th>Strength</th>\n",
              "      <td>1.000000</td>\n",
              "      <td>0.856057</td>\n",
              "      <td>-0.462324</td>\n",
              "    </tr>\n",
              "    <tr>\n",
              "      <th>Tempreture</th>\n",
              "      <td>0.856057</td>\n",
              "      <td>1.000000</td>\n",
              "      <td>0.000000</td>\n",
              "    </tr>\n",
              "    <tr>\n",
              "      <th>Pressure</th>\n",
              "      <td>-0.462324</td>\n",
              "      <td>0.000000</td>\n",
              "      <td>1.000000</td>\n",
              "    </tr>\n",
              "  </tbody>\n",
              "</table>\n",
              "</div>"
            ],
            "text/plain": [
              "            Strength  Tempreture  Pressure\n",
              "Strength    1.000000    0.856057 -0.462324\n",
              "Tempreture  0.856057    1.000000  0.000000\n",
              "Pressure   -0.462324    0.000000  1.000000"
            ]
          },
          "metadata": {
            "tags": []
          },
          "execution_count": 32
        }
      ]
    },
    {
      "cell_type": "markdown",
      "metadata": {
        "id": "7DUn3048FeDC"
      },
      "source": [
        "*Question-2: Split the data in train-test set and fit a Linear Regression model.\n",
        "Find the coeficients and intercepts*"
      ]
    },
    {
      "cell_type": "code",
      "metadata": {
        "id": "lvZfnWkuFQSc"
      },
      "source": [
        "from sklearn.model_selection import train_test_split\n",
        "from sklearn.linear_model import LinearRegression"
      ],
      "execution_count": 33,
      "outputs": []
    },
    {
      "cell_type": "code",
      "metadata": {
        "id": "EQ5tdqgCFu4K"
      },
      "source": [
        "X=data.drop('Pressure',axis=1)\n",
        "y=data.Pressure"
      ],
      "execution_count": 34,
      "outputs": []
    },
    {
      "cell_type": "code",
      "metadata": {
        "id": "oHDCZbLxF9-k"
      },
      "source": [
        "X_train,X_test,y_train,y_test=train_test_split(X,y,train_size=0.65,test_size=0.35,random_state=101)"
      ],
      "execution_count": 35,
      "outputs": []
    },
    {
      "cell_type": "code",
      "metadata": {
        "colab": {
          "base_uri": "https://localhost:8080/"
        },
        "id": "7zjFkHAoGY8B",
        "outputId": "b27aeeb3-2b7d-41a3-e05a-f2dda357e815"
      },
      "source": [
        "lin_model = LinearRegression()\n",
        "lin_model.fit(X_train,y_train)"
      ],
      "execution_count": 36,
      "outputs": [
        {
          "output_type": "execute_result",
          "data": {
            "text/plain": [
              "LinearRegression(copy_X=True, fit_intercept=True, n_jobs=None, normalize=False)"
            ]
          },
          "metadata": {
            "tags": []
          },
          "execution_count": 36
        }
      ]
    },
    {
      "cell_type": "code",
      "metadata": {
        "colab": {
          "base_uri": "https://localhost:8080/"
        },
        "id": "lacy_RwuGlZ1",
        "outputId": "ae7b8abc-43ab-4eed-c161-be4c68d6c06c"
      },
      "source": [
        "print(\"coeficients: %(coef)s, intercept: %(intercept).2f\"%{'coef':lin_model.coef_,'intercept':lin_model.intercept_})"
      ],
      "execution_count": 37,
      "outputs": [
        {
          "output_type": "stream",
          "text": [
            "coeficients: [-0.8031328   0.16082925], intercept: -1.09\n"
          ],
          "name": "stdout"
        }
      ]
    },
    {
      "cell_type": "markdown",
      "metadata": {
        "id": "gkhkb8uMHewE"
      },
      "source": [
        "*Question-3: Find the mean squared error and R2 score of the model over test\n",
        "set and test set.*"
      ]
    },
    {
      "cell_type": "code",
      "metadata": {
        "id": "rzKgQxXWHZ3O"
      },
      "source": [
        "from sklearn.metrics import mean_squared_error, r2_score"
      ],
      "execution_count": 38,
      "outputs": []
    },
    {
      "cell_type": "code",
      "metadata": {
        "colab": {
          "base_uri": "https://localhost:8080/"
        },
        "id": "ZodIMmz_HuXy",
        "outputId": "ce3a734c-0821-4daf-9ed8-d24010d9ed60"
      },
      "source": [
        "print('Mean Squared Error (train set): %.2f'%mean_squared_error(y_train,lin_model.predict(X_train)))"
      ],
      "execution_count": 39,
      "outputs": [
        {
          "output_type": "stream",
          "text": [
            "Mean Squared Error (train set): 2.37\n"
          ],
          "name": "stdout"
        }
      ]
    },
    {
      "cell_type": "code",
      "metadata": {
        "colab": {
          "base_uri": "https://localhost:8080/"
        },
        "id": "0SBjzOkTIdyH",
        "outputId": "46210414-679f-475d-bb54-a1c3b7f4c257"
      },
      "source": [
        "print('R2-Score(train set): %.2f'%r2_score(y_train,lin_model.predict(X_train)))"
      ],
      "execution_count": 40,
      "outputs": [
        {
          "output_type": "stream",
          "text": [
            "R2-Score(train set): 0.80\n"
          ],
          "name": "stdout"
        }
      ]
    },
    {
      "cell_type": "code",
      "metadata": {
        "colab": {
          "base_uri": "https://localhost:8080/"
        },
        "id": "VkmLfH1AJ8Fk",
        "outputId": "b0bb295e-ad64-4838-d9a4-c5ae336869b9"
      },
      "source": [
        "print('Mean Squared Error (test set): %.2f'%mean_squared_error(y_test,lin_model.predict(X_test)))"
      ],
      "execution_count": 41,
      "outputs": [
        {
          "output_type": "stream",
          "text": [
            "Mean Squared Error (test set): 2.27\n"
          ],
          "name": "stdout"
        }
      ]
    },
    {
      "cell_type": "code",
      "metadata": {
        "colab": {
          "base_uri": "https://localhost:8080/"
        },
        "id": "NF_AGI-3KOhX",
        "outputId": "679df50e-e997-445b-83bc-444189f14d48"
      },
      "source": [
        "print('R2-Score(test set): %.2f'%r2_score(y_test,lin_model.predict(X_test)))"
      ],
      "execution_count": 42,
      "outputs": [
        {
          "output_type": "stream",
          "text": [
            "R2-Score(test set): 0.80\n"
          ],
          "name": "stdout"
        }
      ]
    },
    {
      "cell_type": "markdown",
      "metadata": {
        "id": "bl81S0ddKlOp"
      },
      "source": [
        "*Question-4: Apply Ridge regression over the train set and find mean squared\n",
        "error and R2 score of the model over test set and test set.*"
      ]
    },
    {
      "cell_type": "code",
      "metadata": {
        "id": "nn7tjWa6KeHY"
      },
      "source": [
        "from sklearn.linear_model import Ridge"
      ],
      "execution_count": 43,
      "outputs": []
    },
    {
      "cell_type": "code",
      "metadata": {
        "colab": {
          "base_uri": "https://localhost:8080/"
        },
        "id": "0azw7YBIK3n2",
        "outputId": "c829cf63-a808-4dd1-a9d5-531209c0bec5"
      },
      "source": [
        "ridge_model = Ridge(alpha=1000)\n",
        "ridge_model.fit(X_train,y_train)"
      ],
      "execution_count": 44,
      "outputs": [
        {
          "output_type": "execute_result",
          "data": {
            "text/plain": [
              "Ridge(alpha=1000, copy_X=True, fit_intercept=True, max_iter=None,\n",
              "      normalize=False, random_state=None, solver='auto', tol=0.001)"
            ]
          },
          "metadata": {
            "tags": []
          },
          "execution_count": 44
        }
      ]
    },
    {
      "cell_type": "code",
      "metadata": {
        "colab": {
          "base_uri": "https://localhost:8080/"
        },
        "id": "ZLu_N9BeLOPD",
        "outputId": "0d0b2d8e-d6f5-4a6a-9452-9f25e2bb637f"
      },
      "source": [
        "print(\"Mean Squared Error (train set): %.2f\"%mean_squared_error(y_train,ridge_model.predict(X_train)))"
      ],
      "execution_count": 45,
      "outputs": [
        {
          "output_type": "stream",
          "text": [
            "Mean Squared Error (train set): 2.41\n"
          ],
          "name": "stdout"
        }
      ]
    },
    {
      "cell_type": "code",
      "metadata": {
        "colab": {
          "base_uri": "https://localhost:8080/"
        },
        "id": "9_tjAXEjLspg",
        "outputId": "e34d59ad-132d-427b-b9ad-5cca0855ad01"
      },
      "source": [
        "print(\"R2-Score (train set): %.2f\"%r2_score(y_train,ridge_model.predict(X_train)))"
      ],
      "execution_count": 46,
      "outputs": [
        {
          "output_type": "stream",
          "text": [
            "R2-Score (train set): 0.79\n"
          ],
          "name": "stdout"
        }
      ]
    },
    {
      "cell_type": "code",
      "metadata": {
        "colab": {
          "base_uri": "https://localhost:8080/"
        },
        "id": "J0xthZOKL6dx",
        "outputId": "0f9ccd65-a197-40bd-fe8b-8d5d3bd3cd6b"
      },
      "source": [
        "print(\"Mean Squared Error (test set): %.2f\"%mean_squared_error(y_test,ridge_model.predict(X_test)))"
      ],
      "execution_count": 47,
      "outputs": [
        {
          "output_type": "stream",
          "text": [
            "Mean Squared Error (test set): 2.29\n"
          ],
          "name": "stdout"
        }
      ]
    },
    {
      "cell_type": "code",
      "metadata": {
        "colab": {
          "base_uri": "https://localhost:8080/"
        },
        "id": "POtQdZq-MDLs",
        "outputId": "e8b0f949-995f-4f81-c60e-ce8ccdfbdc8b"
      },
      "source": [
        "print(\"R2-Score (test set): %.2f\"%r2_score(y_test,ridge_model.predict(X_test)))"
      ],
      "execution_count": 48,
      "outputs": [
        {
          "output_type": "stream",
          "text": [
            "R2-Score (test set): 0.80\n"
          ],
          "name": "stdout"
        }
      ]
    },
    {
      "cell_type": "markdown",
      "metadata": {
        "id": "E9-f18dkMPmn"
      },
      "source": [
        "*Question-5: Plot the coefficient of ridge model and linear model over a\n",
        "grouped bar graph.*"
      ]
    },
    {
      "cell_type": "code",
      "metadata": {
        "colab": {
          "base_uri": "https://localhost:8080/",
          "height": 267
        },
        "id": "6cWUd7hQMKO0",
        "outputId": "30b6f6d0-992d-483a-e208-e553197819f1"
      },
      "source": [
        "plt.bar(np.array([0,1])+0.5,lin_model.coef_,width=0.5,color='b')\n",
        "plt.bar(np.array([0,1]),ridge_model.coef_,width=0.5,color='m')\n",
        "plt.show()"
      ],
      "execution_count": 49,
      "outputs": [
        {
          "output_type": "display_data",
          "data": {
            "image/png": "[encoded data removed]",
            "text/plain": [
              "<Figure size 432x288 with 1 Axes>"
            ]
          },
          "metadata": {
            "tags": [],
            "needs_background": "light"
          }
        }
      ]
    },
    {
      "cell_type": "markdown",
      "metadata": {
        "id": "ecm0yqu7NHoj"
      },
      "source": [
        "**Scenario-3: Baseball Players**"
      ]
    },
    {
      "cell_type": "code",
      "metadata": {
        "colab": {
          "base_uri": "https://localhost:8080/"
        },
        "id": "JSoUd4_hM6OJ",
        "outputId": "38b74f98-cd6c-41ee-80bf-d7404918f781"
      },
      "source": [
        "!wget https://www.dropbox.com/s/5w1d58xggrpnb9z/baseball.csv"
      ],
      "execution_count": 50,
      "outputs": [
        {
          "output_type": "stream",
          "text": [
            "--2021-05-03 18:45:58--  https://www.dropbox.com/s/5w1d58xggrpnb9z/baseball.csv\n",
            "Resolving www.dropbox.com (www.dropbox.com)... 162.125.1.18, 2620:100:6016:18::a27d:112\n",
            "Connecting to www.dropbox.com (www.dropbox.com)|162.125.1.18|:443... connected.\n",
            "HTTP request sent, awaiting response... 301 Moved Permanently\n",
            "Location: /s/raw/5w1d58xggrpnb9z/baseball.csv [following]\n",
            "--2021-05-03 18:45:58--  https://www.dropbox.com/s/raw/5w1d58xggrpnb9z/baseball.csv\n",
            "Reusing existing connection to www.dropbox.com:443.\n",
            "HTTP request sent, awaiting response... 302 Found\n",
            "Location: https://uc4ee04c65083fc1ce90c5dfac71.dl.dropboxusercontent.com/cd/0/inline/BNw7JiJYIa3Z0-l_L4Mt2N_zrr4dZpFmS6a1vBy0hNudwBxHzHAQUgdZm2tpeu_LcnxXKntvIol3XnxwQtsII6wYRJubA4m-0X73ZcavSLBH8GfH65BkRw7XXV3QFB35Oojr_GFk2Pp5UsrQ4uNToa89/file# [following]\n",
            "--2021-05-03 18:45:58--  https://uc4ee04c65083fc1ce90c5dfac71.dl.dropboxusercontent.com/cd/0/inline/BNw7JiJYIa3Z0-l_L4Mt2N_zrr4dZpFmS6a1vBy0hNudwBxHzHAQUgdZm2tpeu_LcnxXKntvIol3XnxwQtsII6wYRJubA4m-0X73ZcavSLBH8GfH65BkRw7XXV3QFB35Oojr_GFk2Pp5UsrQ4uNToa89/file\n",
            "Resolving uc4ee04c65083fc1ce90c5dfac71.dl.dropboxusercontent.com (uc4ee04c65083fc1ce90c5dfac71.dl.dropboxusercontent.com)... 162.125.1.15, 2620:100:601a:15::a27d:70f\n",
            "Connecting to uc4ee04c65083fc1ce90c5dfac71.dl.dropboxusercontent.com (uc4ee04c65083fc1ce90c5dfac71.dl.dropboxusercontent.com)|162.125.1.15|:443... connected.\n",
            "HTTP request sent, awaiting response... 200 OK\n",
            "Length: 22956 (22K) [text/plain]\n",
            "Saving to: ‘baseball.csv.1’\n",
            "\n",
            "baseball.csv.1      100%[===================>]  22.42K  --.-KB/s    in 0.02s   \n",
            "\n",
            "2021-05-03 18:45:59 (1.39 MB/s) - ‘baseball.csv.1’ saved [22956/22956]\n",
            "\n"
          ],
          "name": "stdout"
        }
      ]
    },
    {
      "cell_type": "markdown",
      "metadata": {
        "id": "pv7TzR7SjniV"
      },
      "source": [
        "Salaries of Major League Baseball players who played at least one game in seasons of 1991 and 1992.\n",
        "Performance measures are were taken along with four categorical variables which indicates how free each\n",
        "player was to move to other teams. The data collected does not contain any information on pitchers.\n",
        "\n",
        "The task is to find the salary of a baseball player based on the features given."
      ]
    },
    {
      "cell_type": "markdown",
      "metadata": {
        "id": "2somx9MSjtmA"
      },
      "source": [
        "Tasks to be Performed:\n",
        "* Read the dataset with no headers; Then put respective columns names and find the correlation between\n",
        "the features - Beginner\n",
        "* Fit a Linear Regression model by applying 5-fold cross validation using scikit and calculate the scores\n",
        "and average accuracy - Intermediate\n",
        "* Fit a Linear Regression model by applying 5-fold cross validation explicitly using KFold scikit and\n",
        "calculate the scores using mean absolute error as scoring parameter - Advanced\n",
        "* Using LOOCV fit a Linear Regression model and calculate the average score using mean absolute error\n",
        "as scoring parameter Advanced\n",
        "* Apply Lasso Regression over the model and find r2_score and MAE - Beginner"
      ]
    },
    {
      "cell_type": "markdown",
      "metadata": {
        "id": "p4CO0CZ2j8Q_"
      },
      "source": [
        "Topics Covered:\n",
        "* Cross Validation\n",
        "* Linear Regression\n",
        "* KFold\n",
        "* Leave One Out CV\n",
        "* Lasso Regression"
      ]
    },
    {
      "cell_type": "code",
      "metadata": {
        "id": "NRxpoyBeNYiY"
      },
      "source": [
        "cols=['Batting_average','Walks','On-base_percentage','Strike_Outs',\n",
        "'Runs', 'Stolen_bases','Hits','Errors','Doubles','Free_agency_eligibility',\n",
        "'Triples','Free_agent', 'HomeRuns','Arbitration_eligibility','Runs_batted_in','Arbitration', 'Salary']"
      ],
      "execution_count": 51,
      "outputs": []
    },
    {
      "cell_type": "code",
      "metadata": {
        "colab": {
          "base_uri": "https://localhost:8080/",
          "height": 241
        },
        "id": "XO6ib3OskXZL",
        "outputId": "abb242c7-6725-4a51-94ca-bdd405eed7e1"
      },
      "source": [
        "data=pd.read_csv(\"baseball.csv\")\n",
        "data.columns=cols\n",
        "data.head()"
      ],
      "execution_count": 53,
      "outputs": [
        {
          "output_type": "execute_result",
          "data": {
            "text/html": [
              "<div>\n",
              "<style scoped>\n",
              "    .dataframe tbody tr th:only-of-type {\n",
              "        vertical-align: middle;\n",
              "    }\n",
              "\n",
              "    .dataframe tbody tr th {\n",
              "        vertical-align: top;\n",
              "    }\n",
              "\n",
              "    .dataframe thead th {\n",
              "        text-align: right;\n",
              "    }\n",
              "</style>\n",
              "<table border=\"1\" class=\"dataframe\">\n",
              "  <thead>\n",
              "    <tr style=\"text-align: right;\">\n",
              "      <th></th>\n",
              "      <th>Batting_average</th>\n",
              "      <th>Walks</th>\n",
              "      <th>On-base_percentage</th>\n",
              "      <th>Strike_Outs</th>\n",
              "      <th>Runs</th>\n",
              "      <th>Stolen_bases</th>\n",
              "      <th>Hits</th>\n",
              "      <th>Errors</th>\n",
              "      <th>Doubles</th>\n",
              "      <th>Free_agency_eligibility</th>\n",
              "      <th>Triples</th>\n",
              "      <th>Free_agent</th>\n",
              "      <th>HomeRuns</th>\n",
              "      <th>Arbitration_eligibility</th>\n",
              "      <th>Runs_batted_in</th>\n",
              "      <th>Arbitration</th>\n",
              "      <th>Salary</th>\n",
              "    </tr>\n",
              "  </thead>\n",
              "  <tbody>\n",
              "    <tr>\n",
              "      <th>0</th>\n",
              "      <td>0.264</td>\n",
              "      <td>0.318</td>\n",
              "      <td>24</td>\n",
              "      <td>48</td>\n",
              "      <td>7</td>\n",
              "      <td>0</td>\n",
              "      <td>1</td>\n",
              "      <td>22</td>\n",
              "      <td>15</td>\n",
              "      <td>18</td>\n",
              "      <td>0</td>\n",
              "      <td>7</td>\n",
              "      <td>0</td>\n",
              "      <td>0</td>\n",
              "      <td>0</td>\n",
              "      <td>0</td>\n",
              "      <td>160</td>\n",
              "    </tr>\n",
              "    <tr>\n",
              "      <th>1</th>\n",
              "      <td>0.251</td>\n",
              "      <td>0.338</td>\n",
              "      <td>101</td>\n",
              "      <td>141</td>\n",
              "      <td>35</td>\n",
              "      <td>3</td>\n",
              "      <td>32</td>\n",
              "      <td>105</td>\n",
              "      <td>71</td>\n",
              "      <td>104</td>\n",
              "      <td>34</td>\n",
              "      <td>6</td>\n",
              "      <td>0</td>\n",
              "      <td>0</td>\n",
              "      <td>1</td>\n",
              "      <td>0</td>\n",
              "      <td>2700</td>\n",
              "    </tr>\n",
              "    <tr>\n",
              "      <th>2</th>\n",
              "      <td>0.224</td>\n",
              "      <td>0.274</td>\n",
              "      <td>28</td>\n",
              "      <td>94</td>\n",
              "      <td>21</td>\n",
              "      <td>1</td>\n",
              "      <td>1</td>\n",
              "      <td>44</td>\n",
              "      <td>27</td>\n",
              "      <td>54</td>\n",
              "      <td>2</td>\n",
              "      <td>7</td>\n",
              "      <td>1</td>\n",
              "      <td>1</td>\n",
              "      <td>0</td>\n",
              "      <td>0</td>\n",
              "      <td>550</td>\n",
              "    </tr>\n",
              "    <tr>\n",
              "      <th>3</th>\n",
              "      <td>0.206</td>\n",
              "      <td>0.262</td>\n",
              "      <td>14</td>\n",
              "      <td>51</td>\n",
              "      <td>18</td>\n",
              "      <td>1</td>\n",
              "      <td>1</td>\n",
              "      <td>28</td>\n",
              "      <td>17</td>\n",
              "      <td>26</td>\n",
              "      <td>0</td>\n",
              "      <td>3</td>\n",
              "      <td>1</td>\n",
              "      <td>1</td>\n",
              "      <td>0</td>\n",
              "      <td>0</td>\n",
              "      <td>300</td>\n",
              "    </tr>\n",
              "    <tr>\n",
              "      <th>4</th>\n",
              "      <td>0.238</td>\n",
              "      <td>0.272</td>\n",
              "      <td>53</td>\n",
              "      <td>106</td>\n",
              "      <td>18</td>\n",
              "      <td>3</td>\n",
              "      <td>15</td>\n",
              "      <td>59</td>\n",
              "      <td>22</td>\n",
              "      <td>107</td>\n",
              "      <td>14</td>\n",
              "      <td>7</td>\n",
              "      <td>0</td>\n",
              "      <td>0</td>\n",
              "      <td>0</td>\n",
              "      <td>0</td>\n",
              "      <td>230</td>\n",
              "    </tr>\n",
              "  </tbody>\n",
              "</table>\n",
              "</div>"
            ],
            "text/plain": [
              "   Batting_average  Walks  ...  Arbitration  Salary\n",
              "0            0.264  0.318  ...            0     160\n",
              "1            0.251  0.338  ...            0    2700\n",
              "2            0.224  0.274  ...            0     550\n",
              "3            0.206  0.262  ...            0     300\n",
              "4            0.238  0.272  ...            0     230\n",
              "\n",
              "[5 rows x 17 columns]"
            ]
          },
          "metadata": {
            "tags": []
          },
          "execution_count": 53
        }
      ]
    },
    {
      "cell_type": "code",
      "metadata": {
        "colab": {
          "base_uri": "https://localhost:8080/",
          "height": 613
        },
        "id": "sbQMdUmBkpG5",
        "outputId": "a0c11d44-dd9e-4910-f46e-2e2c1c5ce288"
      },
      "source": [
        "data.corr()"
      ],
      "execution_count": 54,
      "outputs": [
        {
          "output_type": "execute_result",
          "data": {
            "text/html": [
              "<div>\n",
              "<style scoped>\n",
              "    .dataframe tbody tr th:only-of-type {\n",
              "        vertical-align: middle;\n",
              "    }\n",
              "\n",
              "    .dataframe tbody tr th {\n",
              "        vertical-align: top;\n",
              "    }\n",
              "\n",
              "    .dataframe thead th {\n",
              "        text-align: right;\n",
              "    }\n",
              "</style>\n",
              "<table border=\"1\" class=\"dataframe\">\n",
              "  <thead>\n",
              "    <tr style=\"text-align: right;\">\n",
              "      <th></th>\n",
              "      <th>Batting_average</th>\n",
              "      <th>Walks</th>\n",
              "      <th>On-base_percentage</th>\n",
              "      <th>Strike_Outs</th>\n",
              "      <th>Runs</th>\n",
              "      <th>Stolen_bases</th>\n",
              "      <th>Hits</th>\n",
              "      <th>Errors</th>\n",
              "      <th>Doubles</th>\n",
              "      <th>Free_agency_eligibility</th>\n",
              "      <th>Triples</th>\n",
              "      <th>Free_agent</th>\n",
              "      <th>HomeRuns</th>\n",
              "      <th>Arbitration_eligibility</th>\n",
              "      <th>Runs_batted_in</th>\n",
              "      <th>Arbitration</th>\n",
              "      <th>Salary</th>\n",
              "    </tr>\n",
              "  </thead>\n",
              "  <tbody>\n",
              "    <tr>\n",
              "      <th>Batting_average</th>\n",
              "      <td>1.000000</td>\n",
              "      <td>0.806015</td>\n",
              "      <td>0.436456</td>\n",
              "      <td>0.507882</td>\n",
              "      <td>0.451421</td>\n",
              "      <td>0.263224</td>\n",
              "      <td>0.212488</td>\n",
              "      <td>0.369257</td>\n",
              "      <td>0.279513</td>\n",
              "      <td>0.074584</td>\n",
              "      <td>0.200152</td>\n",
              "      <td>0.144319</td>\n",
              "      <td>0.055488</td>\n",
              "      <td>-0.037042</td>\n",
              "      <td>0.096789</td>\n",
              "      <td>0.089540</td>\n",
              "      <td>0.277676</td>\n",
              "    </tr>\n",
              "    <tr>\n",
              "      <th>Walks</th>\n",
              "      <td>0.806015</td>\n",
              "      <td>1.000000</td>\n",
              "      <td>0.514019</td>\n",
              "      <td>0.457456</td>\n",
              "      <td>0.404009</td>\n",
              "      <td>0.198801</td>\n",
              "      <td>0.311179</td>\n",
              "      <td>0.399440</td>\n",
              "      <td>0.590604</td>\n",
              "      <td>0.209288</td>\n",
              "      <td>0.230311</td>\n",
              "      <td>0.095479</td>\n",
              "      <td>0.172273</td>\n",
              "      <td>-0.037988</td>\n",
              "      <td>0.014470</td>\n",
              "      <td>0.047337</td>\n",
              "      <td>0.327326</td>\n",
              "    </tr>\n",
              "    <tr>\n",
              "      <th>On-base_percentage</th>\n",
              "      <td>0.436456</td>\n",
              "      <td>0.514019</td>\n",
              "      <td>1.000000</td>\n",
              "      <td>0.923080</td>\n",
              "      <td>0.832230</td>\n",
              "      <td>0.547600</td>\n",
              "      <td>0.681180</td>\n",
              "      <td>0.833534</td>\n",
              "      <td>0.828296</td>\n",
              "      <td>0.684679</td>\n",
              "      <td>0.524512</td>\n",
              "      <td>0.339370</td>\n",
              "      <td>0.297990</td>\n",
              "      <td>-0.013427</td>\n",
              "      <td>0.147915</td>\n",
              "      <td>0.132853</td>\n",
              "      <td>0.647155</td>\n",
              "    </tr>\n",
              "    <tr>\n",
              "      <th>Strike_Outs</th>\n",
              "      <td>0.507882</td>\n",
              "      <td>0.457456</td>\n",
              "      <td>0.923080</td>\n",
              "      <td>1.000000</td>\n",
              "      <td>0.889946</td>\n",
              "      <td>0.541704</td>\n",
              "      <td>0.614452</td>\n",
              "      <td>0.852243</td>\n",
              "      <td>0.723008</td>\n",
              "      <td>0.643971</td>\n",
              "      <td>0.426180</td>\n",
              "      <td>0.412021</td>\n",
              "      <td>0.289242</td>\n",
              "      <td>0.024694</td>\n",
              "      <td>0.190682</td>\n",
              "      <td>0.149449</td>\n",
              "      <td>0.627248</td>\n",
              "    </tr>\n",
              "    <tr>\n",
              "      <th>Runs</th>\n",
              "      <td>0.451421</td>\n",
              "      <td>0.404009</td>\n",
              "      <td>0.832230</td>\n",
              "      <td>0.889946</td>\n",
              "      <td>1.000000</td>\n",
              "      <td>0.415768</td>\n",
              "      <td>0.635012</td>\n",
              "      <td>0.825242</td>\n",
              "      <td>0.639993</td>\n",
              "      <td>0.602090</td>\n",
              "      <td>0.291526</td>\n",
              "      <td>0.338013</td>\n",
              "      <td>0.223400</td>\n",
              "      <td>-0.012587</td>\n",
              "      <td>0.202101</td>\n",
              "      <td>0.158284</td>\n",
              "      <td>0.579776</td>\n",
              "    </tr>\n",
              "    <tr>\n",
              "      <th>Stolen_bases</th>\n",
              "      <td>0.263224</td>\n",
              "      <td>0.198801</td>\n",
              "      <td>0.547600</td>\n",
              "      <td>0.541704</td>\n",
              "      <td>0.415768</td>\n",
              "      <td>1.000000</td>\n",
              "      <td>0.123742</td>\n",
              "      <td>0.330278</td>\n",
              "      <td>0.306407</td>\n",
              "      <td>0.322742</td>\n",
              "      <td>0.526219</td>\n",
              "      <td>0.192051</td>\n",
              "      <td>0.053907</td>\n",
              "      <td>-0.016458</td>\n",
              "      <td>0.162611</td>\n",
              "      <td>0.101725</td>\n",
              "      <td>0.240237</td>\n",
              "    </tr>\n",
              "    <tr>\n",
              "      <th>Hits</th>\n",
              "      <td>0.212488</td>\n",
              "      <td>0.311179</td>\n",
              "      <td>0.681180</td>\n",
              "      <td>0.614452</td>\n",
              "      <td>0.635012</td>\n",
              "      <td>0.123742</td>\n",
              "      <td>1.000000</td>\n",
              "      <td>0.877358</td>\n",
              "      <td>0.624843</td>\n",
              "      <td>0.752560</td>\n",
              "      <td>0.077011</td>\n",
              "      <td>0.151477</td>\n",
              "      <td>0.297545</td>\n",
              "      <td>-0.027713</td>\n",
              "      <td>0.039906</td>\n",
              "      <td>0.037913</td>\n",
              "      <td>0.592143</td>\n",
              "    </tr>\n",
              "    <tr>\n",
              "      <th>Errors</th>\n",
              "      <td>0.369257</td>\n",
              "      <td>0.399440</td>\n",
              "      <td>0.833534</td>\n",
              "      <td>0.852243</td>\n",
              "      <td>0.825242</td>\n",
              "      <td>0.330278</td>\n",
              "      <td>0.877358</td>\n",
              "      <td>1.000000</td>\n",
              "      <td>0.726848</td>\n",
              "      <td>0.748216</td>\n",
              "      <td>0.204732</td>\n",
              "      <td>0.292016</td>\n",
              "      <td>0.307034</td>\n",
              "      <td>0.020605</td>\n",
              "      <td>0.127326</td>\n",
              "      <td>0.096142</td>\n",
              "      <td>0.670789</td>\n",
              "    </tr>\n",
              "    <tr>\n",
              "      <th>Doubles</th>\n",
              "      <td>0.279513</td>\n",
              "      <td>0.590604</td>\n",
              "      <td>0.828296</td>\n",
              "      <td>0.723008</td>\n",
              "      <td>0.639993</td>\n",
              "      <td>0.306407</td>\n",
              "      <td>0.624843</td>\n",
              "      <td>0.726848</td>\n",
              "      <td>1.000000</td>\n",
              "      <td>0.667942</td>\n",
              "      <td>0.353716</td>\n",
              "      <td>0.241298</td>\n",
              "      <td>0.350283</td>\n",
              "      <td>0.012074</td>\n",
              "      <td>0.032331</td>\n",
              "      <td>0.040373</td>\n",
              "      <td>0.569616</td>\n",
              "    </tr>\n",
              "    <tr>\n",
              "      <th>Free_agency_eligibility</th>\n",
              "      <td>0.074584</td>\n",
              "      <td>0.209288</td>\n",
              "      <td>0.684679</td>\n",
              "      <td>0.643971</td>\n",
              "      <td>0.602090</td>\n",
              "      <td>0.322742</td>\n",
              "      <td>0.752560</td>\n",
              "      <td>0.748216</td>\n",
              "      <td>0.667942</td>\n",
              "      <td>1.000000</td>\n",
              "      <td>0.272861</td>\n",
              "      <td>0.293505</td>\n",
              "      <td>0.219041</td>\n",
              "      <td>-0.028890</td>\n",
              "      <td>0.042835</td>\n",
              "      <td>0.050714</td>\n",
              "      <td>0.415365</td>\n",
              "    </tr>\n",
              "    <tr>\n",
              "      <th>Triples</th>\n",
              "      <td>0.200152</td>\n",
              "      <td>0.230311</td>\n",
              "      <td>0.524512</td>\n",
              "      <td>0.426180</td>\n",
              "      <td>0.291526</td>\n",
              "      <td>0.526219</td>\n",
              "      <td>0.077011</td>\n",
              "      <td>0.204732</td>\n",
              "      <td>0.353716</td>\n",
              "      <td>0.272861</td>\n",
              "      <td>1.000000</td>\n",
              "      <td>0.164893</td>\n",
              "      <td>0.048158</td>\n",
              "      <td>-0.074851</td>\n",
              "      <td>0.106085</td>\n",
              "      <td>0.045116</td>\n",
              "      <td>0.257476</td>\n",
              "    </tr>\n",
              "    <tr>\n",
              "      <th>Free_agent</th>\n",
              "      <td>0.144319</td>\n",
              "      <td>0.095479</td>\n",
              "      <td>0.339370</td>\n",
              "      <td>0.412021</td>\n",
              "      <td>0.338013</td>\n",
              "      <td>0.192051</td>\n",
              "      <td>0.151477</td>\n",
              "      <td>0.292016</td>\n",
              "      <td>0.241298</td>\n",
              "      <td>0.293505</td>\n",
              "      <td>0.164893</td>\n",
              "      <td>1.000000</td>\n",
              "      <td>-0.022238</td>\n",
              "      <td>0.065035</td>\n",
              "      <td>0.215564</td>\n",
              "      <td>0.108596</td>\n",
              "      <td>0.125753</td>\n",
              "    </tr>\n",
              "    <tr>\n",
              "      <th>HomeRuns</th>\n",
              "      <td>0.055488</td>\n",
              "      <td>0.172273</td>\n",
              "      <td>0.297990</td>\n",
              "      <td>0.289242</td>\n",
              "      <td>0.223400</td>\n",
              "      <td>0.053907</td>\n",
              "      <td>0.297545</td>\n",
              "      <td>0.307034</td>\n",
              "      <td>0.350283</td>\n",
              "      <td>0.219041</td>\n",
              "      <td>0.048158</td>\n",
              "      <td>-0.022238</td>\n",
              "      <td>1.000000</td>\n",
              "      <td>0.441170</td>\n",
              "      <td>-0.396415</td>\n",
              "      <td>-0.141765</td>\n",
              "      <td>0.569961</td>\n",
              "    </tr>\n",
              "    <tr>\n",
              "      <th>Arbitration_eligibility</th>\n",
              "      <td>-0.037042</td>\n",
              "      <td>-0.037988</td>\n",
              "      <td>-0.013427</td>\n",
              "      <td>0.024694</td>\n",
              "      <td>-0.012587</td>\n",
              "      <td>-0.016458</td>\n",
              "      <td>-0.027713</td>\n",
              "      <td>0.020605</td>\n",
              "      <td>0.012074</td>\n",
              "      <td>-0.028890</td>\n",
              "      <td>-0.074851</td>\n",
              "      <td>0.065035</td>\n",
              "      <td>0.441170</td>\n",
              "      <td>1.000000</td>\n",
              "      <td>-0.174886</td>\n",
              "      <td>-0.062542</td>\n",
              "      <td>0.127470</td>\n",
              "    </tr>\n",
              "    <tr>\n",
              "      <th>Runs_batted_in</th>\n",
              "      <td>0.096789</td>\n",
              "      <td>0.014470</td>\n",
              "      <td>0.147915</td>\n",
              "      <td>0.190682</td>\n",
              "      <td>0.202101</td>\n",
              "      <td>0.162611</td>\n",
              "      <td>0.039906</td>\n",
              "      <td>0.127326</td>\n",
              "      <td>0.032331</td>\n",
              "      <td>0.042835</td>\n",
              "      <td>0.106085</td>\n",
              "      <td>0.215564</td>\n",
              "      <td>-0.396415</td>\n",
              "      <td>-0.174886</td>\n",
              "      <td>1.000000</td>\n",
              "      <td>0.357618</td>\n",
              "      <td>0.124824</td>\n",
              "    </tr>\n",
              "    <tr>\n",
              "      <th>Arbitration</th>\n",
              "      <td>0.089540</td>\n",
              "      <td>0.047337</td>\n",
              "      <td>0.132853</td>\n",
              "      <td>0.149449</td>\n",
              "      <td>0.158284</td>\n",
              "      <td>0.101725</td>\n",
              "      <td>0.037913</td>\n",
              "      <td>0.096142</td>\n",
              "      <td>0.040373</td>\n",
              "      <td>0.050714</td>\n",
              "      <td>0.045116</td>\n",
              "      <td>0.108596</td>\n",
              "      <td>-0.141765</td>\n",
              "      <td>-0.062542</td>\n",
              "      <td>0.357618</td>\n",
              "      <td>1.000000</td>\n",
              "      <td>0.108057</td>\n",
              "    </tr>\n",
              "    <tr>\n",
              "      <th>Salary</th>\n",
              "      <td>0.277676</td>\n",
              "      <td>0.327326</td>\n",
              "      <td>0.647155</td>\n",
              "      <td>0.627248</td>\n",
              "      <td>0.579776</td>\n",
              "      <td>0.240237</td>\n",
              "      <td>0.592143</td>\n",
              "      <td>0.670789</td>\n",
              "      <td>0.569616</td>\n",
              "      <td>0.415365</td>\n",
              "      <td>0.257476</td>\n",
              "      <td>0.125753</td>\n",
              "      <td>0.569961</td>\n",
              "      <td>0.127470</td>\n",
              "      <td>0.124824</td>\n",
              "      <td>0.108057</td>\n",
              "      <td>1.000000</td>\n",
              "    </tr>\n",
              "  </tbody>\n",
              "</table>\n",
              "</div>"
            ],
            "text/plain": [
              "                         Batting_average     Walks  ...  Arbitration    Salary\n",
              "Batting_average                 1.000000  0.806015  ...     0.089540  0.277676\n",
              "Walks                           0.806015  1.000000  ...     0.047337  0.327326\n",
              "On-base_percentage              0.436456  0.514019  ...     0.132853  0.647155\n",
              "Strike_Outs                     0.507882  0.457456  ...     0.149449  0.627248\n",
              "Runs                            0.451421  0.404009  ...     0.158284  0.579776\n",
              "Stolen_bases                    0.263224  0.198801  ...     0.101725  0.240237\n",
              "Hits                            0.212488  0.311179  ...     0.037913  0.592143\n",
              "Errors                          0.369257  0.399440  ...     0.096142  0.670789\n",
              "Doubles                         0.279513  0.590604  ...     0.040373  0.569616\n",
              "Free_agency_eligibility         0.074584  0.209288  ...     0.050714  0.415365\n",
              "Triples                         0.200152  0.230311  ...     0.045116  0.257476\n",
              "Free_agent                      0.144319  0.095479  ...     0.108596  0.125753\n",
              "HomeRuns                        0.055488  0.172273  ...    -0.141765  0.569961\n",
              "Arbitration_eligibility        -0.037042 -0.037988  ...    -0.062542  0.127470\n",
              "Runs_batted_in                  0.096789  0.014470  ...     0.357618  0.124824\n",
              "Arbitration                     0.089540  0.047337  ...     1.000000  0.108057\n",
              "Salary                          0.277676  0.327326  ...     0.108057  1.000000\n",
              "\n",
              "[17 rows x 17 columns]"
            ]
          },
          "metadata": {
            "tags": []
          },
          "execution_count": 54
        }
      ]
    },
    {
      "cell_type": "code",
      "metadata": {
        "colab": {
          "base_uri": "https://localhost:8080/",
          "height": 373
        },
        "id": "5O6xrjmck3xA",
        "outputId": "4e994f3c-ef10-40da-efba-7320fac452f9"
      },
      "source": [
        "sns.heatmap(data.corr(),cmap='cool')\n",
        "plt.show()"
      ],
      "execution_count": 55,
      "outputs": [
        {
          "output_type": "display_data",
          "data": {
            "image/png": "[encoded data removed]",
            "text/plain": [
              "<Figure size 432x288 with 2 Axes>"
            ]
          },
          "metadata": {
            "tags": [],
            "needs_background": "light"
          }
        }
      ]
    },
    {
      "cell_type": "markdown",
      "metadata": {
        "id": "qK18YobrlMhC"
      },
      "source": [
        "*Question-2: Fit a Linear Regression model by applying 5-fold cross validation\n",
        "using scikit and calculate the scores and average accuracy.*"
      ]
    },
    {
      "cell_type": "code",
      "metadata": {
        "id": "ZTCcC5pTlE2n"
      },
      "source": [
        "from sklearn.model_selection import train_test_split\n",
        "X=data.drop('Salary',axis=1)\n",
        "y=data.Salary\n",
        "X_train,X_test,y_train,y_test=train_test_split(X,y,test_size=0.35,random_state=101)"
      ],
      "execution_count": 57,
      "outputs": []
    },
    {
      "cell_type": "code",
      "metadata": {
        "colab": {
          "base_uri": "https://localhost:8080/"
        },
        "id": "S7jbWr_3l1i6",
        "outputId": "97b1c738-ce72-4f52-c2d1-759d0384cd8c"
      },
      "source": [
        "from sklearn.model_selection import cross_val_score\n",
        "lin_model = LinearRegression()\n",
        "\n",
        "# fitting a model and computing the score 5 consecutive times (with different splits each time)\n",
        "scores = cross_val_score(lin_model,X,y,cv=5)\n",
        "\n",
        "print(\"Scores: %s\"%scores)\n",
        "print(\"Accuracy: %0.2f  (+/- %0.2f)\" %(scores.mean(), scores.std() * 2))"
      ],
      "execution_count": 59,
      "outputs": [
        {
          "output_type": "stream",
          "text": [
            "Scores: [0.62466088 0.71309572 0.66800748 0.65256067 0.50603058]\n",
            "Accuracy: 0.63  (+/- 0.14)\n"
          ],
          "name": "stdout"
        }
      ]
    },
    {
      "cell_type": "markdown",
      "metadata": {
        "id": "Sqsad2fIni_G"
      },
      "source": [
        "*Question-3: Fit a Linear Regression model by applying 5-fold cross validation\n",
        "explicitly using KFold scikit and calculate the scores using mean absolute\n",
        "error as scoring parameter.*"
      ]
    },
    {
      "cell_type": "code",
      "metadata": {
        "colab": {
          "base_uri": "https://localhost:8080/"
        },
        "id": "23BX1ZvynKJR",
        "outputId": "08f5ba46-3416-47cb-efef-37db0a27ed84"
      },
      "source": [
        "from sklearn.model_selection import KFold\n",
        "k_fold = KFold(n_splits=5, random_state=101)\n",
        "scores = cross_val_score(lin_model,X,y,cv=k_fold,scoring='neg_mean_absolute_error')\n",
        "\n",
        "print(\"Scores:\",scores)\n",
        "print(\"Accuracy: %0.2f (+/- %0.2f)\" % (scores.mean(), scores.std() * 2))"
      ],
      "execution_count": 61,
      "outputs": [
        {
          "output_type": "stream",
          "text": [
            "Scores: [-541.66957107 -561.29114283 -551.32178487 -532.29221402 -516.89777815]\n",
            "Accuracy: -540.69 (+/- 30.66)\n"
          ],
          "name": "stdout"
        },
        {
          "output_type": "stream",
          "text": [
            "/usr/local/lib/python3.7/dist-packages/sklearn/model_selection/_split.py:296: FutureWarning: Setting a random_state has no effect since shuffle is False. This will raise an error in 0.24. You should leave random_state to its default (None), or set shuffle=True.\n",
            "  FutureWarning\n"
          ],
          "name": "stderr"
        }
      ]
    },
    {
      "cell_type": "markdown",
      "metadata": {
        "id": "EgNm2l1hqbH9"
      },
      "source": [
        "*Question-4: Using LOOCV fit a Linear Regression model and calculate the\n",
        "average score using mean absolute error as scoring parameter*"
      ]
    },
    {
      "cell_type": "code",
      "metadata": {
        "id": "use1f0jsouW8"
      },
      "source": [
        "from sklearn.model_selection import LeaveOneOut\n",
        "from sklearn.metrics import mean_absolute_error\n"
      ],
      "execution_count": 62,
      "outputs": []
    },
    {
      "cell_type": "code",
      "metadata": {
        "id": "OKNEj7K-pigN"
      },
      "source": [
        "loo = LeaveOneOut()\n",
        "loo.get_n_splits(X)\n",
        "scores=[]\n",
        "# printing the training and validation data\n",
        "for train_index, test_index in loo.split(X):\n",
        "  X_train, X_test = X.iloc[train_index,:], X.iloc[test_index,:]\n",
        "  y_train, y_test = y.iloc[train_index], y.iloc[test_index]\n",
        "  model=LinearRegression()\n",
        "  model.fit(X_train,y_train)\n",
        "  scores.append(mean_absolute_error(y_test,model.predict(X_test)))"
      ],
      "execution_count": 64,
      "outputs": []
    },
    {
      "cell_type": "code",
      "metadata": {
        "colab": {
          "base_uri": "https://localhost:8080/"
        },
        "id": "2F8lg64Dp99m",
        "outputId": "5ac987c9-1317-4a48-eb72-ce5836eef0e6"
      },
      "source": [
        "print('Average Score: %.2f'%np.mean(scores))"
      ],
      "execution_count": 65,
      "outputs": [
        {
          "output_type": "stream",
          "text": [
            "Average Score: 538.25\n"
          ],
          "name": "stdout"
        }
      ]
    },
    {
      "cell_type": "markdown",
      "metadata": {
        "id": "fB_u0d4fqfg7"
      },
      "source": [
        "*Question-5: Apply Lasso Regression over the model and find r2_score and\n",
        "MAE.*"
      ]
    },
    {
      "cell_type": "code",
      "metadata": {
        "id": "J4MVvnH3qRf9"
      },
      "source": [
        "from sklearn.linear_model import Lasso"
      ],
      "execution_count": 66,
      "outputs": []
    },
    {
      "cell_type": "code",
      "metadata": {
        "colab": {
          "base_uri": "https://localhost:8080/"
        },
        "id": "ut3UEBlHqtcp",
        "outputId": "ce32482b-d9af-48b2-b3fa-7037eb659539"
      },
      "source": [
        "X.shape, y.shape"
      ],
      "execution_count": 67,
      "outputs": [
        {
          "output_type": "execute_result",
          "data": {
            "text/plain": [
              "((336, 16), (336,))"
            ]
          },
          "metadata": {
            "tags": []
          },
          "execution_count": 67
        }
      ]
    },
    {
      "cell_type": "code",
      "metadata": {
        "colab": {
          "base_uri": "https://localhost:8080/"
        },
        "id": "Ig_BTktfqweA",
        "outputId": "2cc8f93d-d23f-4a24-a463-c53f7d5c2525"
      },
      "source": [
        "lasso = Lasso(alpha=1000)\n",
        "lasso.fit(X,y)"
      ],
      "execution_count": 68,
      "outputs": [
        {
          "output_type": "execute_result",
          "data": {
            "text/plain": [
              "Lasso(alpha=1000, copy_X=True, fit_intercept=True, max_iter=1000,\n",
              "      normalize=False, positive=False, precompute=False, random_state=None,\n",
              "      selection='cyclic', tol=0.0001, warm_start=False)"
            ]
          },
          "metadata": {
            "tags": []
          },
          "execution_count": 68
        }
      ]
    },
    {
      "cell_type": "code",
      "metadata": {
        "colab": {
          "base_uri": "https://localhost:8080/"
        },
        "id": "4_c9M6GUq9MM",
        "outputId": "379ff950-230e-4670-df93-5a7a89ec83f8"
      },
      "source": [
        "print('coeficient: %(coef)s, intercept: %(intercept).2f'%{'coef':lasso.coef_,'intercept':lasso.intercept_})"
      ],
      "execution_count": 69,
      "outputs": [
        {
          "output_type": "stream",
          "text": [
            "coeficient: [-0.         -0.          9.7151875   0.73198305  0.         -0.\n",
            "  0.         20.36966607  3.59495458 -5.45024182  0.         -0.\n",
            "  0.          0.          0.          0.        ], intercept: 17.48\n"
          ],
          "name": "stdout"
        }
      ]
    },
    {
      "cell_type": "code",
      "metadata": {
        "id": "OpfP8TH2rgbG"
      },
      "source": [
        "from sklearn.metrics import mean_absolute_error, r2_score"
      ],
      "execution_count": 70,
      "outputs": []
    },
    {
      "cell_type": "code",
      "metadata": {
        "colab": {
          "base_uri": "https://localhost:8080/"
        },
        "id": "T7Dp6S3IrtoZ",
        "outputId": "10a88ce3-416f-4d3c-bffb-1ad6342d8dd4"
      },
      "source": [
        "print('Mean_Squared_Error: %.2f'%mean_absolute_error(y,lasso.predict(X)))\n",
        "print('R2-Score: %.2f'%r2_score(y, lasso.predict(X)))"
      ],
      "execution_count": 72,
      "outputs": [
        {
          "output_type": "stream",
          "text": [
            "Mean_Squared_Error: 647.85\n",
            "R2-Score: 0.50\n"
          ],
          "name": "stdout"
        }
      ]
    },
    {
      "cell_type": "markdown",
      "metadata": {
        "id": "ubpdT4OFuAOM"
      },
      "source": [
        "***Scenario-4: Groove Mall***"
      ]
    },
    {
      "cell_type": "markdown",
      "metadata": {
        "id": "VP2ze6vWuI2S"
      },
      "source": [
        "Groove Mall is the centre of attraction in the city of demacia. Everyday around thousands of people visit for\n",
        "different purpose, to watch movie, buy products, eat and so on. To increase the number of visiters the board\n",
        "decided to run a campaign to gauge the visiters based on there financial status. A series of questions were\n",
        "asked to visiters visiting the mall. The data was then collected in a csv format. The task is to predict the\n",
        "income class of a visiter based the attributes of the visiter."
      ]
    },
    {
      "cell_type": "markdown",
      "metadata": {
        "id": "-ZYPB-f-uZv_"
      },
      "source": [
        "Task to be Performed:\n",
        "* Read the dataset with no headers; Then put respective columns names and find the missing values in\n",
        "each column - Intermediate\n",
        "* Find the total missing values and fill all the missing values with by using respective method - Advanced\n",
        "* Using RFE select 6 best features - Advanced\n",
        "* Split the dataset into T rain-Test set and apply multiple logistic regression and find the accuracy over test\n",
        "and train set - Intermediate\n",
        "\n",
        "Topics Covered:\n",
        "* Handling Missing values\n",
        "* RFE\n",
        "* Multiple Logistic Regression"
      ]
    },
    {
      "cell_type": "markdown",
      "metadata": {
        "id": "ZrPSRf6bu_Sm"
      },
      "source": [
        "Question-1: Read the dataset with no headers; Then put respective columns\n",
        "names and find the missing values in each column."
      ]
    },
    {
      "cell_type": "code",
      "metadata": {
        "id": "ovzI6e_-ukpI"
      },
      "source": [
        "cols=['Sex', 'HouseholdMembers',\"MaritalStatus\",\"Under18\",\"Age\",'HouseholdStatus', 'Education', 'TypeOfHome','Occupation','EthnicClass','VearsinSf','Language','Dualincome', 'Income']"
      ],
      "execution_count": 73,
      "outputs": []
    },
    {
      "cell_type": "code",
      "metadata": {
        "colab": {
          "base_uri": "https://localhost:8080/"
        },
        "id": "LIVIdUYkveaw",
        "outputId": "c2200ca0-280d-4fd1-9df5-dabfd5d7dd6f"
      },
      "source": [
        "!wget https://www.dropbox.com/s/6iwa3iqw86fcvhb/marketing.csv"
      ],
      "execution_count": 74,
      "outputs": [
        {
          "output_type": "stream",
          "text": [
            "--2021-05-03 19:39:53--  https://www.dropbox.com/s/6iwa3iqw86fcvhb/marketing.csv\n",
            "Resolving www.dropbox.com (www.dropbox.com)... 162.125.1.18, 2620:100:6017:18::a27d:212\n",
            "Connecting to www.dropbox.com (www.dropbox.com)|162.125.1.18|:443... connected.\n",
            "HTTP request sent, awaiting response... 301 Moved Permanently\n",
            "Location: /s/raw/6iwa3iqw86fcvhb/marketing.csv [following]\n",
            "--2021-05-03 19:39:53--  https://www.dropbox.com/s/raw/6iwa3iqw86fcvhb/marketing.csv\n",
            "Reusing existing connection to www.dropbox.com:443.\n",
            "HTTP request sent, awaiting response... 302 Found\n",
            "Location: https://uc621a495916145f2f0e55c4327c.dl.dropboxusercontent.com/cd/0/inline/BNxQo1r_UkOq7p99CIrxxeWHlqolP5n7j8B4s1i_QSSHzaEATwEttYsErrLp3D8RpPWx_KkdBGxoCz_oOBJ714lhOSrnUOuOVdQ8XpQLzrpeN5aNhFj4PvB0ZQSvtyHtruzaU23iV3aPNV9IwTeYJ6mm/file# [following]\n",
            "--2021-05-03 19:39:53--  https://uc621a495916145f2f0e55c4327c.dl.dropboxusercontent.com/cd/0/inline/BNxQo1r_UkOq7p99CIrxxeWHlqolP5n7j8B4s1i_QSSHzaEATwEttYsErrLp3D8RpPWx_KkdBGxoCz_oOBJ714lhOSrnUOuOVdQ8XpQLzrpeN5aNhFj4PvB0ZQSvtyHtruzaU23iV3aPNV9IwTeYJ6mm/file\n",
            "Resolving uc621a495916145f2f0e55c4327c.dl.dropboxusercontent.com (uc621a495916145f2f0e55c4327c.dl.dropboxusercontent.com)... 162.125.1.15, 2620:100:601a:15::a27d:70f\n",
            "Connecting to uc621a495916145f2f0e55c4327c.dl.dropboxusercontent.com (uc621a495916145f2f0e55c4327c.dl.dropboxusercontent.com)|162.125.1.15|:443... connected.\n",
            "HTTP request sent, awaiting response... 200 OK\n",
            "Length: 249110 (243K) [text/plain]\n",
            "Saving to: ‘marketing.csv’\n",
            "\n",
            "marketing.csv       100%[===================>] 243.27K  --.-KB/s    in 0.06s   \n",
            "\n",
            "2021-05-03 19:39:54 (3.66 MB/s) - ‘marketing.csv’ saved [249110/249110]\n",
            "\n"
          ],
          "name": "stdout"
        }
      ]
    },
    {
      "cell_type": "code",
      "metadata": {
        "colab": {
          "base_uri": "https://localhost:8080/",
          "height": 204
        },
        "id": "ugmxizy5vn_F",
        "outputId": "7c1a63ff-3ac4-425f-fbb7-a3073d8b2c82"
      },
      "source": [
        "data=pd.read_csv(\"marketing.csv\",header=None)\n",
        "data.columns=cols\n",
        "data.head()"
      ],
      "execution_count": 75,
      "outputs": [
        {
          "output_type": "execute_result",
          "data": {
            "text/html": [
              "<div>\n",
              "<style scoped>\n",
              "    .dataframe tbody tr th:only-of-type {\n",
              "        vertical-align: middle;\n",
              "    }\n",
              "\n",
              "    .dataframe tbody tr th {\n",
              "        vertical-align: top;\n",
              "    }\n",
              "\n",
              "    .dataframe thead th {\n",
              "        text-align: right;\n",
              "    }\n",
              "</style>\n",
              "<table border=\"1\" class=\"dataframe\">\n",
              "  <thead>\n",
              "    <tr style=\"text-align: right;\">\n",
              "      <th></th>\n",
              "      <th>Sex</th>\n",
              "      <th>HouseholdMembers</th>\n",
              "      <th>MaritalStatus</th>\n",
              "      <th>Under18</th>\n",
              "      <th>Age</th>\n",
              "      <th>HouseholdStatus</th>\n",
              "      <th>Education</th>\n",
              "      <th>TypeOfHome</th>\n",
              "      <th>Occupation</th>\n",
              "      <th>EthnicClass</th>\n",
              "      <th>VearsinSf</th>\n",
              "      <th>Language</th>\n",
              "      <th>Dualincome</th>\n",
              "      <th>Income</th>\n",
              "    </tr>\n",
              "  </thead>\n",
              "  <tbody>\n",
              "    <tr>\n",
              "      <th>0</th>\n",
              "      <td>2</td>\n",
              "      <td>1.0</td>\n",
              "      <td>5</td>\n",
              "      <td>4.0</td>\n",
              "      <td>5.0</td>\n",
              "      <td>5.0</td>\n",
              "      <td>3</td>\n",
              "      <td>3.0</td>\n",
              "      <td>0</td>\n",
              "      <td>1.0</td>\n",
              "      <td>1.0</td>\n",
              "      <td>7.0</td>\n",
              "      <td>NaN</td>\n",
              "      <td>9</td>\n",
              "    </tr>\n",
              "    <tr>\n",
              "      <th>1</th>\n",
              "      <td>1</td>\n",
              "      <td>1.0</td>\n",
              "      <td>5</td>\n",
              "      <td>5.0</td>\n",
              "      <td>5.0</td>\n",
              "      <td>5.0</td>\n",
              "      <td>3</td>\n",
              "      <td>5.0</td>\n",
              "      <td>2</td>\n",
              "      <td>1.0</td>\n",
              "      <td>1.0</td>\n",
              "      <td>7.0</td>\n",
              "      <td>1.0</td>\n",
              "      <td>9</td>\n",
              "    </tr>\n",
              "    <tr>\n",
              "      <th>2</th>\n",
              "      <td>2</td>\n",
              "      <td>1.0</td>\n",
              "      <td>3</td>\n",
              "      <td>5.0</td>\n",
              "      <td>1.0</td>\n",
              "      <td>5.0</td>\n",
              "      <td>2</td>\n",
              "      <td>3.0</td>\n",
              "      <td>1</td>\n",
              "      <td>2.0</td>\n",
              "      <td>3.0</td>\n",
              "      <td>7.0</td>\n",
              "      <td>1.0</td>\n",
              "      <td>9</td>\n",
              "    </tr>\n",
              "    <tr>\n",
              "      <th>3</th>\n",
              "      <td>2</td>\n",
              "      <td>5.0</td>\n",
              "      <td>1</td>\n",
              "      <td>2.0</td>\n",
              "      <td>6.0</td>\n",
              "      <td>5.0</td>\n",
              "      <td>1</td>\n",
              "      <td>4.0</td>\n",
              "      <td>2</td>\n",
              "      <td>3.0</td>\n",
              "      <td>1.0</td>\n",
              "      <td>7.0</td>\n",
              "      <td>1.0</td>\n",
              "      <td>1</td>\n",
              "    </tr>\n",
              "    <tr>\n",
              "      <th>4</th>\n",
              "      <td>2</td>\n",
              "      <td>5.0</td>\n",
              "      <td>1</td>\n",
              "      <td>2.0</td>\n",
              "      <td>6.0</td>\n",
              "      <td>3.0</td>\n",
              "      <td>1</td>\n",
              "      <td>4.0</td>\n",
              "      <td>2</td>\n",
              "      <td>3.0</td>\n",
              "      <td>1.0</td>\n",
              "      <td>7.0</td>\n",
              "      <td>1.0</td>\n",
              "      <td>1</td>\n",
              "    </tr>\n",
              "  </tbody>\n",
              "</table>\n",
              "</div>"
            ],
            "text/plain": [
              "   Sex  HouseholdMembers  MaritalStatus  ...  Language  Dualincome  Income\n",
              "0    2               1.0              5  ...       7.0         NaN       9\n",
              "1    1               1.0              5  ...       7.0         1.0       9\n",
              "2    2               1.0              3  ...       7.0         1.0       9\n",
              "3    2               5.0              1  ...       7.0         1.0       1\n",
              "4    2               5.0              1  ...       7.0         1.0       1\n",
              "\n",
              "[5 rows x 14 columns]"
            ]
          },
          "metadata": {
            "tags": []
          },
          "execution_count": 75
        }
      ]
    },
    {
      "cell_type": "code",
      "metadata": {
        "id": "n6X7o2tSv-d8"
      },
      "source": [
        "miss = pd.DataFrame({'Col_name':data.columns,'Missing Value?':[any(data[x].isnull()) for x in data.columns],\n",
        "                     'Count_':[sum(data[y].isnull()) for y in data.columns]})"
      ],
      "execution_count": 80,
      "outputs": []
    },
    {
      "cell_type": "code",
      "metadata": {
        "colab": {
          "base_uri": "https://localhost:8080/",
          "height": 483
        },
        "id": "Y_9dS3sXw_qA",
        "outputId": "89e671e1-e9a8-4f7f-e086-1b0971f2b2d4"
      },
      "source": [
        "miss.sort_values(by='Count_',ascending=False)"
      ],
      "execution_count": 81,
      "outputs": [
        {
          "output_type": "execute_result",
          "data": {
            "text/html": [
              "<div>\n",
              "<style scoped>\n",
              "    .dataframe tbody tr th:only-of-type {\n",
              "        vertical-align: middle;\n",
              "    }\n",
              "\n",
              "    .dataframe tbody tr th {\n",
              "        vertical-align: top;\n",
              "    }\n",
              "\n",
              "    .dataframe thead th {\n",
              "        text-align: right;\n",
              "    }\n",
              "</style>\n",
              "<table border=\"1\" class=\"dataframe\">\n",
              "  <thead>\n",
              "    <tr style=\"text-align: right;\">\n",
              "      <th></th>\n",
              "      <th>Col_name</th>\n",
              "      <th>Missing Value?</th>\n",
              "      <th>Count_</th>\n",
              "    </tr>\n",
              "  </thead>\n",
              "  <tbody>\n",
              "    <tr>\n",
              "      <th>5</th>\n",
              "      <td>HouseholdStatus</td>\n",
              "      <td>True</td>\n",
              "      <td>913</td>\n",
              "    </tr>\n",
              "    <tr>\n",
              "      <th>7</th>\n",
              "      <td>TypeOfHome</td>\n",
              "      <td>True</td>\n",
              "      <td>375</td>\n",
              "    </tr>\n",
              "    <tr>\n",
              "      <th>12</th>\n",
              "      <td>Dualincome</td>\n",
              "      <td>True</td>\n",
              "      <td>359</td>\n",
              "    </tr>\n",
              "    <tr>\n",
              "      <th>10</th>\n",
              "      <td>VearsinSf</td>\n",
              "      <td>True</td>\n",
              "      <td>357</td>\n",
              "    </tr>\n",
              "    <tr>\n",
              "      <th>9</th>\n",
              "      <td>EthnicClass</td>\n",
              "      <td>True</td>\n",
              "      <td>240</td>\n",
              "    </tr>\n",
              "    <tr>\n",
              "      <th>1</th>\n",
              "      <td>HouseholdMembers</td>\n",
              "      <td>True</td>\n",
              "      <td>160</td>\n",
              "    </tr>\n",
              "    <tr>\n",
              "      <th>4</th>\n",
              "      <td>Age</td>\n",
              "      <td>True</td>\n",
              "      <td>136</td>\n",
              "    </tr>\n",
              "    <tr>\n",
              "      <th>3</th>\n",
              "      <td>Under18</td>\n",
              "      <td>True</td>\n",
              "      <td>86</td>\n",
              "    </tr>\n",
              "    <tr>\n",
              "      <th>11</th>\n",
              "      <td>Language</td>\n",
              "      <td>True</td>\n",
              "      <td>68</td>\n",
              "    </tr>\n",
              "    <tr>\n",
              "      <th>0</th>\n",
              "      <td>Sex</td>\n",
              "      <td>False</td>\n",
              "      <td>0</td>\n",
              "    </tr>\n",
              "    <tr>\n",
              "      <th>2</th>\n",
              "      <td>MaritalStatus</td>\n",
              "      <td>False</td>\n",
              "      <td>0</td>\n",
              "    </tr>\n",
              "    <tr>\n",
              "      <th>6</th>\n",
              "      <td>Education</td>\n",
              "      <td>False</td>\n",
              "      <td>0</td>\n",
              "    </tr>\n",
              "    <tr>\n",
              "      <th>8</th>\n",
              "      <td>Occupation</td>\n",
              "      <td>False</td>\n",
              "      <td>0</td>\n",
              "    </tr>\n",
              "    <tr>\n",
              "      <th>13</th>\n",
              "      <td>Income</td>\n",
              "      <td>False</td>\n",
              "      <td>0</td>\n",
              "    </tr>\n",
              "  </tbody>\n",
              "</table>\n",
              "</div>"
            ],
            "text/plain": [
              "            Col_name  Missing Value?  Count_\n",
              "5    HouseholdStatus            True     913\n",
              "7         TypeOfHome            True     375\n",
              "12        Dualincome            True     359\n",
              "10         VearsinSf            True     357\n",
              "9        EthnicClass            True     240\n",
              "1   HouseholdMembers            True     160\n",
              "4                Age            True     136\n",
              "3            Under18            True      86\n",
              "11          Language            True      68\n",
              "0                Sex           False       0\n",
              "2      MaritalStatus           False       0\n",
              "6          Education           False       0\n",
              "8         Occupation           False       0\n",
              "13            Income           False       0"
            ]
          },
          "metadata": {
            "tags": []
          },
          "execution_count": 81
        }
      ]
    },
    {
      "cell_type": "code",
      "metadata": {
        "colab": {
          "base_uri": "https://localhost:8080/"
        },
        "id": "n6GPp9oyxMGt",
        "outputId": "f63530b0-54bb-434c-98b0-7d59eed05334"
      },
      "source": [
        "print(\"total missing Values: %s\"%sum(miss.Count_))"
      ],
      "execution_count": 82,
      "outputs": [
        {
          "output_type": "stream",
          "text": [
            "total missing Values: 2694\n"
          ],
          "name": "stdout"
        }
      ]
    },
    {
      "cell_type": "code",
      "metadata": {
        "id": "F7FXTpngxohU"
      },
      "source": [
        "for i in miss[miss.Count_!=0].Col_name:\n",
        "  temp = data[i].mode()\n",
        "  tes=data[i].isnull()\n",
        "  ind=tes[tes==True].index\n",
        "  quill = list(data[i])\n",
        "  for j in ind:\n",
        "    quill[j]=temp\n",
        "  data[i]=quill"
      ],
      "execution_count": 84,
      "outputs": []
    },
    {
      "cell_type": "code",
      "metadata": {
        "id": "BPqm9spfzAFZ"
      },
      "source": [
        "miss = pd.DataFrame({'Col_name':data.columns,'Missing Value?':[any(data[x].isnull()) for x in data.columns],\n",
        "                     'Count_':[sum(data[y].isnull()) for y in data.columns]})"
      ],
      "execution_count": 85,
      "outputs": []
    },
    {
      "cell_type": "code",
      "metadata": {
        "colab": {
          "base_uri": "https://localhost:8080/",
          "height": 483
        },
        "id": "0j9Z3NbHzBGw",
        "outputId": "fd3bd6f3-d89d-4b9f-d8bd-6a387a163f4c"
      },
      "source": [
        "miss.sort_values(by='Count_',ascending=False)"
      ],
      "execution_count": 86,
      "outputs": [
        {
          "output_type": "execute_result",
          "data": {
            "text/html": [
              "<div>\n",
              "<style scoped>\n",
              "    .dataframe tbody tr th:only-of-type {\n",
              "        vertical-align: middle;\n",
              "    }\n",
              "\n",
              "    .dataframe tbody tr th {\n",
              "        vertical-align: top;\n",
              "    }\n",
              "\n",
              "    .dataframe thead th {\n",
              "        text-align: right;\n",
              "    }\n",
              "</style>\n",
              "<table border=\"1\" class=\"dataframe\">\n",
              "  <thead>\n",
              "    <tr style=\"text-align: right;\">\n",
              "      <th></th>\n",
              "      <th>Col_name</th>\n",
              "      <th>Missing Value?</th>\n",
              "      <th>Count_</th>\n",
              "    </tr>\n",
              "  </thead>\n",
              "  <tbody>\n",
              "    <tr>\n",
              "      <th>0</th>\n",
              "      <td>Sex</td>\n",
              "      <td>False</td>\n",
              "      <td>0</td>\n",
              "    </tr>\n",
              "    <tr>\n",
              "      <th>1</th>\n",
              "      <td>HouseholdMembers</td>\n",
              "      <td>False</td>\n",
              "      <td>0</td>\n",
              "    </tr>\n",
              "    <tr>\n",
              "      <th>2</th>\n",
              "      <td>MaritalStatus</td>\n",
              "      <td>False</td>\n",
              "      <td>0</td>\n",
              "    </tr>\n",
              "    <tr>\n",
              "      <th>3</th>\n",
              "      <td>Under18</td>\n",
              "      <td>False</td>\n",
              "      <td>0</td>\n",
              "    </tr>\n",
              "    <tr>\n",
              "      <th>4</th>\n",
              "      <td>Age</td>\n",
              "      <td>False</td>\n",
              "      <td>0</td>\n",
              "    </tr>\n",
              "    <tr>\n",
              "      <th>5</th>\n",
              "      <td>HouseholdStatus</td>\n",
              "      <td>False</td>\n",
              "      <td>0</td>\n",
              "    </tr>\n",
              "    <tr>\n",
              "      <th>6</th>\n",
              "      <td>Education</td>\n",
              "      <td>False</td>\n",
              "      <td>0</td>\n",
              "    </tr>\n",
              "    <tr>\n",
              "      <th>7</th>\n",
              "      <td>TypeOfHome</td>\n",
              "      <td>False</td>\n",
              "      <td>0</td>\n",
              "    </tr>\n",
              "    <tr>\n",
              "      <th>8</th>\n",
              "      <td>Occupation</td>\n",
              "      <td>False</td>\n",
              "      <td>0</td>\n",
              "    </tr>\n",
              "    <tr>\n",
              "      <th>9</th>\n",
              "      <td>EthnicClass</td>\n",
              "      <td>False</td>\n",
              "      <td>0</td>\n",
              "    </tr>\n",
              "    <tr>\n",
              "      <th>10</th>\n",
              "      <td>VearsinSf</td>\n",
              "      <td>False</td>\n",
              "      <td>0</td>\n",
              "    </tr>\n",
              "    <tr>\n",
              "      <th>11</th>\n",
              "      <td>Language</td>\n",
              "      <td>False</td>\n",
              "      <td>0</td>\n",
              "    </tr>\n",
              "    <tr>\n",
              "      <th>12</th>\n",
              "      <td>Dualincome</td>\n",
              "      <td>False</td>\n",
              "      <td>0</td>\n",
              "    </tr>\n",
              "    <tr>\n",
              "      <th>13</th>\n",
              "      <td>Income</td>\n",
              "      <td>False</td>\n",
              "      <td>0</td>\n",
              "    </tr>\n",
              "  </tbody>\n",
              "</table>\n",
              "</div>"
            ],
            "text/plain": [
              "            Col_name  Missing Value?  Count_\n",
              "0                Sex           False       0\n",
              "1   HouseholdMembers           False       0\n",
              "2      MaritalStatus           False       0\n",
              "3            Under18           False       0\n",
              "4                Age           False       0\n",
              "5    HouseholdStatus           False       0\n",
              "6          Education           False       0\n",
              "7         TypeOfHome           False       0\n",
              "8         Occupation           False       0\n",
              "9        EthnicClass           False       0\n",
              "10         VearsinSf           False       0\n",
              "11          Language           False       0\n",
              "12        Dualincome           False       0\n",
              "13            Income           False       0"
            ]
          },
          "metadata": {
            "tags": []
          },
          "execution_count": 86
        }
      ]
    },
    {
      "cell_type": "markdown",
      "metadata": {
        "id": "K6LDkqIlzOso"
      },
      "source": [
        "*Question-3: Using RFE select 6 best features*"
      ]
    },
    {
      "cell_type": "code",
      "metadata": {
        "id": "8YrHaGt3zEqj"
      },
      "source": [
        "X=data.drop('Income',axis=1)\n",
        "y=data.Income"
      ],
      "execution_count": 87,
      "outputs": []
    },
    {
      "cell_type": "code",
      "metadata": {
        "colab": {
          "base_uri": "https://localhost:8080/"
        },
        "id": "TZpJqRTDzjaW",
        "outputId": "4b02c2dd-d922-4c72-d2e7-edbd86b9bd2d"
      },
      "source": [
        "from sklearn.feature_selection import RFE\n",
        "model=LinearRegression()\n",
        "\n",
        "# create the RFE model and select 6 attributes\n",
        "rfe = RFE(model, 6)\n",
        "rfe = rfe.fit(X, y)\n",
        "\n",
        "# Summarize the selection of the attribute\n",
        "print(rfe.support_)\n",
        "print('Selected feature: ', X.columns[rfe.support_])\n",
        "print('Feature ranking', rfe.ranking_)"
      ],
      "execution_count": 88,
      "outputs": [
        {
          "output_type": "stream",
          "text": [
            "[ True  True False  True False False False False False  True  True False\n",
            "  True]\n",
            "Selected feature:  Index(['Sex', 'HouseholdMembers', 'Under18', 'EthnicClass', 'VearsinSf',\n",
            "       'Dualincome'],\n",
            "      dtype='object')\n",
            "Feature ranking [1 1 4 1 2 7 3 5 6 1 1 8 1]\n"
          ],
          "name": "stdout"
        }
      ]
    },
    {
      "cell_type": "markdown",
      "metadata": {
        "id": "JSyNr6pG1G7t"
      },
      "source": [
        "*Question-4: Split the dataset into Train-Test set and apply multiple logistic regression and find the accuracy over test and\n",
        "train set.*"
      ]
    },
    {
      "cell_type": "code",
      "metadata": {
        "id": "Yh68ZZSX1B6N"
      },
      "source": [
        "from sklearn.model_selection import train_test_split\n",
        "from sklearn.linear_model import LogisticRegression\n",
        "from sklearn.metrics import accuracy_score"
      ],
      "execution_count": 89,
      "outputs": []
    },
    {
      "cell_type": "code",
      "metadata": {
        "id": "RIGh86mw1fAD"
      },
      "source": [
        "X_train, X_test, y_train, y_test =train_test_split(X,y,test_size=0.3,random_state=101)\n"
      ],
      "execution_count": 90,
      "outputs": []
    },
    {
      "cell_type": "code",
      "metadata": {
        "id": "V3YpiXPT12GB"
      },
      "source": [
        "log_model=LogisticRegression(solver='sag',multi_class='multinomial',C=10,max_iter=1000)"
      ],
      "execution_count": 91,
      "outputs": []
    },
    {
      "cell_type": "code",
      "metadata": {
        "colab": {
          "base_uri": "https://localhost:8080/"
        },
        "id": "pHNukxbL2Ip7",
        "outputId": "5d1f6b78-a668-4efc-e7fb-1d60c8096450"
      },
      "source": [
        "log_model.fit(X_train,y_train)"
      ],
      "execution_count": 92,
      "outputs": [
        {
          "output_type": "execute_result",
          "data": {
            "text/plain": [
              "LogisticRegression(C=10, class_weight=None, dual=False, fit_intercept=True,\n",
              "                   intercept_scaling=1, l1_ratio=None, max_iter=1000,\n",
              "                   multi_class='multinomial', n_jobs=None, penalty='l2',\n",
              "                   random_state=None, solver='sag', tol=0.0001, verbose=0,\n",
              "                   warm_start=False)"
            ]
          },
          "metadata": {
            "tags": []
          },
          "execution_count": 92
        }
      ]
    },
    {
      "cell_type": "code",
      "metadata": {
        "colab": {
          "base_uri": "https://localhost:8080/"
        },
        "id": "tCSgLejN2P11",
        "outputId": "3e50caf8-b52d-4d82-ce1a-e6530df26060"
      },
      "source": [
        "print(\"Accuracy Score(train): %.2f\"%accuracy_score(y_train,log_model.predict(X_train)))\n",
        "print(\"Accuracy Score(test): %.2f\"%accuracy_score(y_test,log_model.predict(X_test)))"
      ],
      "execution_count": 93,
      "outputs": [
        {
          "output_type": "stream",
          "text": [
            "Accuracy Score(train): 0.32\n",
            "Accuracy Score(test): 0.34\n"
          ],
          "name": "stdout"
        }
      ]
    },
    {
      "cell_type": "code",
      "metadata": {
        "id": "qXHSKd3j2tlu"
      },
      "source": [
        ""
      ],
      "execution_count": null,
      "outputs": []
    }
  ]
}